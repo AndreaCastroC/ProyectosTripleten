{
 "cells": [
  {
   "cell_type": "markdown",
   "metadata": {},
   "source": [
    "# Proyecto integrado 9"
   ]
  },
  {
   "cell_type": "markdown",
   "metadata": {},
   "source": [
    "Hola Andrea!\n",
    "\n",
    "Soy **Patricio Requena** 👋. Es un placer ser el revisor de tu proyecto el día de hoy!\n",
    "\n",
    "Revisaré tu proyecto detenidamente con el objetivo de ayudarte a mejorar y perfeccionar tus habilidades. Durante mi revisión, identificaré áreas donde puedas hacer mejoras en tu código, señalando específicamente qué y cómo podrías ajustar para optimizar el rendimiento y la claridad de tu proyecto. Además, es importante para mí destacar los aspectos que has manejado excepcionalmente bien. Reconocer tus fortalezas te ayudará a entender qué técnicas y métodos están funcionando a tu favor y cómo puedes aplicarlos en futuras tareas. \n",
    "\n",
    "_**Recuerda que al final de este notebook encontrarás un comentario general de mi parte**_, empecemos!\n",
    "\n",
    "Encontrarás mis comentarios dentro de cajas verdes, amarillas o rojas, ⚠️ **por favor, no muevas, modifiques o borres mis comentarios** ⚠️:\n",
    "\n",
    "\n",
    "<div class=\"alert alert-block alert-success\">\n",
    "<b>Comentario del revisor</b> <a class=“tocSkip”></a>\n",
    "Si todo está perfecto.\n",
    "</div>\n",
    "\n",
    "<div class=\"alert alert-block alert-warning\">\n",
    "<b>Comentario del revisor</b> <a class=“tocSkip”></a>\n",
    "Si tu código está bien pero se puede mejorar o hay algún detalle que le hace falta.\n",
    "</div>\n",
    "\n",
    "<div class=\"alert alert-block alert-danger\">\n",
    "<b>Comentario del revisor</b> <a class=“tocSkip”></a>\n",
    "Si de pronto hace falta algo o existe algún problema con tu código o conclusiones.\n",
    "</div>\n",
    "\n",
    "Puedes responderme de esta forma:\n",
    "<div class=\"alert alert-block alert-info\">\n",
    "<b>Respuesta del estudiante</b> <a class=“tocSkip”></a>\n",
    "</div>"
   ]
  },
  {
   "cell_type": "markdown",
   "metadata": {},
   "source": [
    "El objetivo del presente proyecto es desarrollar un modelo que pueda predecir si un cliente dejará Beta Bank pronto. "
   ]
  },
  {
   "cell_type": "markdown",
   "metadata": {},
   "source": [
    "# Contenido <a id='back'></a>\n",
    "\n",
    "* [Etapa 1. Abrir el arhivo de datos y análisis general](#data_review)\n",
    "* [Etapa 2. Preparar los datos](#data_preprocessing)\n",
    "* [Etapa 3. Examinar el equilibrio de clases](#class_balance)\n",
    "* [Etapa 4. Mejorar la calidad del modelo](#model_quality)\n",
    "* [Etapa 5. Prueba final](#final_test)\n",
    "* [Etapa 6. Conclusión](#end)"
   ]
  },
  {
   "cell_type": "markdown",
   "metadata": {},
   "source": [
    "<div class=\"alert alert-block alert-success\">\n",
    "<b>Comentario del revisor (1ra Iteracion)</b> <a class=“tocSkip”></a>\n",
    "\n",
    "Buen trabajo! El incluir una tabla de contenido ayuda a la navegación en tu notebook\n",
    "</div>"
   ]
  },
  {
   "cell_type": "markdown",
   "metadata": {},
   "source": [
    "## Etapa 1. Abrir el archivo de datos y análisis general <a id='data_review'></a>"
   ]
  },
  {
   "cell_type": "code",
   "execution_count": 1,
   "metadata": {},
   "outputs": [],
   "source": [
    "#Llamar a las librerías\n",
    "import pandas as pd\n",
    "import numpy as np\n",
    "from sklearn.ensemble import RandomForestClassifier\n",
    "from sklearn.linear_model import LogisticRegression\n",
    "from sklearn.metrics import confusion_matrix, precision_score, recall_score, f1_score, roc_auc_score\n",
    "from sklearn.model_selection import train_test_split\n",
    "from sklearn.preprocessing import StandardScaler\n",
    "from sklearn.tree import DecisionTreeClassifier\n",
    "from sklearn.utils import shuffle"
   ]
  },
  {
   "cell_type": "markdown",
   "metadata": {},
   "source": [
    "<div class=\"alert alert-block alert-info\">\n",
    "<b>Comentario del revisor (1ra Iteracion)</b> <a class=“tocSkip”></a>\n",
    "\n",
    "Cuando tengas que importar varias librerías una buena práctica es seguir el siguiente órden en las mismas:\n",
    "\n",
    "- Primero todas las librerías en orden alfabético que vienen ya con python cómo `datetime`, `os`, `json`, etc.\n",
    "- Luego de las librerías de Python si las de terceros en orden alfabético cómo `pandas`, `scipy`, `numpy`, etc.\n",
    "- Por último, en el caso de que armes tu propio módulo en tu proyecto esto debería ir en tercer lugar, y recuerda siempre ordenar cada tipo por orden alfabético\n",
    "</div>"
   ]
  },
  {
   "cell_type": "code",
   "execution_count": 2,
   "metadata": {},
   "outputs": [],
   "source": [
    "#Llamar a la base de datos\n",
    "clientes = pd.read_csv('/datasets/Churn.csv')"
   ]
  },
  {
   "cell_type": "code",
   "execution_count": 3,
   "metadata": {},
   "outputs": [
    {
     "name": "stdout",
     "output_type": "stream",
     "text": [
      "<class 'pandas.core.frame.DataFrame'>\n",
      "RangeIndex: 10000 entries, 0 to 9999\n",
      "Data columns (total 14 columns):\n",
      " #   Column           Non-Null Count  Dtype  \n",
      "---  ------           --------------  -----  \n",
      " 0   RowNumber        10000 non-null  int64  \n",
      " 1   CustomerId       10000 non-null  int64  \n",
      " 2   Surname          10000 non-null  object \n",
      " 3   CreditScore      10000 non-null  int64  \n",
      " 4   Geography        10000 non-null  object \n",
      " 5   Gender           10000 non-null  object \n",
      " 6   Age              10000 non-null  int64  \n",
      " 7   Tenure           9091 non-null   float64\n",
      " 8   Balance          10000 non-null  float64\n",
      " 9   NumOfProducts    10000 non-null  int64  \n",
      " 10  HasCrCard        10000 non-null  int64  \n",
      " 11  IsActiveMember   10000 non-null  int64  \n",
      " 12  EstimatedSalary  10000 non-null  float64\n",
      " 13  Exited           10000 non-null  int64  \n",
      "dtypes: float64(3), int64(8), object(3)\n",
      "memory usage: 1.1+ MB\n",
      "None\n"
     ]
    }
   ],
   "source": [
    "#Observar información general de la data\n",
    "print(clientes.info())"
   ]
  },
  {
   "cell_type": "code",
   "execution_count": 4,
   "metadata": {},
   "outputs": [],
   "source": [
    "#Convertir variables\n",
    "if clientes['Tenure'].isna().sum() > 0:\n",
    "    clientes['Tenure'].fillna(clientes['Tenure'].median(), inplace=True)\n",
    "    \n",
    "clientes['Tenure'] = clientes['Tenure'].astype(int)"
   ]
  },
  {
   "cell_type": "code",
   "execution_count": 5,
   "metadata": {},
   "outputs": [],
   "source": [
    "#Eliminar columnas no necesarias\n",
    "clientes.drop(['RowNumber', 'CustomerId', 'Surname'], axis=1, inplace=True)"
   ]
  },
  {
   "cell_type": "code",
   "execution_count": 6,
   "metadata": {},
   "outputs": [
    {
     "name": "stdout",
     "output_type": "stream",
     "text": [
      "   CreditScore Geography  Gender  Age  Tenure    Balance  NumOfProducts  \\\n",
      "0          619    France  Female   42       2       0.00              1   \n",
      "1          608     Spain  Female   41       1   83807.86              1   \n",
      "2          502    France  Female   42       8  159660.80              3   \n",
      "3          699    France  Female   39       1       0.00              2   \n",
      "4          850     Spain  Female   43       2  125510.82              1   \n",
      "\n",
      "   HasCrCard  IsActiveMember  EstimatedSalary  Exited  \n",
      "0          1               1        101348.88       1  \n",
      "1          0               1        112542.58       0  \n",
      "2          1               0        113931.57       1  \n",
      "3          0               0         93826.63       0  \n",
      "4          1               1         79084.10       0  \n"
     ]
    }
   ],
   "source": [
    "print(clientes.head())"
   ]
  },
  {
   "cell_type": "code",
   "execution_count": 7,
   "metadata": {},
   "outputs": [
    {
     "name": "stdout",
     "output_type": "stream",
     "text": [
      "        CreditScore           Age       Tenure        Balance  NumOfProducts  \\\n",
      "count  10000.000000  10000.000000  10000.00000   10000.000000   10000.000000   \n",
      "mean     650.528800     38.921800      4.99790   76485.889288       1.530200   \n",
      "std       96.653299     10.487806      2.76001   62397.405202       0.581654   \n",
      "min      350.000000     18.000000      0.00000       0.000000       1.000000   \n",
      "25%      584.000000     32.000000      3.00000       0.000000       1.000000   \n",
      "50%      652.000000     37.000000      5.00000   97198.540000       1.000000   \n",
      "75%      718.000000     44.000000      7.00000  127644.240000       2.000000   \n",
      "max      850.000000     92.000000     10.00000  250898.090000       4.000000   \n",
      "\n",
      "         HasCrCard  IsActiveMember  EstimatedSalary        Exited  \n",
      "count  10000.00000    10000.000000     10000.000000  10000.000000  \n",
      "mean       0.70550        0.515100    100090.239881      0.203700  \n",
      "std        0.45584        0.499797     57510.492818      0.402769  \n",
      "min        0.00000        0.000000        11.580000      0.000000  \n",
      "25%        0.00000        0.000000     51002.110000      0.000000  \n",
      "50%        1.00000        1.000000    100193.915000      0.000000  \n",
      "75%        1.00000        1.000000    149388.247500      0.000000  \n",
      "max        1.00000        1.000000    199992.480000      1.000000  \n"
     ]
    }
   ],
   "source": [
    "print(clientes.describe())"
   ]
  },
  {
   "cell_type": "code",
   "execution_count": 8,
   "metadata": {
    "scrolled": true
   },
   "outputs": [
    {
     "name": "stdout",
     "output_type": "stream",
     "text": [
      "0\n"
     ]
    }
   ],
   "source": [
    "#Ver si hay duplicados\n",
    "print(clientes.duplicated().sum())"
   ]
  },
  {
   "cell_type": "markdown",
   "metadata": {},
   "source": [
    "### Conclusión etapa 1\n",
    "Pudo observarse que en la data **clientes** hay valores perdidos en la variable *Tenure*, por ello se decidió reemplazar estos valores perdidos con el valor de la mediana. Sumado a lo anterior, se borraron tres variables de la data, debido a que estas variables pueden no ser útiles para la predicción. Además, a partir del valor de la desviación estándar, es posible concluir que la mitad de variables tienen datos atípicos (CreditScore, Age, Balance y EstimatedSalary). Finalmente, no se observan duplicados. "
   ]
  },
  {
   "cell_type": "markdown",
   "metadata": {},
   "source": [
    "<div class=\"alert alert-block alert-success\">\n",
    "<b>Comentario del revisor (1ra Iteracion)</b> <a class=“tocSkip”></a>\n",
    "\n",
    "Carga de datos y exploración inicial correcta!\n",
    "</div>"
   ]
  },
  {
   "cell_type": "markdown",
   "metadata": {},
   "source": [
    "## Etapa 2. Preparar los datos <a id='data_preprocessing'></a>"
   ]
  },
  {
   "cell_type": "code",
   "execution_count": 9,
   "metadata": {},
   "outputs": [],
   "source": [
    "#Codificación de variables categóricas\n",
    "clientes = pd.get_dummies(clientes,columns=['Geography', 'Gender'], drop_first=True)"
   ]
  },
  {
   "cell_type": "code",
   "execution_count": 10,
   "metadata": {},
   "outputs": [],
   "source": [
    "#División de datos\n",
    "train_data, test_data = train_test_split(clientes, test_size=0.3, random_state=12345)\n",
    "val_data, test_data = train_test_split(test_data, test_size=0.5, random_state=12345)"
   ]
  },
  {
   "cell_type": "code",
   "execution_count": 11,
   "metadata": {},
   "outputs": [],
   "source": [
    "#Variables de características y objetivo para cada conjunto\n",
    "features_train = train_data.drop('Exited', axis=1)\n",
    "target_train = train_data['Exited']\n",
    "\n",
    "features_valid = val_data.drop('Exited', axis=1)\n",
    "target_valid = val_data['Exited']\n",
    "\n",
    "features_test = test_data.drop('Exited', axis=1)\n",
    "target_test = test_data['Exited']"
   ]
  },
  {
   "cell_type": "code",
   "execution_count": 12,
   "metadata": {},
   "outputs": [],
   "source": [
    "# Escalado de características\n",
    "numeric = ['CreditScore', 'Age', 'Tenure', 'Balance', 'NumOfProducts', 'EstimatedSalary']\n",
    "\n",
    "scaler = StandardScaler()\n",
    "\n",
    "train_data = train_data.copy()  \n",
    "val_data = val_data.copy()      \n",
    "test_data = test_data.copy()\n",
    "\n",
    "train_data[numeric] = scaler.fit_transform(train_data[numeric])\n",
    "val_data[numeric] = scaler.transform(val_data[numeric])\n",
    "test_data[numeric] = scaler.transform(test_data[numeric])"
   ]
  },
  {
   "cell_type": "markdown",
   "metadata": {},
   "source": [
    "### Conclusión etapa 2\n",
    "Primero se codificaron las variables categóricas no dummies en dummies, con el objetivo de hacerlas compatibles con el formato que requieren los modelos de machine learning. Luego se crearon tres conjuntos de datos, siendo estos de entrenamiento, de prueba y de validación respectivamente. Finalmente se estandarizaron las características numéricas del modelo. "
   ]
  },
  {
   "cell_type": "markdown",
   "metadata": {},
   "source": [
    "## Etapa 3. Examinar el equilibrio de clases <a id='class_balance'></a>"
   ]
  },
  {
   "cell_type": "code",
   "execution_count": 13,
   "metadata": {},
   "outputs": [
    {
     "name": "stdout",
     "output_type": "stream",
     "text": [
      "0    0.798429\n",
      "1    0.201571\n",
      "Name: Exited, dtype: float64\n"
     ]
    }
   ],
   "source": [
    "#Distribución de clases en el conjunto de entrenamiento\n",
    "class_distribution = train_data['Exited'].value_counts(normalize=True)\n",
    "print(class_distribution)"
   ]
  },
  {
   "cell_type": "markdown",
   "metadata": {},
   "source": [
    "Es posible observar que existe un fuerte desequilibrio. Lo anterior debido a que los clientes que permanecen en el banco representan al 79.24% de los datos, mientras que los clientes que se van representan al 20.76%. "
   ]
  },
  {
   "cell_type": "code",
   "execution_count": 14,
   "metadata": {},
   "outputs": [
    {
     "name": "stdout",
     "output_type": "stream",
     "text": [
      "Mejor profundidad: 8\n",
      "Mejor min_samples_split: 2\n",
      "Mejor min_samples_leaf: 2\n"
     ]
    }
   ],
   "source": [
    "#Definir los mejores puntajes\n",
    "best_f1_score = 0\n",
    "best_depth = 0\n",
    "best_auc_roc = 0\n",
    "best_min_samples_split = 0\n",
    "best_min_samples_leaf = 0\n",
    "\n",
    "#Bucle para encontrar los mejores hiperparámetros\n",
    "for depth in range(1, 11):\n",
    "    for min_samples_split in [2, 5, 10]:\n",
    "        for min_samples_leaf in [1, 2, 4]:\n",
    "            model = RandomForestClassifier(\n",
    "                random_state=12345,\n",
    "                max_depth=depth,\n",
    "                min_samples_split=min_samples_split,\n",
    "                min_samples_leaf=min_samples_leaf,\n",
    "                n_estimators=50, \n",
    "                criterion='gini'\n",
    "            )\n",
    "            model.fit(features_train, target_train)\n",
    "            predictions_valid = model.predict(features_valid)\n",
    "\n",
    "            #Calcular F1 Score y AUC-ROC\n",
    "            f1 = f1_score(target_valid, predictions_valid)\n",
    "            probabilities_valid = model.predict_proba(features_valid)[:, 1]\n",
    "            auc_roc = roc_auc_score(target_valid, probabilities_valid)\n",
    "\n",
    "            #Actualizar mejores puntajes si el nuevo es mejor\n",
    "            if f1 > best_f1_score:\n",
    "                best_f1_score = f1\n",
    "                best_depth = depth\n",
    "                best_auc_roc = auc_roc\n",
    "                best_min_samples_split = min_samples_split\n",
    "                best_min_samples_leaf = min_samples_leaf\n",
    "\n",
    "#Imprimir los mejores resultados\n",
    "print(f\"Mejor profundidad: {best_depth}\")\n",
    "print(f\"Mejor min_samples_split: {best_min_samples_split}\")\n",
    "print(f\"Mejor min_samples_leaf: {best_min_samples_leaf}\")"
   ]
  },
  {
   "cell_type": "code",
   "execution_count": 15,
   "metadata": {},
   "outputs": [],
   "source": [
    "#Predicciones en el conjunto de validación\n",
    "predictions = model.predict(features_valid)"
   ]
  },
  {
   "cell_type": "code",
   "execution_count": 16,
   "metadata": {},
   "outputs": [
    {
     "name": "stdout",
     "output_type": "stream",
     "text": [
      "Matriz de Confusión:\n",
      " [[1165   28]\n",
      " [ 168  139]]\n"
     ]
    }
   ],
   "source": [
    "#Calcular la matriz de confusión\n",
    "cm = confusion_matrix(target_valid, predictions)\n",
    "print('Matriz de Confusión:\\n', cm)"
   ]
  },
  {
   "cell_type": "markdown",
   "metadata": {},
   "source": [
    "Puede observarse que el modelo predice correctamente 1165 clientes que no se irán, así como 139 clientes que se irán. En contraste, predice de manera incorrecta 28 clientes que se irán, pero no lo hicieron y 168 que no se irán, pero lo hicieron. Por tanto, es posible afirmar que el modelo realiza un buen trabajo clasificando los ejemplos negativos, sin embargo, presenta algunas dificultades con los ejemplos positivos."
   ]
  },
  {
   "cell_type": "code",
   "execution_count": 17,
   "metadata": {},
   "outputs": [
    {
     "name": "stdout",
     "output_type": "stream",
     "text": [
      "Precisión: 0.83\n",
      "Recall: 0.45\n",
      "Valor F1: 0.59\n"
     ]
    }
   ],
   "source": [
    "#Calcular precisión, recall y valor F1\n",
    "precision = precision_score(target_valid, predictions)\n",
    "recall = recall_score(target_valid, predictions)\n",
    "f1 = f1_score(target_valid, predictions)\n",
    "\n",
    "print(f'Precisión: {precision:.2f}')\n",
    "print(f'Recall: {recall:.2f}')\n",
    "print(f'Valor F1: {f1:.2f}')"
   ]
  },
  {
   "cell_type": "markdown",
   "metadata": {},
   "source": [
    "La precisión indica que el 83% de las veces que el modelo predijo que un cliente se iría, estaba en lo correcto. Adicionalmente, el recall muestra que se identifica de manera correcta al 45% de los clientes que realmente se irán. Sumado a lo anterior, el F1 sugiere que el modelo tiene un rendimiento moderado en general, pero todavía queda espacio de mejora."
   ]
  },
  {
   "cell_type": "markdown",
   "metadata": {},
   "source": [
    "### Conclusión etapa 3\n",
    "Con la información precedente es posible afirmar que existe un gran desequilibrio de clases, debido a que 8 de cada 10 clientes se quedan en el banco, mientras que solo se van 2 de cada 10. Lo anterior podría generar que el modelo prediga más la clase mayoritaria (0), ignorando a la minoritaria (1)."
   ]
  },
  {
   "cell_type": "markdown",
   "metadata": {},
   "source": [
    "<div class=\"alert alert-block alert-success\">\n",
    "<b>Comentario del revisor (1ra Iteracion)</b> <a class=“tocSkip”></a>\n",
    "\n",
    "Buen trabajo con el entrenamiento sin balancear los datos, al estar los datos en desbalance es normal que en primera instancia las métricas sean bajas y por eso el accuracy en este caso no es la más recomendable ya que si el modelo predice siempre la clase mayoritaria el accuracy será alto. Por eso es mejor usar f1-score\n",
    "</div>"
   ]
  },
  {
   "cell_type": "markdown",
   "metadata": {},
   "source": [
    "## Etapa 4. Mejorar la calidad del modelo <a id='model_quality'></a>"
   ]
  },
  {
   "cell_type": "code",
   "execution_count": 18,
   "metadata": {},
   "outputs": [
    {
     "name": "stdout",
     "output_type": "stream",
     "text": [
      "Mejores hiperparámetros:\n",
      "Profundidad máxima: 10\n",
      "Mínimas muestras por división: 2\n",
      "Mínimas muestras por hoja: 1\n",
      "Mejor número de árboles de decisión: 10\n",
      "Criterio: entropy\n",
      "Mejor F1 Score: 0.5485592315901814\n",
      "Mejor AUC-ROC: 0.8379717734559087\n"
     ]
    }
   ],
   "source": [
    "#Sobremuestreo\n",
    "def upsample (features, target, repeat):\n",
    "    features_zeros = features_train[target_train == 0]\n",
    "    features_ones = features_train[target_train == 1]\n",
    "    target_zeros = target_train[target_train == 0]\n",
    "    target_ones = target_train[target_train == 1]\n",
    "    \n",
    "    features_upsampled = pd.concat([features_zeros]+[features_ones]*repeat)\n",
    "    target_upsampled = pd.concat([target_zeros]+[target_ones]*repeat)\n",
    "    \n",
    "    features_upsampled, target_upsampled = shuffle(\n",
    "    features_upsampled, target_upsampled, random_state=12345)\n",
    "    \n",
    "    return features_upsampled, target_upsampled\n",
    "\n",
    "#Aplicar sobremuestreo\n",
    "features_upsampled, target_upsampled = upsample(features_train, target_train, 10)\n",
    "\n",
    "#Definir los mejores puntajes\n",
    "best_f1_score = 0\n",
    "best_params = {}\n",
    "\n",
    "#Bucle para encontrar los mejores hiperparámetros\n",
    "for depth in [5, 7, 10]: \n",
    "    for min_samples_split in [2, 3, 5]:  \n",
    "        for min_samples_leaf in [1, 2, 5]: \n",
    "            for n_estimators in [10, 30, 50, 100, 150]:  \n",
    "                for criterion in ['gini', 'entropy']:\n",
    "                    model = RandomForestClassifier(\n",
    "                        random_state=12345,\n",
    "                        max_depth=depth,\n",
    "                        min_samples_split=min_samples_split,\n",
    "                        min_samples_leaf=min_samples_leaf,\n",
    "                        n_estimators=n_estimators,\n",
    "                        criterion=criterion\n",
    "                )\n",
    "                model.fit(features_upsampled, target_upsampled)\n",
    "                predicted_valid = model.predict(features_valid)\n",
    "                score = f1_score(target_valid, predicted_valid)\n",
    "                if score > best_f1_score:\n",
    "                    best_f1_score = score\n",
    "                    best_params = {\n",
    "                        'max_depth': depth,\n",
    "                        'min_samples_split': min_samples_split,\n",
    "                        'min_samples_leaf': min_samples_leaf,\n",
    "                        'n_estimators': n_estimators,\n",
    "                        'criterion': criterion \n",
    "                    }\n",
    "\n",
    "#Mostrar los mejores hiperparámetros y su F1 Score\n",
    "print(\"Mejores hiperparámetros:\")\n",
    "print(f\"Profundidad máxima: {best_params['max_depth']}\")\n",
    "print(f\"Mínimas muestras por división: {best_params['min_samples_split']}\")\n",
    "print(f\"Mínimas muestras por hoja: {best_params['min_samples_leaf']}\")\n",
    "print(f\"Mejor número de árboles de decisión: {best_params['n_estimators']}\")\n",
    "print(f\"Criterio: {best_params['criterion']}\") \n",
    "print(f\"Mejor F1 Score: {best_f1_score}\")\n",
    "\n",
    "#Calcular AUC-ROC con los mejores hiperparámetros\n",
    "best_model = RandomForestClassifier(\n",
    "    random_state=12345,\n",
    "    max_depth=best_params['max_depth'],\n",
    "    min_samples_split=best_params['min_samples_split'],\n",
    "    min_samples_leaf=best_params['min_samples_leaf'],\n",
    "    n_estimators=best_params['n_estimators'],\n",
    "    criterion=best_params['criterion'] \n",
    ")\n",
    "best_model.fit(features_upsampled, target_upsampled)\n",
    "probabilities_valid = best_model.predict_proba(features_valid)[:, 1]\n",
    "auc_roc = roc_auc_score(target_valid, probabilities_valid)\n",
    "print('Mejor AUC-ROC:', auc_roc)"
   ]
  },
  {
   "cell_type": "markdown",
   "metadata": {},
   "source": [
    "Replicar los casos de clientes que se fueron en un modelo de árbol aleatorio con 10 de profundidad, que requiere al menos 2 muestras para cada división, así como 1 muestra para cada hoja y con 10 árboles otorgó los siguientes resultados:\n",
    "\n",
    "1. El modelo logra un equilibrio razonable entre precisión y recall (0.55).\n",
    "2. El modelo tiene buena capacidad para discriminar entre las clases positivas y negativas (0.84)"
   ]
  },
  {
   "cell_type": "code",
   "execution_count": 19,
   "metadata": {
    "scrolled": true
   },
   "outputs": [
    {
     "name": "stdout",
     "output_type": "stream",
     "text": [
      "Mejores hiperparámetros:\n",
      "Profundidad máxima: 10\n",
      "Mínimas muestras por división: 5\n",
      "Mínimas muestras por hoja: 1\n",
      "Mejor número de árboles de decisión: 150\n",
      "Criterio: entropy\n",
      "Mejor F1 Score: 0.4677685950413223\n",
      "Mejor AUC-ROC: 0.8435253419103291\n"
     ]
    }
   ],
   "source": [
    "#Submuestreo\n",
    "def downsample (features, target, fraction):\n",
    "    features_zeros = features_train[target_train == 0]\n",
    "    features_ones = features_train[target_train == 1]\n",
    "    target_zeros = target_train[target_train == 0]\n",
    "    target_ones = target_train[target_train == 1]\n",
    "    \n",
    "    features_downsampled = pd.concat([features_zeros.sample(frac=fraction, random_state=12345)]+[features_ones])\n",
    "    target_downsampled = pd.concat([target_zeros.sample(frac=fraction, random_state=12345)]+[target_ones])\n",
    "    \n",
    "    features_downsampled, target_downsampled = shuffle(\n",
    "    features_downsampled, target_downsampled, random_state=12345)\n",
    "    \n",
    "    return features_downsampled, target_downsampled\n",
    "\n",
    "#Aplicar submuestreo\n",
    "features_downsampled, target_downsampled = downsample(features_train, target_train, 0.1)\n",
    "\n",
    "# Definir los mejores puntajes\n",
    "best_f1_score = 0\n",
    "best_params = {}\n",
    "\n",
    "#Bucle para encontrar los mejores hiperparámetros\n",
    "for depth in [5, 7, 10]: \n",
    "    for min_samples_split in [2, 3, 5]:  \n",
    "        for min_samples_leaf in [1, 2, 5]: \n",
    "            for n_estimators in [10, 30, 50, 100, 150]: \n",
    "                for criterion in ['gini', 'entropy']:\n",
    "                    model = RandomForestClassifier(\n",
    "                        random_state=12345,\n",
    "                        max_depth=depth,\n",
    "                        min_samples_split=min_samples_split,\n",
    "                        min_samples_leaf=min_samples_leaf,\n",
    "                        n_estimators=n_estimators,\n",
    "                        criterion=criterion\n",
    "                )\n",
    "                model.fit(features_downsampled, target_downsampled)\n",
    "                predicted_valid = model.predict(features_valid)\n",
    "                score = f1_score(target_valid, predicted_valid)\n",
    "                if score > best_f1_score:\n",
    "                    best_f1_score = score\n",
    "                    best_params = {\n",
    "                        'max_depth': depth,\n",
    "                        'min_samples_split': min_samples_split,\n",
    "                        'min_samples_leaf': min_samples_leaf,\n",
    "                        'n_estimators': n_estimators,\n",
    "                        'criterion': criterion\n",
    "                    }\n",
    "\n",
    "#Mostrar los mejores hiperparámetros y su F1 Score\n",
    "print(\"Mejores hiperparámetros:\")\n",
    "print(f\"Profundidad máxima: {best_params['max_depth']}\")\n",
    "print(f\"Mínimas muestras por división: {best_params['min_samples_split']}\")\n",
    "print(f\"Mínimas muestras por hoja: {best_params['min_samples_leaf']}\")\n",
    "print(f\"Mejor número de árboles de decisión: {best_params['n_estimators']}\")\n",
    "print(f\"Criterio: {best_params['criterion']}\") \n",
    "print(f\"Mejor F1 Score: {best_f1_score}\")\n",
    "\n",
    "#Calcular AUC-ROC con los mejores hiperparámetros\n",
    "best_model = RandomForestClassifier(\n",
    "    random_state=12345,\n",
    "    max_depth=best_params['max_depth'],\n",
    "    min_samples_split=best_params['min_samples_split'],\n",
    "    min_samples_leaf=best_params['min_samples_leaf'],\n",
    "    n_estimators=best_params['n_estimators'],\n",
    "    criterion=best_params['criterion'] \n",
    ")\n",
    "best_model.fit(features_downsampled, target_downsampled)\n",
    "probabilities_valid = best_model.predict_proba(features_valid)[:, 1]\n",
    "auc_roc = roc_auc_score(target_valid, probabilities_valid)\n",
    "print('Mejor AUC-ROC:', auc_roc)"
   ]
  },
  {
   "cell_type": "markdown",
   "metadata": {},
   "source": [
    "Reducir los casos de clientes que se quedan en un modelo de árbol aleatorio con 10 de profundidad, que requiere al menos 5 muestras para cada división, así como 1 muestra para cada hoja y con 150 árboles otorgó los siguientes resultados:\n",
    "\n",
    "1. El modelo logra un equilibrio razonable entre precisión y recall. Sin embargo, este es menor al obtenido en el modelo de sobremuestreo (0.47).\n",
    "2. El modelo tiene buena capacidad para discriminar entre las clases positivas y negativas. Siendo este ligeramente mayor al obtenido en el modelo de sobremuestreo (0.84)."
   ]
  },
  {
   "cell_type": "markdown",
   "metadata": {},
   "source": [
    "<div class=\"alert alert-block alert-danger\">\n",
    "<b>Comentario del revisor (1ra Iteracion)</b> <a class=“tocSkip”></a>\n",
    "\n",
    "Te recomiendo probar otros modelos como `DecisionTreeClassifier` y que pruebas aplicando sobremuestreo y submuestreo para que compares el f1-score que te devuelven, recuerda que para aprobar debes obtener mínimo 0.59 de f1-score\n",
    "</div>"
   ]
  },
  {
   "cell_type": "code",
   "execution_count": 23,
   "metadata": {},
   "outputs": [
    {
     "name": "stdout",
     "output_type": "stream",
     "text": [
      "Mejores hiperparámetros:\n",
      "Profundidad máxima: 9\n",
      "Mínimas muestras por división: 3\n",
      "Mínimas muestras por hoja: 1\n",
      "Mejor número de árboles de decisión: 10\n",
      "Criterio: gini\n",
      "Mejor F1 Score: 0.5978947368421053\n",
      "Mejor AUC-ROC: 0.8460263589723986\n"
     ]
    }
   ],
   "source": [
    "# Definir el rango de hiperparámetros\n",
    "depth_range = range(1, 11) \n",
    "min_samples_split_range = [2, 3, 5] \n",
    "min_samples_leaf_range = [1, 2, 5]  \n",
    "n_estimators_range = [10, 30, 50, 100]\n",
    "criteria = ['gini', 'entropy'] \n",
    "\n",
    "#Inicializar variables para guardar el mejor modelo\n",
    "best_score = 0\n",
    "best_params = {}\n",
    "\n",
    "#Bucle para encontrar los mejores hiperparámetros\n",
    "for depth in depth_range:\n",
    "    for min_samples_split in min_samples_split_range:\n",
    "        for min_samples_leaf in min_samples_leaf_range:\n",
    "            for n_estimators in n_estimators_range:\n",
    "                for criterion in criteria:\n",
    "                    #Crear y entrenar el modelo de RandomForestClassifier\n",
    "                    model = RandomForestClassifier(\n",
    "                        random_state=12345,\n",
    "                        max_depth=depth,\n",
    "                        min_samples_split=min_samples_split,\n",
    "                        min_samples_leaf=min_samples_leaf,\n",
    "                        n_estimators=n_estimators,\n",
    "                        criterion=criterion\n",
    "                    )\n",
    "                    \n",
    "                    #Ajustar el modelo con los datos de entrenamiento\n",
    "                    model.fit(features_train, target_train)\n",
    "                    \n",
    "                    #Predecir las etiquetas para los datos de validación\n",
    "                    predicted_valid = model.predict(features_valid)\n",
    "                    \n",
    "                    #Calcular el F1 Score\n",
    "                    score = f1_score(target_valid, predicted_valid)\n",
    "                    \n",
    "                    # Verificar si el F1 Score es el mejor\n",
    "                    if score > best_score:\n",
    "                        best_score = score\n",
    "                        best_params = {\n",
    "                            'max_depth': depth,\n",
    "                            'min_samples_split': min_samples_split,\n",
    "                            'min_samples_leaf': min_samples_leaf,\n",
    "                            'n_estimators': n_estimators,\n",
    "                            'criterion': criterion\n",
    "                        }\n",
    "\n",
    "#Mostrar los mejores hiperparámetros y su F1 Score\n",
    "print(\"Mejores hiperparámetros:\")\n",
    "print(f\"Profundidad máxima: {best_params['max_depth']}\")\n",
    "print(f\"Mínimas muestras por división: {best_params['min_samples_split']}\")\n",
    "print(f\"Mínimas muestras por hoja: {best_params['min_samples_leaf']}\")\n",
    "print(f\"Mejor número de árboles de decisión: {best_params['n_estimators']}\")\n",
    "print(f\"Criterio: {best_params['criterion']}\")\n",
    "print(f\"Mejor F1 Score: {best_score}\")\n",
    "\n",
    "#Calcular AUC-ROC con los mejores hiperparámetros\n",
    "best_model = RandomForestClassifier(\n",
    "    random_state=12345,\n",
    "    max_depth=best_params['max_depth'],\n",
    "    min_samples_split=best_params['min_samples_split'],\n",
    "    min_samples_leaf=best_params['min_samples_leaf'],\n",
    "    n_estimators=best_params['n_estimators'],\n",
    "    criterion=best_params['criterion']\n",
    ")\n",
    "best_model.fit(features_train, target_train)\n",
    "probabilities_valid = best_model.predict_proba(features_valid)[:, 1]\n",
    "auc_roc = roc_auc_score(target_valid, probabilities_valid)\n",
    "print('Mejor AUC-ROC:', auc_roc)"
   ]
  },
  {
   "cell_type": "markdown",
   "metadata": {},
   "source": [
    "Ajustar el peso en el árbol de decisión y considerando 9 de profundidad, 3 muestras mínimas por división, 1 muestra mínima por hoja, 10 árboles y el criterio Gini para medir la calidad de las divisiones brinda los siguientes resultados:\n",
    "\n",
    "1. El modelo tiene un buen equilibrio entre falsos positivos y falsos negativos (0.60).\n",
    "2. El modelo tiene un muy buen rendimiento para discriminar entre las clases positivas y negativas."
   ]
  },
  {
   "cell_type": "code",
   "execution_count": 27,
   "metadata": {},
   "outputs": [
    {
     "name": "stdout",
     "output_type": "stream",
     "text": [
      "AUC-ROC: 0.8460263589723986\n",
      "Umbral = 0.00 | F1 Score = 0.340\n",
      "Umbral = 0.02 | F1 Score = 0.355\n",
      "Umbral = 0.04 | F1 Score = 0.390\n",
      "Umbral = 0.06 | F1 Score = 0.416\n",
      "Umbral = 0.08 | F1 Score = 0.444\n",
      "Umbral = 0.10 | F1 Score = 0.468\n",
      "Umbral = 0.12 | F1 Score = 0.500\n",
      "Umbral = 0.14 | F1 Score = 0.529\n",
      "Umbral = 0.16 | F1 Score = 0.551\n",
      "Umbral = 0.18 | F1 Score = 0.577\n",
      "Umbral = 0.20 | F1 Score = 0.587\n",
      "Umbral = 0.22 | F1 Score = 0.602\n",
      "Umbral = 0.24 | F1 Score = 0.605\n",
      "Umbral = 0.26 | F1 Score = 0.613\n",
      "Umbral = 0.28 | F1 Score = 0.625\n",
      "Mejor umbral = 0.28 | Mejor F1 Score = 0.625\n",
      "F1 Score con el mejor umbral = 0.625\n"
     ]
    }
   ],
   "source": [
    "#Definir el modelo de bosque aleatorio con los mejores hiperparámetros\n",
    "best_model = RandomForestClassifier(\n",
    "    random_state=12345,\n",
    "    max_depth=9, \n",
    "    min_samples_split=3,  \n",
    "    min_samples_leaf=1,  \n",
    "    n_estimators=10, \n",
    "    criterion='gini' \n",
    ")\n",
    "\n",
    "#Entrenar el modelo con los datos de entrenamiento\n",
    "best_model.fit(features_train, target_train)\n",
    "\n",
    "#Predecir las probabilidades para los datos de validación\n",
    "probabilities_valid = best_model.predict_proba(features_valid)[:, 1]\n",
    "\n",
    "#Calcular AUC-ROC\n",
    "auc_roc = roc_auc_score(target_valid, probabilities_valid)\n",
    "print('AUC-ROC:', auc_roc)\n",
    "\n",
    "#Encontrar el mejor umbral basado en el F1 Score\n",
    "best_threshold = 0\n",
    "best_f1 = 0\n",
    "\n",
    "#Probar una variedad de umbrales para maximizar el F1 Score\n",
    "for threshold in np.arange(0, 0.3, 0.02):\n",
    "    predicted_valid = probabilities_valid > threshold\n",
    "    f1 = f1_score(target_valid, predicted_valid)\n",
    "    if f1 > best_f1:\n",
    "        best_f1 = f1\n",
    "        best_threshold = threshold\n",
    "    print(f'Umbral = {threshold:.2f} | F1 Score = {f1:.3f}')\n",
    "\n",
    "print(f'Mejor umbral = {best_threshold:.2f} | Mejor F1 Score = {best_f1:.3f}')\n",
    "\n",
    "#Predecir con el mejor umbral\n",
    "predicted_valid_best_threshold = probabilities_valid > best_threshold\n",
    "final_f1 = f1_score(target_valid, predicted_valid_best_threshold)\n",
    "print(f'F1 Score con el mejor umbral = {final_f1:.3f}')"
   ]
  },
  {
   "cell_type": "markdown",
   "metadata": {},
   "source": [
    "Lo anterior nos indica que el mejor umbral sería 0.28, dado que el F1 Score en este caso es de 0.625. "
   ]
  },
  {
   "cell_type": "markdown",
   "metadata": {},
   "source": [
    "### Conclusión etapa 4\n",
    "En base a la información precedente, lo mejor sería ajustar el peso de clases en el modelo de árboles de decisión. Lo anterior debido a que este método nos da el mejor F1 Score y el mejor valor de AUC-ROC. "
   ]
  },
  {
   "cell_type": "markdown",
   "metadata": {},
   "source": [
    "## Etapa 5. Prueba final <a id='final_test'></a>"
   ]
  },
  {
   "cell_type": "code",
   "execution_count": 30,
   "metadata": {},
   "outputs": [
    {
     "name": "stdout",
     "output_type": "stream",
     "text": [
      "F1 Score final en el conjunto de prueba = 0.614\n",
      "AUC-ROC final en el conjunto de prueba = 0.851\n"
     ]
    }
   ],
   "source": [
    "#Definir el modelo de bosque aleatorio con los mejores hiperparámetros\n",
    "final_model = RandomForestClassifier(\n",
    "    random_state=12345,\n",
    "    max_depth=9,  \n",
    "    min_samples_split=3,  \n",
    "    min_samples_leaf=1,  \n",
    "    n_estimators=10, \n",
    "    criterion='gini' \n",
    ")\n",
    "\n",
    "#Entrenar el modelo con el conjunto de entrenamiento completo\n",
    "final_model.fit(features_train, target_train)\n",
    "\n",
    "#Predecir las probabilidades en el conjunto de prueba\n",
    "probabilities_test = final_model.predict_proba(features_test)[:, 1]\n",
    "\n",
    "#Usar el umbral de 0.28 para predecir\n",
    "best_threshold = 0.28\n",
    "predicted_test_best_threshold = probabilities_test > best_threshold\n",
    "\n",
    "#Evaluar el modelo en el conjunto de prueba\n",
    "final_f1_test = f1_score(target_test, predicted_test_best_threshold)\n",
    "final_auc_roc_test = roc_auc_score(target_test, probabilities_test)\n",
    "\n",
    "print(f'F1 Score final en el conjunto de prueba = {final_f1_test:.3f}')\n",
    "print(f'AUC-ROC final en el conjunto de prueba = {final_auc_roc_test:.3f}')"
   ]
  },
  {
   "cell_type": "markdown",
   "metadata": {},
   "source": [
    "Lo anterior indica que el modelo tiene un muy buen rendimiento en lo que se refiere a la precisión y al recall en el conjunto de prueba (0.614) y que es muy capaz de discriminar entre las clases positiva y negativa (0.851). "
   ]
  },
  {
   "cell_type": "markdown",
   "metadata": {},
   "source": [
    "### Conclusión etapa 5\n",
    "Se destaca la mejora en el F1 Score a comparación del modelo sin el ajuste de peso de las clases y que la probabilidad de que el modelo asigne una puntación más alta a un ejemplo positivo que a uno negativo es del 73.4%."
   ]
  },
  {
   "cell_type": "markdown",
   "metadata": {},
   "source": [
    "## Etapa 6. Conclusión <a id='end'></a>"
   ]
  },
  {
   "cell_type": "markdown",
   "metadata": {},
   "source": [
    "En base a lo anterior es posible concluir que el mejor modelo para analizar este caso es el árbo ajustando el peso de las clases. Además, es posible afirmar que el modelo puede discriminar de manera adecuada entre los clientes que abandonan el banco y los que no lo hacen."
   ]
  },
  {
   "cell_type": "markdown",
   "metadata": {},
   "source": [
    "<div class=\"alert alert-block alert-info\">\n",
    "<b>Comentario general (1ra Iteracion)</b> <a class=“tocSkip”></a>\n",
    "\n",
    "Muy buen proyecto Andrea, se nota tu entendimiento sobre las distintas técnicas que se pueden usar para lidiar con un dataset desbalanceado pero puedes probar con otros modelos como los basados en árboles para ver el desempeño que tienen en la clasificación, ya que LogisticRegression no logró superar el umbral requerido para este proyecto que es de 0.59 en f1 score.\n",
    "</div>"
   ]
  },
  {
   "cell_type": "markdown",
   "metadata": {},
   "source": [
    "<div class=\"alert alert-block alert-success\">\n",
    "<b>Comentario del revisor (2da Iteracion)</b> <a class=“tocSkip”></a>\n",
    "\n",
    "Perfecto! Ahora obtuviste un modelo que superó el umbral requerido para aprobar el proyecto, por lo general los modelos basados en árboles manejan mejor los datasets desbalanceados.\n",
    "    \n",
    "Como recomendación para tus próximos proyectos de machine learning es que en tus conclusiones redactes tu interpretación de por que los modelos dan diferentes resultados, como afectaron los datos al desempeño de los mismos, y demás temas relacionados.\n",
    "    \n",
    "Saludos!\n",
    "</div>"
   ]
  }
 ],
 "metadata": {
  "ExecuteTimeLog": [
   {
    "duration": 1231,
    "start_time": "2024-07-29T00:28:40.973Z"
   },
   {
    "duration": 29,
    "start_time": "2024-07-29T00:28:43.232Z"
   },
   {
    "duration": 17,
    "start_time": "2024-07-29T00:30:02.908Z"
   },
   {
    "duration": 11,
    "start_time": "2024-07-29T00:30:46.002Z"
   },
   {
    "duration": 47,
    "start_time": "2024-07-29T00:30:57.167Z"
   },
   {
    "duration": 18,
    "start_time": "2024-07-29T00:31:14.088Z"
   },
   {
    "duration": 399,
    "start_time": "2024-07-29T00:36:02.436Z"
   },
   {
    "duration": 6,
    "start_time": "2024-07-29T00:36:13.522Z"
   },
   {
    "duration": 845,
    "start_time": "2024-07-29T00:36:14.719Z"
   },
   {
    "duration": 9,
    "start_time": "2024-07-29T00:36:15.896Z"
   },
   {
    "duration": 1147,
    "start_time": "2024-07-29T00:36:46.791Z"
   },
   {
    "duration": 0,
    "start_time": "2024-07-29T00:36:47.941Z"
   },
   {
    "duration": 25,
    "start_time": "2024-07-29T00:37:22.814Z"
   },
   {
    "duration": 97,
    "start_time": "2024-07-29T00:37:30.005Z"
   },
   {
    "duration": 9,
    "start_time": "2024-07-29T00:40:41.314Z"
   },
   {
    "duration": 35,
    "start_time": "2024-07-29T00:40:47.984Z"
   },
   {
    "duration": 9,
    "start_time": "2024-07-29T00:41:08.836Z"
   },
   {
    "duration": 11,
    "start_time": "2024-07-29T00:41:13.962Z"
   },
   {
    "duration": 16,
    "start_time": "2024-07-29T00:41:19.997Z"
   },
   {
    "duration": 7,
    "start_time": "2024-07-29T00:42:30.733Z"
   },
   {
    "duration": 15,
    "start_time": "2024-07-29T00:42:33.802Z"
   },
   {
    "duration": 10,
    "start_time": "2024-07-29T00:42:38.051Z"
   },
   {
    "duration": 35,
    "start_time": "2024-07-29T00:42:40.334Z"
   },
   {
    "duration": 11,
    "start_time": "2024-07-29T00:42:49.901Z"
   },
   {
    "duration": 5,
    "start_time": "2024-07-29T00:57:55.070Z"
   },
   {
    "duration": 24,
    "start_time": "2024-07-29T00:57:55.788Z"
   },
   {
    "duration": 16,
    "start_time": "2024-07-29T00:57:56.451Z"
   },
   {
    "duration": 7,
    "start_time": "2024-07-29T00:57:56.939Z"
   },
   {
    "duration": 11,
    "start_time": "2024-07-29T00:57:57.524Z"
   },
   {
    "duration": 41,
    "start_time": "2024-07-29T00:57:58.454Z"
   },
   {
    "duration": 14,
    "start_time": "2024-07-29T00:58:01.517Z"
   },
   {
    "duration": 4,
    "start_time": "2024-07-29T01:12:42.973Z"
   },
   {
    "duration": 25,
    "start_time": "2024-07-29T01:12:42.982Z"
   },
   {
    "duration": 16,
    "start_time": "2024-07-29T01:12:43.011Z"
   },
   {
    "duration": 7,
    "start_time": "2024-07-29T01:12:43.030Z"
   },
   {
    "duration": 25,
    "start_time": "2024-07-29T01:12:43.042Z"
   },
   {
    "duration": 0,
    "start_time": "2024-07-29T01:12:43.070Z"
   },
   {
    "duration": 0,
    "start_time": "2024-07-29T01:12:43.072Z"
   },
   {
    "duration": 0,
    "start_time": "2024-07-29T01:12:43.074Z"
   },
   {
    "duration": 0,
    "start_time": "2024-07-29T01:12:43.076Z"
   },
   {
    "duration": 0,
    "start_time": "2024-07-29T01:12:43.078Z"
   },
   {
    "duration": 0,
    "start_time": "2024-07-29T01:12:43.080Z"
   },
   {
    "duration": 6,
    "start_time": "2024-07-29T01:12:58.133Z"
   },
   {
    "duration": 9,
    "start_time": "2024-07-29T01:12:58.544Z"
   },
   {
    "duration": 34,
    "start_time": "2024-07-29T01:12:59.041Z"
   },
   {
    "duration": 11,
    "start_time": "2024-07-29T01:12:59.606Z"
   },
   {
    "duration": 15,
    "start_time": "2024-07-29T01:13:01.534Z"
   },
   {
    "duration": 10,
    "start_time": "2024-07-29T01:13:02.595Z"
   },
   {
    "duration": 24,
    "start_time": "2024-07-29T01:13:03.816Z"
   },
   {
    "duration": 5,
    "start_time": "2024-07-29T01:13:30.099Z"
   },
   {
    "duration": 13,
    "start_time": "2024-07-29T01:13:33.271Z"
   },
   {
    "duration": 309,
    "start_time": "2024-07-29T03:28:04.107Z"
   },
   {
    "duration": 1204,
    "start_time": "2024-07-29T03:28:11.094Z"
   },
   {
    "duration": 42,
    "start_time": "2024-07-29T03:28:12.301Z"
   },
   {
    "duration": 18,
    "start_time": "2024-07-29T03:28:12.345Z"
   },
   {
    "duration": 8,
    "start_time": "2024-07-29T03:28:12.367Z"
   },
   {
    "duration": 6,
    "start_time": "2024-07-29T03:28:12.378Z"
   },
   {
    "duration": 57,
    "start_time": "2024-07-29T03:28:12.387Z"
   },
   {
    "duration": 36,
    "start_time": "2024-07-29T03:28:12.447Z"
   },
   {
    "duration": 12,
    "start_time": "2024-07-29T03:28:12.486Z"
   },
   {
    "duration": 43,
    "start_time": "2024-07-29T03:28:12.501Z"
   },
   {
    "duration": 134,
    "start_time": "2024-07-29T03:28:12.548Z"
   },
   {
    "duration": 0,
    "start_time": "2024-07-29T03:28:12.685Z"
   },
   {
    "duration": 9,
    "start_time": "2024-07-29T03:28:26.666Z"
   },
   {
    "duration": 10,
    "start_time": "2024-07-29T03:28:40.230Z"
   },
   {
    "duration": 753,
    "start_time": "2024-07-29T03:29:08.361Z"
   },
   {
    "duration": 6,
    "start_time": "2024-07-29T03:43:25.949Z"
   },
   {
    "duration": 45,
    "start_time": "2024-07-29T03:43:25.958Z"
   },
   {
    "duration": 16,
    "start_time": "2024-07-29T03:43:26.006Z"
   },
   {
    "duration": 7,
    "start_time": "2024-07-29T03:43:26.025Z"
   },
   {
    "duration": 7,
    "start_time": "2024-07-29T03:43:26.037Z"
   },
   {
    "duration": 9,
    "start_time": "2024-07-29T03:43:26.047Z"
   },
   {
    "duration": 38,
    "start_time": "2024-07-29T03:43:26.059Z"
   },
   {
    "duration": 12,
    "start_time": "2024-07-29T03:43:26.134Z"
   },
   {
    "duration": 13,
    "start_time": "2024-07-29T03:43:26.149Z"
   },
   {
    "duration": 10,
    "start_time": "2024-07-29T03:43:26.165Z"
   },
   {
    "duration": 36,
    "start_time": "2024-07-29T03:43:37.841Z"
   },
   {
    "duration": 4,
    "start_time": "2024-07-29T03:43:55.070Z"
   },
   {
    "duration": 32,
    "start_time": "2024-07-29T03:43:55.078Z"
   },
   {
    "duration": 18,
    "start_time": "2024-07-29T03:43:55.116Z"
   },
   {
    "duration": 8,
    "start_time": "2024-07-29T03:43:55.137Z"
   },
   {
    "duration": 7,
    "start_time": "2024-07-29T03:43:55.150Z"
   },
   {
    "duration": 11,
    "start_time": "2024-07-29T03:43:55.161Z"
   },
   {
    "duration": 81,
    "start_time": "2024-07-29T03:43:55.177Z"
   },
   {
    "duration": 13,
    "start_time": "2024-07-29T03:43:55.262Z"
   },
   {
    "duration": 14,
    "start_time": "2024-07-29T03:43:55.279Z"
   },
   {
    "duration": 40,
    "start_time": "2024-07-29T03:43:55.297Z"
   },
   {
    "duration": 43,
    "start_time": "2024-07-29T03:43:55.340Z"
   },
   {
    "duration": 5,
    "start_time": "2024-07-29T03:51:46.211Z"
   },
   {
    "duration": 28,
    "start_time": "2024-07-29T03:51:46.221Z"
   },
   {
    "duration": 18,
    "start_time": "2024-07-29T03:51:46.252Z"
   },
   {
    "duration": 8,
    "start_time": "2024-07-29T03:51:46.274Z"
   },
   {
    "duration": 7,
    "start_time": "2024-07-29T03:51:46.284Z"
   },
   {
    "duration": 39,
    "start_time": "2024-07-29T03:51:46.295Z"
   },
   {
    "duration": 38,
    "start_time": "2024-07-29T03:51:46.338Z"
   },
   {
    "duration": 14,
    "start_time": "2024-07-29T03:51:46.379Z"
   },
   {
    "duration": 45,
    "start_time": "2024-07-29T03:51:46.395Z"
   },
   {
    "duration": 13,
    "start_time": "2024-07-29T03:51:46.444Z"
   },
   {
    "duration": 40,
    "start_time": "2024-07-29T03:51:46.459Z"
   },
   {
    "duration": 4,
    "start_time": "2024-07-29T04:41:30.675Z"
   },
   {
    "duration": 23,
    "start_time": "2024-07-29T04:41:30.683Z"
   },
   {
    "duration": 16,
    "start_time": "2024-07-29T04:41:30.709Z"
   },
   {
    "duration": 7,
    "start_time": "2024-07-29T04:41:30.729Z"
   },
   {
    "duration": 7,
    "start_time": "2024-07-29T04:41:30.739Z"
   },
   {
    "duration": 10,
    "start_time": "2024-07-29T04:41:30.748Z"
   },
   {
    "duration": 35,
    "start_time": "2024-07-29T04:41:30.762Z"
   },
   {
    "duration": 11,
    "start_time": "2024-07-29T04:41:30.832Z"
   },
   {
    "duration": 12,
    "start_time": "2024-07-29T04:41:30.846Z"
   },
   {
    "duration": 6,
    "start_time": "2024-07-29T04:41:30.861Z"
   },
   {
    "duration": 8,
    "start_time": "2024-07-29T04:41:30.870Z"
   },
   {
    "duration": 83,
    "start_time": "2024-07-29T04:41:30.881Z"
   },
   {
    "duration": 30,
    "start_time": "2024-07-29T04:41:52.724Z"
   },
   {
    "duration": 5,
    "start_time": "2024-07-29T04:41:59.070Z"
   },
   {
    "duration": 23,
    "start_time": "2024-07-29T04:41:59.080Z"
   },
   {
    "duration": 16,
    "start_time": "2024-07-29T04:41:59.106Z"
   },
   {
    "duration": 6,
    "start_time": "2024-07-29T04:41:59.125Z"
   },
   {
    "duration": 6,
    "start_time": "2024-07-29T04:41:59.136Z"
   },
   {
    "duration": 10,
    "start_time": "2024-07-29T04:41:59.145Z"
   },
   {
    "duration": 36,
    "start_time": "2024-07-29T04:41:59.158Z"
   },
   {
    "duration": 45,
    "start_time": "2024-07-29T04:41:59.197Z"
   },
   {
    "duration": 11,
    "start_time": "2024-07-29T04:41:59.245Z"
   },
   {
    "duration": 8,
    "start_time": "2024-07-29T04:41:59.259Z"
   },
   {
    "duration": 9,
    "start_time": "2024-07-29T04:41:59.270Z"
   },
   {
    "duration": 79,
    "start_time": "2024-07-29T04:41:59.281Z"
   },
   {
    "duration": 5,
    "start_time": "2024-07-29T04:53:14.333Z"
   },
   {
    "duration": 24,
    "start_time": "2024-07-29T04:53:14.342Z"
   },
   {
    "duration": 16,
    "start_time": "2024-07-29T04:53:14.368Z"
   },
   {
    "duration": 45,
    "start_time": "2024-07-29T04:53:14.387Z"
   },
   {
    "duration": 7,
    "start_time": "2024-07-29T04:53:14.436Z"
   },
   {
    "duration": 9,
    "start_time": "2024-07-29T04:53:14.446Z"
   },
   {
    "duration": 37,
    "start_time": "2024-07-29T04:53:14.458Z"
   },
   {
    "duration": 12,
    "start_time": "2024-07-29T04:53:14.532Z"
   },
   {
    "duration": 12,
    "start_time": "2024-07-29T04:53:14.546Z"
   },
   {
    "duration": 10,
    "start_time": "2024-07-29T04:53:14.561Z"
   },
   {
    "duration": 77,
    "start_time": "2024-07-29T04:53:14.574Z"
   },
   {
    "duration": 311,
    "start_time": "2024-07-29T18:30:27.606Z"
   },
   {
    "duration": 1181,
    "start_time": "2024-07-29T18:30:38.289Z"
   },
   {
    "duration": 42,
    "start_time": "2024-07-29T18:30:39.475Z"
   },
   {
    "duration": 18,
    "start_time": "2024-07-29T18:30:39.520Z"
   },
   {
    "duration": 8,
    "start_time": "2024-07-29T18:30:39.541Z"
   },
   {
    "duration": 6,
    "start_time": "2024-07-29T18:30:39.554Z"
   },
   {
    "duration": 49,
    "start_time": "2024-07-29T18:30:39.563Z"
   },
   {
    "duration": 36,
    "start_time": "2024-07-29T18:30:39.615Z"
   },
   {
    "duration": 11,
    "start_time": "2024-07-29T18:30:39.654Z"
   },
   {
    "duration": 45,
    "start_time": "2024-07-29T18:30:39.668Z"
   },
   {
    "duration": 12,
    "start_time": "2024-07-29T18:30:39.715Z"
   },
   {
    "duration": 41,
    "start_time": "2024-07-29T18:30:39.729Z"
   },
   {
    "duration": 38,
    "start_time": "2024-07-29T18:30:39.774Z"
   },
   {
    "duration": 336,
    "start_time": "2024-07-29T18:31:15.769Z"
   },
   {
    "duration": 4,
    "start_time": "2024-07-29T18:37:06.024Z"
   },
   {
    "duration": 25,
    "start_time": "2024-07-29T18:37:06.033Z"
   },
   {
    "duration": 17,
    "start_time": "2024-07-29T18:37:06.060Z"
   },
   {
    "duration": 34,
    "start_time": "2024-07-29T18:37:06.081Z"
   },
   {
    "duration": 6,
    "start_time": "2024-07-29T18:37:06.120Z"
   },
   {
    "duration": 11,
    "start_time": "2024-07-29T18:37:06.128Z"
   },
   {
    "duration": 72,
    "start_time": "2024-07-29T18:37:06.142Z"
   },
   {
    "duration": 14,
    "start_time": "2024-07-29T18:37:06.217Z"
   },
   {
    "duration": 16,
    "start_time": "2024-07-29T18:37:06.234Z"
   },
   {
    "duration": 14,
    "start_time": "2024-07-29T18:37:06.254Z"
   },
   {
    "duration": 10,
    "start_time": "2024-07-29T18:37:06.314Z"
   },
   {
    "duration": 39,
    "start_time": "2024-07-29T18:37:06.327Z"
   },
   {
    "duration": 7,
    "start_time": "2024-07-29T18:37:06.372Z"
   },
   {
    "duration": 221,
    "start_time": "2024-07-29T18:37:06.413Z"
   },
   {
    "duration": 5,
    "start_time": "2024-07-29T18:38:00.453Z"
   },
   {
    "duration": 23,
    "start_time": "2024-07-29T18:38:00.462Z"
   },
   {
    "duration": 16,
    "start_time": "2024-07-29T18:38:00.487Z"
   },
   {
    "duration": 7,
    "start_time": "2024-07-29T18:38:00.506Z"
   },
   {
    "duration": 6,
    "start_time": "2024-07-29T18:38:00.518Z"
   },
   {
    "duration": 10,
    "start_time": "2024-07-29T18:38:00.527Z"
   },
   {
    "duration": 37,
    "start_time": "2024-07-29T18:38:00.540Z"
   },
   {
    "duration": 12,
    "start_time": "2024-07-29T18:38:00.613Z"
   },
   {
    "duration": 12,
    "start_time": "2024-07-29T18:38:00.628Z"
   },
   {
    "duration": 11,
    "start_time": "2024-07-29T18:38:00.643Z"
   },
   {
    "duration": 9,
    "start_time": "2024-07-29T18:38:00.656Z"
   },
   {
    "duration": 76,
    "start_time": "2024-07-29T18:38:00.668Z"
   },
   {
    "duration": 7,
    "start_time": "2024-07-29T18:38:00.747Z"
   },
   {
    "duration": 263,
    "start_time": "2024-07-29T18:38:00.760Z"
   },
   {
    "duration": 138,
    "start_time": "2024-07-29T18:43:28.977Z"
   },
   {
    "duration": 6,
    "start_time": "2024-07-29T18:43:30.127Z"
   },
   {
    "duration": 7,
    "start_time": "2024-07-29T18:43:31.168Z"
   },
   {
    "duration": 11,
    "start_time": "2024-07-29T18:43:32.158Z"
   },
   {
    "duration": 1248,
    "start_time": "2024-07-29T20:51:06.049Z"
   },
   {
    "duration": 38,
    "start_time": "2024-07-29T20:51:07.301Z"
   },
   {
    "duration": 20,
    "start_time": "2024-07-29T20:51:07.342Z"
   },
   {
    "duration": 9,
    "start_time": "2024-07-29T20:51:07.366Z"
   },
   {
    "duration": 7,
    "start_time": "2024-07-29T20:51:07.380Z"
   },
   {
    "duration": 50,
    "start_time": "2024-07-29T20:51:07.390Z"
   },
   {
    "duration": 41,
    "start_time": "2024-07-29T20:51:07.443Z"
   },
   {
    "duration": 14,
    "start_time": "2024-07-29T20:51:07.487Z"
   },
   {
    "duration": 41,
    "start_time": "2024-07-29T20:51:07.503Z"
   },
   {
    "duration": 12,
    "start_time": "2024-07-29T20:51:07.547Z"
   },
   {
    "duration": 10,
    "start_time": "2024-07-29T20:51:07.562Z"
   },
   {
    "duration": 80,
    "start_time": "2024-07-29T20:51:07.574Z"
   },
   {
    "duration": 9,
    "start_time": "2024-07-29T20:51:07.658Z"
   },
   {
    "duration": 281,
    "start_time": "2024-07-29T20:51:07.672Z"
   },
   {
    "duration": 82,
    "start_time": "2024-07-29T20:51:07.960Z"
   },
   {
    "duration": 86,
    "start_time": "2024-07-29T20:51:08.048Z"
   },
   {
    "duration": 15,
    "start_time": "2024-07-29T20:51:08.143Z"
   },
   {
    "duration": 5,
    "start_time": "2024-07-29T21:46:20.763Z"
   },
   {
    "duration": 25,
    "start_time": "2024-07-29T21:46:20.772Z"
   },
   {
    "duration": 16,
    "start_time": "2024-07-29T21:46:20.800Z"
   },
   {
    "duration": 17,
    "start_time": "2024-07-29T21:46:20.820Z"
   },
   {
    "duration": 6,
    "start_time": "2024-07-29T21:46:20.844Z"
   },
   {
    "duration": 11,
    "start_time": "2024-07-29T21:46:20.853Z"
   },
   {
    "duration": 36,
    "start_time": "2024-07-29T21:46:20.867Z"
   },
   {
    "duration": 36,
    "start_time": "2024-07-29T21:46:20.906Z"
   },
   {
    "duration": 11,
    "start_time": "2024-07-29T21:46:20.946Z"
   },
   {
    "duration": 10,
    "start_time": "2024-07-29T21:46:20.960Z"
   },
   {
    "duration": 11,
    "start_time": "2024-07-29T21:46:20.974Z"
   },
   {
    "duration": 79,
    "start_time": "2024-07-29T21:46:20.988Z"
   },
   {
    "duration": 8,
    "start_time": "2024-07-29T21:46:21.069Z"
   },
   {
    "duration": 472,
    "start_time": "2024-07-29T21:46:21.082Z"
   },
   {
    "duration": 96,
    "start_time": "2024-07-29T21:46:21.563Z"
   },
   {
    "duration": 14,
    "start_time": "2024-07-29T21:46:21.738Z"
   },
   {
    "duration": 82,
    "start_time": "2024-07-29T21:46:21.764Z"
   },
   {
    "duration": 466,
    "start_time": "2024-07-29T21:46:21.852Z"
   },
   {
    "duration": 4,
    "start_time": "2024-07-29T21:46:57.459Z"
   },
   {
    "duration": 152,
    "start_time": "2024-07-29T21:47:01.674Z"
   },
   {
    "duration": 190,
    "start_time": "2024-07-29T21:47:35.461Z"
   },
   {
    "duration": 175,
    "start_time": "2024-07-29T21:47:43.375Z"
   },
   {
    "duration": 5,
    "start_time": "2024-07-29T21:48:23.498Z"
   },
   {
    "duration": 24,
    "start_time": "2024-07-29T21:48:23.506Z"
   },
   {
    "duration": 16,
    "start_time": "2024-07-29T21:48:23.533Z"
   },
   {
    "duration": 9,
    "start_time": "2024-07-29T21:48:23.552Z"
   },
   {
    "duration": 7,
    "start_time": "2024-07-29T21:48:23.568Z"
   },
   {
    "duration": 12,
    "start_time": "2024-07-29T21:48:23.578Z"
   },
   {
    "duration": 35,
    "start_time": "2024-07-29T21:48:23.634Z"
   },
   {
    "duration": 11,
    "start_time": "2024-07-29T21:48:23.672Z"
   },
   {
    "duration": 12,
    "start_time": "2024-07-29T21:48:23.685Z"
   },
   {
    "duration": 42,
    "start_time": "2024-07-29T21:48:23.699Z"
   },
   {
    "duration": 10,
    "start_time": "2024-07-29T21:48:23.744Z"
   },
   {
    "duration": 35,
    "start_time": "2024-07-29T21:48:23.757Z"
   },
   {
    "duration": 6,
    "start_time": "2024-07-29T21:48:23.795Z"
   },
   {
    "duration": 206,
    "start_time": "2024-07-29T21:48:23.838Z"
   },
   {
    "duration": 15,
    "start_time": "2024-07-29T21:48:24.048Z"
   },
   {
    "duration": 71,
    "start_time": "2024-07-29T21:48:24.066Z"
   },
   {
    "duration": 16,
    "start_time": "2024-07-29T21:48:24.140Z"
   },
   {
    "duration": 150,
    "start_time": "2024-07-29T21:48:24.235Z"
   },
   {
    "duration": 35,
    "start_time": "2024-07-29T21:54:55.239Z"
   },
   {
    "duration": 49,
    "start_time": "2024-07-29T21:56:01.791Z"
   },
   {
    "duration": 37,
    "start_time": "2024-07-29T21:59:25.474Z"
   },
   {
    "duration": 321,
    "start_time": "2024-07-29T22:45:31.561Z"
   },
   {
    "duration": 1185,
    "start_time": "2024-07-29T22:45:36.493Z"
   },
   {
    "duration": 40,
    "start_time": "2024-07-29T22:45:37.682Z"
   },
   {
    "duration": 18,
    "start_time": "2024-07-29T22:45:37.725Z"
   },
   {
    "duration": 8,
    "start_time": "2024-07-29T22:45:37.746Z"
   },
   {
    "duration": 6,
    "start_time": "2024-07-29T22:45:37.761Z"
   },
   {
    "duration": 48,
    "start_time": "2024-07-29T22:45:37.769Z"
   },
   {
    "duration": 37,
    "start_time": "2024-07-29T22:45:37.821Z"
   },
   {
    "duration": 13,
    "start_time": "2024-07-29T22:45:37.861Z"
   },
   {
    "duration": 45,
    "start_time": "2024-07-29T22:45:37.876Z"
   },
   {
    "duration": 10,
    "start_time": "2024-07-29T22:45:37.924Z"
   },
   {
    "duration": 11,
    "start_time": "2024-07-29T22:45:37.936Z"
   },
   {
    "duration": 75,
    "start_time": "2024-07-29T22:45:37.950Z"
   },
   {
    "duration": 9,
    "start_time": "2024-07-29T22:45:38.028Z"
   },
   {
    "duration": 185,
    "start_time": "2024-07-29T22:45:38.042Z"
   },
   {
    "duration": 268,
    "start_time": "2024-07-29T22:45:38.231Z"
   },
   {
    "duration": 0,
    "start_time": "2024-07-29T22:45:38.502Z"
   },
   {
    "duration": 0,
    "start_time": "2024-07-29T22:45:38.512Z"
   },
   {
    "duration": 0,
    "start_time": "2024-07-29T22:45:38.514Z"
   },
   {
    "duration": 0,
    "start_time": "2024-07-29T22:45:38.517Z"
   },
   {
    "duration": 0,
    "start_time": "2024-07-29T22:45:38.519Z"
   },
   {
    "duration": 8,
    "start_time": "2024-07-29T22:46:15.552Z"
   },
   {
    "duration": 28,
    "start_time": "2024-07-29T22:46:15.564Z"
   },
   {
    "duration": 15,
    "start_time": "2024-07-29T22:46:15.596Z"
   },
   {
    "duration": 12,
    "start_time": "2024-07-29T22:46:15.615Z"
   },
   {
    "duration": 7,
    "start_time": "2024-07-29T22:46:15.632Z"
   },
   {
    "duration": 10,
    "start_time": "2024-07-29T22:46:15.643Z"
   },
   {
    "duration": 72,
    "start_time": "2024-07-29T22:46:15.659Z"
   },
   {
    "duration": 12,
    "start_time": "2024-07-29T22:46:15.734Z"
   },
   {
    "duration": 11,
    "start_time": "2024-07-29T22:46:15.749Z"
   },
   {
    "duration": 10,
    "start_time": "2024-07-29T22:46:15.763Z"
   },
   {
    "duration": 42,
    "start_time": "2024-07-29T22:46:15.776Z"
   },
   {
    "duration": 44,
    "start_time": "2024-07-29T22:46:15.824Z"
   },
   {
    "duration": 7,
    "start_time": "2024-07-29T22:46:15.871Z"
   },
   {
    "duration": 201,
    "start_time": "2024-07-29T22:46:15.913Z"
   },
   {
    "duration": 8,
    "start_time": "2024-07-29T22:46:16.116Z"
   },
   {
    "duration": 84,
    "start_time": "2024-07-29T22:46:16.127Z"
   },
   {
    "duration": 16,
    "start_time": "2024-07-29T22:46:16.215Z"
   },
   {
    "duration": 213,
    "start_time": "2024-07-29T22:46:16.237Z"
   },
   {
    "duration": 162,
    "start_time": "2024-07-29T22:46:16.456Z"
   },
   {
    "duration": 225,
    "start_time": "2024-07-29T22:46:16.623Z"
   },
   {
    "duration": 80,
    "start_time": "2024-07-29T22:47:04.232Z"
   },
   {
    "duration": 5,
    "start_time": "2024-07-29T22:47:19.906Z"
   },
   {
    "duration": 10,
    "start_time": "2024-07-29T22:47:23.322Z"
   },
   {
    "duration": 115,
    "start_time": "2024-07-29T23:00:18.608Z"
   },
   {
    "duration": 5,
    "start_time": "2024-07-29T23:00:21.651Z"
   },
   {
    "duration": 25,
    "start_time": "2024-07-29T23:00:21.661Z"
   },
   {
    "duration": 17,
    "start_time": "2024-07-29T23:00:21.689Z"
   },
   {
    "duration": 8,
    "start_time": "2024-07-29T23:00:21.709Z"
   },
   {
    "duration": 6,
    "start_time": "2024-07-29T23:00:21.721Z"
   },
   {
    "duration": 10,
    "start_time": "2024-07-29T23:00:21.730Z"
   },
   {
    "duration": 69,
    "start_time": "2024-07-29T23:00:21.744Z"
   },
   {
    "duration": 11,
    "start_time": "2024-07-29T23:00:21.816Z"
   },
   {
    "duration": 12,
    "start_time": "2024-07-29T23:00:21.830Z"
   },
   {
    "duration": 12,
    "start_time": "2024-07-29T23:00:21.844Z"
   },
   {
    "duration": 10,
    "start_time": "2024-07-29T23:00:21.859Z"
   },
   {
    "duration": 36,
    "start_time": "2024-07-29T23:00:21.912Z"
   },
   {
    "duration": 6,
    "start_time": "2024-07-29T23:00:21.951Z"
   },
   {
    "duration": 248,
    "start_time": "2024-07-29T23:00:21.965Z"
   },
   {
    "duration": 7,
    "start_time": "2024-07-29T23:00:22.215Z"
   },
   {
    "duration": 7,
    "start_time": "2024-07-29T23:00:22.225Z"
   },
   {
    "duration": 83,
    "start_time": "2024-07-29T23:00:22.236Z"
   },
   {
    "duration": 218,
    "start_time": "2024-07-29T23:00:22.321Z"
   },
   {
    "duration": 182,
    "start_time": "2024-07-29T23:00:22.542Z"
   },
   {
    "duration": 216,
    "start_time": "2024-07-29T23:00:22.727Z"
   },
   {
    "duration": 71,
    "start_time": "2024-07-29T23:00:22.945Z"
   },
   {
    "duration": 72,
    "start_time": "2024-07-29T23:01:30.401Z"
   },
   {
    "duration": 70,
    "start_time": "2024-07-29T23:07:11.055Z"
   },
   {
    "duration": 63,
    "start_time": "2024-07-29T23:07:19.337Z"
   },
   {
    "duration": 129,
    "start_time": "2024-07-29T23:07:29.389Z"
   },
   {
    "duration": 5,
    "start_time": "2024-07-29T23:07:46.819Z"
   },
   {
    "duration": 204,
    "start_time": "2024-07-29T23:07:50.719Z"
   },
   {
    "duration": 223,
    "start_time": "2024-07-29T23:08:17.896Z"
   },
   {
    "duration": 189,
    "start_time": "2024-07-29T23:08:34.143Z"
   },
   {
    "duration": 228,
    "start_time": "2024-07-29T23:37:48.497Z"
   },
   {
    "duration": 71,
    "start_time": "2024-07-29T23:40:35.849Z"
   },
   {
    "duration": 6,
    "start_time": "2024-07-30T00:13:06.810Z"
   },
   {
    "duration": 26,
    "start_time": "2024-07-30T00:13:06.820Z"
   },
   {
    "duration": 17,
    "start_time": "2024-07-30T00:13:06.850Z"
   },
   {
    "duration": 43,
    "start_time": "2024-07-30T00:13:06.870Z"
   },
   {
    "duration": 7,
    "start_time": "2024-07-30T00:13:06.918Z"
   },
   {
    "duration": 9,
    "start_time": "2024-07-30T00:13:06.928Z"
   },
   {
    "duration": 35,
    "start_time": "2024-07-30T00:13:06.940Z"
   },
   {
    "duration": 43,
    "start_time": "2024-07-30T00:13:06.978Z"
   },
   {
    "duration": 11,
    "start_time": "2024-07-30T00:13:07.024Z"
   },
   {
    "duration": 11,
    "start_time": "2024-07-30T00:13:07.037Z"
   },
   {
    "duration": 9,
    "start_time": "2024-07-30T00:13:07.050Z"
   },
   {
    "duration": 82,
    "start_time": "2024-07-30T00:13:07.063Z"
   },
   {
    "duration": 7,
    "start_time": "2024-07-30T00:13:07.148Z"
   },
   {
    "duration": 169,
    "start_time": "2024-07-30T00:13:07.162Z"
   },
   {
    "duration": 81,
    "start_time": "2024-07-30T00:13:07.334Z"
   },
   {
    "duration": 7,
    "start_time": "2024-07-30T00:13:07.418Z"
   },
   {
    "duration": 85,
    "start_time": "2024-07-30T00:13:07.428Z"
   },
   {
    "duration": 212,
    "start_time": "2024-07-30T00:13:07.516Z"
   },
   {
    "duration": 185,
    "start_time": "2024-07-30T00:13:07.731Z"
   },
   {
    "duration": 193,
    "start_time": "2024-07-30T00:13:07.920Z"
   },
   {
    "duration": 111,
    "start_time": "2024-07-30T00:13:08.116Z"
   },
   {
    "duration": 284,
    "start_time": "2024-07-30T00:13:08.230Z"
   },
   {
    "duration": 85,
    "start_time": "2024-07-30T00:19:35.378Z"
   },
   {
    "duration": 1241,
    "start_time": "2024-08-01T17:43:13.558Z"
   },
   {
    "duration": 36,
    "start_time": "2024-08-01T17:43:14.802Z"
   },
   {
    "duration": 19,
    "start_time": "2024-08-01T17:43:14.840Z"
   },
   {
    "duration": 10,
    "start_time": "2024-08-01T17:43:14.863Z"
   },
   {
    "duration": 6,
    "start_time": "2024-08-01T17:43:14.877Z"
   },
   {
    "duration": 44,
    "start_time": "2024-08-01T17:43:14.887Z"
   },
   {
    "duration": 37,
    "start_time": "2024-08-01T17:43:14.934Z"
   },
   {
    "duration": 11,
    "start_time": "2024-08-01T17:43:14.975Z"
   },
   {
    "duration": 47,
    "start_time": "2024-08-01T17:43:14.989Z"
   },
   {
    "duration": 11,
    "start_time": "2024-08-01T17:43:15.039Z"
   },
   {
    "duration": 9,
    "start_time": "2024-08-01T17:43:15.053Z"
   },
   {
    "duration": 70,
    "start_time": "2024-08-01T17:43:15.065Z"
   },
   {
    "duration": 8,
    "start_time": "2024-08-01T17:43:15.138Z"
   },
   {
    "duration": 193,
    "start_time": "2024-08-01T17:43:15.153Z"
   },
   {
    "duration": 6,
    "start_time": "2024-08-01T17:43:15.430Z"
   },
   {
    "duration": 8,
    "start_time": "2024-08-01T17:43:15.439Z"
   },
   {
    "duration": 90,
    "start_time": "2024-08-01T17:43:15.450Z"
   },
   {
    "duration": 216,
    "start_time": "2024-08-01T17:43:15.543Z"
   },
   {
    "duration": 179,
    "start_time": "2024-08-01T17:43:15.762Z"
   },
   {
    "duration": 236,
    "start_time": "2024-08-01T17:43:15.946Z"
   },
   {
    "duration": 222,
    "start_time": "2024-08-01T17:43:16.230Z"
   },
   {
    "duration": 101,
    "start_time": "2024-08-01T17:43:16.531Z"
   },
   {
    "duration": 1217,
    "start_time": "2024-08-01T17:43:35.325Z"
   },
   {
    "duration": 23,
    "start_time": "2024-08-01T17:43:36.546Z"
   },
   {
    "duration": 18,
    "start_time": "2024-08-01T17:43:36.572Z"
   },
   {
    "duration": 37,
    "start_time": "2024-08-01T17:43:36.593Z"
   },
   {
    "duration": 7,
    "start_time": "2024-08-01T17:43:36.635Z"
   },
   {
    "duration": 12,
    "start_time": "2024-08-01T17:43:36.645Z"
   },
   {
    "duration": 35,
    "start_time": "2024-08-01T17:43:36.660Z"
   },
   {
    "duration": 11,
    "start_time": "2024-08-01T17:43:36.730Z"
   },
   {
    "duration": 11,
    "start_time": "2024-08-01T17:43:36.744Z"
   },
   {
    "duration": 12,
    "start_time": "2024-08-01T17:43:36.757Z"
   },
   {
    "duration": 10,
    "start_time": "2024-08-01T17:43:36.772Z"
   },
   {
    "duration": 76,
    "start_time": "2024-08-01T17:43:36.785Z"
   },
   {
    "duration": 8,
    "start_time": "2024-08-01T17:43:36.864Z"
   },
   {
    "duration": 254,
    "start_time": "2024-08-01T17:43:36.879Z"
   },
   {
    "duration": 7,
    "start_time": "2024-08-01T17:43:37.141Z"
   },
   {
    "duration": 10,
    "start_time": "2024-08-01T17:43:37.230Z"
   },
   {
    "duration": 86,
    "start_time": "2024-08-01T17:43:37.248Z"
   },
   {
    "duration": 136,
    "start_time": "2024-08-01T17:43:37.337Z"
   },
   {
    "duration": 161,
    "start_time": "2024-08-01T17:43:37.479Z"
   },
   {
    "duration": 227,
    "start_time": "2024-08-01T17:43:37.643Z"
   },
   {
    "duration": 276,
    "start_time": "2024-08-01T17:43:37.876Z"
   },
   {
    "duration": 99,
    "start_time": "2024-08-01T17:43:38.232Z"
   },
   {
    "duration": 493,
    "start_time": "2024-08-01T17:53:55.737Z"
   },
   {
    "duration": 137,
    "start_time": "2024-08-01T17:53:58.456Z"
   },
   {
    "duration": 316,
    "start_time": "2024-08-02T06:45:48.972Z"
   },
   {
    "duration": 1202,
    "start_time": "2024-08-02T06:45:54.019Z"
   },
   {
    "duration": 42,
    "start_time": "2024-08-02T06:45:55.225Z"
   },
   {
    "duration": 18,
    "start_time": "2024-08-02T06:45:55.270Z"
   },
   {
    "duration": 9,
    "start_time": "2024-08-02T06:45:55.292Z"
   },
   {
    "duration": 20,
    "start_time": "2024-08-02T06:45:55.306Z"
   },
   {
    "duration": 12,
    "start_time": "2024-08-02T06:45:55.328Z"
   },
   {
    "duration": 36,
    "start_time": "2024-08-02T06:45:55.343Z"
   },
   {
    "duration": 41,
    "start_time": "2024-08-02T06:45:55.382Z"
   },
   {
    "duration": 12,
    "start_time": "2024-08-02T06:45:55.426Z"
   },
   {
    "duration": 10,
    "start_time": "2024-08-02T06:45:55.443Z"
   },
   {
    "duration": 10,
    "start_time": "2024-08-02T06:45:55.456Z"
   },
   {
    "duration": 80,
    "start_time": "2024-08-02T06:45:55.469Z"
   },
   {
    "duration": 8,
    "start_time": "2024-08-02T06:45:55.552Z"
   },
   {
    "duration": 177,
    "start_time": "2024-08-02T06:45:55.564Z"
   },
   {
    "duration": 80,
    "start_time": "2024-08-02T06:45:55.744Z"
   },
   {
    "duration": 10,
    "start_time": "2024-08-02T06:45:55.828Z"
   },
   {
    "duration": 84,
    "start_time": "2024-08-02T06:45:55.841Z"
   },
   {
    "duration": 119,
    "start_time": "2024-08-02T06:46:00.006Z"
   },
   {
    "duration": 37,
    "start_time": "2024-08-02T06:46:10.140Z"
   },
   {
    "duration": 58,
    "start_time": "2024-08-02T06:47:42.600Z"
   },
   {
    "duration": 1260,
    "start_time": "2024-08-02T14:42:58.316Z"
   },
   {
    "duration": 40,
    "start_time": "2024-08-02T14:42:59.580Z"
   },
   {
    "duration": 19,
    "start_time": "2024-08-02T14:42:59.623Z"
   },
   {
    "duration": 7,
    "start_time": "2024-08-02T14:42:59.645Z"
   },
   {
    "duration": 6,
    "start_time": "2024-08-02T14:42:59.657Z"
   },
   {
    "duration": 47,
    "start_time": "2024-08-02T14:42:59.666Z"
   },
   {
    "duration": 36,
    "start_time": "2024-08-02T14:42:59.716Z"
   },
   {
    "duration": 12,
    "start_time": "2024-08-02T14:42:59.755Z"
   },
   {
    "duration": 45,
    "start_time": "2024-08-02T14:42:59.770Z"
   },
   {
    "duration": 11,
    "start_time": "2024-08-02T14:42:59.817Z"
   },
   {
    "duration": 9,
    "start_time": "2024-08-02T14:42:59.831Z"
   },
   {
    "duration": 74,
    "start_time": "2024-08-02T14:42:59.843Z"
   },
   {
    "duration": 9,
    "start_time": "2024-08-02T14:42:59.919Z"
   },
   {
    "duration": 189,
    "start_time": "2024-08-02T14:42:59.934Z"
   },
   {
    "duration": 81,
    "start_time": "2024-08-02T14:43:00.126Z"
   },
   {
    "duration": 14,
    "start_time": "2024-08-02T14:43:00.211Z"
   },
   {
    "duration": 81,
    "start_time": "2024-08-02T14:43:00.228Z"
   },
   {
    "duration": 521,
    "start_time": "2024-08-02T14:43:00.312Z"
   },
   {
    "duration": 0,
    "start_time": "2024-08-02T14:43:00.836Z"
   },
   {
    "duration": 5,
    "start_time": "2024-08-02T14:44:24.018Z"
   },
   {
    "duration": 23,
    "start_time": "2024-08-02T14:44:24.027Z"
   },
   {
    "duration": 16,
    "start_time": "2024-08-02T14:44:24.053Z"
   },
   {
    "duration": 35,
    "start_time": "2024-08-02T14:44:24.073Z"
   },
   {
    "duration": 8,
    "start_time": "2024-08-02T14:44:24.112Z"
   },
   {
    "duration": 9,
    "start_time": "2024-08-02T14:44:24.122Z"
   },
   {
    "duration": 71,
    "start_time": "2024-08-02T14:44:24.135Z"
   },
   {
    "duration": 12,
    "start_time": "2024-08-02T14:44:24.209Z"
   },
   {
    "duration": 11,
    "start_time": "2024-08-02T14:44:24.225Z"
   },
   {
    "duration": 10,
    "start_time": "2024-08-02T14:44:24.239Z"
   },
   {
    "duration": 8,
    "start_time": "2024-08-02T14:44:24.252Z"
   },
   {
    "duration": 40,
    "start_time": "2024-08-02T14:44:24.305Z"
   },
   {
    "duration": 7,
    "start_time": "2024-08-02T14:44:24.348Z"
   },
   {
    "duration": 168,
    "start_time": "2024-08-02T14:44:24.360Z"
   },
   {
    "duration": 10,
    "start_time": "2024-08-02T14:44:24.606Z"
   },
   {
    "duration": 7,
    "start_time": "2024-08-02T14:44:24.619Z"
   },
   {
    "duration": 82,
    "start_time": "2024-08-02T14:44:24.630Z"
   },
   {
    "duration": 396,
    "start_time": "2024-08-02T14:44:24.715Z"
   },
   {
    "duration": 322,
    "start_time": "2024-08-02T14:44:25.114Z"
   },
   {
    "duration": 5,
    "start_time": "2024-08-02T15:12:12.755Z"
   },
   {
    "duration": 24,
    "start_time": "2024-08-02T15:12:12.765Z"
   },
   {
    "duration": 20,
    "start_time": "2024-08-02T15:12:12.792Z"
   },
   {
    "duration": 8,
    "start_time": "2024-08-02T15:12:12.817Z"
   },
   {
    "duration": 7,
    "start_time": "2024-08-02T15:12:12.830Z"
   },
   {
    "duration": 10,
    "start_time": "2024-08-02T15:12:12.840Z"
   },
   {
    "duration": 72,
    "start_time": "2024-08-02T15:12:12.853Z"
   },
   {
    "duration": 11,
    "start_time": "2024-08-02T15:12:12.928Z"
   },
   {
    "duration": 12,
    "start_time": "2024-08-02T15:12:12.942Z"
   },
   {
    "duration": 12,
    "start_time": "2024-08-02T15:12:12.957Z"
   },
   {
    "duration": 10,
    "start_time": "2024-08-02T15:12:13.007Z"
   },
   {
    "duration": 35,
    "start_time": "2024-08-02T15:12:13.020Z"
   },
   {
    "duration": 7,
    "start_time": "2024-08-02T15:12:13.057Z"
   },
   {
    "duration": 200,
    "start_time": "2024-08-02T15:12:13.107Z"
   },
   {
    "duration": 10,
    "start_time": "2024-08-02T15:12:13.311Z"
   },
   {
    "duration": 84,
    "start_time": "2024-08-02T15:12:13.324Z"
   },
   {
    "duration": 14,
    "start_time": "2024-08-02T15:12:13.411Z"
   },
   {
    "duration": 845,
    "start_time": "2024-08-02T15:12:13.428Z"
   },
   {
    "duration": 788,
    "start_time": "2024-08-02T15:12:14.276Z"
   },
   {
    "duration": 2337,
    "start_time": "2024-08-02T15:12:34.401Z"
   },
   {
    "duration": 2345,
    "start_time": "2024-08-02T15:12:43.590Z"
   },
   {
    "duration": 29735,
    "start_time": "2024-08-02T15:19:13.843Z"
   },
   {
    "duration": 28450,
    "start_time": "2024-08-02T15:20:03.495Z"
   },
   {
    "duration": 5,
    "start_time": "2024-08-02T15:42:34.505Z"
   },
   {
    "duration": 25,
    "start_time": "2024-08-02T15:42:34.514Z"
   },
   {
    "duration": 17,
    "start_time": "2024-08-02T15:42:34.542Z"
   },
   {
    "duration": 45,
    "start_time": "2024-08-02T15:42:34.562Z"
   },
   {
    "duration": 7,
    "start_time": "2024-08-02T15:42:34.612Z"
   },
   {
    "duration": 10,
    "start_time": "2024-08-02T15:42:34.622Z"
   },
   {
    "duration": 73,
    "start_time": "2024-08-02T15:42:34.635Z"
   },
   {
    "duration": 14,
    "start_time": "2024-08-02T15:42:34.715Z"
   },
   {
    "duration": 12,
    "start_time": "2024-08-02T15:42:34.733Z"
   },
   {
    "duration": 12,
    "start_time": "2024-08-02T15:42:34.748Z"
   },
   {
    "duration": 44,
    "start_time": "2024-08-02T15:42:34.765Z"
   },
   {
    "duration": 38,
    "start_time": "2024-08-02T15:42:34.812Z"
   },
   {
    "duration": 6,
    "start_time": "2024-08-02T15:42:34.853Z"
   },
   {
    "duration": 28443,
    "start_time": "2024-08-02T15:42:34.863Z"
   },
   {
    "duration": 22,
    "start_time": "2024-08-02T15:43:03.310Z"
   },
   {
    "duration": 9,
    "start_time": "2024-08-02T15:43:03.335Z"
   },
   {
    "duration": 13,
    "start_time": "2024-08-02T15:43:03.347Z"
   },
   {
    "duration": 28376,
    "start_time": "2024-08-02T15:50:43.524Z"
   },
   {
    "duration": 91503,
    "start_time": "2024-08-02T15:58:42.368Z"
   },
   {
    "duration": 21875,
    "start_time": "2024-08-02T16:02:15.562Z"
   },
   {
    "duration": 22062,
    "start_time": "2024-08-02T16:08:25.644Z"
   },
   {
    "duration": 6,
    "start_time": "2024-08-02T16:11:50.286Z"
   },
   {
    "duration": 29,
    "start_time": "2024-08-02T16:11:50.307Z"
   },
   {
    "duration": 22,
    "start_time": "2024-08-02T16:11:50.339Z"
   },
   {
    "duration": 41,
    "start_time": "2024-08-02T16:11:50.366Z"
   },
   {
    "duration": 9,
    "start_time": "2024-08-02T16:11:50.409Z"
   },
   {
    "duration": 13,
    "start_time": "2024-08-02T16:11:50.422Z"
   },
   {
    "duration": 69,
    "start_time": "2024-08-02T16:11:50.438Z"
   },
   {
    "duration": 12,
    "start_time": "2024-08-02T16:11:50.510Z"
   },
   {
    "duration": 13,
    "start_time": "2024-08-02T16:11:50.525Z"
   },
   {
    "duration": 12,
    "start_time": "2024-08-02T16:11:50.543Z"
   },
   {
    "duration": 52,
    "start_time": "2024-08-02T16:11:50.558Z"
   },
   {
    "duration": 37,
    "start_time": "2024-08-02T16:11:50.614Z"
   },
   {
    "duration": 56,
    "start_time": "2024-08-02T16:11:50.654Z"
   },
   {
    "duration": 28444,
    "start_time": "2024-08-02T16:11:50.714Z"
   },
   {
    "duration": 22,
    "start_time": "2024-08-02T16:12:19.160Z"
   },
   {
    "duration": 23,
    "start_time": "2024-08-02T16:12:19.188Z"
   },
   {
    "duration": 13,
    "start_time": "2024-08-02T16:12:19.213Z"
   },
   {
    "duration": 91615,
    "start_time": "2024-08-02T16:12:19.229Z"
   },
   {
    "duration": 21779,
    "start_time": "2024-08-02T16:13:50.847Z"
   },
   {
    "duration": 147,
    "start_time": "2024-08-02T16:25:51.098Z"
   },
   {
    "duration": 65,
    "start_time": "2024-08-02T16:27:08.594Z"
   },
   {
    "duration": 357,
    "start_time": "2024-08-02T16:31:07.591Z"
   },
   {
    "duration": 28378,
    "start_time": "2024-08-02T16:32:11.813Z"
   },
   {
    "duration": 88,
    "start_time": "2024-08-02T16:36:57.479Z"
   },
   {
    "duration": 68,
    "start_time": "2024-08-02T16:37:09.522Z"
   },
   {
    "duration": 21881,
    "start_time": "2024-08-02T16:37:16.829Z"
   },
   {
    "duration": 97,
    "start_time": "2024-08-02T16:38:11.989Z"
   },
   {
    "duration": 0,
    "start_time": "2024-08-02T16:40:18.370Z"
   },
   {
    "duration": 66,
    "start_time": "2024-08-02T16:40:44.844Z"
   },
   {
    "duration": 64,
    "start_time": "2024-08-02T16:41:34.846Z"
   },
   {
    "duration": 71,
    "start_time": "2024-08-02T16:52:24.414Z"
   },
   {
    "duration": 66,
    "start_time": "2024-08-02T16:52:34.854Z"
   },
   {
    "duration": 1221,
    "start_time": "2024-08-02T17:48:10.736Z"
   },
   {
    "duration": 25,
    "start_time": "2024-08-02T17:48:11.962Z"
   },
   {
    "duration": 27,
    "start_time": "2024-08-02T17:48:11.989Z"
   },
   {
    "duration": 8,
    "start_time": "2024-08-02T17:48:12.019Z"
   },
   {
    "duration": 8,
    "start_time": "2024-08-02T17:48:12.032Z"
   },
   {
    "duration": 11,
    "start_time": "2024-08-02T17:48:12.042Z"
   },
   {
    "duration": 79,
    "start_time": "2024-08-02T17:48:12.056Z"
   },
   {
    "duration": 13,
    "start_time": "2024-08-02T17:48:12.138Z"
   },
   {
    "duration": 12,
    "start_time": "2024-08-02T17:48:12.154Z"
   },
   {
    "duration": 43,
    "start_time": "2024-08-02T17:48:12.170Z"
   },
   {
    "duration": 10,
    "start_time": "2024-08-02T17:48:12.216Z"
   },
   {
    "duration": 36,
    "start_time": "2024-08-02T17:48:12.229Z"
   },
   {
    "duration": 39,
    "start_time": "2024-08-02T17:48:12.268Z"
   },
   {
    "duration": 28453,
    "start_time": "2024-08-02T17:48:12.314Z"
   },
   {
    "duration": 22,
    "start_time": "2024-08-02T17:48:40.770Z"
   },
   {
    "duration": 8,
    "start_time": "2024-08-02T17:48:40.807Z"
   },
   {
    "duration": 14,
    "start_time": "2024-08-02T17:48:40.817Z"
   },
   {
    "duration": 990,
    "start_time": "2024-08-02T17:48:40.833Z"
   },
   {
    "duration": 0,
    "start_time": "2024-08-02T17:48:41.826Z"
   },
   {
    "duration": 0,
    "start_time": "2024-08-02T17:48:41.827Z"
   },
   {
    "duration": 0,
    "start_time": "2024-08-02T17:48:41.830Z"
   },
   {
    "duration": 0,
    "start_time": "2024-08-02T17:48:41.833Z"
   },
   {
    "duration": 1243,
    "start_time": "2024-08-02T17:56:26.116Z"
   },
   {
    "duration": 25,
    "start_time": "2024-08-02T17:56:27.363Z"
   },
   {
    "duration": 27,
    "start_time": "2024-08-02T17:56:27.391Z"
   },
   {
    "duration": 9,
    "start_time": "2024-08-02T17:56:27.422Z"
   },
   {
    "duration": 8,
    "start_time": "2024-08-02T17:56:27.434Z"
   },
   {
    "duration": 12,
    "start_time": "2024-08-02T17:56:27.445Z"
   },
   {
    "duration": 45,
    "start_time": "2024-08-02T17:56:27.505Z"
   },
   {
    "duration": 14,
    "start_time": "2024-08-02T17:56:27.553Z"
   },
   {
    "duration": 41,
    "start_time": "2024-08-02T17:56:27.570Z"
   },
   {
    "duration": 10,
    "start_time": "2024-08-02T17:56:27.617Z"
   },
   {
    "duration": 9,
    "start_time": "2024-08-02T17:56:27.630Z"
   },
   {
    "duration": 73,
    "start_time": "2024-08-02T17:56:27.643Z"
   },
   {
    "duration": 9,
    "start_time": "2024-08-02T17:56:27.719Z"
   },
   {
    "duration": 28358,
    "start_time": "2024-08-02T17:56:27.731Z"
   },
   {
    "duration": 30,
    "start_time": "2024-08-02T17:56:56.095Z"
   },
   {
    "duration": 8,
    "start_time": "2024-08-02T17:56:56.130Z"
   },
   {
    "duration": 12,
    "start_time": "2024-08-02T17:56:56.141Z"
   },
   {
    "duration": 49,
    "start_time": "2024-08-02T17:56:56.159Z"
   },
   {
    "duration": 0,
    "start_time": "2024-08-02T17:56:56.211Z"
   },
   {
    "duration": 1,
    "start_time": "2024-08-02T17:56:56.213Z"
   },
   {
    "duration": 1,
    "start_time": "2024-08-02T17:56:56.215Z"
   },
   {
    "duration": 0,
    "start_time": "2024-08-02T17:56:56.218Z"
   },
   {
    "duration": 439,
    "start_time": "2024-08-02T18:03:20.897Z"
   },
   {
    "duration": 1259,
    "start_time": "2024-08-02T18:08:56.206Z"
   },
   {
    "duration": 26,
    "start_time": "2024-08-02T18:08:57.470Z"
   },
   {
    "duration": 22,
    "start_time": "2024-08-02T18:08:57.498Z"
   },
   {
    "duration": 9,
    "start_time": "2024-08-02T18:08:57.524Z"
   },
   {
    "duration": 8,
    "start_time": "2024-08-02T18:08:57.536Z"
   },
   {
    "duration": 11,
    "start_time": "2024-08-02T18:08:57.549Z"
   },
   {
    "duration": 78,
    "start_time": "2024-08-02T18:08:57.563Z"
   },
   {
    "duration": 12,
    "start_time": "2024-08-02T18:08:57.646Z"
   },
   {
    "duration": 45,
    "start_time": "2024-08-02T18:08:57.661Z"
   },
   {
    "duration": 11,
    "start_time": "2024-08-02T18:08:57.713Z"
   },
   {
    "duration": 9,
    "start_time": "2024-08-02T18:08:57.728Z"
   },
   {
    "duration": 70,
    "start_time": "2024-08-02T18:08:57.740Z"
   },
   {
    "duration": 9,
    "start_time": "2024-08-02T18:08:57.813Z"
   },
   {
    "duration": 28268,
    "start_time": "2024-08-02T18:08:57.825Z"
   },
   {
    "duration": 29,
    "start_time": "2024-08-02T18:09:26.096Z"
   },
   {
    "duration": 12,
    "start_time": "2024-08-02T18:09:26.128Z"
   },
   {
    "duration": 12,
    "start_time": "2024-08-02T18:09:26.143Z"
   },
   {
    "duration": 97957,
    "start_time": "2024-08-02T18:09:26.158Z"
   },
   {
    "duration": 23251,
    "start_time": "2024-08-02T18:11:04.119Z"
   },
   {
    "duration": 73,
    "start_time": "2024-08-02T18:11:27.373Z"
   },
   {
    "duration": 176,
    "start_time": "2024-08-02T18:11:27.449Z"
   },
   {
    "duration": 179,
    "start_time": "2024-08-02T18:11:27.628Z"
   },
   {
    "duration": 278910,
    "start_time": "2024-08-02T18:13:11.970Z"
   },
   {
    "duration": 64729,
    "start_time": "2024-08-02T18:17:50.883Z"
   },
   {
    "duration": 50418,
    "start_time": "2024-08-02T18:32:07.853Z"
   },
   {
    "duration": 215664,
    "start_time": "2024-08-02T18:32:58.274Z"
   },
   {
    "duration": 225082,
    "start_time": "2024-08-02T18:40:47.606Z"
   },
   {
    "duration": 236755,
    "start_time": "2024-08-02T19:04:47.501Z"
   },
   {
    "duration": 56133,
    "start_time": "2024-08-02T19:09:24.988Z"
   },
   {
    "duration": 1240,
    "start_time": "2024-08-02T19:34:33.920Z"
   },
   {
    "duration": 26,
    "start_time": "2024-08-02T19:34:35.163Z"
   },
   {
    "duration": 30,
    "start_time": "2024-08-02T19:34:35.192Z"
   },
   {
    "duration": 9,
    "start_time": "2024-08-02T19:34:35.225Z"
   },
   {
    "duration": 7,
    "start_time": "2024-08-02T19:34:35.239Z"
   },
   {
    "duration": 57,
    "start_time": "2024-08-02T19:34:35.249Z"
   },
   {
    "duration": 37,
    "start_time": "2024-08-02T19:34:35.308Z"
   },
   {
    "duration": 12,
    "start_time": "2024-08-02T19:34:35.348Z"
   },
   {
    "duration": 11,
    "start_time": "2024-08-02T19:34:35.363Z"
   },
   {
    "duration": 11,
    "start_time": "2024-08-02T19:34:35.407Z"
   },
   {
    "duration": 10,
    "start_time": "2024-08-02T19:34:35.421Z"
   },
   {
    "duration": 36,
    "start_time": "2024-08-02T19:34:35.434Z"
   },
   {
    "duration": 8,
    "start_time": "2024-08-02T19:34:35.506Z"
   },
   {
    "duration": 28186,
    "start_time": "2024-08-02T19:34:35.520Z"
   },
   {
    "duration": 23,
    "start_time": "2024-08-02T19:35:03.709Z"
   },
   {
    "duration": 8,
    "start_time": "2024-08-02T19:35:03.734Z"
   },
   {
    "duration": 14,
    "start_time": "2024-08-02T19:35:03.745Z"
   },
   {
    "duration": 1253,
    "start_time": "2024-08-02T19:44:17.409Z"
   },
   {
    "duration": 25,
    "start_time": "2024-08-02T19:44:18.667Z"
   },
   {
    "duration": 22,
    "start_time": "2024-08-02T19:44:18.707Z"
   },
   {
    "duration": 9,
    "start_time": "2024-08-02T19:44:18.731Z"
   },
   {
    "duration": 7,
    "start_time": "2024-08-02T19:44:18.744Z"
   },
   {
    "duration": 11,
    "start_time": "2024-08-02T19:44:18.754Z"
   },
   {
    "duration": 37,
    "start_time": "2024-08-02T19:44:18.806Z"
   },
   {
    "duration": 12,
    "start_time": "2024-08-02T19:44:18.846Z"
   },
   {
    "duration": 11,
    "start_time": "2024-08-02T19:44:18.861Z"
   },
   {
    "duration": 40,
    "start_time": "2024-08-02T19:44:18.875Z"
   },
   {
    "duration": 11,
    "start_time": "2024-08-02T19:44:18.918Z"
   },
   {
    "duration": 37,
    "start_time": "2024-08-02T19:44:18.932Z"
   },
   {
    "duration": 45,
    "start_time": "2024-08-02T19:44:18.972Z"
   },
   {
    "duration": 28196,
    "start_time": "2024-08-02T19:44:19.023Z"
   },
   {
    "duration": 22,
    "start_time": "2024-08-02T19:44:47.222Z"
   },
   {
    "duration": 8,
    "start_time": "2024-08-02T19:44:47.246Z"
   },
   {
    "duration": 12,
    "start_time": "2024-08-02T19:44:47.256Z"
   },
   {
    "duration": 225535,
    "start_time": "2024-08-02T19:44:47.271Z"
   },
   {
    "duration": 49362,
    "start_time": "2024-08-02T19:48:32.810Z"
   },
   {
    "duration": 225772,
    "start_time": "2024-08-02T19:49:22.175Z"
   },
   {
    "duration": 173,
    "start_time": "2024-08-02T19:53:07.950Z"
   },
   {
    "duration": 181,
    "start_time": "2024-08-02T19:53:08.125Z"
   },
   {
    "duration": 150505,
    "start_time": "2024-08-02T19:53:08.315Z"
   },
   {
    "duration": 33332,
    "start_time": "2024-08-02T19:55:38.823Z"
   },
   {
    "duration": 151575,
    "start_time": "2024-08-02T20:00:48.606Z"
   },
   {
    "duration": 33208,
    "start_time": "2024-08-02T20:03:20.185Z"
   },
   {
    "duration": 154149,
    "start_time": "2024-08-02T20:04:58.965Z"
   },
   {
    "duration": 1237,
    "start_time": "2024-08-02T20:45:43.007Z"
   },
   {
    "duration": 41,
    "start_time": "2024-08-02T20:45:44.248Z"
   },
   {
    "duration": 19,
    "start_time": "2024-08-02T20:45:44.292Z"
   },
   {
    "duration": 14,
    "start_time": "2024-08-02T20:45:44.314Z"
   },
   {
    "duration": 7,
    "start_time": "2024-08-02T20:45:44.334Z"
   },
   {
    "duration": 13,
    "start_time": "2024-08-02T20:45:44.344Z"
   },
   {
    "duration": 78,
    "start_time": "2024-08-02T20:45:44.359Z"
   },
   {
    "duration": 12,
    "start_time": "2024-08-02T20:45:44.440Z"
   },
   {
    "duration": 13,
    "start_time": "2024-08-02T20:45:44.455Z"
   },
   {
    "duration": 11,
    "start_time": "2024-08-02T20:45:44.471Z"
   },
   {
    "duration": 48,
    "start_time": "2024-08-02T20:45:44.484Z"
   },
   {
    "duration": 37,
    "start_time": "2024-08-02T20:45:44.535Z"
   },
   {
    "duration": 9,
    "start_time": "2024-08-02T20:45:44.575Z"
   },
   {
    "duration": 28694,
    "start_time": "2024-08-02T20:45:44.589Z"
   },
   {
    "duration": 22,
    "start_time": "2024-08-02T20:46:13.285Z"
   },
   {
    "duration": 7,
    "start_time": "2024-08-02T20:46:13.323Z"
   },
   {
    "duration": 12,
    "start_time": "2024-08-02T20:46:13.332Z"
   },
   {
    "duration": 152411,
    "start_time": "2024-08-02T20:46:13.347Z"
   },
   {
    "duration": 34412,
    "start_time": "2024-08-02T20:48:45.764Z"
   },
   {
    "duration": 247,
    "start_time": "2024-08-02T20:53:02.676Z"
   },
   {
    "duration": 97,
    "start_time": "2024-08-02T20:53:02.926Z"
   },
   {
    "duration": 228259,
    "start_time": "2024-08-02T20:53:03.028Z"
   },
   {
    "duration": 276,
    "start_time": "2024-08-02T21:20:07.739Z"
   },
   {
    "duration": 145,
    "start_time": "2024-08-02T21:21:07.334Z"
   },
   {
    "duration": 156,
    "start_time": "2024-08-02T21:22:16.632Z"
   },
   {
    "duration": 141,
    "start_time": "2024-08-02T21:22:28.617Z"
   },
   {
    "duration": 96,
    "start_time": "2024-08-02T21:23:34.413Z"
   },
   {
    "duration": 97,
    "start_time": "2024-08-02T23:28:48.507Z"
   },
   {
    "duration": 105,
    "start_time": "2024-08-02T23:30:34.181Z"
   }
  ],
  "kernelspec": {
   "display_name": "Python 3 (ipykernel)",
   "language": "python",
   "name": "python3"
  },
  "language_info": {
   "codemirror_mode": {
    "name": "ipython",
    "version": 3
   },
   "file_extension": ".py",
   "mimetype": "text/x-python",
   "name": "python",
   "nbconvert_exporter": "python",
   "pygments_lexer": "ipython3",
   "version": "3.9.19"
  },
  "toc": {
   "base_numbering": 1,
   "nav_menu": {},
   "number_sections": true,
   "sideBar": true,
   "skip_h1_title": true,
   "title_cell": "Table of Contents",
   "title_sidebar": "Contents",
   "toc_cell": false,
   "toc_position": {},
   "toc_section_display": true,
   "toc_window_display": false
  }
 },
 "nbformat": 4,
 "nbformat_minor": 2
}
