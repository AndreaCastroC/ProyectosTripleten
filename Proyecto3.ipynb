{
 "cells": [
  {
   "cell_type": "markdown",
   "id": "41988cf6",
   "metadata": {},
   "source": [
    "¡Hola!\n",
    "\n",
    "Mi nombre es Tonatiuh Cruz. Me complace revisar tu proyecto hoy.\n",
    "\n",
    "Al identificar cualquier error inicialmente, simplemente los destacaré. Te animo a localizar y abordar los problemas de forma independiente como parte de tu preparación para un rol como data-scientist. En un entorno profesional, tu líder de equipo seguiría un enfoque similar. Si encuentras la tarea desafiante, proporcionaré una pista más específica en la próxima iteración.\n",
    "\n",
    "Encontrarás mis comentarios a continuación - **por favor no los muevas, modifiques o elimines**.\n",
    "\n",
    "Puedes encontrar mis comentarios en cajas verdes, amarillas o rojas como esta:\n",
    "\n",
    "<div class=\"alert alert-block alert-success\">\n",
    "<b>Comentario del revisor</b> <a class=\"tocSkip\"></a>\n",
    "\n",
    "Éxito. Todo está hecho correctamente.\n",
    "</div>\n",
    "\n",
    "<div class=\"alert alert-block alert-warning\">\n",
    "<b>Comentario del revisor</b> <a class=\"tocSkip\"></a>\n",
    "\n",
    "Observaciones. Algunas recomendaciones.\n",
    "</div>\n",
    "\n",
    "<div class=\"alert alert-block alert-danger\">\n",
    "<b>Comentario del revisor</b> <a class=\"tocSkip\"></a>\n",
    "\n",
    "Necesita corrección. El bloque requiere algunas correcciones. El trabajo no puede ser aceptado con comentarios en rojo.\n",
    "</div>\n",
    "\n",
    "Puedes responderme utilizando esto:\n",
    "\n",
    "<div class=\"alert alert-block alert-info\">\n",
    "<b>Respuesta del estudiante.</b> <a class=\"tocSkip\"></a>\n",
    "</div>"
   ]
  },
  {
   "cell_type": "markdown",
   "id": "3Xg_RQfnafXz",
   "metadata": {
    "id": "3Xg_RQfnafXz"
   },
   "source": [
    "# ¡Llena ese carrito!"
   ]
  },
  {
   "cell_type": "markdown",
   "id": "mhIvmmkW414q",
   "metadata": {
    "id": "mhIvmmkW414q"
   },
   "source": [
    "# Introducción\n",
    "\n",
    "Instacart es una plataforma de entregas de comestibles donde la clientela puede registrar un pedido y hacer que se lo entreguen, similar a Uber Eats y Door Dash.\n",
    "El conjunto de datos que te hemos proporcionado tiene modificaciones del original. Redujimos el tamaño del conjunto para que tus cálculos se hicieran más rápido e introdujimos valores ausentes y duplicados. Tuvimos cuidado de conservar las distribuciones de los datos originales cuando hicimos los cambios.\n",
    "\n",
    "Debes completar tres pasos. Para cada uno de ellos, escribe una breve introducción que refleje con claridad cómo pretendes resolver cada paso, y escribe párrafos explicatorios que justifiquen tus decisiones al tiempo que avanzas en tu solución.  También escribe una conclusión que resuma tus hallazgos y elecciones.\n"
   ]
  },
  {
   "cell_type": "markdown",
   "id": "3MbyzpOQZ5Or",
   "metadata": {
    "id": "3MbyzpOQZ5Or"
   },
   "source": [
    "## Diccionario de datos\n",
    "\n",
    "Hay cinco tablas en el conjunto de datos, y tendrás que usarlas todas para hacer el preprocesamiento de datos y el análisis exploratorio de datos. A continuación se muestra un diccionario de datos que enumera las columnas de cada tabla y describe los datos que contienen.\n",
    "\n",
    "- `instacart_orders.csv`: cada fila corresponde a un pedido en la aplicación Instacart.\n",
    "    - `'order_id'`: número de ID que identifica de manera única cada pedido.\n",
    "    - `'user_id'`: número de ID que identifica de manera única la cuenta de cada cliente.\n",
    "    - `'order_number'`: el número de veces que este cliente ha hecho un pedido.\n",
    "    - `'order_dow'`: día de la semana en que se hizo el pedido (0 si es domingo).\n",
    "    - `'order_hour_of_day'`: hora del día en que se hizo el pedido.\n",
    "    - `'days_since_prior_order'`: número de días transcurridos desde que este cliente hizo su pedido anterior.\n",
    "- `products.csv`: cada fila corresponde a un producto único que pueden comprar los clientes.\n",
    "    - `'product_id'`: número ID que identifica de manera única cada producto.\n",
    "    - `'product_name'`: nombre del producto.\n",
    "    - `'aisle_id'`: número ID que identifica de manera única cada categoría de pasillo de víveres.\n",
    "    - `'department_id'`: número ID que identifica de manera única cada departamento de víveres.\n",
    "- `order_products.csv`: cada fila corresponde a un artículo pedido en un pedido.\n",
    "    - `'order_id'`: número de ID que identifica de manera única cada pedido.\n",
    "    - `'product_id'`: número ID que identifica de manera única cada producto.\n",
    "    - `'add_to_cart_order'`: el orden secuencial en el que se añadió cada artículo en el carrito.\n",
    "    - `'reordered'`: 0 si el cliente nunca ha pedido este producto antes, 1 si lo ha pedido.\n",
    "- `aisles.csv`\n",
    "    - `'aisle_id'`: número ID que identifica de manera única cada categoría de pasillo de víveres.\n",
    "    - `'aisle'`: nombre del pasillo.\n",
    "- `departments.csv`\n",
    "    - `'department_id'`: número ID que identifica de manera única cada departamento de víveres.\n",
    "    - `'department'`: nombre del departamento."
   ]
  },
  {
   "cell_type": "markdown",
   "id": "n3Ha_cNSZ8lK",
   "metadata": {
    "id": "n3Ha_cNSZ8lK"
   },
   "source": [
    "# Paso 1. Descripción de los datos\n",
    "\n",
    "Lee los archivos de datos (`/datasets/instacart_orders.csv`, `/datasets/products.csv`, `/datasets/aisles.csv`, `/datasets/departments.csv` y `/datasets/order_products.csv`) con `pd.read_csv()` usando los parámetros adecuados para leer los datos correctamente. Verifica la información para cada DataFrame creado.\n"
   ]
  },
  {
   "cell_type": "markdown",
   "id": "OmlQPLlyaAfR",
   "metadata": {
    "id": "OmlQPLlyaAfR"
   },
   "source": [
    "## Plan de solución\n",
    "\n",
    "Escribe aquí tu plan de solución para el Paso 1. Descripción de los datos."
   ]
  },
  {
   "cell_type": "code",
   "execution_count": 92,
   "id": "fbf1adab",
   "metadata": {
    "id": "fbf1adab"
   },
   "outputs": [],
   "source": [
    "# importar librerías\n",
    "import pandas as pd "
   ]
  },
  {
   "cell_type": "markdown",
   "id": "3793ea4e",
   "metadata": {},
   "source": [
    "<div class=\"alert alert-block alert-warning\">\n",
    "<b>Comentario revisor</b> <a class=\"tocSkip\"></a>\n",
    "\n",
    "\n",
    "Recomiendo importar y cargar la librería de matplolib.pyplot para el desarrollo de las diferentes gráficas que te van a ayudar al análisis de los datos. \n",
    "</div>"
   ]
  },
  {
   "cell_type": "code",
   "execution_count": 93,
   "id": "ad36396d",
   "metadata": {
    "id": "ad36396d"
   },
   "outputs": [],
   "source": [
    "# leer conjuntos de datos en los DataFrames\n",
    "orders = pd.read_csv(\"/datasets/instacart_orders.csv\",sep=\";\")\n",
    "products = pd.read_csv(\"/datasets/products.csv\",sep=\";\")\n",
    "order_products = pd.read_csv(\"/datasets/order_products.csv\",sep=\";\")\n",
    "aisles = pd.read_csv(\"/datasets/aisles.csv\",sep=\";\")\n",
    "departments = pd.read_csv(\"/datasets/departments.csv\",sep=\";\")"
   ]
  },
  {
   "cell_type": "code",
   "execution_count": 94,
   "id": "ad6a1efa",
   "metadata": {
    "id": "ad6a1efa"
   },
   "outputs": [
    {
     "name": "stdout",
     "output_type": "stream",
     "text": [
      "<class 'pandas.core.frame.DataFrame'>\n",
      "RangeIndex: 478967 entries, 0 to 478966\n",
      "Data columns (total 6 columns):\n",
      " #   Column                  Non-Null Count   Dtype  \n",
      "---  ------                  --------------   -----  \n",
      " 0   order_id                478967 non-null  int64  \n",
      " 1   user_id                 478967 non-null  int64  \n",
      " 2   order_number            478967 non-null  int64  \n",
      " 3   order_dow               478967 non-null  int64  \n",
      " 4   order_hour_of_day       478967 non-null  int64  \n",
      " 5   days_since_prior_order  450148 non-null  float64\n",
      "dtypes: float64(1), int64(5)\n",
      "memory usage: 21.9 MB\n"
     ]
    }
   ],
   "source": [
    "# mostrar información del DataFrame\n",
    "orders.info()"
   ]
  },
  {
   "cell_type": "code",
   "execution_count": 95,
   "id": "5130e05e",
   "metadata": {
    "id": "5130e05e"
   },
   "outputs": [
    {
     "name": "stdout",
     "output_type": "stream",
     "text": [
      "<class 'pandas.core.frame.DataFrame'>\n",
      "RangeIndex: 49694 entries, 0 to 49693\n",
      "Data columns (total 4 columns):\n",
      " #   Column         Non-Null Count  Dtype \n",
      "---  ------         --------------  ----- \n",
      " 0   product_id     49694 non-null  int64 \n",
      " 1   product_name   48436 non-null  object\n",
      " 2   aisle_id       49694 non-null  int64 \n",
      " 3   department_id  49694 non-null  int64 \n",
      "dtypes: int64(3), object(1)\n",
      "memory usage: 1.5+ MB\n"
     ]
    }
   ],
   "source": [
    "# mostrar información del DataFrame\n",
    "products.info()"
   ]
  },
  {
   "cell_type": "code",
   "execution_count": 96,
   "id": "d8370c05",
   "metadata": {
    "id": "d8370c05"
   },
   "outputs": [
    {
     "name": "stdout",
     "output_type": "stream",
     "text": [
      "<class 'pandas.core.frame.DataFrame'>\n",
      "RangeIndex: 4545007 entries, 0 to 4545006\n",
      "Data columns (total 4 columns):\n",
      " #   Column             Non-Null Count    Dtype  \n",
      "---  ------             --------------    -----  \n",
      " 0   order_id           4545007 non-null  int64  \n",
      " 1   product_id         4545007 non-null  int64  \n",
      " 2   add_to_cart_order  4544171 non-null  float64\n",
      " 3   reordered          4545007 non-null  int64  \n",
      "dtypes: float64(1), int64(3)\n",
      "memory usage: 138.7 MB\n"
     ]
    }
   ],
   "source": [
    "# mostrar información del DataFrame\n",
    "order_products.info(show_counts=True)"
   ]
  },
  {
   "cell_type": "code",
   "execution_count": 97,
   "id": "59e2090f",
   "metadata": {
    "id": "59e2090f"
   },
   "outputs": [
    {
     "name": "stdout",
     "output_type": "stream",
     "text": [
      "<class 'pandas.core.frame.DataFrame'>\n",
      "RangeIndex: 134 entries, 0 to 133\n",
      "Data columns (total 2 columns):\n",
      " #   Column    Non-Null Count  Dtype \n",
      "---  ------    --------------  ----- \n",
      " 0   aisle_id  134 non-null    int64 \n",
      " 1   aisle     134 non-null    object\n",
      "dtypes: int64(1), object(1)\n",
      "memory usage: 2.2+ KB\n"
     ]
    }
   ],
   "source": [
    "# mostrar información del DataFrame\n",
    "aisles.info()"
   ]
  },
  {
   "cell_type": "code",
   "execution_count": 98,
   "id": "6fc81694",
   "metadata": {
    "id": "6fc81694"
   },
   "outputs": [
    {
     "name": "stdout",
     "output_type": "stream",
     "text": [
      "<class 'pandas.core.frame.DataFrame'>\n",
      "RangeIndex: 21 entries, 0 to 20\n",
      "Data columns (total 2 columns):\n",
      " #   Column         Non-Null Count  Dtype \n",
      "---  ------         --------------  ----- \n",
      " 0   department_id  21 non-null     int64 \n",
      " 1   department     21 non-null     object\n",
      "dtypes: int64(1), object(1)\n",
      "memory usage: 464.0+ bytes\n"
     ]
    }
   ],
   "source": [
    "# mostrar información del DataFrame\n",
    "departments.info()"
   ]
  },
  {
   "cell_type": "markdown",
   "id": "t75BD19oaR5f",
   "metadata": {
    "id": "t75BD19oaR5f"
   },
   "source": [
    "## Conclusiones\n",
    "\n",
    "Como conclusiones parciales de esta primera etapa, podemos observar lo siguiente:\n",
    "\n",
    "1. En la data **orders** la variable *days_since_prior_order* tiene valores perdidos. Adicionalmente, todas las variables están categorizadas como numéricas, la mayoría como enteros (int), a excepción de *days_since_prior_order* que está almacenada como una variable numérica continua (float); sin embargo, sería mejor que las variables que hacen referencia a los ID (*order_id* y *user_id*) sean trabajadas como categóricas (object). \n",
    "2. En la data **products** la variable *product_name* tiene valores perdidos. Además, la mayoría de variables están categorizadas como numéricas, a excepción de la variable *product_name* que está clasificada como una variable categórica. Empero, sería más adecuado que las variables que hacen referencia a los ID (*product_id*, *aisle_id* y *department_id*) sean trabajadas como categóricas (object). \n",
    "3. En la data **order_products** la variable *add_to_cart_order* tiene valores perdidos. Adicionalmente, todas las variables están categorizadas como numéricas, la mayoría como enteros (int), a excepción de *add_to_cart_order* que está almacenada como una variable numérica continua (float); sin embargo, sería mejor que las variables que hacen referencia a los ID (*order_id* y *product_id*) sean trabajadas como categóricas (object). \n",
    "4. En la data **aisles** sería más adecuado reconfigurar la variable que hace referencia a un número de identificación (*aisle_id*), para almacenarla como una variable categórica (object).\n",
    "5. En la data **departments** sería más adecuado reconfigurar la variable que hace referencia a un código de identificación (*department_id*), para almacenarla como una variable categórica (object).\n",
    "6. Si bien no todas las datas compartes una misma variable entre las cinco, podemos observar que si es posible unir todas para tener solo una gran data. En efecto, **instacart_orders** y **order_products** comparten la variable *order_id*. Además **products** y **order_products** comparten la variable *product_id*. Sumado a lo anterior, la data **products** comparte variables con las datas **aisles** (*aisle_id*) y **departments** (*department_id*).\n",
    "7. Debemos analizar un poco más para observar duplicados."
   ]
  },
  {
   "cell_type": "markdown",
   "id": "8RJHqxVmaVsF",
   "metadata": {
    "id": "8RJHqxVmaVsF"
   },
   "source": [
    "# Paso 2. Preprocesamiento de los datos\n",
    "\n",
    "Preprocesa los datos de la siguiente manera:\n",
    "\n",
    "- Verifica y corrige los tipos de datos (por ejemplo, asegúrate de que las columnas de ID sean números enteros).\n",
    "- Identifica y completa los valores ausentes.\n",
    "- Identifica y elimina los valores duplicados.\n",
    "\n",
    "Asegúrate de explicar qué tipos de valores ausentes y duplicados encontraste, cómo los completaste o eliminaste y por qué usaste esos métodos. ¿Por qué crees que estos valores ausentes y duplicados pueden haber estado presentes en el conjunto de datos?"
   ]
  },
  {
   "cell_type": "markdown",
   "id": "p6poABZQaZYb",
   "metadata": {
    "id": "p6poABZQaZYb"
   },
   "source": [
    "## Plan de solución\n",
    "\n",
    "Primero debemos ver un poco de información de cada data con *head* para ver si hay decimales en las columnas de ID. Sumado a lo anterior, es posible observar que algunas variables tienen valores perdidos, ante lo cual tendriamos que omitirlos o completarlos, evaluando cada caso según corresponda. Finalmente tendríamos que identificar si hay duplicados y eliminarlos en caso los encontremos."
   ]
  },
  {
   "cell_type": "markdown",
   "id": "07357848-dc64-4156-9cc3-01ff4365226d",
   "metadata": {
    "id": "07357848-dc64-4156-9cc3-01ff4365226d"
   },
   "source": [
    "## Encuentra y elimina los valores duplicados (y describe cómo tomaste tus decisiones)."
   ]
  },
  {
   "cell_type": "markdown",
   "id": "f179f0a9",
   "metadata": {
    "id": "f179f0a9"
   },
   "source": [
    "### `orders` data frame"
   ]
  },
  {
   "cell_type": "code",
   "execution_count": 1,
   "id": "b99297a5-405a-463d-8535-9adc3da4ad74",
   "metadata": {
    "id": "b99297a5-405a-463d-8535-9adc3da4ad74"
   },
   "outputs": [
    {
     "ename": "NameError",
     "evalue": "name 'data' is not defined",
     "output_type": "error",
     "traceback": [
      "\u001b[0;31m---------------------------------------------------------------------------\u001b[0m",
      "\u001b[0;31mNameError\u001b[0m                                 Traceback (most recent call last)",
      "Cell \u001b[0;32mIn[1], line 2\u001b[0m\n\u001b[1;32m      1\u001b[0m \u001b[38;5;66;03m# Revisa si hay pedidos duplicados\u001b[39;00m\n\u001b[0;32m----> 2\u001b[0m \u001b[43mdata\u001b[49m\u001b[38;5;241m.\u001b[39mduplicated()\u001b[38;5;241m.\u001b[39msum()\n",
      "\u001b[0;31mNameError\u001b[0m: name 'data' is not defined"
     ]
    }
   ],
   "source": [
    "# Revisa si hay pedidos duplicados\n",
    "print(orders[orders.duplicated()])"
   ]
  },
  {
   "cell_type": "markdown",
   "id": "PEkwUX_gvt5A",
   "metadata": {
    "id": "PEkwUX_gvt5A"
   },
   "source": [
    "¿Tienes líneas duplicadas? Si sí, ¿qué tienen en común?\n",
    "\n",
    "- Para poder observar con mayor detalle el comportamiento de los casos duplicados es mejor usar *duplicated*. Realizado ello, es posible observar que todas las órdenes duplicadas ocurrieron el mismo día (miércoles) y a la misma hora (2 am)"
   ]
  },
  {
   "cell_type": "code",
   "execution_count": 100,
   "id": "0d44de5d",
   "metadata": {
    "id": "0d44de5d"
   },
   "outputs": [
    {
     "name": "stdout",
     "output_type": "stream",
     "text": [
      "        order_id  user_id  order_number  order_dow  order_hour_of_day  \\\n",
      "4838     2766110   162084            41          3                  2   \n",
      "5156     2190225   138285            18          3                  2   \n",
      "15506     553049    58599            13          3                  2   \n",
      "18420     382357   120200            19          3                  2   \n",
      "24691     690242    77357             2          3                  2   \n",
      "...          ...      ...           ...        ...                ...   \n",
      "457013   3384021    14881             6          3                  2   \n",
      "458816    910166   164782            18          3                  2   \n",
      "459635   1680532   106435             6          3                  2   \n",
      "468324    222962    54979            59          3                  2   \n",
      "477526   2592344    46860            38          3                  2   \n",
      "\n",
      "        days_since_prior_order  \n",
      "4838                      16.0  \n",
      "5156                      11.0  \n",
      "15506                      7.0  \n",
      "18420                     11.0  \n",
      "24691                      9.0  \n",
      "...                        ...  \n",
      "457013                    30.0  \n",
      "458816                     4.0  \n",
      "459635                    21.0  \n",
      "468324                     3.0  \n",
      "477526                     3.0  \n",
      "\n",
      "[121 rows x 6 columns]\n"
     ]
    }
   ],
   "source": [
    "# Basándote en tus hallazgos,\n",
    "# Verifica todos los pedidos que se hicieron el miércoles a las 2:00 a.m.\n",
    "print(orders[(orders[\"order_dow\"]==3) & (orders[\"order_hour_of_day\"]==2)])"
   ]
  },
  {
   "cell_type": "markdown",
   "id": "vu2OWyoqwOx5",
   "metadata": {
    "id": "vu2OWyoqwOx5"
   },
   "source": [
    "¿Qué sugiere este resultado?\n",
    "- Todavía no es posible observar los resultados con mucho detalle, pero hay que considerar que solo podemos visualizar 10 filas de un total de 121, representando ello aproximadamente al 8.26% de los casos."
   ]
  },
  {
   "cell_type": "code",
   "execution_count": 101,
   "id": "480563c7",
   "metadata": {
    "id": "480563c7"
   },
   "outputs": [
    {
     "name": "stdout",
     "output_type": "stream",
     "text": [
      "        order_id  user_id  order_number  order_dow  order_hour_of_day  \\\n",
      "0        1515936   183418            11          6                 13   \n",
      "1        1690866   163593             5          5                 12   \n",
      "2        1454967    39980             4          5                 19   \n",
      "3        1768857    82516            56          0                 20   \n",
      "4        3007858   196724             2          4                 12   \n",
      "...          ...      ...           ...        ...                ...   \n",
      "478962   3210681     5617             5          1                 14   \n",
      "478963   3270802   112087             2          3                 13   \n",
      "478964    885349    82944            16          2                 11   \n",
      "478965    216274     4391             3          3                  8   \n",
      "478966   2071924     1730            18          1                 14   \n",
      "\n",
      "        days_since_prior_order  \n",
      "0                         30.0  \n",
      "1                          9.0  \n",
      "2                          2.0  \n",
      "3                         10.0  \n",
      "4                         17.0  \n",
      "...                        ...  \n",
      "478962                     7.0  \n",
      "478963                     6.0  \n",
      "478964                     6.0  \n",
      "478965                     8.0  \n",
      "478966                    15.0  \n",
      "\n",
      "[478952 rows x 6 columns]\n"
     ]
    }
   ],
   "source": [
    "# Elimina los pedidos duplicados\n",
    "orders = orders.drop_duplicates()\n",
    "print(orders)"
   ]
  },
  {
   "cell_type": "code",
   "execution_count": 102,
   "id": "0b2396a2",
   "metadata": {
    "id": "0b2396a2"
   },
   "outputs": [
    {
     "name": "stdout",
     "output_type": "stream",
     "text": [
      "Empty DataFrame\n",
      "Columns: [order_id, user_id, order_number, order_dow, order_hour_of_day, days_since_prior_order]\n",
      "Index: []\n"
     ]
    }
   ],
   "source": [
    "# Vuelve a verificar si hay filas duplicadas\n",
    "print(orders[orders.duplicated()])"
   ]
  },
  {
   "cell_type": "code",
   "execution_count": 103,
   "id": "f6113ef1",
   "metadata": {
    "id": "f6113ef1"
   },
   "outputs": [
    {
     "name": "stdout",
     "output_type": "stream",
     "text": [
      "0\n"
     ]
    }
   ],
   "source": [
    "# Vuelve a verificar únicamente si hay IDs duplicados de pedidos\n",
    "print(orders.duplicated(\"order_id\").sum())"
   ]
  },
  {
   "cell_type": "markdown",
   "id": "5e8905ae",
   "metadata": {
    "id": "5e8905ae"
   },
   "source": [
    "Puede observarse que la data se redujo de 478967 a 478952 casos y que en esta data actualizada ya no hay duplicados."
   ]
  },
  {
   "cell_type": "markdown",
   "id": "76446458",
   "metadata": {},
   "source": [
    "<div class=\"alert alert-block alert-success\">\n",
    "<b>Comentario del revisor</b> <a class=\"tocSkip\"></a>\n",
    "\n",
    "Muy buen trabajo!! Desarrollaste de manera excelente el análisis de duplicados y eliminaste esos casos. \n",
    "    \n",
    "</div>"
   ]
  },
  {
   "cell_type": "markdown",
   "id": "45e6bc46",
   "metadata": {
    "id": "45e6bc46"
   },
   "source": [
    "### `products` data frame"
   ]
  },
  {
   "cell_type": "code",
   "execution_count": 104,
   "id": "5f526b5b-8175-46fa-a0fd-441767d50e64",
   "metadata": {
    "id": "5f526b5b-8175-46fa-a0fd-441767d50e64"
   },
   "outputs": [
    {
     "name": "stdout",
     "output_type": "stream",
     "text": [
      "Empty DataFrame\n",
      "Columns: [product_id, product_name, aisle_id, department_id]\n",
      "Index: []\n"
     ]
    }
   ],
   "source": [
    "# Verifica si hay filas totalmente duplicadas\n",
    "print(products[products.duplicated()])"
   ]
  },
  {
   "cell_type": "code",
   "execution_count": 105,
   "id": "88daa4f4",
   "metadata": {
    "id": "88daa4f4"
   },
   "outputs": [
    {
     "name": "stdout",
     "output_type": "stream",
     "text": [
      "49673\n"
     ]
    }
   ],
   "source": [
    "# Revisa únicamente si hay ID de departamentos duplicados\n",
    "print(products.duplicated(\"department_id\").sum()) "
   ]
  },
  {
   "cell_type": "code",
   "execution_count": 106,
   "id": "c773f0bf",
   "metadata": {
    "id": "c773f0bf"
   },
   "outputs": [
    {
     "name": "stdout",
     "output_type": "stream",
     "text": [
      "1361\n"
     ]
    }
   ],
   "source": [
    "# Revisa únicamente si hay nombres duplicados de productos (convierte los nombres a letras mayúsculas para compararlos mejor)\n",
    "products[\"product_name\"] = products[\"product_name\"].str.upper()\n",
    "print(products.duplicated(\"product_name\").sum())"
   ]
  },
  {
   "cell_type": "code",
   "execution_count": 107,
   "id": "01efd02e",
   "metadata": {
    "id": "01efd02e"
   },
   "outputs": [
    {
     "name": "stdout",
     "output_type": "stream",
     "text": [
      "104\n"
     ]
    }
   ],
   "source": [
    "# Revisa si hay nombres duplicados de productos no faltantes\n",
    "print(products[\"product_name\"].dropna().duplicated().sum())"
   ]
  },
  {
   "cell_type": "markdown",
   "id": "9da8d293",
   "metadata": {
    "id": "9da8d293"
   },
   "source": [
    "Primero, es posible observar que no hay filas totalmente duplicadas. Sin embargo, también podemos ver que de 49694 casos 49673 son duplicados para la variable *department_id*, representando ello al 99.96% de los datos. Adicionalmente, se puede observar que la variable *product_name* cuenta con 1361 casos duplicados, representando ello al 2.74% de la data. Sin embargo, si consideramos solo los duplicados de productos no faltantes, la cantidad se reduce a 104, representando ella al 0.21% de la data."
   ]
  },
  {
   "cell_type": "markdown",
   "id": "268f3c08",
   "metadata": {},
   "source": [
    "\n",
    "<div class=\"alert alert-block alert-success\">\n",
    "<b>Comentario del revisor</b> <a class=\"tocSkip\"></a>\n",
    "\n",
    "Muy buen trabajo!! Desarrollaste de manera excelente el análisis de duplicados. Para complementar el análisis, qué podríamos decir de estos 104 productos duplicados? \n",
    "    \n",
    "</div>"
   ]
  },
  {
   "cell_type": "markdown",
   "id": "60f30db1",
   "metadata": {
    "id": "60f30db1"
   },
   "source": [
    "### `departments` data frame"
   ]
  },
  {
   "cell_type": "code",
   "execution_count": 108,
   "id": "fb410ad4-0fbf-4b80-bb09-23fdea79afe3",
   "metadata": {
    "id": "fb410ad4-0fbf-4b80-bb09-23fdea79afe3"
   },
   "outputs": [
    {
     "name": "stdout",
     "output_type": "stream",
     "text": [
      "Empty DataFrame\n",
      "Columns: [department_id, department]\n",
      "Index: []\n"
     ]
    }
   ],
   "source": [
    "# Revisa si hay filas totalmente duplicadas\n",
    "print(departments[departments.duplicated()])"
   ]
  },
  {
   "cell_type": "code",
   "execution_count": 109,
   "id": "332b12bb",
   "metadata": {
    "id": "332b12bb"
   },
   "outputs": [
    {
     "name": "stdout",
     "output_type": "stream",
     "text": [
      "0\n"
     ]
    }
   ],
   "source": [
    "# Revisa únicamente si hay IDs duplicadas de productos\n",
    "print(departments.duplicated(\"department_id\").sum())"
   ]
  },
  {
   "cell_type": "markdown",
   "id": "bd30d78e",
   "metadata": {
    "id": "bd30d78e"
   },
   "source": [
    "Podemos ver que en la data **departments** no hay filas duplicadas ni duplicados en la variable *department_id*"
   ]
  },
  {
   "cell_type": "markdown",
   "id": "889349c1",
   "metadata": {
    "id": "889349c1"
   },
   "source": [
    "### `aisles` data frame"
   ]
  },
  {
   "cell_type": "code",
   "execution_count": 110,
   "id": "9da89fb9-4679-40f5-ad0d-c34df753a3f8",
   "metadata": {
    "id": "9da89fb9-4679-40f5-ad0d-c34df753a3f8"
   },
   "outputs": [
    {
     "name": "stdout",
     "output_type": "stream",
     "text": [
      "Empty DataFrame\n",
      "Columns: [aisle_id, aisle]\n",
      "Index: []\n"
     ]
    }
   ],
   "source": [
    "# Revisa si hay filas totalmente duplicadas\n",
    "print(aisles[aisles.duplicated()])"
   ]
  },
  {
   "cell_type": "code",
   "execution_count": 111,
   "id": "da7c2822",
   "metadata": {
    "id": "da7c2822"
   },
   "outputs": [
    {
     "name": "stdout",
     "output_type": "stream",
     "text": [
      "0\n"
     ]
    }
   ],
   "source": [
    "# Revisa únicamente si hay IDs duplicadas de productos\n",
    "print(aisles.duplicated(\"aisle_id\").sum())"
   ]
  },
  {
   "cell_type": "markdown",
   "id": "ac63826f",
   "metadata": {
    "id": "ac63826f"
   },
   "source": [
    "Podemos ver que en la data **aisles** no hay filas duplicadas ni duplicados en la variable *aisle_id*"
   ]
  },
  {
   "cell_type": "markdown",
   "id": "274cd06a",
   "metadata": {
    "id": "274cd06a"
   },
   "source": [
    "### `order_products` data frame"
   ]
  },
  {
   "cell_type": "code",
   "execution_count": 112,
   "id": "52326689-84a8-4b8f-a881-7c68780f62c9",
   "metadata": {
    "id": "52326689-84a8-4b8f-a881-7c68780f62c9"
   },
   "outputs": [
    {
     "name": "stdout",
     "output_type": "stream",
     "text": [
      "Empty DataFrame\n",
      "Columns: [order_id, product_id, add_to_cart_order, reordered]\n",
      "Index: []\n"
     ]
    }
   ],
   "source": [
    "# Revisa si hay filas totalmente duplicadas\n",
    "print(order_products[order_products.duplicated()])"
   ]
  },
  {
   "cell_type": "code",
   "execution_count": 113,
   "id": "7b861391",
   "metadata": {
    "id": "7b861391"
   },
   "outputs": [
    {
     "name": "stdout",
     "output_type": "stream",
     "text": [
      "0\n"
     ]
    }
   ],
   "source": [
    "# Vuelve a verificar si hay cualquier otro duplicado engañoso\n",
    "print(order_products.duplicated().sum())"
   ]
  },
  {
   "cell_type": "markdown",
   "id": "0b890492",
   "metadata": {
    "id": "0b890492"
   },
   "source": [
    "Podemos observar que en la data **order_products** no hay valores duplicados"
   ]
  },
  {
   "cell_type": "markdown",
   "id": "1e46de76",
   "metadata": {
    "id": "1e46de76"
   },
   "source": [
    "## Encuentra y elimina los valores ausentes\n",
    "\n",
    "Al trabajar con valores duplicados, pudimos observar que también nos falta investigar valores ausentes:\n",
    "\n",
    "* La columna `'product_name'` de la tabla products.\n",
    "* La columna `'days_since_prior_order'` de la tabla orders.\n",
    "* La columna `'add_to_cart_order'` de la tabla order_productos."
   ]
  },
  {
   "cell_type": "markdown",
   "id": "c0aebd78",
   "metadata": {
    "id": "c0aebd78"
   },
   "source": [
    "### `products` data frame"
   ]
  },
  {
   "cell_type": "code",
   "execution_count": 114,
   "id": "fe4a8b0f",
   "metadata": {
    "id": "fe4a8b0f"
   },
   "outputs": [
    {
     "name": "stdout",
     "output_type": "stream",
     "text": [
      "1258\n"
     ]
    }
   ],
   "source": [
    "# Encuentra los valores ausentes en la columna 'product_name'\n",
    "print(products[\"product_name\"].isnull().sum())"
   ]
  },
  {
   "cell_type": "markdown",
   "id": "-A6x1AbJhjkp",
   "metadata": {
    "id": "-A6x1AbJhjkp"
   },
   "source": [
    "Es posible observar que hay 1258 valores perdidos en la variable *product_name* de la data **products** "
   ]
  },
  {
   "cell_type": "code",
   "execution_count": 115,
   "id": "e96167bc",
   "metadata": {
    "id": "e96167bc"
   },
   "outputs": [
    {
     "name": "stdout",
     "output_type": "stream",
     "text": [
      "1258\n"
     ]
    }
   ],
   "source": [
    "#  ¿Todos los nombres de productos ausentes están relacionados con el pasillo con ID 100?\n",
    "print((products[\"product_name\"].isnull() & (products[\"aisle_id\"] == 100)).sum())"
   ]
  },
  {
   "cell_type": "markdown",
   "id": "WRpIfXRphpSL",
   "metadata": {
    "id": "WRpIfXRphpSL"
   },
   "source": [
    "Sí, todos los nombres de los productos pertenecen al pasillo con ID 100"
   ]
  },
  {
   "cell_type": "code",
   "execution_count": 116,
   "id": "8fd0a541",
   "metadata": {
    "id": "8fd0a541"
   },
   "outputs": [
    {
     "name": "stdout",
     "output_type": "stream",
     "text": [
      "1258\n"
     ]
    }
   ],
   "source": [
    "# ¿Todos los nombres de productos ausentes están relacionados con el departamento con ID 21?\n",
    "print((products[\"product_name\"].isnull() & (products[\"department_id\"] == 21)).sum())"
   ]
  },
  {
   "cell_type": "markdown",
   "id": "qDpdYn1Fht_I",
   "metadata": {
    "id": "qDpdYn1Fht_I"
   },
   "source": [
    "Sí, todos los nombres de los productos pertenecen al departamento con ID 21"
   ]
  },
  {
   "cell_type": "code",
   "execution_count": 117,
   "id": "325c3464",
   "metadata": {
    "id": "325c3464"
   },
   "outputs": [
    {
     "name": "stdout",
     "output_type": "stream",
     "text": [
      "       product_id product_name  aisle_id  department_id\n",
      "37             38          NaN       100             21\n",
      "71             72          NaN       100             21\n",
      "109           110          NaN       100             21\n",
      "296           297          NaN       100             21\n",
      "416           417          NaN       100             21\n",
      "...           ...          ...       ...            ...\n",
      "49552       49553          NaN       100             21\n",
      "49574       49575          NaN       100             21\n",
      "49640       49641          NaN       100             21\n",
      "49663       49664          NaN       100             21\n",
      "49668       49669          NaN       100             21\n",
      "\n",
      "[1258 rows x 4 columns]\n",
      "       product_id product_name  aisle_id  department_id\n",
      "37             38          NaN       100             21\n",
      "71             72          NaN       100             21\n",
      "109           110          NaN       100             21\n",
      "296           297          NaN       100             21\n",
      "416           417          NaN       100             21\n",
      "...           ...          ...       ...            ...\n",
      "49552       49553          NaN       100             21\n",
      "49574       49575          NaN       100             21\n",
      "49640       49641          NaN       100             21\n",
      "49663       49664          NaN       100             21\n",
      "49668       49669          NaN       100             21\n",
      "\n",
      "[1258 rows x 4 columns]\n"
     ]
    }
   ],
   "source": [
    "# Usa las tablas department y aisle para revisar los datos del pasillo con ID 100 y el departamento con ID 21.\n",
    "aisle_100 = products[products[\"aisle_id\"] == 100]\n",
    "department_21 = products[products[\"department_id\"] == 21]\n",
    "print(aisle_100)\n",
    "print(department_21)"
   ]
  },
  {
   "cell_type": "markdown",
   "id": "nqhSTUPhhvEJ",
   "metadata": {
    "id": "nqhSTUPhhvEJ"
   },
   "source": [
    "Puede observarse que todos los valores perdidos de la variable *product_name* tienen dos aspectos en común: \n",
    "1. todas comparten el mismo *aisle_id*, siendo este el valor 100\n",
    "2. todas comparten el mismo *department_id*, siendo este el valor 21"
   ]
  },
  {
   "cell_type": "code",
   "execution_count": 118,
   "id": "6b295120",
   "metadata": {
    "id": "6b295120"
   },
   "outputs": [
    {
     "name": "stdout",
     "output_type": "stream",
     "text": [
      "0\n"
     ]
    }
   ],
   "source": [
    "# Completa los nombres de productos ausentes con 'Unknown'\n",
    "products[\"product_name\"] = products[\"product_name\"].fillna(\"Unknown\")\n",
    "print(products[\"product_name\"].isnull().sum())"
   ]
  },
  {
   "cell_type": "markdown",
   "id": "fc70e5ad",
   "metadata": {
    "id": "fc70e5ad"
   },
   "source": [
    "Con este último código modifiqué los valores perdidos para que el nuevo valor sea \"Unknown\" y luego de ello comprobé si todos los cambios se habían hecho de manera correcta. Es decir, si ya no teniámos valores perdidos en la variable *product_name*"
   ]
  },
  {
   "cell_type": "markdown",
   "id": "d0c6d81d",
   "metadata": {},
   "source": [
    "<div class=\"alert alert-block alert-success\">\n",
    "<b>Comentario del revisor</b> <a class=\"tocSkip\"></a>\n",
    "\n",
    "Muy buen trabajo!! Desarrollaste de manera excelente el análisis de valores faltantes y los llenaste con \"unknown\".\n",
    "    \n",
    "</div>"
   ]
  },
  {
   "cell_type": "markdown",
   "id": "7eb45c86",
   "metadata": {
    "id": "7eb45c86"
   },
   "source": [
    "### `orders` data frame"
   ]
  },
  {
   "cell_type": "code",
   "execution_count": 119,
   "id": "93e41d96",
   "metadata": {
    "id": "93e41d96"
   },
   "outputs": [
    {
     "name": "stdout",
     "output_type": "stream",
     "text": [
      "order_id                      0\n",
      "user_id                       0\n",
      "order_number                  0\n",
      "order_dow                     0\n",
      "order_hour_of_day             0\n",
      "days_since_prior_order    28817\n",
      "dtype: int64\n"
     ]
    }
   ],
   "source": [
    "# Encuentra los valores ausentes\n",
    "print(orders.isnull().sum())"
   ]
  },
  {
   "cell_type": "code",
   "execution_count": 120,
   "id": "166e5a86",
   "metadata": {
    "id": "166e5a86"
   },
   "outputs": [
    {
     "name": "stdout",
     "output_type": "stream",
     "text": [
      "False\n"
     ]
    }
   ],
   "source": [
    "# ¿Hay algún valor ausente que no sea el primer pedido del cliente?\n",
    "print((orders[\"days_since_prior_order\"].isnull() & (orders[\"order_number\"] > 1)).any())"
   ]
  },
  {
   "cell_type": "markdown",
   "id": "4e23d089",
   "metadata": {
    "id": "4e23d089"
   },
   "source": [
    "Puede observarse que hay 28817 valores ausentes y que todos estos casos comparten ser el primer pedido del cliente"
   ]
  },
  {
   "cell_type": "markdown",
   "id": "69dc9ca4",
   "metadata": {
    "id": "69dc9ca4"
   },
   "source": [
    "### `order_products` data frame"
   ]
  },
  {
   "cell_type": "code",
   "execution_count": 121,
   "id": "b8240253",
   "metadata": {
    "id": "b8240253"
   },
   "outputs": [
    {
     "name": "stdout",
     "output_type": "stream",
     "text": [
      "order_id               0\n",
      "product_id             0\n",
      "add_to_cart_order    836\n",
      "reordered              0\n",
      "dtype: int64\n"
     ]
    }
   ],
   "source": [
    "# Encuentra los valores ausentes\n",
    "print(order_products.isnull().sum())"
   ]
  },
  {
   "cell_type": "code",
   "execution_count": 122,
   "id": "9a78e5ee",
   "metadata": {
    "id": "9a78e5ee"
   },
   "outputs": [
    {
     "name": "stdout",
     "output_type": "stream",
     "text": [
      "Valor mínimo 1.0\n",
      "Valor máximo 64.0\n"
     ]
    }
   ],
   "source": [
    "# ¿Cuáles son los valores mínimos y máximos en esta columna?\n",
    "print(\"Valor mínimo\",order_products[\"add_to_cart_order\"].min())\n",
    "print(\"Valor máximo\",order_products[\"add_to_cart_order\"].max())"
   ]
  },
  {
   "cell_type": "markdown",
   "id": "-Z2Ja215jW78",
   "metadata": {
    "id": "-Z2Ja215jW78"
   },
   "source": [
    "Podemos ver que la variable *add_to_cart_order* tiene un rango de 63. Siendo el valor mínimo 1 y el máximo 64."
   ]
  },
  {
   "cell_type": "code",
   "execution_count": 123,
   "id": "ab9d0c2b",
   "metadata": {
    "id": "ab9d0c2b"
   },
   "outputs": [
    {
     "name": "stdout",
     "output_type": "stream",
     "text": [
      "[2449164 1968313 2926893 1717990 1959075  844733   61355  936852  264710\n",
      " 1564093  129627  293169 2849370 1386261 3308010  903110 2136777 3347453\n",
      " 1888628  165801 2094761 1038146 2997021  813364 2256933  171934 2409109\n",
      " 1730767 1169835  733526  404157 3125735  747668 1800005 1961723  871281\n",
      "  388234 1648217 1477139  102236 1021563 1832957 2721963  678116 1220886\n",
      " 1673227 2999801 1633337 2470674 2625444 1677118 2479011 3383594 1183255\n",
      " 1713430 2652650 1598369 1916118  854647 1302315  888470  180546 2621907\n",
      " 1308785 2729254    9310 2170451 2979697 1625713 1529171]\n"
     ]
    }
   ],
   "source": [
    "# Guarda todas las IDs de pedidos que tengan un valor ausente en 'add_to_cart_order'\n",
    "print(order_products[order_products[\"add_to_cart_order\"].isnull()][\"order_id\"].unique())"
   ]
  },
  {
   "cell_type": "code",
   "execution_count": 124,
   "id": "54c31695",
   "metadata": {
    "id": "54c31695"
   },
   "outputs": [
    {
     "name": "stdout",
     "output_type": "stream",
     "text": [
      "\n",
      "False\n",
      "\n",
      "order_id\n",
      "9310        1\n",
      "61355      63\n",
      "102236     31\n",
      "129627      5\n",
      "165801      6\n",
      "           ..\n",
      "2999801     6\n",
      "3125735    22\n",
      "3308010    51\n",
      "3347453     7\n",
      "3383594     5\n",
      "Name: product_id, Length: 70, dtype: int64\n"
     ]
    }
   ],
   "source": [
    "# ¿Todos los pedidos con valores ausentes tienen más de 64 productos?\n",
    "missing_values= order_products[order_products[\"add_to_cart_order\"].isnull()]\n",
    "print()\n",
    "print(all(missing_values.groupby(\"order_id\")[\"product_id\"].count() > 64))\n",
    "\n",
    "# Agrupa todos los pedidos con datos ausentes por su ID de pedido.\n",
    "missing_values.groupby(\"order_id\")\n",
    "\n",
    "# Cuenta el número de 'product_id' en cada pedido y revisa el valor mínimo del conteo.\n",
    "print()\n",
    "print(missing_values.groupby(\"order_id\")[\"product_id\"].count())"
   ]
  },
  {
   "cell_type": "markdown",
   "id": "p9V6pddtjglj",
   "metadata": {
    "id": "p9V6pddtjglj"
   },
   "source": [
    "Honestamente me sentí un poco confundida con las indicaciones. Pero en general, puedo observar que hay 836 valores perdidos en la variable *add_to_cart_order*, que el valor mínimo de esta variable es 1 y el valor máximo 64. Además, se observa que hay 70 ID de pedidos con un valor ausente en la variable *add_to_cart_order* y que ningún pedido con valor ausente tiene más de 64 productos, siendo el rango de 1 a 63. "
   ]
  },
  {
   "cell_type": "code",
   "execution_count": 125,
   "id": "7a987d08",
   "metadata": {
    "id": "7a987d08"
   },
   "outputs": [
    {
     "name": "stdout",
     "output_type": "stream",
     "text": [
      "order_id                      0\n",
      "user_id                       0\n",
      "order_number                  0\n",
      "order_dow                     0\n",
      "order_hour_of_day             0\n",
      "days_since_prior_order    28817\n",
      "dtype: int64\n"
     ]
    }
   ],
   "source": [
    "# Remplaza los valores ausentes en la columna 'add_to_cart? con 999 y convierte la columna al tipo entero.\n",
    "order_products[\"add_to_cart_order\"] = order_products[\"add_to_cart_order\"].fillna(999).astype(int)\n",
    "print(orders.isnull().sum())"
   ]
  },
  {
   "cell_type": "markdown",
   "id": "fea4bcc7",
   "metadata": {
    "id": "fea4bcc7"
   },
   "source": [
    "Finalmente se realiza el cambio en la variable *add_to_cart_order* y se verifica que ya no hay valores perdidos."
   ]
  },
  {
   "cell_type": "markdown",
   "id": "8ee86057",
   "metadata": {},
   "source": [
    "<div class=\"alert alert-block alert-warning\">\n",
    "<b>Comentario revisor</b> <a class=\"tocSkip\"></a>\n",
    "\n",
    "\n",
    "Muy buena conclusión de esta base. Pero qué podríamos decir de los pedidos que tienen más de 64 productos?\n",
    "</div>"
   ]
  },
  {
   "cell_type": "markdown",
   "id": "RnplPFY1gSrb",
   "metadata": {
    "id": "RnplPFY1gSrb"
   },
   "source": [
    "## Conclusiones\n",
    "\n",
    "Como conclusión parcial de esta segunda etapa, puede observarse que en las datas **products** y **orders** había valores duplicados en algunas variables, siendo estos eliminados para un mejor análisis. Adicionalmente, también fue posible observar que todos los valores perdidos de la variable *product_name* de la data **products** comparten otras características, siendo estas los mismos valores para los ID de departamento (21) y los ID de pasillo (100). Sumado a lo anterior, se observó que todos los valores perdidos de la variable *days_since_prior_order* de la data **orders** comparten ser el primer pedido de los respectivos clientes y que los valores perdidos en la variable *add_to_cart_order* de la data **order_products** se distribuyeron entre 70 ID de productos."
   ]
  },
  {
   "cell_type": "markdown",
   "id": "UjrOIwTcz3ri",
   "metadata": {
    "id": "UjrOIwTcz3ri"
   },
   "source": [
    "# Paso 3. Análisis de los datos\n",
    "\n",
    "Una vez los datos estén procesados y listos, haz el siguiente análisis:"
   ]
  },
  {
   "cell_type": "markdown",
   "id": "turkish-kidney",
   "metadata": {
    "id": "turkish-kidney"
   },
   "source": [
    "# [A] Fácil (deben completarse todos para aprobar)\n",
    "\n",
    "1. Verifica que los valores en las columnas `'order_hour_of_day'` y `'order_dow'` en la tabla orders sean razonables (es decir, `'order_hour_of_day'` oscile entre 0 y 23 y `'order_dow'` oscile entre 0 y 6).\n",
    "2. Crea un gráfico que muestre el número de personas que hacen pedidos dependiendo de la hora del día.\n",
    "3. Crea un gráfico que muestre qué día de la semana la gente hace sus compras.\n",
    "4. Crea un gráfico que muestre el tiempo que la gente espera hasta hacer su siguiente pedido, y comenta sobre los valores mínimos y máximos."
   ]
  },
  {
   "cell_type": "markdown",
   "id": "short-capability",
   "metadata": {
    "id": "short-capability"
   },
   "source": [
    "### [A1] Verifica que los valores sean sensibles"
   ]
  },
  {
   "cell_type": "code",
   "execution_count": 126,
   "id": "growing-fruit",
   "metadata": {
    "id": "growing-fruit"
   },
   "outputs": [
    {
     "name": "stdout",
     "output_type": "stream",
     "text": [
      "[0, 1, 2, 3, 4, 5, 6, 7, 8, 9, 10, 11, 12, 13, 14, 15, 16, 17, 18, 19, 20, 21, 22, 23]\n"
     ]
    }
   ],
   "source": [
    "print(sorted(orders[\"order_hour_of_day\"].unique()))"
   ]
  },
  {
   "cell_type": "code",
   "execution_count": 127,
   "id": "accessory-malaysia",
   "metadata": {
    "id": "accessory-malaysia"
   },
   "outputs": [
    {
     "name": "stdout",
     "output_type": "stream",
     "text": [
      "[0, 1, 2, 3, 4, 5, 6]\n"
     ]
    }
   ],
   "source": [
    "print(sorted(orders[\"order_dow\"].unique()))"
   ]
  },
  {
   "cell_type": "markdown",
   "id": "hmR2GNQ6lCsX",
   "metadata": {
    "id": "hmR2GNQ6lCsX"
   },
   "source": [
    "Puede observarse que tanto la variable *order_hour_of_day* como la variable *order_dow* tienen valores razonables para lo que trasmite la variable."
   ]
  },
  {
   "cell_type": "markdown",
   "id": "a6743a70",
   "metadata": {
    "id": "a6743a70"
   },
   "source": [
    "### [A2] Para cada hora del día, ¿cuántas personas hacen órdenes?"
   ]
  },
  {
   "cell_type": "code",
   "execution_count": 128,
   "id": "a36cca27",
   "metadata": {
    "id": "a36cca27"
   },
   "outputs": [
    {
     "data": {
      "text/plain": [
       "<AxesSubplot:title={'center':'Órdenes realizadas para cada hora del día'}, xlabel='Hora del día', ylabel='Cantidad de personas que realizan órdenes'>"
      ]
     },
     "execution_count": 128,
     "metadata": {},
     "output_type": "execute_result"
    },
    {
     "data": {
      "image/png": "[encoded data removed]",
      "text/plain": [
       "<Figure size 432x288 with 1 Axes>"
      ]
     },
     "metadata": {
      "needs_background": "light"
     },
     "output_type": "display_data"
    }
   ],
   "source": [
    "from matplotlib import pyplot as plt\n",
    "\n",
    "orders.groupby(\"order_hour_of_day\")[\"user_id\"].nunique().plot(color=\"hotpink\",\n",
    "                                                              style=\"*-\",\n",
    "                                                              title=\"Órdenes realizadas para cada hora del día\",\n",
    "                                                              xlabel=\"Hora del día\",\n",
    "                                                              ylabel=\"Cantidad de personas que realizan órdenes\")"
   ]
  },
  {
   "cell_type": "markdown",
   "id": "11270eed",
   "metadata": {
    "id": "11270eed"
   },
   "source": [
    "Es posible observar que la cantidad de compradores comienza a aumentar a partir de las 5 horas, alcanzando su puntos máximos entre las 10 y las 16, para luego comenzar a decrecer. Conocer los horarios de mayor afluencia resultan útiles para poder tener la logística de personal necesaria para cumplir con la demanda. Asimismo, conocer los horarios con menor concurrencia de pedidos son útiles para que se puedan diseñar promociones especiales."
   ]
  },
  {
   "cell_type": "markdown",
   "id": "02e49fc9",
   "metadata": {},
   "source": [
    "<div class=\"alert alert-block alert-success\">\n",
    "<b>Comentario revisor</b> <a class=\"tocSkip\"></a>\n",
    "\n",
    "\n",
    "Muy buen trabajo el desarrollar una gráfica para visualizar los resultados\n",
    "</div>"
   ]
  },
  {
   "cell_type": "markdown",
   "id": "documented-command",
   "metadata": {
    "id": "documented-command"
   },
   "source": [
    "### [A3] ¿Qué día de la semana compran víveres las personas?"
   ]
  },
  {
   "cell_type": "code",
   "execution_count": 129,
   "id": "chief-digit",
   "metadata": {
    "id": "chief-digit"
   },
   "outputs": [
    {
     "data": {
      "text/plain": [
       "([<matplotlib.axis.XTick at 0x7fc3f69df8e0>,\n",
       "  <matplotlib.axis.XTick at 0x7fc3f69df610>,\n",
       "  <matplotlib.axis.XTick at 0x7fc3f6c39670>,\n",
       "  <matplotlib.axis.XTick at 0x7fc3f6b90d60>,\n",
       "  <matplotlib.axis.XTick at 0x7fc3f6c38b50>,\n",
       "  <matplotlib.axis.XTick at 0x7fc3ff0c3220>,\n",
       "  <matplotlib.axis.XTick at 0x7fc3ff0c3730>],\n",
       " [Text(0, 0, 'Domingo'),\n",
       "  Text(1, 0, 'Lunes'),\n",
       "  Text(2, 0, 'Martes'),\n",
       "  Text(3, 0, 'Miércoles'),\n",
       "  Text(4, 0, 'Jueves'),\n",
       "  Text(5, 0, 'Viernes'),\n",
       "  Text(6, 0, 'Sábado')])"
      ]
     },
     "execution_count": 129,
     "metadata": {},
     "output_type": "execute_result"
    },
    {
     "data": {
      "image/png": "[encoded data removed]",
      "text/plain": [
       "<Figure size 432x288 with 1 Axes>"
      ]
     },
     "metadata": {
      "needs_background": "light"
     },
     "output_type": "display_data"
    }
   ],
   "source": [
    "orders[\"order_dow\"].value_counts().sort_index().plot(kind=\"bar\",\n",
    "                                                     color=\"hotpink\",\n",
    "                                                     title=\"Órdenes realizadas para cada día de la semana\",\n",
    "                                                     xlabel=\"Día de la semana\",\n",
    "                                                     ylabel=\"Cantidad de órdenes realizadas\")\n",
    "\n",
    "dias_semana = [\"Domingo\",\"Lunes\", \"Martes\", \"Miércoles\", \"Jueves\", \"Viernes\", \"Sábado\"]\n",
    "\n",
    "plt.xticks(range(7), dias_semana, rotation=45)"
   ]
  },
  {
   "cell_type": "markdown",
   "id": "dominant-lightning",
   "metadata": {
    "id": "dominant-lightning"
   },
   "source": [
    "Es posible observar que los días con mayor cantidad de órdenes son los domingos y los lunes. Conocer esto permite que la plataforma pueda realizar las acciones necesarias para estar preparada ante esta demanda. "
   ]
  },
  {
   "cell_type": "markdown",
   "id": "cutting-concert",
   "metadata": {
    "id": "cutting-concert"
   },
   "source": [
    "### [A4] ¿Cuánto tiempo esperan las personas hasta hacer otro pedido? Comenta sobre los valores mínimos y máximos."
   ]
  },
  {
   "cell_type": "code",
   "execution_count": 130,
   "id": "c231f523",
   "metadata": {
    "id": "c231f523",
    "scrolled": true
   },
   "outputs": [
    {
     "name": "stdout",
     "output_type": "stream",
     "text": [
      "Valor mínimo de días desde el pedido anterior: 0.0\n",
      "Valor máximo de días desde el pedido anterior: 30.0\n"
     ]
    },
    {
     "data": {
      "image/png": "[encoded data removed]",
      "text/plain": [
       "<Figure size 432x288 with 1 Axes>"
      ]
     },
     "metadata": {
      "needs_background": "light"
     },
     "output_type": "display_data"
    }
   ],
   "source": [
    "orders.groupby(\"days_since_prior_order\")[\"user_id\"].nunique().plot(color=\"hotpink\",\n",
    "                                                                   style=\"*-\",\n",
    "                                                                   title=\"Tiempo de espera de las personas para realizar otro pedido\",\n",
    "                                                                   xlabel=\"Días transcurridos\",\n",
    "                                                                   ylabel=\"Cantidad de personas\")\n",
    "\n",
    "print(\"Valor mínimo de días desde el pedido anterior:\", orders[\"days_since_prior_order\"].min())\n",
    "print(\"Valor máximo de días desde el pedido anterior:\", orders[\"days_since_prior_order\"].max())"
   ]
  },
  {
   "cell_type": "markdown",
   "id": "discrete-vertex",
   "metadata": {
    "id": "discrete-vertex"
   },
   "source": [
    "Puede observarse que lo mínimo que un cliente espera para realizar otro pedido es menos de un día y lo máximo más de 30. Se observa además que el valor modal son 30 días. Por ende, sería adecuado identificar a estos usuarios y ofrecerles promociones, para así incentivar que utilicen la plataforma con mayor frecuencia. "
   ]
  },
  {
   "cell_type": "markdown",
   "id": "cf91d2b7",
   "metadata": {},
   "source": [
    "<div class=\"alert alert-block alert-warning\">\n",
    "<b>Comentario Revisor</b> <a class=\"tocSkip\"></a>\n",
    "\n",
    "Muy buen trabajo, pero pareciera que las personas que tardan 30 días puede ser un error. Entonces te sugiero complementar este análisis con una gráfica donde se muestren los valores sin contar los de 30\n",
    "</div>"
   ]
  },
  {
   "cell_type": "markdown",
   "id": "tight-staff",
   "metadata": {
    "id": "tight-staff"
   },
   "source": [
    "# [B] Intermedio (deben completarse todos para aprobar)\n",
    "\n",
    "1. ¿Existe alguna diferencia entre las distribuciones `'order_hour_of_day'` de los miércoles y los sábados? Traza gráficos de barra de `'order_hour_of_day'` para ambos días en la misma figura y describe las diferencias que observes.\n",
    "2. Grafica la distribución para el número de órdenes que hacen los clientes (es decir, cuántos clientes hicieron solo 1 pedido, cuántos hicieron 2, cuántos 3, y así sucesivamente...).\n",
    "3. ¿Cuáles son los 20 principales productos que se piden con más frecuencia (muestra su identificación y nombre)?"
   ]
  },
  {
   "cell_type": "markdown",
   "id": "packed-classic",
   "metadata": {
    "id": "packed-classic"
   },
   "source": [
    "### [B1] Diferencia entre miércoles y sábados para  `'order_hour_of_day'`. Traza gráficos de barra para los dos días y describe las diferencias que veas."
   ]
  },
  {
   "cell_type": "code",
   "execution_count": 131,
   "id": "d89b8403",
   "metadata": {
    "id": "d89b8403"
   },
   "outputs": [],
   "source": [
    "orders_miercoles = orders[orders[\"order_dow\"] == 4][\"order_hour_of_day\"].value_counts().sort_index()\n",
    "orders_sabado = orders[orders[\"order_dow\"] == 6][\"order_hour_of_day\"].value_counts().sort_index()"
   ]
  },
  {
   "cell_type": "code",
   "execution_count": 132,
   "id": "94e54e8a",
   "metadata": {
    "id": "94e54e8a"
   },
   "outputs": [
    {
     "data": {
      "text/plain": [
       "<AxesSubplot:title={'center':'Distribución de compras los días miércoles'}, xlabel='Horas del día', ylabel='Cantidad de compras'>"
      ]
     },
     "execution_count": 132,
     "metadata": {},
     "output_type": "execute_result"
    },
    {
     "data": {
      "image/png": "[encoded data removed]",
      "text/plain": [
       "<Figure size 432x288 with 1 Axes>"
      ]
     },
     "metadata": {
      "needs_background": "light"
     },
     "output_type": "display_data"
    }
   ],
   "source": [
    "orders_miercoles.plot(kind=\"bar\", \n",
    "                      color=\"purple\",\n",
    "                      title=\"Distribución de compras los días miércoles\",\n",
    "                      xlabel=\"Horas del día\",\n",
    "                      ylabel=\"Cantidad de compras\")"
   ]
  },
  {
   "cell_type": "code",
   "execution_count": 133,
   "id": "797c90a8",
   "metadata": {
    "id": "797c90a8"
   },
   "outputs": [
    {
     "data": {
      "text/plain": [
       "<AxesSubplot:title={'center':'Distribución de compras los días sábados'}, xlabel='Horas del día', ylabel='Cantidad de compras'>"
      ]
     },
     "execution_count": 133,
     "metadata": {},
     "output_type": "execute_result"
    },
    {
     "data": {
      "image/png": "[encoded data removed]",
      "text/plain": [
       "<Figure size 432x288 with 1 Axes>"
      ]
     },
     "metadata": {
      "needs_background": "light"
     },
     "output_type": "display_data"
    }
   ],
   "source": [
    "orders_sabado.plot(kind=\"bar\", \n",
    "                   color=\"hotpink\",\n",
    "                   title=\"Distribución de compras los días sábados\",\n",
    "                   xlabel=\"Horas del día\",\n",
    "                   ylabel=\"Cantidad de compras\")"
   ]
  },
  {
   "cell_type": "code",
   "execution_count": 169,
   "id": "35bcea30",
   "metadata": {
    "id": "35bcea30"
   },
   "outputs": [
    {
     "data": {
      "text/plain": [
       "<matplotlib.legend.Legend at 0x7fc3f68eee20>"
      ]
     },
     "execution_count": 169,
     "metadata": {},
     "output_type": "execute_result"
    },
    {
     "data": {
      "image/png": "[encoded data removed]",
      "text/plain": [
       "<Figure size 432x288 with 1 Axes>"
      ]
     },
     "metadata": {
      "needs_background": "light"
     },
     "output_type": "display_data"
    }
   ],
   "source": [
    "orders_miercoles.plot(kind=\"bar\", \n",
    "                      color=\"purple\",\n",
    "                      alpha=0.6)\n",
    "\n",
    "orders_sabado.plot(kind=\"bar\", \n",
    "                   alpha=0.6,\n",
    "                   color=\"hotpink\",\n",
    "                   title=\"Distribución de compras de los miércoles y de los sábados\",\n",
    "                   xlabel=\"Horas del día\",\n",
    "                   ylabel=\"Cantidad de compras\")\n",
    "\n",
    "plt.legend([\"Miércoles\",\"Sábados\"])"
   ]
  },
  {
   "cell_type": "markdown",
   "id": "charitable-congo",
   "metadata": {
    "id": "charitable-congo"
   },
   "source": [
    "Puede observarse que la distribución de compras de los miércoles no varía de manera considerable a la distribución de compras de los sábados. Empero, se destaca que los sábados ocurre mayor afluencia de compras entre las 11 horas hasta las 17 horas para luego, compartir niveles similares a la ocurrencia de los miércoles."
   ]
  },
  {
   "cell_type": "markdown",
   "id": "e3891143",
   "metadata": {
    "id": "e3891143"
   },
   "source": [
    "### [B2] ¿Cuál es la distribución para el número de pedidos por cliente?"
   ]
  },
  {
   "cell_type": "code",
   "execution_count": 135,
   "id": "d8c26c23",
   "metadata": {
    "id": "d8c26c23"
   },
   "outputs": [
    {
     "data": {
      "text/plain": [
       "<AxesSubplot:title={'center':'Distribución de pedidos por cliente'}, ylabel='Frequency'>"
      ]
     },
     "execution_count": 135,
     "metadata": {},
     "output_type": "execute_result"
    },
    {
     "data": {
      "image/png": "[encoded data removed]",
      "text/plain": [
       "<Figure size 432x288 with 1 Axes>"
      ]
     },
     "metadata": {
      "needs_background": "light"
     },
     "output_type": "display_data"
    }
   ],
   "source": [
    "orders.groupby(\"user_id\")[\"order_id\"].count().plot(kind=\"hist\", \n",
    "                                                   color=\"hotpink\",\n",
    "                                                   title=\"Distribución de pedidos por cliente\",\n",
    "                                                   xlabel=\"Cantidad de clientes\",\n",
    "                                                   ylabel=\"Cantidad de pedidos\")"
   ]
  },
  {
   "cell_type": "code",
   "execution_count": 136,
   "id": "00e69a66",
   "metadata": {
    "id": "00e69a66"
   },
   "outputs": [
    {
     "name": "stdout",
     "output_type": "stream",
     "text": [
      "        Número de órdenes\n",
      "0                       1\n",
      "1                       1\n",
      "2                       1\n",
      "3                       1\n",
      "4                       1\n",
      "...                   ...\n",
      "157432                 24\n",
      "157433                 24\n",
      "157434                 25\n",
      "157435                 26\n",
      "157436                 28\n",
      "\n",
      "[157437 rows x 1 columns]\n"
     ]
    }
   ],
   "source": [
    "print(pd.DataFrame(sorted(orders.groupby(\"user_id\")[\"order_id\"].count()),columns=[\"Número de órdenes\"]))"
   ]
  },
  {
   "cell_type": "markdown",
   "id": "d2eff7d5",
   "metadata": {
    "id": "d2eff7d5"
   },
   "source": [
    "Puede observarse que la mayoría de clientes realiza solo un pedido y que la mayor cantidad de pedidos que ha realizado un cliente han sido 28."
   ]
  },
  {
   "cell_type": "markdown",
   "id": "54a0319c",
   "metadata": {
    "id": "54a0319c"
   },
   "source": [
    "### [B3] ¿Cuáles son los 20 productos más populares (muestra su ID y nombre)?"
   ]
  },
  {
   "cell_type": "code",
   "execution_count": 138,
   "id": "exterior-arizona",
   "metadata": {
    "id": "exterior-arizona",
    "scrolled": true
   },
   "outputs": [],
   "source": [
    "data_merged = pd.merge(order_products, products, on=\"product_id\", how=\"inner\") \n",
    "data_merged = pd.merge(data_merged, orders, on=\"order_id\", how=\"inner\")"
   ]
  },
  {
   "cell_type": "code",
   "execution_count": 139,
   "id": "universal-facial",
   "metadata": {
    "id": "universal-facial"
   },
   "outputs": [],
   "source": [
    "top_products = data_merged['product_name'].value_counts().reset_index().rename(columns={\"index\": \"product_name\", \"product_name\": \"frecuencia\"})"
   ]
  },
  {
   "cell_type": "code",
   "execution_count": 140,
   "id": "bbcdd20b",
   "metadata": {
    "id": "bbcdd20b"
   },
   "outputs": [
    {
     "name": "stdout",
     "output_type": "stream",
     "text": [
      "    product_id              product_name  frecuencia\n",
      "0        24852                    BANANA       66050\n",
      "1        13176    BAG OF ORGANIC BANANAS       53297\n",
      "2        21137      ORGANIC STRAWBERRIES       37039\n",
      "3        21903      ORGANIC BABY SPINACH       33971\n",
      "4        47209      ORGANIC HASS AVOCADO       29773\n",
      "5        47766           ORGANIC AVOCADO       24689\n",
      "6        47626               LARGE LEMON       21495\n",
      "7        16797              STRAWBERRIES       20018\n",
      "8        26209                     LIMES       19690\n",
      "9        27845        ORGANIC WHOLE MILK       19600\n",
      "10       27966       ORGANIC RASPBERRIES       19197\n",
      "11       22935      ORGANIC YELLOW ONION       15898\n",
      "12       24964            ORGANIC GARLIC       15292\n",
      "13       45007          ORGANIC ZUCCHINI       14584\n",
      "14       39275       ORGANIC BLUEBERRIES       13879\n",
      "15       49683            CUCUMBER KIRBY       13675\n",
      "16       28204        ORGANIC FUJI APPLE       12544\n",
      "17        5876             ORGANIC LEMON       12232\n",
      "18        8277  APPLE HONEYCRISP ORGANIC       11993\n",
      "19       40706    ORGANIC GRAPE TOMATOES       11781\n"
     ]
    }
   ],
   "source": [
    "print(pd.merge(top_products, products[[\"product_id\", \"product_name\"]], on=\"product_name\", how=\"left\").drop_duplicates().head(20)[[\"product_id\", \"product_name\", \"frecuencia\"]])"
   ]
  },
  {
   "cell_type": "markdown",
   "id": "7df00f47",
   "metadata": {
    "id": "7df00f47"
   },
   "source": [
    "Es posible observar que el producto más popular en la plataforma es el plátano, siendo este adquirido un total de 66 050 veces, mientras que el último producto del top 20 serían los tomates uva con un total de 11 781. Un aspecto que se destaca es que la gran mayoría de productos ubicados en el top 20 corresponden a frutas, verduras y/o sus versiones orgánicas. Por tanto, sería adecuado que se buscara ampliar la oferta de este tipo de productos."
   ]
  },
  {
   "cell_type": "markdown",
   "id": "98b217d2",
   "metadata": {},
   "source": [
    "<div class=\"alert alert-block alert-success\">\n",
    "<b>Comentario del revisor</b> <a class=\"tocSkip\"></a>\n",
    "\n",
    "Muy buen desarrollo de la sección. Desarrollaste de buena manera todos los análisis y lo complementaste con una gráfica. \n",
    "</div>"
   ]
  },
  {
   "cell_type": "markdown",
   "id": "gross-theme",
   "metadata": {
    "id": "gross-theme"
   },
   "source": [
    "# [C] Difícil (deben completarse todos para aprobar)\n",
    "\n",
    "1. ¿Cuántos artículos suelen comprar las personas en un pedido? ¿Cómo es la distribución?\n",
    "2. ¿Cuáles son los 20 principales artículos que vuelven a pedirse con mayor frecuencia (muestra sus nombres e IDs de los productos)?\n",
    "3. Para cada producto, ¿cuál es la tasa de repetición del pedido (número de repeticiones de pedido/total de pedidos?\n",
    "4. Para cada cliente, ¿qué proporción de los productos que pidió ya los había pedido? Calcula la tasa de repetición de pedido para cada usuario en lugar de para cada producto.\n",
    "5. ¿Cuáles son los 20 principales artículos que la gente pone primero en sus carritos (muestra las IDs de los productos, sus nombres, y el número de veces en que fueron el primer artículo en añadirse al carrito)?"
   ]
  },
  {
   "cell_type": "markdown",
   "id": "romantic-deposit",
   "metadata": {
    "id": "romantic-deposit"
   },
   "source": [
    "### [C1] ¿Cuántos artículos compran normalmente las personas en un pedido? ¿Cómo es la distribución?"
   ]
  },
  {
   "cell_type": "code",
   "execution_count": 141,
   "id": "virtual-punch",
   "metadata": {
    "id": "virtual-punch"
   },
   "outputs": [
    {
     "name": "stdout",
     "output_type": "stream",
     "text": [
      "10.098983215049127\n"
     ]
    }
   ],
   "source": [
    "print(order_products.groupby(\"order_id\")[\"product_id\"].count().mean())"
   ]
  },
  {
   "cell_type": "code",
   "execution_count": 142,
   "id": "sensitive-breathing",
   "metadata": {
    "id": "sensitive-breathing"
   },
   "outputs": [
    {
     "data": {
      "text/plain": [
       "<AxesSubplot:title={'center':'Cantidad de artículos por pedidos'}, ylabel='Frequency'>"
      ]
     },
     "execution_count": 142,
     "metadata": {},
     "output_type": "execute_result"
    },
    {
     "data": {
      "image/png": "[encoded data removed]",
      "text/plain": [
       "<Figure size 432x288 with 1 Axes>"
      ]
     },
     "metadata": {
      "needs_background": "light"
     },
     "output_type": "display_data"
    }
   ],
   "source": [
    "order_products.groupby(\"order_id\")[\"product_id\"].count().plot(kind=\"hist\", \n",
    "                                                              bins=50, \n",
    "                                                              color=\"hotpink\",\n",
    "                                                              title=\"Cantidad de artículos por pedidos\")"
   ]
  },
  {
   "cell_type": "code",
   "execution_count": 186,
   "id": "completed-frank",
   "metadata": {
    "id": "completed-frank"
   },
   "outputs": [
    {
     "name": "stdout",
     "output_type": "stream",
     "text": [
      "                       Cantidad de pedidos\n",
      "Cantidad de artículos                     \n",
      "5                                    31923\n",
      "6                                    31698\n",
      "4                                    31054\n",
      "7                                    30822\n",
      "3                                    29046\n",
      "...                                    ...\n",
      "80                                       1\n",
      "87                                       1\n",
      "85                                       1\n",
      "72                                       1\n",
      "127                                      1\n",
      "\n",
      "[90 rows x 1 columns]\n"
     ]
    }
   ],
   "source": [
    "print(order_products[\"order_id\"].value_counts().value_counts().to_frame(\"Cantidad de pedidos\").rename_axis(\"Cantidad de artículos\"))"
   ]
  },
  {
   "cell_type": "markdown",
   "id": "designed-mortality",
   "metadata": {
    "id": "designed-mortality"
   },
   "source": [
    "Es posible observar que la mayoría de pedidos abarcan un rango de 4 a 6 pedidos, siendo la cantidad de pedidos realizados uno y la máxima 127."
   ]
  },
  {
   "cell_type": "markdown",
   "id": "5e6b5537",
   "metadata": {
    "id": "5e6b5537"
   },
   "source": [
    "### [C2] ¿Cuáles son los 20 principales artículos que vuelven a pedirse con mayor frecuencia (muestra sus nombres e IDs de los productos)?"
   ]
  },
  {
   "cell_type": "code",
   "execution_count": 144,
   "id": "9374e55a",
   "metadata": {
    "id": "9374e55a"
   },
   "outputs": [],
   "source": [
    "freq_reorder=data_merged[data_merged[\"reordered\"] == 1][\"product_id\"].value_counts().reset_index()"
   ]
  },
  {
   "cell_type": "code",
   "execution_count": 145,
   "id": "possible-change",
   "metadata": {
    "id": "possible-change",
    "scrolled": true
   },
   "outputs": [],
   "source": [
    "freq_reorder.columns = [\"product_id\", \"reorder_frequency\"]"
   ]
  },
  {
   "cell_type": "code",
   "execution_count": 146,
   "id": "professional-surfing",
   "metadata": {
    "id": "professional-surfing",
    "scrolled": true
   },
   "outputs": [],
   "source": [
    "top_freq_reorder = pd.merge(freq_reorder.head(20), products, on=\"product_id\", how=\"left\")"
   ]
  },
  {
   "cell_type": "code",
   "execution_count": 147,
   "id": "48dd3658",
   "metadata": {
    "id": "48dd3658"
   },
   "outputs": [
    {
     "name": "stdout",
     "output_type": "stream",
     "text": [
      "    product_id              product_name  reorder_frequency\n",
      "0        24852                    BANANA              55763\n",
      "1        13176    BAG OF ORGANIC BANANAS              44450\n",
      "2        21137      ORGANIC STRAWBERRIES              28639\n",
      "3        21903      ORGANIC BABY SPINACH              26233\n",
      "4        47209      ORGANIC HASS AVOCADO              23629\n",
      "5        47766           ORGANIC AVOCADO              18743\n",
      "6        27845        ORGANIC WHOLE MILK              16251\n",
      "7        47626               LARGE LEMON              15044\n",
      "8        27966       ORGANIC RASPBERRIES              14748\n",
      "9        16797              STRAWBERRIES              13945\n",
      "10       26209                     LIMES              13327\n",
      "11       22935      ORGANIC YELLOW ONION              11145\n",
      "12       24964            ORGANIC GARLIC              10411\n",
      "13       45007          ORGANIC ZUCCHINI              10076\n",
      "14       49683            CUCUMBER KIRBY               9538\n",
      "15       28204        ORGANIC FUJI APPLE               8989\n",
      "16        8277  APPLE HONEYCRISP ORGANIC               8836\n",
      "17       39275       ORGANIC BLUEBERRIES               8799\n",
      "18        5876             ORGANIC LEMON               8412\n",
      "19       49235       ORGANIC HALF & HALF               8389\n"
     ]
    }
   ],
   "source": [
    "print(top_freq_reorder[[\"product_id\", \"product_name\", \"reorder_frequency\"]])"
   ]
  },
  {
   "cell_type": "markdown",
   "id": "80e70c74",
   "metadata": {
    "id": "80e70c74"
   },
   "source": [
    "Es posible observar que el producto que encabeza la lista de los artículos que vuelven a pedirse con mayor frecuencia son los plátanos con un total de 55 763, mientras que la leche mitad a mitad es el último producto del top20 con un total de 8 389. Adicionalmente, se destaca la preferencia de los clientes por las frutas y verduras orgánicas."
   ]
  },
  {
   "cell_type": "markdown",
   "id": "9d312b14",
   "metadata": {
    "id": "9d312b14"
   },
   "source": [
    "### [C3] Para cada producto, ¿cuál es la proporción de las veces que se pide y que se vuelve a pedir?"
   ]
  },
  {
   "cell_type": "code",
   "execution_count": 201,
   "id": "8ae9f4b1",
   "metadata": {
    "id": "8ae9f4b1"
   },
   "outputs": [
    {
     "name": "stdout",
     "output_type": "stream",
     "text": [
      "product_id\n",
      "14721    1.0\n",
      "20949    1.0\n",
      "6723     1.0\n",
      "6732     1.0\n",
      "45088    1.0\n",
      "        ... \n",
      "10485    0.0\n",
      "37690    0.0\n",
      "10484    0.0\n",
      "10474    0.0\n",
      "42984    0.0\n",
      "Name: reordered, Length: 45573, dtype: float64\n"
     ]
    }
   ],
   "source": [
    "print(data_merged.groupby(\"product_id\")[\"reordered\"].mean().sort_values(ascending=False))"
   ]
  },
  {
   "cell_type": "code",
   "execution_count": 199,
   "id": "103e7fe1",
   "metadata": {
    "id": "103e7fe1"
   },
   "outputs": [
    {
     "data": {
      "text/plain": [
       "<AxesSubplot:title={'center':'Proporción de veces que se vuelve a pedir un producto'}, ylabel='Frequency'>"
      ]
     },
     "execution_count": 199,
     "metadata": {},
     "output_type": "execute_result"
    },
    {
     "data": {
      "image/png": "[encoded data removed]",
      "text/plain": [
       "<Figure size 432x288 with 1 Axes>"
      ]
     },
     "metadata": {
      "needs_background": "light"
     },
     "output_type": "display_data"
    }
   ],
   "source": [
    "data_merged.groupby(\"product_id\")[\"reordered\"].mean().plot(kind=\"hist\", \n",
    "                                                           bins=50, \n",
    "                                                           color=\"hotpink\",\n",
    "                                                           title=\"Proporción de veces que se vuelve a pedir un producto\")"
   ]
  },
  {
   "cell_type": "code",
   "execution_count": 203,
   "id": "social-individual",
   "metadata": {
    "id": "social-individual"
   },
   "outputs": [
    {
     "name": "stdout",
     "output_type": "stream",
     "text": [
      "                            Cantidad de productos\n",
      "Proporción de repeticiones                       \n",
      "0.549430                                        1\n",
      "0.600775                                        1\n",
      "0.600713                                        1\n",
      "0.600567                                        1\n",
      "0.600484                                        1\n",
      "...                                           ...\n",
      "0.250000                                     1266\n",
      "1.000000                                     1809\n",
      "0.333333                                     2046\n",
      "0.500000                                     3273\n",
      "0.000000                                     9345\n",
      "\n",
      "[6118 rows x 1 columns]\n"
     ]
    }
   ],
   "source": [
    "print(data_merged.groupby(\"product_id\")[\"reordered\"].mean().value_counts().sort_index().to_frame(\"Cantidad de productos\").rename_axis(\"Proporción de repeticiones\").sort_values(by=\"Cantidad de productos\"))"
   ]
  },
  {
   "cell_type": "markdown",
   "id": "I10dEIAyldcO",
   "metadata": {
    "id": "I10dEIAyldcO"
   },
   "source": [
    "Es posible observar que la mayoría de productos solo se piden una vez. Empero, entre los productos que se piden en más de una oportunidad, la proporción que se repite con mayor frecuencia es 0.5"
   ]
  },
  {
   "cell_type": "markdown",
   "id": "subject-boxing",
   "metadata": {
    "id": "subject-boxing"
   },
   "source": [
    "### [C4] Para cada cliente, ¿qué proporción de sus productos ya los había pedido?"
   ]
  },
  {
   "cell_type": "code",
   "execution_count": 204,
   "id": "medical-couple",
   "metadata": {
    "id": "medical-couple",
    "scrolled": true
   },
   "outputs": [
    {
     "name": "stdout",
     "output_type": "stream",
     "text": [
      "                            Cantidad de clientes\n",
      "Proporción de repeticiones                      \n",
      "0.693642                                       1\n",
      "0.724551                                       1\n",
      "0.724675                                       1\n",
      "0.725118                                       1\n",
      "0.725352                                       1\n",
      "...                                          ...\n",
      "0.666667                                    3864\n",
      "0.333333                                    3896\n",
      "0.500000                                    6524\n",
      "1.000000                                    8102\n",
      "0.000000                                   16635\n",
      "\n",
      "[5220 rows x 1 columns]\n"
     ]
    }
   ],
   "source": [
    "print(data_merged.groupby(\"user_id\")[\"reordered\"].mean().value_counts().sort_index().to_frame(\"Cantidad de clientes\").rename_axis(\"Proporción de repeticiones\").sort_values(by=\"Cantidad de clientes\"))"
   ]
  },
  {
   "cell_type": "code",
   "execution_count": 152,
   "id": "8892e4b4",
   "metadata": {
    "id": "8892e4b4"
   },
   "outputs": [
    {
     "data": {
      "text/plain": [
       "<AxesSubplot:title={'center':'Proporción de veces que se vuelve a pedir un producto por cliente'}, ylabel='Frequency'>"
      ]
     },
     "execution_count": 152,
     "metadata": {},
     "output_type": "execute_result"
    },
    {
     "data": {
      "image/png": "[encoded data removed]",
      "text/plain": [
       "<Figure size 432x288 with 1 Axes>"
      ]
     },
     "metadata": {
      "needs_background": "light"
     },
     "output_type": "display_data"
    }
   ],
   "source": [
    "data_merged.groupby(\"user_id\")[\"reordered\"].mean().plot(kind=\"hist\", \n",
    "                                                        bins=50, \n",
    "                                                        color=\"hotpink\",\n",
    "                                                        title=\"Proporción de veces que se vuelve a pedir un producto por cliente\")"
   ]
  },
  {
   "cell_type": "markdown",
   "id": "BgJSvXDsleXz",
   "metadata": {
    "id": "BgJSvXDsleXz"
   },
   "source": [
    "Es posible observar que la mayoría de clientes no ha pedido sus productos con anterioridad, siendo la segunda proporción más frecuente 1, con 8 102 repeticiones. "
   ]
  },
  {
   "cell_type": "markdown",
   "id": "92d35137",
   "metadata": {
    "id": "92d35137"
   },
   "source": [
    "### [C5] ¿Cuáles son los 20 principales artículos que las personas ponen primero en sus carritos?"
   ]
  },
  {
   "cell_type": "code",
   "execution_count": 164,
   "id": "0ae57274",
   "metadata": {
    "id": "0ae57274",
    "scrolled": true
   },
   "outputs": [],
   "source": [
    "primera_orden = data_merged[data_merged[\"add_to_cart_order\"] == 1]"
   ]
  },
  {
   "cell_type": "code",
   "execution_count": 165,
   "id": "forty-netherlands",
   "metadata": {
    "id": "forty-netherlands",
    "scrolled": true
   },
   "outputs": [],
   "source": [
    "primera_orden = primera_orden.groupby([\"product_id\", \"product_name\"]).size().reset_index(name=\"frecuencia\").sort_values(by=\"frecuencia\", ascending=False).head(20)"
   ]
  },
  {
   "cell_type": "code",
   "execution_count": 166,
   "id": "08e41ec2",
   "metadata": {
    "id": "08e41ec2"
   },
   "outputs": [
    {
     "name": "stdout",
     "output_type": "stream",
     "text": [
      "       product_id                 product_name  frecuencia\n",
      "13414       24852                       BANANA       15562\n",
      "7127        13176       BAG OF ORGANIC BANANAS       11026\n",
      "15028       27845           ORGANIC WHOLE MILK        4363\n",
      "11384       21137         ORGANIC STRAWBERRIES        3946\n",
      "25439       47209         ORGANIC HASS AVOCADO        3390\n",
      "11786       21903         ORGANIC BABY SPINACH        3336\n",
      "25732       47766              ORGANIC AVOCADO        3044\n",
      "10622       19660                 SPRING WATER        2336\n",
      "9050        16797                 STRAWBERRIES        2308\n",
      "15102       27966          ORGANIC RASPBERRIES        2024\n",
      "24024       44632   SPARKLING WATER GRAPEFRUIT        1914\n",
      "26519       49235          ORGANIC HALF & HALF        1797\n",
      "25658       47626                  LARGE LEMON        1737\n",
      "115           196                         SODA        1733\n",
      "20853       38689     ORGANIC REDUCED FAT MILK        1397\n",
      "14158       26209                        LIMES        1370\n",
      "6660        12341                HASS AVOCADOS        1340\n",
      "3153         5785  ORGANIC REDUCED FAT 2% MILK        1310\n",
      "14639       27086                  HALF & HALF        1309\n",
      "23335       43352                  RASPBERRIES        1246\n"
     ]
    }
   ],
   "source": [
    "print(primera_orden)"
   ]
  },
  {
   "cell_type": "markdown",
   "id": "28ce9872",
   "metadata": {
    "id": "28ce9872"
   },
   "source": [
    "Es posible observar que el producto que lidera el listado de los 20 principales artículos que se ponen primero en el carro de compra son los plátanos, ocurriendo ello en 15 562 oportunidades, cerrando el listado las frambuesas las últimas de la lista con una frecuencia de 1 246 veces. "
   ]
  },
  {
   "cell_type": "markdown",
   "id": "3ff169d7",
   "metadata": {},
   "source": [
    "<div class=\"alert alert-block alert-success\">\n",
    "<b>Comentario del revisor</b> <a class=\"tocSkip\"></a>\n",
    "\n",
    "Muy buen desarrollo de la sección. Desarrollaste de buena manera todos los análisis y lo complementaste con una gráfica. \n",
    "</div>"
   ]
  },
  {
   "cell_type": "markdown",
   "id": "uITbFCEoDosC",
   "metadata": {
    "id": "uITbFCEoDosC"
   },
   "source": [
    "### Conclusion general del proyecto:"
   ]
  },
  {
   "cell_type": "markdown",
   "id": "7c40daa9",
   "metadata": {
    "id": "Nk-4GS7mDwqY"
   },
   "source": [
    "En conclusión pudimos observar que la mayor afluencia de clientes ocurre en horas de la mañana y se mantiene alta hasta fines de la tarde. Asimismo pudimos observar que los domingos y los lunes son los días de mayor afluencia de clientes. Además, cabe destacar la importancia de los productos orgánicos y de las frutas y verduras para los clientes de esta plataforma. Sumado a lo anterior, sería óptimo que se puedan consideran promociones para que los clientes tengan una menor cantidad de días entre pedidos. Lo anterior debido a que la mayoría de clientes solo pide a través de la plataforma una vez al mes. Además, podrían implementarse campañas para que se pidan una mayor cantidad de artículos por compra, debido a que actualmente la mayor frecuencia oscila entre 4 y 6 productos por pedido. Finalmente, se podría identificar a aquellos clientes que no recompran los productos que adquieren, para indagar el porqué. "
   ]
  },
  {
   "cell_type": "markdown",
   "id": "03085f47",
   "metadata": {},
   "source": [
    "<div class=\"alert alert-block alert-warning\">\n",
    "<b>Comentario revisor</b> <a class=\"tocSkip\"></a>\n",
    "\n",
    "En general creo que hiciste un muy buen trabajo con el proyecto, pudiste limpiar y trabajar las bases de datos de beuna manera, análisis de duplicados, y de valores faltantes. Además dearrollaste de buena manera los diferentes anális que se solicitaban y cuando podías los complementabas con greaficas. No obstante, recuerda que siempre podemos mejorar y te menciono algunos puntos que debes considerar:\n",
    "\n",
    "    \n",
    "*  Realizar análisis complementarios eliminando los valores que parecen ser atípicos. \n",
    "    \n",
    "\n",
    "*  Profundizar en los resultados intermedios y en la conclusión final.\n",
    "\n",
    "</div>"
   ]
  }
 ],
 "metadata": {
  "ExecuteTimeLog": [
   {
    "duration": 322,
    "start_time": "2024-06-18T23:07:04.094Z"
   }
  ],
  "colab": {
   "provenance": []
  },
  "kernelspec": {
   "display_name": "Python 3 (ipykernel)",
   "language": "python",
   "name": "python3"
  },
  "language_info": {
   "codemirror_mode": {
    "name": "ipython",
    "version": 3
   },
   "file_extension": ".py",
   "mimetype": "text/x-python",
   "name": "python",
   "nbconvert_exporter": "python",
   "pygments_lexer": "ipython3",
   "version": "3.9.19"
  },
  "toc": {
   "base_numbering": 1,
   "nav_menu": {},
   "number_sections": true,
   "sideBar": true,
   "skip_h1_title": true,
   "title_cell": "Table of Contents",
   "title_sidebar": "Contents",
   "toc_cell": false,
   "toc_position": {},
   "toc_section_display": true,
   "toc_window_display": false
  },
  "vscode": {
   "interpreter": {
    "hash": "01a7be9ec63e704a62cefc5fe7a4756944464ee731be31632bdf42a4cb4688cf"
   }
  }
 },
 "nbformat": 4,
 "nbformat_minor": 5
}
