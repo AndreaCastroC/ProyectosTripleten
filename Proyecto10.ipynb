{
 "cells": [
  {
   "cell_type": "markdown",
   "metadata": {},
   "source": [
    "# ¡Hola, Andrea!  \n",
    "\n",
    "Mi nombre es Francisco Benavides, soy code reviewer de Tripleten y voy a revisar el proyecto que acabas de desarrollar.\n",
    "\n",
    "\n",
    "Cada ves que vea un error por primera vez, lo señalaré. Deberás encontrarlo y arreglarlo, ya que buscamos que te prepares para un trabajo real, en el cual tu líder de equipo hará lo mismo. Si no puedes solucionar el error, te brindaré algunos tips más especificos la proxima vez.\n",
    "\n",
    "Podrás encontrar mis comentarios más abajo - **por favor, no los muevas, no los modifiques ni los borres**.\n",
    "\n",
    "¿Cómo lo voy a hacer? Voy a leer cuidadosamente cada una de tus implementaciones que has llevado a cabo para complir con tu informe. Cada uno de mis comentarios tiene el siguiente código de colores:\n",
    "\n",
    "<div class=\"alert alert-block alert-success\">\n",
    "<b>Comentario del revisor</b> <a class=\"tocSkip\"></a>\n",
    "    \n",
    "Si todo está perfecto.\n",
    "</div>\n",
    "\n",
    "\n",
    "<div class=\"alert alert-block alert-warning\">\n",
    "<b>Comentario del revisor</b> <a class=\"tocSkip\"></a>\n",
    "    \n",
    "Si tu código está bien pero se puede mejorar o hay algún detalle que le hace falta.\n",
    "</div>\n",
    "\n",
    "\n",
    "<div class=\"alert alert-block alert-danger\">\n",
    "    \n",
    "<b>Comentario del revisor</b> <a class=\"tocSkip\"></a>\n",
    "    \n",
    "    \n",
    "Si de pronto hace falta algo o existe algún problema con tu código o conclusiones.\n",
    "</div>\n",
    "\n",
    "\n",
    "Si encuentras que es necesario, puedes responderme de esta forma: \n",
    "\n",
    "<div class=\"alert alert-block alert-info\">\n",
    "<b>Respuesta del estudiante</b> <a class=\"tocSkip\"></a>\n",
    "</div>\n",
    "\n",
    "Mucho éxito!"
   ]
  },
  {
   "cell_type": "markdown",
   "metadata": {},
   "source": [
    "# Proyecto integrado 10"
   ]
  },
  {
   "cell_type": "markdown",
   "metadata": {},
   "source": [
    "El objetivo del presente proyecto es encontrar los mejores lugares para abrir 200 pozos nuevos de petróleo. "
   ]
  },
  {
   "cell_type": "markdown",
   "metadata": {},
   "source": [
    "# Contenido <a id='back'></a>\n",
    "\n",
    "* [Etapa 1. Abrir el arhivo de datos y análisis general](#data_review)\n",
    "* [Etapa 2. Entrenamiento y evaluación del modelo para cada región](#train_test)\n",
    "* [Etapa 3. Cálculo de ganancias](#profit)\n",
    "* [Etapa 4. Bootstrapping](#bootstrapping)\n",
    "* [Etapa 5. Conclusión](#end)"
   ]
  },
  {
   "cell_type": "markdown",
   "metadata": {},
   "source": [
    "## Etapa 1. Abrir el archivo de datos y análisis general <a id='data_review'></a>"
   ]
  },
  {
   "cell_type": "code",
   "execution_count": 12,
   "metadata": {},
   "outputs": [],
   "source": [
    "#Llamar a las librerías\n",
    "import numpy as np\n",
    "import pandas as pd\n",
    "from sklearn.linear_model import LinearRegression\n",
    "from sklearn.metrics import mean_squared_error\n",
    "from sklearn.model_selection import train_test_split"
   ]
  },
  {
   "cell_type": "code",
   "execution_count": 13,
   "metadata": {},
   "outputs": [],
   "source": [
    "#Llamar a las bases de datos\n",
    "data_region_0 = pd.read_csv('/datasets/geo_data_0.csv')\n",
    "data_region_1 = pd.read_csv('/datasets/geo_data_1.csv')\n",
    "data_region_2 = pd.read_csv('/datasets/geo_data_2.csv')"
   ]
  },
  {
   "cell_type": "code",
   "execution_count": 14,
   "metadata": {},
   "outputs": [
    {
     "name": "stdout",
     "output_type": "stream",
     "text": [
      "<class 'pandas.core.frame.DataFrame'>\n",
      "RangeIndex: 100000 entries, 0 to 99999\n",
      "Data columns (total 5 columns):\n",
      " #   Column   Non-Null Count   Dtype  \n",
      "---  ------   --------------   -----  \n",
      " 0   id       100000 non-null  object \n",
      " 1   f0       100000 non-null  float64\n",
      " 2   f1       100000 non-null  float64\n",
      " 3   f2       100000 non-null  float64\n",
      " 4   product  100000 non-null  float64\n",
      "dtypes: float64(4), object(1)\n",
      "memory usage: 3.8+ MB\n",
      "None\n",
      "\n",
      "<class 'pandas.core.frame.DataFrame'>\n",
      "RangeIndex: 100000 entries, 0 to 99999\n",
      "Data columns (total 5 columns):\n",
      " #   Column   Non-Null Count   Dtype  \n",
      "---  ------   --------------   -----  \n",
      " 0   id       100000 non-null  object \n",
      " 1   f0       100000 non-null  float64\n",
      " 2   f1       100000 non-null  float64\n",
      " 3   f2       100000 non-null  float64\n",
      " 4   product  100000 non-null  float64\n",
      "dtypes: float64(4), object(1)\n",
      "memory usage: 3.8+ MB\n",
      "None\n",
      "\n",
      "<class 'pandas.core.frame.DataFrame'>\n",
      "RangeIndex: 100000 entries, 0 to 99999\n",
      "Data columns (total 5 columns):\n",
      " #   Column   Non-Null Count   Dtype  \n",
      "---  ------   --------------   -----  \n",
      " 0   id       100000 non-null  object \n",
      " 1   f0       100000 non-null  float64\n",
      " 2   f1       100000 non-null  float64\n",
      " 3   f2       100000 non-null  float64\n",
      " 4   product  100000 non-null  float64\n",
      "dtypes: float64(4), object(1)\n",
      "memory usage: 3.8+ MB\n",
      "None\n"
     ]
    }
   ],
   "source": [
    "#Observar la información general de las datas\n",
    "print(data_region_0.info())\n",
    "print()\n",
    "print(data_region_1.info())\n",
    "print()\n",
    "print(data_region_2.info())"
   ]
  },
  {
   "cell_type": "code",
   "execution_count": 15,
   "metadata": {},
   "outputs": [
    {
     "name": "stdout",
     "output_type": "stream",
     "text": [
      "      id        f0        f1        f2     product\n",
      "0  txEyH  0.705745 -0.497823  1.221170  105.280062\n",
      "1  2acmU  1.334711 -0.340164  4.365080   73.037750\n",
      "2  409Wp  1.022732  0.151990  1.419926   85.265647\n",
      "3  iJLyR -0.032172  0.139033  2.978566  168.620776\n",
      "4  Xdl7t  1.988431  0.155413  4.751769  154.036647\n",
      "\n",
      "      id         f0         f1        f2     product\n",
      "0  kBEdx -15.001348  -8.276000 -0.005876    3.179103\n",
      "1  62mP7  14.272088  -3.475083  0.999183   26.953261\n",
      "2  vyE1P   6.263187  -5.948386  5.001160  134.766305\n",
      "3  KcrkZ -13.081196 -11.506057  4.999415  137.945408\n",
      "4  AHL4O  12.702195  -8.147433  5.004363  134.766305\n",
      "\n",
      "      id        f0        f1        f2     product\n",
      "0  fwXo0 -1.146987  0.963328 -0.828965   27.758673\n",
      "1  WJtFt  0.262778  0.269839 -2.530187   56.069697\n",
      "2  ovLUW  0.194587  0.289035 -5.586433   62.871910\n",
      "3  q6cA6  2.236060 -0.553760  0.930038  114.572842\n",
      "4  WPMUX -0.515993  1.716266  5.899011  149.600746\n"
     ]
    }
   ],
   "source": [
    "print(data_region_0.head())\n",
    "print()\n",
    "print(data_region_1.head())\n",
    "print()\n",
    "print(data_region_2.head())"
   ]
  },
  {
   "cell_type": "code",
   "execution_count": 16,
   "metadata": {},
   "outputs": [
    {
     "name": "stdout",
     "output_type": "stream",
     "text": [
      "                  f0             f1             f2        product\n",
      "count  100000.000000  100000.000000  100000.000000  100000.000000\n",
      "mean        0.500419       0.250143       2.502647      92.500000\n",
      "std         0.871832       0.504433       3.248248      44.288691\n",
      "min        -1.408605      -0.848218     -12.088328       0.000000\n",
      "25%        -0.072580      -0.200881       0.287748      56.497507\n",
      "50%         0.502360       0.250252       2.515969      91.849972\n",
      "75%         1.073581       0.700646       4.715088     128.564089\n",
      "max         2.362331       1.343769      16.003790     185.364347\n",
      "\n",
      "                  f0             f1             f2        product\n",
      "count  100000.000000  100000.000000  100000.000000  100000.000000\n",
      "mean        1.141296      -4.796579       2.494541      68.825000\n",
      "std         8.965932       5.119872       1.703572      45.944423\n",
      "min       -31.609576     -26.358598      -0.018144       0.000000\n",
      "25%        -6.298551      -8.267985       1.000021      26.953261\n",
      "50%         1.153055      -4.813172       2.011479      57.085625\n",
      "75%         8.621015      -1.332816       3.999904     107.813044\n",
      "max        29.421755      18.734063       5.019721     137.945408\n",
      "\n",
      "                  f0             f1             f2        product\n",
      "count  100000.000000  100000.000000  100000.000000  100000.000000\n",
      "mean        0.002023      -0.002081       2.495128      95.000000\n",
      "std         1.732045       1.730417       3.473445      44.749921\n",
      "min        -8.760004      -7.084020     -11.970335       0.000000\n",
      "25%        -1.162288      -1.174820       0.130359      59.450441\n",
      "50%         0.009424      -0.009482       2.484236      94.925613\n",
      "75%         1.158535       1.163678       4.858794     130.595027\n",
      "max         7.238262       7.844801      16.739402     190.029838\n"
     ]
    }
   ],
   "source": [
    "print(data_region_0.describe())\n",
    "print()\n",
    "print(data_region_1.describe())\n",
    "print()\n",
    "print(data_region_2.describe())"
   ]
  },
  {
   "cell_type": "code",
   "execution_count": 17,
   "metadata": {},
   "outputs": [
    {
     "name": "stdout",
     "output_type": "stream",
     "text": [
      "0\n",
      "0\n",
      "0\n"
     ]
    }
   ],
   "source": [
    "#Ver si hay duplicados\n",
    "print(data_region_0.duplicated().sum())\n",
    "print(data_region_1.duplicated().sum())\n",
    "print(data_region_2.duplicated().sum())"
   ]
  },
  {
   "cell_type": "markdown",
   "metadata": {},
   "source": [
    "### Conclusión etapa 1\n",
    "Puede observarse que las variables están categorizadas de manera correcta y que no hay valores perdidos ni valores duplicados. Además, se observa que la desviación estándar del volumen de reserva en los pozos de petróleo por región es alta y muy similar entre las tres. En ese contexto, es necesario mencionar que la región con la mediana más alta es la región 2, teniendo la mitad de sus pozos un volumen de reservas por encima de los 94.93 mil barriles. Le sigue la región 0, teniendo la mitad de sus pozos un volumen de reservas por encima de los 91.85 mil barriles. Finalmente, se encuentra la región 1, teniendo la mitad de sus pozos un volumen de reservas por encima de los 57.09 mil barriles."
   ]
  },
  {
   "cell_type": "markdown",
   "metadata": {},
   "source": [
    "<div class=\"alert alert-block alert-success\">\n",
    "<b>Comentario del revisor</b> <a class=\"tocSkip\"></a>\n",
    "    \n",
    "Muy buen analisis de la etapa 1\n",
    "</div>"
   ]
  },
  {
   "cell_type": "markdown",
   "metadata": {},
   "source": [
    "## Etapa 2. Entrenamiento y evaluación del modelo para cada región <a id='train_test'></a>"
   ]
  },
  {
   "cell_type": "code",
   "execution_count": 18,
   "metadata": {},
   "outputs": [
    {
     "name": "stdout",
     "output_type": "stream",
     "text": [
      "RMSE Región 0: 37.5794217150813\n",
      "RMSE Región 1: 0.893099286775617\n",
      "RMSE Región 2: 40.02970873393434\n"
     ]
    }
   ],
   "source": [
    "#Separación de las características y el target para cada región\n",
    "features_0 = data_region_0.drop(columns=['id','product']).select_dtypes(include=[np.number])\n",
    "target_0 = data_region_0['product']\n",
    "\n",
    "features_1 = data_region_1.drop(columns=['id','product']).select_dtypes(include=[np.number])\n",
    "target_1 = data_region_1['product']\n",
    "\n",
    "features_2 = data_region_2.drop(columns=['id','product']).select_dtypes(include=[np.number])\n",
    "target_2 = data_region_2['product']\n",
    "\n",
    "#División en conjuntos de entrenamiento y validación\n",
    "features_train_0, features_valid_0, target_train_0, target_valid_0 = train_test_split(features_0, target_0, test_size=0.25, random_state=12345)\n",
    "features_train_1, features_valid_1, target_train_1, target_valid_1 = train_test_split(features_1, target_1, test_size=0.25, random_state=12345)\n",
    "features_train_2, features_valid_2, target_train_2, target_valid_2 = train_test_split(features_2, target_2, test_size=0.25, random_state=12345)\n",
    "    \n",
    "#Entrenamiento del modelo de regresión lineal\n",
    "model_region_0 = LinearRegression()\n",
    "model_region_0.fit(features_train_0, target_train_0)\n",
    "\n",
    "model_region_1 = LinearRegression()\n",
    "model_region_1.fit(features_train_1, target_train_1)\n",
    "\n",
    "model_region_2 = LinearRegression()\n",
    "model_region_2.fit(features_train_2, target_train_2)\n",
    "    \n",
    "#Predicciones en el conjunto de validación\n",
    "predictions_region_0 = model_region_0.predict(features_valid_0)\n",
    "predictions_region_1 = model_region_1.predict(features_valid_1)\n",
    "predictions_region_2 = model_region_2.predict(features_valid_2)\n",
    "    \n",
    "#Cálculo del RMSE\n",
    "rmse_region_0 = np.sqrt(mean_squared_error(target_valid_0, predictions_region_0))\n",
    "rmse_region_1 = np.sqrt(mean_squared_error(target_valid_1, predictions_region_1))\n",
    "rmse_region_2 = np.sqrt(mean_squared_error(target_valid_2, predictions_region_2))\n",
    "\n",
    "print(f\"RMSE Región 0: {rmse_region_0}\")\n",
    "print(f\"RMSE Región 1: {rmse_region_1}\")\n",
    "print(f\"RMSE Región 2: {rmse_region_2}\")\n",
    "    \n",
    "#Volumen promedio de reservas predicho\n",
    "predicted_mean_region_0 = predictions_region_0.mean()\n",
    "predicted_mean_region_1 = predictions_region_1.mean()\n",
    "predicted_mean_region_2 = predictions_region_2.mean()"
   ]
  },
  {
   "cell_type": "code",
   "execution_count": 19,
   "metadata": {},
   "outputs": [
    {
     "name": "stdout",
     "output_type": "stream",
     "text": [
      "Volumen promedio predicho para la Región 0: 92.59\n",
      "Volumen promedio predicho para la Región 1: 68.73\n",
      "Volumen promedio predicho para la Región 2: 94.97\n"
     ]
    }
   ],
   "source": [
    "predicted_mean_region_0 = predictions_region_0.mean()\n",
    "predicted_mean_region_1 = predictions_region_1.mean()\n",
    "predicted_mean_region_2 = predictions_region_2.mean()\n",
    "\n",
    "print(f\"Volumen promedio predicho para la Región 0: {predicted_mean_region_0:.2f}\")\n",
    "print(f\"Volumen promedio predicho para la Región 1: {predicted_mean_region_1:.2f}\")\n",
    "print(f\"Volumen promedio predicho para la Región 2: {predicted_mean_region_2:.2f}\")"
   ]
  },
  {
   "cell_type": "markdown",
   "metadata": {},
   "source": [
    "### Conclusión etapa 2\n",
    "Se observa que el modelo con mejor ajuste es el de la región 1, debido a que el RMSE es de 0.89. Lo anterior indica que este modelo predice muy bien el volumen de reservas en esta región. En contraste, el RMSE de las regiones 0 y 2 es considerablemente más alto. Adicionalmente, es posible observar que en lo que respecta al volumen de los pozos de petróleo predichos, la región 2 es la que ostenta mayor cantidad, con 94.97 miles de barriles. Le sigue la región 0 con 92.59 miles de barriles y, en tercer lugar, estaría la región 1, con 68.73 miles de barriles. "
   ]
  },
  {
   "cell_type": "markdown",
   "metadata": {},
   "source": [
    "<div class=\"alert alert-block alert-success\">\n",
    "<b>Comentario del revisor</b> <a class=\"tocSkip\"></a>\n",
    "    \n",
    "Buen trabajo entrenando cada modelo de las regiones\n",
    "</div>"
   ]
  },
  {
   "cell_type": "markdown",
   "metadata": {},
   "source": [
    "## Etapa 3. Cálculo de ganancias <a id='profit'></a>"
   ]
  },
  {
   "cell_type": "code",
   "execution_count": 20,
   "metadata": {},
   "outputs": [
    {
     "name": "stdout",
     "output_type": "stream",
     "text": [
      "Umbral mínimo de reservas para evitar pérdidas: 111.11\n"
     ]
    }
   ],
   "source": [
    "#Valores clave\n",
    "budget = 100000000  #Presupuesto en dólares\n",
    "best_points = 200\n",
    "revenue_per_unit = 4500  #Ingreso por unidad de producto\n",
    "\n",
    "#Umbral mínimo de reservas para evitar pérdidas\n",
    "umbral = budget/(best_points*revenue_per_unit)\n",
    "print(f\"Umbral mínimo de reservas para evitar pérdidas: {umbral:.2f}\")"
   ]
  },
  {
   "cell_type": "markdown",
   "metadata": {},
   "source": [
    "<div class=\"alert alert-block alert-danger\">\n",
    "<b>Comentario del revisor</b> <a class=\"tocSkip\"></a>\n",
    "    \n",
    "**solucionado**    \n",
    "    \n",
    "    \n",
    "El umbral de reservas se calcula como:\n",
    "    \n",
    "    budget = 100000000\n",
    "    best_points = 200\n",
    "    revenue_per_unit = 4500\n",
    "    \n",
    "    umbral = budget/(best_points*revenue_per_unit)\n",
    "    \n",
    "</div>\n"
   ]
  },
  {
   "cell_type": "code",
   "execution_count": 21,
   "metadata": {},
   "outputs": [],
   "source": [
    "#Función para el cálculo de las ganancias\n",
    "def calculate_profit(predictions, target, count=200):\n",
    "    temp_df = pd.DataFrame({'predictions': predictions, 'target': target})\n",
    "    \n",
    "    #Mejores 200 pozos\n",
    "    top_predictions = temp_df.nlargest(count, 'predictions')\n",
    "    \n",
    "    #Cálculo de las ganancias usando los valores reales\n",
    "    revenue = top_predictions['target'].sum() * revenue_per_unit\n",
    "    profit = revenue - budget\n",
    "    return profit"
   ]
  },
  {
   "cell_type": "markdown",
   "metadata": {},
   "source": [
    "<div class=\"alert alert-block alert-success\">\n",
    "<b>Comentario del revisor</b> <a class=\"tocSkip\"></a>\n",
    "    \n",
    "**solucionado**    \n",
    "    \n",
    "Los 200 mejores pozos debes elegirlos con las predicciones, pero el revenue debes calcularlo con los valores reales de los pozos\n",
    "</div>"
   ]
  },
  {
   "cell_type": "code",
   "execution_count": 22,
   "metadata": {},
   "outputs": [
    {
     "name": "stdout",
     "output_type": "stream",
     "text": [
      "Ganancia estimada para la Región 0: $33208260.43\n",
      "Ganancia estimada para la Región 1: $24150866.97\n",
      "Ganancia estimada para la Región 2: $27103499.64\n"
     ]
    }
   ],
   "source": [
    "#Cálculo de ganancias para cada región\n",
    "profit_region_0 = calculate_profit(predictions_region_0, target_valid_0)\n",
    "profit_region_1 = calculate_profit(predictions_region_1, target_valid_1)\n",
    "profit_region_2 = calculate_profit(predictions_region_2, target_valid_2)\n",
    "\n",
    "print(f'Ganancia estimada para la Región 0: ${profit_region_0:.2f}')\n",
    "print(f'Ganancia estimada para la Región 1: ${profit_region_1:.2f}')\n",
    "print(f'Ganancia estimada para la Región 2: ${profit_region_2:.2f}')"
   ]
  },
  {
   "cell_type": "markdown",
   "metadata": {},
   "source": [
    "### Conclusión etapa 3\n",
    "Considerando que el volumen mínimo de reservas qe un pozo debe tener para ser rentable es de 111.11 mil barriles, así como los mejores 200 pozos de petróleo por región, fue posible determinar las ganacias estimdas por región. Estas ganancias nos indican que en la región 0 se obtendrían más ganancias a comparación de las otras dos regiones, superando las ganancias de la región 2 en 6 millones y de la región 1 en 9 millones. Sin embargo, debe mencionarse que ninguna de las 3 regiones analizadas cumple con el umbral mínimo de reservas, significando ello que existe un riesgo inherente en las 3 regiones."
   ]
  },
  {
   "cell_type": "markdown",
   "metadata": {},
   "source": [
    "<div class=\"alert alert-block alert-success\">\n",
    "<b>Comentario del revisor</b> <a class=\"tocSkip\"></a>\n",
    "    \n",
    "buen trabajo calculando los valores base de cada pozo\n",
    "</div>"
   ]
  },
  {
   "cell_type": "markdown",
   "metadata": {},
   "source": [
    "## Etapa 4. Bootstrapping <a id='bootstrapping'></a>"
   ]
  },
  {
   "cell_type": "code",
   "execution_count": 38,
   "metadata": {},
   "outputs": [],
   "source": [
    "#Función para evaluación con bootstrapping\n",
    "def bootstrapped_profit(predictions, target, count=200, n_bootstrap=1000, sample_size=500):\n",
    "    temp_df = pd.DataFrame({'predictions': predictions, 'target': target})\n",
    "\n",
    "    profits = []\n",
    "\n",
    "    for i in range(n_bootstrap):\n",
    "        #Muestreo aleatorio con reemplazo\n",
    "        sample = temp_df.sample(n=sample_size, replace=True, random_state=12345+i)\n",
    "        top_predictions = sample.nlargest(count, 'predictions')\n",
    "\n",
    "\n",
    "        #Cálculo de la ganancia\n",
    "        revenue = top_predictions['target'].sum() * revenue_per_unit\n",
    "        profit = revenue - budget\n",
    "        profits.append(profit)\n",
    "\n",
    "    profits = pd.Series(profits)\n",
    "    lower_bound = profits.quantile(0.025)\n",
    "    upper_bound = profits.quantile(0.975)\n",
    "    mean_profit = profits.mean()\n",
    "    risk = (profits < 0).sum()/len(profits)\n",
    "\n",
    "    return mean_profit, lower_bound, upper_bound, risk"
   ]
  },
  {
   "cell_type": "code",
   "execution_count": 39,
   "metadata": {},
   "outputs": [
    {
     "name": "stdout",
     "output_type": "stream",
     "text": [
      "Región 0 - Ganancia promedio: $3947268.35, Intervalo de confianza: ($-1418370.01, $8952001.68), Riesgo: 6.90%\n",
      "Región 1 - Ganancia promedio: $4468417.70, Intervalo de confianza: ($423838.71, $8608745.86), Riesgo: 1.20%\n",
      "Región 2 - Ganancia promedio: $3855086.50, Intervalo de confianza: ($-1738854.19, $9272058.12), Riesgo: 8.10%\n"
     ]
    }
   ],
   "source": [
    "#Aplicar bootstrapping a cada región\n",
    "mean_profit_0, lower_0, upper_0, risk_0 = bootstrapped_profit(predictions_region_0, target_valid_0)\n",
    "mean_profit_1, lower_1, upper_1, risk_1 = bootstrapped_profit(predictions_region_1, target_valid_1)\n",
    "mean_profit_2, lower_2, upper_2, risk_2 = bootstrapped_profit(predictions_region_2, target_valid_2)\n",
    "\n",
    "print(f'Región 0 - Ganancia promedio: ${mean_profit_0:.2f}, Intervalo de confianza: (${lower_0:.2f}, ${upper_0:.2f}), Riesgo: {risk_0:.2%}')\n",
    "print(f'Región 1 - Ganancia promedio: ${mean_profit_1:.2f}, Intervalo de confianza: (${lower_1:.2f}, ${upper_1:.2f}), Riesgo: {risk_1:.2%}')\n",
    "print(f'Región 2 - Ganancia promedio: ${mean_profit_2:.2f}, Intervalo de confianza: (${lower_2:.2f}, ${upper_2:.2f}), Riesgo: {risk_2:.2%}')\n"
   ]
  },
  {
   "cell_type": "markdown",
   "metadata": {},
   "source": [
    "### Conclusión etapa 4\n",
    "En primer lugar, se debe mencionar que la región con el menor riesgo es la región 1 (1.20%), seguido de la región 0 (6.90%) y de la región 2 (8.10%). Además, debe mencionarse que la región con la mayor ganancia promedio es la región 1, siendo esta aprox 500 mil más que la región con las segundas mejores ganancias (la región 0). Adicionalmente, debe mencionarse que tanto la región 0, como la 2, tienen valores negativos, lo que implicaría que hay un riesgo de que puedan existir pérdidas. Todo lo anterior indica que la región 1 sería la mejor opción desde una perspectiva de rentabilidad y riesgo. "
   ]
  },
  {
   "cell_type": "markdown",
   "metadata": {},
   "source": [
    "<div class=\"alert alert-block alert-success\">\n",
    "<b>Comentario del revisor</b> <a class=\"tocSkip\"></a>\n",
    "  \n",
    "**solucionado**    \n",
    "    \n",
    "**3° iteración.**\n",
    " \n",
    "Sigues manteniendo el error en el boostrap, debes elegir la muestra de boostrap desde todos los valores, no solo los mejores 200. Luego una vez obtenida la muestra de boostrap elegir los mejores 200 de esa muestra y calcular el revenue\n",
    "  \n",
    "Recuerda que primero debes generar la muestra de boostrap y luego elegir los 200 mejores pozos, tu codigo quedaria asi:\n",
    "    \n",
    "    def bootstrapped_profit(predictions, target, count=200, n_bootstrap=1000, sample_size=500):\n",
    "    temp_df = pd.DataFrame({'predictions': predictions, 'target': target})\n",
    "\n",
    "    profits = []\n",
    "\n",
    "    #Selección de los 200 mejores pozos\n",
    "    top_predictions = temp_df.nlargest(count, 'predictions')\n",
    "    \n",
    "    for i in range(n_bootstrap):\n",
    "        #Muestreo aleatorio con reemplazo\n",
    "        sample = temp_df.sample(n=sample_size, replace=True, random_state=12345+i)\n",
    "        top_predictions = sample.nlargest(count, 'predictions')\n",
    "\n",
    "\n",
    "        #Cálculo de la ganancia\n",
    "        revenue = top_predictions['target'].sum() * revenue_per_unit\n",
    "        profit = revenue - budget\n",
    "        profits.append(profit)\n",
    "\n",
    "        profits = pd.Series(profits)\n",
    "        lower_bound = profits.quantile(0.025)\n",
    "        upper_bound = profits.quantile(0.975)\n",
    "        mean_profit = profits.mean()\n",
    "        risk = (profits < 0).sum()/len(profits)\n",
    "\n",
    "        return mean_profit, lower_bound, upper_bound, risk\n",
    "\n",
    "    \n",
    "    \n",
    "**2° iteracion**\n",
    "    \n",
    "Recuerda que en el enunciado mencionan que se estudian 500 pozos,por lo que las muestras de bootstrap deben ser de ese tamaño, no del largo de temp_df\n",
    "    \n",
    "**1° iteracion**\n",
    "Gran trabajo!, como detalle El riesgo se calcula como (values < 0).sum()/len(values)\n",
    "</div>"
   ]
  },
  {
   "cell_type": "markdown",
   "metadata": {},
   "source": [
    "## Etapa 5. Conclusión <a id='end'></a>"
   ]
  },
  {
   "cell_type": "markdown",
   "metadata": {},
   "source": [
    "Por lo expuesto con anteriordad, se concluye que la mejor región para abrir 200 pozos de petróleo es la región 1. Lo anterior se debe a que esta región es la más segura y predecible. Además, el modelo tiene alta precisión y el riesgo muy bajo, lo que la hace una región estable y una inversión más segura."
   ]
  },
  {
   "cell_type": "markdown",
   "metadata": {},
   "source": [
    "<div class=\"alert alert-block alert-success\">\n",
    "<b>Comentario del revisor</b> <a class=\"tocSkip\"></a>\n",
    "    \n",
    "Muy buen trabajo y ordenado!\n",
    "</div>"
   ]
  },
  {
   "cell_type": "code",
   "execution_count": null,
   "metadata": {},
   "outputs": [],
   "source": []
  }
 ],
 "metadata": {
  "ExecuteTimeLog": [
   {
    "duration": 318,
    "start_time": "2024-08-17T21:33:38.488Z"
   },
   {
    "duration": 1120,
    "start_time": "2024-08-17T21:33:44.784Z"
   },
   {
    "duration": 869,
    "start_time": "2024-08-17T21:33:45.907Z"
   },
   {
    "duration": 0,
    "start_time": "2024-08-17T21:33:46.779Z"
   },
   {
    "duration": 466,
    "start_time": "2024-08-17T21:34:04.159Z"
   },
   {
    "duration": 43,
    "start_time": "2024-08-17T21:34:05.101Z"
   },
   {
    "duration": 15,
    "start_time": "2024-08-17T21:36:12.325Z"
   },
   {
    "duration": 97,
    "start_time": "2024-08-17T21:36:53.873Z"
   },
   {
    "duration": 159,
    "start_time": "2024-08-17T21:37:31.733Z"
   },
   {
    "duration": 6,
    "start_time": "2024-08-17T22:06:18.686Z"
   },
   {
    "duration": 154,
    "start_time": "2024-08-17T22:06:22.488Z"
   },
   {
    "duration": 4,
    "start_time": "2024-08-17T22:09:08.530Z"
   },
   {
    "duration": 4,
    "start_time": "2024-08-17T22:11:53.483Z"
   },
   {
    "duration": 509,
    "start_time": "2024-08-17T22:11:55.561Z"
   },
   {
    "duration": 4,
    "start_time": "2024-08-17T22:12:12.811Z"
   },
   {
    "duration": 5,
    "start_time": "2024-08-17T22:12:13.559Z"
   },
   {
    "duration": 118,
    "start_time": "2024-08-17T22:12:14.472Z"
   },
   {
    "duration": 5,
    "start_time": "2024-08-17T22:16:39.210Z"
   },
   {
    "duration": 14,
    "start_time": "2024-08-17T22:16:42.611Z"
   },
   {
    "duration": 6,
    "start_time": "2024-08-17T22:21:36.842Z"
   },
   {
    "duration": 2122,
    "start_time": "2024-08-17T22:21:38.191Z"
   },
   {
    "duration": 8,
    "start_time": "2024-08-17T22:25:47.677Z"
   },
   {
    "duration": 29,
    "start_time": "2024-08-17T22:26:07.411Z"
   },
   {
    "duration": 8,
    "start_time": "2024-08-17T22:27:16.828Z"
   },
   {
    "duration": 8730,
    "start_time": "2024-08-17T22:27:18.483Z"
   },
   {
    "duration": 1237,
    "start_time": "2024-08-19T21:56:29.219Z"
   },
   {
    "duration": 543,
    "start_time": "2024-08-19T21:56:30.460Z"
   },
   {
    "duration": 59,
    "start_time": "2024-08-19T21:56:31.006Z"
   },
   {
    "duration": 39,
    "start_time": "2024-08-19T21:56:31.070Z"
   },
   {
    "duration": 134,
    "start_time": "2024-08-19T21:56:31.112Z"
   },
   {
    "duration": 211,
    "start_time": "2024-08-19T21:56:31.250Z"
   },
   {
    "duration": 7,
    "start_time": "2024-08-19T21:56:31.465Z"
   },
   {
    "duration": 350,
    "start_time": "2024-08-19T21:56:31.475Z"
   },
   {
    "duration": 75,
    "start_time": "2024-08-19T21:56:31.828Z"
   },
   {
    "duration": 9,
    "start_time": "2024-08-19T21:56:31.913Z"
   },
   {
    "duration": 85,
    "start_time": "2024-08-19T21:56:31.926Z"
   },
   {
    "duration": 9,
    "start_time": "2024-08-19T21:56:32.014Z"
   },
   {
    "duration": 12305,
    "start_time": "2024-08-19T21:56:32.027Z"
   },
   {
    "duration": 1195,
    "start_time": "2024-08-20T03:15:37.346Z"
   },
   {
    "duration": 498,
    "start_time": "2024-08-20T03:15:38.545Z"
   },
   {
    "duration": 47,
    "start_time": "2024-08-20T03:15:39.046Z"
   },
   {
    "duration": 36,
    "start_time": "2024-08-20T03:15:39.096Z"
   },
   {
    "duration": 112,
    "start_time": "2024-08-20T03:15:39.137Z"
   },
   {
    "duration": 195,
    "start_time": "2024-08-20T03:15:39.252Z"
   },
   {
    "duration": 7,
    "start_time": "2024-08-20T03:15:39.450Z"
   },
   {
    "duration": 178,
    "start_time": "2024-08-20T03:15:39.460Z"
   },
   {
    "duration": 401,
    "start_time": "2024-08-20T03:15:42.976Z"
   },
   {
    "duration": 6,
    "start_time": "2024-08-20T03:15:43.773Z"
   },
   {
    "duration": 5,
    "start_time": "2024-08-20T03:16:11.312Z"
   },
   {
    "duration": 5,
    "start_time": "2024-08-20T03:16:12.821Z"
   },
   {
    "duration": 14,
    "start_time": "2024-08-20T03:16:17.754Z"
   },
   {
    "duration": 28,
    "start_time": "2024-08-20T03:19:20.503Z"
   },
   {
    "duration": 5,
    "start_time": "2024-08-20T03:33:19.240Z"
   },
   {
    "duration": 5,
    "start_time": "2024-08-20T03:34:25.297Z"
   },
   {
    "duration": 26,
    "start_time": "2024-08-20T03:34:27.471Z"
   },
   {
    "duration": 327,
    "start_time": "2024-08-20T19:23:40.195Z"
   },
   {
    "duration": 1189,
    "start_time": "2024-08-20T19:23:44.749Z"
   },
   {
    "duration": 584,
    "start_time": "2024-08-20T19:23:45.945Z"
   },
   {
    "duration": 57,
    "start_time": "2024-08-20T19:23:46.532Z"
   },
   {
    "duration": 18,
    "start_time": "2024-08-20T19:23:46.592Z"
   },
   {
    "duration": 138,
    "start_time": "2024-08-20T19:23:46.614Z"
   },
   {
    "duration": 188,
    "start_time": "2024-08-20T19:23:46.755Z"
   },
   {
    "duration": 126,
    "start_time": "2024-08-20T19:23:51.646Z"
   },
   {
    "duration": 4,
    "start_time": "2024-08-20T19:24:32.431Z"
   },
   {
    "duration": 364,
    "start_time": "2024-08-20T19:24:32.439Z"
   },
   {
    "duration": 43,
    "start_time": "2024-08-20T19:24:32.806Z"
   },
   {
    "duration": 27,
    "start_time": "2024-08-20T19:24:32.852Z"
   },
   {
    "duration": 119,
    "start_time": "2024-08-20T19:24:32.883Z"
   },
   {
    "duration": 175,
    "start_time": "2024-08-20T19:24:33.005Z"
   },
   {
    "duration": 35,
    "start_time": "2024-08-20T19:24:36.210Z"
   },
   {
    "duration": 43,
    "start_time": "2024-08-20T19:25:15.509Z"
   },
   {
    "duration": 139,
    "start_time": "2024-08-20T19:25:33.329Z"
   },
   {
    "duration": 89,
    "start_time": "2024-08-20T19:41:00.844Z"
   },
   {
    "duration": 27,
    "start_time": "2024-08-20T19:41:02.727Z"
   },
   {
    "duration": 6,
    "start_time": "2024-08-20T19:42:05.585Z"
   },
   {
    "duration": 5,
    "start_time": "2024-08-20T19:42:47.669Z"
   },
   {
    "duration": 5,
    "start_time": "2024-08-20T19:43:41.677Z"
   },
   {
    "duration": 14,
    "start_time": "2024-08-20T19:44:13.695Z"
   },
   {
    "duration": 7,
    "start_time": "2024-08-20T19:44:43.890Z"
   },
   {
    "duration": 30,
    "start_time": "2024-08-20T19:44:45.689Z"
   },
   {
    "duration": 8909,
    "start_time": "2024-08-20T19:45:27.930Z"
   },
   {
    "duration": 1157,
    "start_time": "2024-08-22T02:56:21.185Z"
   },
   {
    "duration": 505,
    "start_time": "2024-08-22T02:56:22.345Z"
   },
   {
    "duration": 54,
    "start_time": "2024-08-22T02:56:22.856Z"
   },
   {
    "duration": 23,
    "start_time": "2024-08-22T02:56:22.914Z"
   },
   {
    "duration": 134,
    "start_time": "2024-08-22T02:56:22.942Z"
   },
   {
    "duration": 213,
    "start_time": "2024-08-22T02:56:23.080Z"
   },
   {
    "duration": 139,
    "start_time": "2024-08-22T02:56:23.297Z"
   },
   {
    "duration": 72,
    "start_time": "2024-08-22T02:56:23.440Z"
   },
   {
    "duration": 16,
    "start_time": "2024-08-22T02:56:23.515Z"
   },
   {
    "duration": 75,
    "start_time": "2024-08-22T02:56:23.536Z"
   },
   {
    "duration": 15,
    "start_time": "2024-08-22T02:56:23.614Z"
   },
   {
    "duration": 10,
    "start_time": "2024-08-22T02:56:23.632Z"
   },
   {
    "duration": 8415,
    "start_time": "2024-08-22T02:56:23.646Z"
   },
   {
    "duration": 9,
    "start_time": "2024-08-22T03:00:27.984Z"
   },
   {
    "duration": 6,
    "start_time": "2024-08-22T03:00:40.720Z"
   },
   {
    "duration": 1128,
    "start_time": "2024-08-22T03:01:20.764Z"
   },
   {
    "duration": 535,
    "start_time": "2024-08-22T03:01:21.895Z"
   },
   {
    "duration": 45,
    "start_time": "2024-08-22T03:01:22.433Z"
   },
   {
    "duration": 38,
    "start_time": "2024-08-22T03:01:22.481Z"
   },
   {
    "duration": 115,
    "start_time": "2024-08-22T03:01:22.524Z"
   },
   {
    "duration": 183,
    "start_time": "2024-08-22T03:01:22.642Z"
   },
   {
    "duration": 100,
    "start_time": "2024-08-22T03:01:22.827Z"
   },
   {
    "duration": 7,
    "start_time": "2024-08-22T03:01:22.934Z"
   },
   {
    "duration": 6,
    "start_time": "2024-08-22T03:01:23.009Z"
   },
   {
    "duration": 8,
    "start_time": "2024-08-22T03:01:23.018Z"
   },
   {
    "duration": 90,
    "start_time": "2024-08-22T03:01:23.030Z"
   },
   {
    "duration": 8,
    "start_time": "2024-08-22T03:01:23.123Z"
   },
   {
    "duration": 8358,
    "start_time": "2024-08-22T03:01:23.134Z"
   },
   {
    "duration": 9,
    "start_time": "2024-08-22T03:01:38.415Z"
   },
   {
    "duration": 7,
    "start_time": "2024-08-22T03:01:45.992Z"
   },
   {
    "duration": 14,
    "start_time": "2024-08-22T03:02:19.287Z"
   },
   {
    "duration": 15,
    "start_time": "2024-08-22T03:02:40.652Z"
   },
   {
    "duration": 10,
    "start_time": "2024-08-22T03:03:16.321Z"
   },
   {
    "duration": 11,
    "start_time": "2024-08-22T03:04:05.196Z"
   },
   {
    "duration": 8,
    "start_time": "2024-08-22T03:06:17.553Z"
   },
   {
    "duration": 8578,
    "start_time": "2024-08-22T03:06:19.003Z"
   },
   {
    "duration": 7,
    "start_time": "2024-08-22T03:07:02.387Z"
   },
   {
    "duration": 8509,
    "start_time": "2024-08-22T03:07:03.074Z"
   },
   {
    "duration": 8,
    "start_time": "2024-08-22T03:09:41.676Z"
   },
   {
    "duration": 7878,
    "start_time": "2024-08-22T03:09:42.267Z"
   },
   {
    "duration": 8,
    "start_time": "2024-08-22T03:10:04.518Z"
   },
   {
    "duration": 8672,
    "start_time": "2024-08-22T03:10:06.727Z"
   },
   {
    "duration": 6,
    "start_time": "2024-08-22T03:10:41.540Z"
   },
   {
    "duration": 7724,
    "start_time": "2024-08-22T03:10:42.179Z"
   },
   {
    "duration": 7,
    "start_time": "2024-08-22T03:10:55.089Z"
   },
   {
    "duration": 7533,
    "start_time": "2024-08-22T03:10:55.363Z"
   },
   {
    "duration": 14,
    "start_time": "2024-08-22T03:12:58.226Z"
   },
   {
    "duration": 6,
    "start_time": "2024-08-22T03:13:09.272Z"
   },
   {
    "duration": 7,
    "start_time": "2024-08-22T03:13:37.107Z"
   },
   {
    "duration": 5206,
    "start_time": "2024-08-22T03:13:43.210Z"
   },
   {
    "duration": 1177,
    "start_time": "2024-08-22T04:51:18.158Z"
   },
   {
    "duration": 511,
    "start_time": "2024-08-22T04:51:19.339Z"
   },
   {
    "duration": 59,
    "start_time": "2024-08-22T04:51:19.853Z"
   },
   {
    "duration": 16,
    "start_time": "2024-08-22T04:51:19.915Z"
   },
   {
    "duration": 121,
    "start_time": "2024-08-22T04:51:19.935Z"
   },
   {
    "duration": 175,
    "start_time": "2024-08-22T04:51:20.058Z"
   },
   {
    "duration": 101,
    "start_time": "2024-08-22T04:51:20.236Z"
   },
   {
    "duration": 6,
    "start_time": "2024-08-22T04:51:20.341Z"
   },
   {
    "duration": 5,
    "start_time": "2024-08-22T04:51:23.036Z"
   },
   {
    "duration": 5,
    "start_time": "2024-08-22T04:51:43.569Z"
   },
   {
    "duration": 457,
    "start_time": "2024-08-22T04:51:45.352Z"
   },
   {
    "duration": 5,
    "start_time": "2024-08-22T04:52:14.199Z"
   },
   {
    "duration": 13,
    "start_time": "2024-08-22T04:52:17.649Z"
   },
   {
    "duration": 7,
    "start_time": "2024-08-22T05:24:55.141Z"
   },
   {
    "duration": 49,
    "start_time": "2024-08-22T05:24:57.300Z"
   },
   {
    "duration": 7,
    "start_time": "2024-08-22T05:28:19.961Z"
   },
   {
    "duration": 46,
    "start_time": "2024-08-22T05:28:21.819Z"
   },
   {
    "duration": 8,
    "start_time": "2024-08-22T05:29:34.415Z"
   },
   {
    "duration": 46,
    "start_time": "2024-08-22T05:29:35.942Z"
   },
   {
    "duration": 7,
    "start_time": "2024-08-22T05:30:03.409Z"
   },
   {
    "duration": 48,
    "start_time": "2024-08-22T05:30:04.159Z"
   },
   {
    "duration": 8,
    "start_time": "2024-08-22T05:31:36.099Z"
   },
   {
    "duration": 52,
    "start_time": "2024-08-22T05:31:36.896Z"
   },
   {
    "duration": 8,
    "start_time": "2024-08-22T05:31:56.846Z"
   },
   {
    "duration": 774,
    "start_time": "2024-08-22T05:31:57.674Z"
   },
   {
    "duration": 7,
    "start_time": "2024-08-22T05:32:29.982Z"
   },
   {
    "duration": 724,
    "start_time": "2024-08-22T05:32:30.731Z"
   },
   {
    "duration": 7,
    "start_time": "2024-08-22T05:32:43.056Z"
   },
   {
    "duration": 1990,
    "start_time": "2024-08-22T05:32:43.716Z"
   },
   {
    "duration": 1227,
    "start_time": "2024-08-24T00:20:03.351Z"
   },
   {
    "duration": 487,
    "start_time": "2024-08-24T00:20:04.581Z"
   },
   {
    "duration": 46,
    "start_time": "2024-08-24T00:20:05.071Z"
   },
   {
    "duration": 18,
    "start_time": "2024-08-24T00:20:05.120Z"
   },
   {
    "duration": 135,
    "start_time": "2024-08-24T00:20:05.142Z"
   },
   {
    "duration": 187,
    "start_time": "2024-08-24T00:20:05.281Z"
   },
   {
    "duration": 111,
    "start_time": "2024-08-24T00:20:05.471Z"
   },
   {
    "duration": 6,
    "start_time": "2024-08-24T00:20:05.585Z"
   },
   {
    "duration": 76,
    "start_time": "2024-08-24T00:20:05.594Z"
   },
   {
    "duration": 6,
    "start_time": "2024-08-24T00:20:05.673Z"
   },
   {
    "duration": 92,
    "start_time": "2024-08-24T00:20:05.682Z"
   },
   {
    "duration": 8,
    "start_time": "2024-08-24T00:20:05.777Z"
   },
   {
    "duration": 2159,
    "start_time": "2024-08-24T00:20:05.788Z"
   },
   {
    "duration": 1140,
    "start_time": "2024-08-24T12:02:23.757Z"
   },
   {
    "duration": 481,
    "start_time": "2024-08-24T12:02:24.901Z"
   },
   {
    "duration": 49,
    "start_time": "2024-08-24T12:02:25.385Z"
   },
   {
    "duration": 16,
    "start_time": "2024-08-24T12:02:25.438Z"
   },
   {
    "duration": 123,
    "start_time": "2024-08-24T12:02:25.457Z"
   },
   {
    "duration": 169,
    "start_time": "2024-08-24T12:02:25.584Z"
   },
   {
    "duration": 108,
    "start_time": "2024-08-24T12:02:25.756Z"
   },
   {
    "duration": 44,
    "start_time": "2024-08-24T12:02:25.867Z"
   },
   {
    "duration": 6,
    "start_time": "2024-08-24T12:02:25.915Z"
   },
   {
    "duration": 76,
    "start_time": "2024-08-24T12:02:25.928Z"
   },
   {
    "duration": 16,
    "start_time": "2024-08-24T12:02:26.008Z"
   },
   {
    "duration": 8,
    "start_time": "2024-08-24T12:02:33.967Z"
   },
   {
    "duration": 4707,
    "start_time": "2024-08-24T12:02:35.855Z"
   },
   {
    "duration": 1200,
    "start_time": "2024-08-24T18:45:58.292Z"
   },
   {
    "duration": 491,
    "start_time": "2024-08-24T18:45:59.496Z"
   },
   {
    "duration": 49,
    "start_time": "2024-08-24T18:45:59.991Z"
   },
   {
    "duration": 16,
    "start_time": "2024-08-24T18:46:00.049Z"
   },
   {
    "duration": 135,
    "start_time": "2024-08-24T18:46:00.067Z"
   },
   {
    "duration": 174,
    "start_time": "2024-08-24T18:46:00.205Z"
   },
   {
    "duration": 115,
    "start_time": "2024-08-24T18:46:00.382Z"
   },
   {
    "duration": 5,
    "start_time": "2024-08-24T18:46:00.503Z"
   },
   {
    "duration": 80,
    "start_time": "2024-08-24T18:46:00.512Z"
   },
   {
    "duration": 5,
    "start_time": "2024-08-24T18:46:00.597Z"
   },
   {
    "duration": 89,
    "start_time": "2024-08-24T18:46:00.604Z"
   },
   {
    "duration": 8,
    "start_time": "2024-08-24T18:46:00.696Z"
   },
   {
    "duration": 4665,
    "start_time": "2024-08-24T18:46:00.707Z"
   },
   {
    "duration": 10,
    "start_time": "2024-08-26T06:03:38.424Z"
   },
   {
    "duration": 1129,
    "start_time": "2024-08-26T06:03:46.048Z"
   },
   {
    "duration": 498,
    "start_time": "2024-08-26T06:03:47.181Z"
   },
   {
    "duration": 47,
    "start_time": "2024-08-26T06:03:47.682Z"
   },
   {
    "duration": 16,
    "start_time": "2024-08-26T06:03:47.733Z"
   },
   {
    "duration": 128,
    "start_time": "2024-08-26T06:03:47.752Z"
   },
   {
    "duration": 173,
    "start_time": "2024-08-26T06:03:47.883Z"
   },
   {
    "duration": 99,
    "start_time": "2024-08-26T06:03:48.059Z"
   },
   {
    "duration": 6,
    "start_time": "2024-08-26T06:03:48.192Z"
   },
   {
    "duration": 6,
    "start_time": "2024-08-26T06:03:48.201Z"
   },
   {
    "duration": 6,
    "start_time": "2024-08-26T06:03:48.210Z"
   },
   {
    "duration": 14,
    "start_time": "2024-08-26T06:03:48.292Z"
   },
   {
    "duration": 8,
    "start_time": "2024-08-26T06:03:48.308Z"
   },
   {
    "duration": 4589,
    "start_time": "2024-08-26T06:03:48.319Z"
   },
   {
    "duration": 767,
    "start_time": "2024-08-26T16:27:36.357Z"
   },
   {
    "duration": 335,
    "start_time": "2024-08-26T16:27:37.126Z"
   },
   {
    "duration": 26,
    "start_time": "2024-08-26T16:27:37.463Z"
   },
   {
    "duration": 10,
    "start_time": "2024-08-26T16:27:37.490Z"
   },
   {
    "duration": 76,
    "start_time": "2024-08-26T16:27:37.502Z"
   },
   {
    "duration": 93,
    "start_time": "2024-08-26T16:27:37.580Z"
   },
   {
    "duration": 54,
    "start_time": "2024-08-26T16:27:37.675Z"
   },
   {
    "duration": 7,
    "start_time": "2024-08-26T16:27:37.731Z"
   },
   {
    "duration": 3,
    "start_time": "2024-08-26T16:27:37.740Z"
   },
   {
    "duration": 79,
    "start_time": "2024-08-26T16:27:37.746Z"
   },
   {
    "duration": 8,
    "start_time": "2024-08-26T16:27:37.826Z"
   },
   {
    "duration": 3,
    "start_time": "2024-08-26T16:27:44.348Z"
   },
   {
    "duration": 212,
    "start_time": "2024-08-26T16:27:44.353Z"
   },
   {
    "duration": 26,
    "start_time": "2024-08-26T16:27:44.567Z"
   },
   {
    "duration": 7,
    "start_time": "2024-08-26T16:27:44.595Z"
   },
   {
    "duration": 70,
    "start_time": "2024-08-26T16:27:44.605Z"
   },
   {
    "duration": 89,
    "start_time": "2024-08-26T16:27:44.676Z"
   },
   {
    "duration": 59,
    "start_time": "2024-08-26T16:27:44.767Z"
   },
   {
    "duration": 4,
    "start_time": "2024-08-26T16:27:44.827Z"
   },
   {
    "duration": 4,
    "start_time": "2024-08-26T16:27:44.832Z"
   },
   {
    "duration": 3,
    "start_time": "2024-08-26T16:27:44.838Z"
   },
   {
    "duration": 85,
    "start_time": "2024-08-26T16:27:44.843Z"
   },
   {
    "duration": 7,
    "start_time": "2024-08-26T16:27:44.931Z"
   },
   {
    "duration": 0,
    "start_time": "2024-08-26T16:27:44.940Z"
   },
   {
    "duration": 5,
    "start_time": "2024-08-26T16:28:19.275Z"
   },
   {
    "duration": 218,
    "start_time": "2024-08-26T16:31:33.405Z"
   },
   {
    "duration": 18,
    "start_time": "2024-08-26T16:31:45.015Z"
   },
   {
    "duration": 6,
    "start_time": "2024-08-26T16:32:43.316Z"
   },
   {
    "duration": 17,
    "start_time": "2024-08-26T16:32:49.190Z"
   },
   {
    "duration": 4,
    "start_time": "2024-08-26T16:32:55.094Z"
   },
   {
    "duration": 5,
    "start_time": "2024-08-26T16:33:09.719Z"
   },
   {
    "duration": 19,
    "start_time": "2024-08-26T16:34:24.028Z"
   },
   {
    "duration": 4,
    "start_time": "2024-08-26T16:37:03.643Z"
   },
   {
    "duration": 5,
    "start_time": "2024-08-26T16:37:21.858Z"
   },
   {
    "duration": 4,
    "start_time": "2024-08-26T16:39:25.009Z"
   },
   {
    "duration": 4,
    "start_time": "2024-08-26T16:41:10.093Z"
   },
   {
    "duration": 17,
    "start_time": "2024-08-26T16:41:19.735Z"
   },
   {
    "duration": 6,
    "start_time": "2024-08-26T16:51:33.230Z"
   },
   {
    "duration": 4,
    "start_time": "2024-08-26T17:06:36.399Z"
   },
   {
    "duration": 2457,
    "start_time": "2024-08-26T17:06:38.484Z"
   }
  ],
  "kernelspec": {
   "display_name": "Python 3 (ipykernel)",
   "language": "python",
   "name": "python3"
  },
  "language_info": {
   "codemirror_mode": {
    "name": "ipython",
    "version": 3
   },
   "file_extension": ".py",
   "mimetype": "text/x-python",
   "name": "python",
   "nbconvert_exporter": "python",
   "pygments_lexer": "ipython3",
   "version": "3.9.19"
  },
  "toc": {
   "base_numbering": 1,
   "nav_menu": {},
   "number_sections": true,
   "sideBar": true,
   "skip_h1_title": true,
   "title_cell": "Table of Contents",
   "title_sidebar": "Contents",
   "toc_cell": false,
   "toc_position": {},
   "toc_section_display": true,
   "toc_window_display": false
  }
 },
 "nbformat": 4,
 "nbformat_minor": 2
}
