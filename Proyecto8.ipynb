{
 "cells": [
  {
   "cell_type": "markdown",
   "metadata": {},
   "source": [
    "¡Hola Andrea! Como te va?\n",
    "\n",
    "Mi nombre es Facundo Lozano! Un gusto conocerte, seré tu revisor en este proyecto.\n",
    "\n",
    "A continuación un poco sobre la modalidad de revisión que usaremos:\n",
    "\n",
    "Cuando enccuentro un error por primera vez, simplemente lo señalaré, te dejaré encontrarlo y arreglarlo tú cuenta. Además, a lo largo del texto iré haciendo algunas observaciones sobre mejora en tu código y también haré comentarios sobre tus percepciones sobre el tema. Pero si aún no puedes realizar esta tarea, te daré una pista más precisa en la próxima iteración y también algunos ejemplos prácticos. Estaré abierto a comentarios y discusiones sobre el tema.\n",
    "\n",
    "Encontrará mis comentarios a continuación: **no los mueva, modifique ni elimine**.\n",
    "\n",
    "Puedes encontrar mis comentarios en cuadros verdes, amarillos o rojos como este:\n",
    "\n",
    "<div class=\"alert alert-block alert-success\">\n",
    "<b>Comentario del revisor.</b> <a class=\"tocSkip\"></a>\n",
    "\n",
    "Exito. Todo se ha hecho de forma exitosa.\n",
    "</div>\n",
    "\n",
    "<div class=\"alert alert-block alert-warning\">\n",
    "<b>Comentario del revisor.</b> <a class=\"tocSkip\"></a>\n",
    "\n",
    "Observación. Algunas recomendaciones.\n",
    "</div>\n",
    "\n",
    "<div class=\"alert alert-block alert-danger\">\n",
    "\n",
    "<b>Comentario del revisor.</b> <a class=\"tocSkip\"></a>\n",
    "\n",
    "Necesita arreglos. Este apartado necesita algunas correcciones. El trabajo no puede ser aceptado con comentarios rojos. \n",
    "</div>\n",
    "\n",
    "Puedes responder utilizando esto:\n",
    "\n",
    "<div class=\"alert alert-block alert-info\">\n",
    "<b>Respuesta de estudiante.</b> <a class=\"tocSkip\"></a>\n",
    "</div>"
   ]
  },
  {
   "cell_type": "markdown",
   "metadata": {},
   "source": [
    "# Proyecto integrado 8"
   ]
  },
  {
   "cell_type": "markdown",
   "metadata": {},
   "source": [
    "<div class=\"alert alert-block alert-success\">\n",
    "<b>Review General. (Iteración 1) </b> <a class=\"tocSkip\"></a>\n",
    "\n",
    "Buenas Andrea! Siempre me tomo este tiempo al inicio de tu proyecto para comentarte mis apreciaciones generales de esta iteración de tu entrega. \n",
    "\n",
    "Me gusta comenzar dando la bienvenida al mundo de los datos a los estudiantes, te deseo lo mejor y espero que consigas lograr tus objetivos. Personalmente me gusta brindar el siguiente consejo, \"Está bien equivocarse, es normal y es lo mejor que te puede pasar. Aprendemos de los errores y eso te hará mejor programando ya que podrás descubrir cosas a medida que avances y son estas cosas las que te darán esa experiencia para ser mejor como  Data Scientist\"\n",
    "\n",
    "Ahora si yendo a esta notebook. Lo he dicho al final del proyecto pero lo resalto aquí nuevamente Andrea, tu proyecto está muy bien resuelto, resalta capacidad y comprensión de todas las herrramientas, como a la vez esta ordenado y es sencillo de seguir, felictiaciones!\n",
    "\n",
    "Este proyecto está en condiciones de ser aprobado! Éxitos dentro de tu camino en el mundo de los datos!\n",
    "\n",
    "Saludos Andrea!"
   ]
  },
  {
   "cell_type": "markdown",
   "metadata": {},
   "source": [
    "El objetivo del presente proyecto es desarrollar un modelo que pueda analizar el comportamiento de los clientes y así, poder recomendar uno de los planes ofrecidos por *Megaline*: Smart o Ultra."
   ]
  },
  {
   "cell_type": "markdown",
   "metadata": {},
   "source": [
    "# Contenido <a id='back'></a>\n",
    "\n",
    "* [Etapa 1. Abrir el arhivo de datos y análisis general](#data_review)\n",
    "* [Etapa 2. Preparar los datos](#data_preprocessing)\n",
    "* [Etapa 3. Analizar la calidad de diferentes modelos](#model_quality)\n",
    "* [Etapa 4. Comprando la calidad del modelo](#quality)\n",
    "* [Etapa 5. Prueba de cordura al modelo](#sanity_check)\n",
    "* [Etapa 6. Conclusión](#end)"
   ]
  },
  {
   "cell_type": "markdown",
   "metadata": {},
   "source": [
    "## Etapa 1. Abrir el archivo de datos y análisis general <a id='data_review'></a>"
   ]
  },
  {
   "cell_type": "code",
   "execution_count": 26,
   "metadata": {},
   "outputs": [],
   "source": [
    "#Llamar a las librerías\n",
    "import pandas as pd\n",
    "from sklearn import set_config\n",
    "from sklearn.model_selection import train_test_split\n",
    "from sklearn.tree import DecisionTreeClassifier\n",
    "from sklearn.ensemble import RandomForestClassifier\n",
    "from sklearn.linear_model import LogisticRegression\n",
    "from sklearn.metrics import mean_squared_error, accuracy_score\n",
    "from sklearn.model_selection import GridSearchCV\n",
    "import numpy as np"
   ]
  },
  {
   "cell_type": "code",
   "execution_count": 27,
   "metadata": {},
   "outputs": [],
   "source": [
    "#Llamar a la base de datos\n",
    "clientes = pd.read_csv('/datasets/users_behavior.csv')"
   ]
  },
  {
   "cell_type": "code",
   "execution_count": 28,
   "metadata": {},
   "outputs": [
    {
     "name": "stdout",
     "output_type": "stream",
     "text": [
      "<class 'pandas.core.frame.DataFrame'>\n",
      "RangeIndex: 3214 entries, 0 to 3213\n",
      "Data columns (total 5 columns):\n",
      " #   Column    Non-Null Count  Dtype  \n",
      "---  ------    --------------  -----  \n",
      " 0   calls     3214 non-null   float64\n",
      " 1   minutes   3214 non-null   float64\n",
      " 2   messages  3214 non-null   float64\n",
      " 3   mb_used   3214 non-null   float64\n",
      " 4   is_ultra  3214 non-null   int64  \n",
      "dtypes: float64(4), int64(1)\n",
      "memory usage: 125.7 KB\n",
      "None\n"
     ]
    }
   ],
   "source": [
    "#Observar información general de la data\n",
    "print(clientes.info())"
   ]
  },
  {
   "cell_type": "code",
   "execution_count": 29,
   "metadata": {},
   "outputs": [],
   "source": [
    "#Convertir variables\n",
    "clientes['calls'] = clientes['calls'].astype(int)\n",
    "clientes['messages'] = clientes['messages'].astype(int)\n",
    "clientes['is_ultra'] = clientes['is_ultra'].astype(int)"
   ]
  },
  {
   "cell_type": "code",
   "execution_count": 30,
   "metadata": {},
   "outputs": [
    {
     "name": "stdout",
     "output_type": "stream",
     "text": [
      "   calls  minutes  messages   mb_used  is_ultra\n",
      "0     40   311.90        83  19915.42         0\n",
      "1     85   516.75        56  22696.96         0\n",
      "2     77   467.66        86  21060.45         0\n",
      "3    106   745.53        81   8437.39         1\n",
      "4     66   418.74         1  14502.75         0\n"
     ]
    }
   ],
   "source": [
    "print(clientes.head())"
   ]
  },
  {
   "cell_type": "code",
   "execution_count": 31,
   "metadata": {},
   "outputs": [
    {
     "name": "stdout",
     "output_type": "stream",
     "text": [
      "             calls      minutes     messages       mb_used     is_ultra\n",
      "count  3214.000000  3214.000000  3214.000000   3214.000000  3214.000000\n",
      "mean     63.038892   438.208787    38.281269  17207.673836     0.306472\n",
      "std      33.236368   234.569872    36.148326   7570.968246     0.461100\n",
      "min       0.000000     0.000000     0.000000      0.000000     0.000000\n",
      "25%      40.000000   274.575000     9.000000  12491.902500     0.000000\n",
      "50%      62.000000   430.600000    30.000000  16943.235000     0.000000\n",
      "75%      82.000000   571.927500    57.000000  21424.700000     1.000000\n",
      "max     244.000000  1632.060000   224.000000  49745.730000     1.000000\n"
     ]
    }
   ],
   "source": [
    "print(clientes.describe())"
   ]
  },
  {
   "cell_type": "code",
   "execution_count": 32,
   "metadata": {},
   "outputs": [
    {
     "name": "stdout",
     "output_type": "stream",
     "text": [
      "0\n"
     ]
    }
   ],
   "source": [
    "#Ver si hay duplicados\n",
    "print(clientes.duplicated().sum())"
   ]
  },
  {
   "cell_type": "markdown",
   "metadata": {},
   "source": [
    "<div class=\"alert alert-block alert-success\">\n",
    "\n",
    "<b>Comentario del revisor. (Iteración 1)\n",
    "    \n",
    "</b> <a class=\"tocSkip\"></a>\n",
    "\n",
    "    \n",
    "Excelente implementación de importaciones y carga de datos. Felicitaciones por mantener los procesos en celdas separadas! A la vez excelente implementación de los métodos para observar la composición de los datos!"
   ]
  },
  {
   "cell_type": "markdown",
   "metadata": {},
   "source": [
    "### Conclusión etapa 1\n",
    "Pudo observarse que en la data **clientes** no hay valores perdidos. Sin embargo, y debido a que se observó que las variables *calls* y *messages* eran de tipo numérico continuo, se realizó un cambió sobre las mismas para que sean de tipo numérico discreto. Adicionalmente, se observa que la variable *is_ultra* también está como numérica, cuando sería más adecuado que sea categórica; sin embargo, para poder realizar los modelos de manera adecuada solo se procederá a establecerla como un entero. Además, a partir del valor de la desviación estándar, es posible concluir que la mayoría de variables tienen datos atípicos. Finalmente, no se observan duplicados. "
   ]
  },
  {
   "cell_type": "markdown",
   "metadata": {},
   "source": [
    "## Etapa 2. Analizar los datos <a id='data_preprocessing'></a>"
   ]
  },
  {
   "cell_type": "code",
   "execution_count": 33,
   "metadata": {},
   "outputs": [],
   "source": [
    "#Definición de las características y del objetivo\n",
    "features = clientes.drop(columns=['is_ultra'])\n",
    "target = clientes['is_ultra']"
   ]
  },
  {
   "cell_type": "code",
   "execution_count": 34,
   "metadata": {},
   "outputs": [],
   "source": [
    "#División de datos en conjuntos de entrenamiento y en conjunto temporal\n",
    "features_train, features_temp, target_train, target_temp = train_test_split(features, target, test_size=0.4, random_state=12345)"
   ]
  },
  {
   "cell_type": "code",
   "execution_count": 35,
   "metadata": {},
   "outputs": [],
   "source": [
    "#Dividir el conjunto temporal en conjunto de validación y en conjunto de prueba\n",
    "features_valid, features_test, target_valid, target_test = train_test_split(features_temp, target_temp, test_size=0.5, random_state=12345)"
   ]
  },
  {
   "cell_type": "code",
   "execution_count": 36,
   "metadata": {},
   "outputs": [
    {
     "name": "stdout",
     "output_type": "stream",
     "text": [
      "Tamaño del conjunto de entrenamiento: (1928, 4)\n",
      "Tamaño del conjunto de validación: (643, 4)\n",
      "Tamaño del conjunto de prueba: (643, 4)\n"
     ]
    }
   ],
   "source": [
    "#Tamaño de cada conjunto\n",
    "print(f'Tamaño del conjunto de entrenamiento: {features_train.shape}')\n",
    "print(f'Tamaño del conjunto de validación: {features_valid.shape}')\n",
    "print(f'Tamaño del conjunto de prueba: {features_test.shape}')"
   ]
  },
  {
   "cell_type": "markdown",
   "metadata": {},
   "source": [
    "<div class=\"alert alert-block alert-success\">\n",
    "\n",
    "<b>Comentario del revisor. (Iteración 1)\n",
    "    \n",
    "</b> <a class=\"tocSkip\"></a>\n",
    "\n",
    "    \n",
    "Nuevamente excelente Andrea! División perfecta de los datos en los 3 conjuntos correspondientes, bien hecho!"
   ]
  },
  {
   "cell_type": "markdown",
   "metadata": {},
   "source": [
    "### Conclusión etapa 2\n",
    "Se definieron dos nuevas datas, a partir del dataset original, siendo estas **features**, la cual contiene las características de interés, y **target**, la cual contiene el objetivo del análisis. Posteriormente se realizó la división para establecer el conjunto de entrenamiento (60%), el de validación (40%) y el de prueba (40%). Debido a que esta distribución permite asegurar que el modelo se encuentre bien ajustado y que generalice bien nuevos datos. "
   ]
  },
  {
   "cell_type": "markdown",
   "metadata": {},
   "source": [
    "## Etapa 3. Analizar la calidad de diferentes modelos<a id='model_quality'></a>"
   ]
  },
  {
   "cell_type": "markdown",
   "metadata": {},
   "source": [
    "<div class=\"alert alert-block alert-success\">\n",
    "\n",
    "<b>Comentario del revisor. (Iteración 1)\n",
    "    \n",
    "</b> <a class=\"tocSkip\"></a>\n",
    "\n",
    "    \n",
    "Respecto a esta sección lo hemos hecho muy bien Andrea! Sin embargo marcaré como una recomendación que quitemos los cálculos de "
   ]
  },
  {
   "cell_type": "code",
   "execution_count": 37,
   "metadata": {},
   "outputs": [
    {
     "name": "stdout",
     "output_type": "stream",
     "text": [
      "Mejor profundidad del árbol: 3\n",
      "Mejor exactitud en el conjunto de validación: 0.7853810264385692\n",
      "Mejor RECM en el conjunto de validación: 0.46326987119974766\n"
     ]
    }
   ],
   "source": [
    "#Árboles de decisión\n",
    "\n",
    "best_score = 0\n",
    "best_depth = 0\n",
    "best_rmse = float('inf')\n",
    "\n",
    "for depth in range(1, 11):\n",
    "    model = DecisionTreeClassifier(random_state=12345, max_depth=depth)\n",
    "    model.fit(features_train, target_train)\n",
    "    predictions_valid = model.predict(features_valid)\n",
    "    score = accuracy_score(target_valid, predictions_valid)\n",
    "    rmse = mean_squared_error(target_valid, predictions_valid, squared=False)\n",
    "    \n",
    "    if score > best_score:\n",
    "        best_score = score\n",
    "        best_depth = depth\n",
    "        best_rmse = rmse\n",
    "        \n",
    "print(\"Mejor profundidad del árbol:\", best_depth)\n",
    "print(\"Mejor exactitud en el conjunto de validación:\", best_score)\n",
    "print(\"Mejor RECM en el conjunto de validación:\", best_rmse)"
   ]
  },
  {
   "cell_type": "markdown",
   "metadata": {},
   "source": [
    "<div class=\"alert alert-block alert-success\">\n",
    "\n",
    "<b>Comentario del revisor. (Iteración 1)\n",
    "    \n",
    "</b> <a class=\"tocSkip\"></a>\n",
    "\n",
    "Bien hecho Andrea! Perfecta implementación lógica con el loop iterando sobre los diferentes valores de hiperparámteros, a la vez perfecto procedimiento de entrenamiento y testeo! Sigamos!"
   ]
  },
  {
   "cell_type": "markdown",
   "metadata": {},
   "source": [
    "Se delimitó *max_depth* en 3 debido a que hiperparámetro brinda el árbol de decisión con la mejor exactitud y el mejor RECM en el conjunto de validación.\n",
    "\n",
    "En efecto, se observa que la exactitud es de 78.5%, mientras que el RECM es de 0.46. Lo anterior indica que, en promedio, este modelo  clasifica los datos de manera correcta en 8 de cada 10 casos y difiere de las respuestas correctas en 0.46 clientes."
   ]
  },
  {
   "cell_type": "code",
   "execution_count": 38,
   "metadata": {},
   "outputs": [
    {
     "name": "stdout",
     "output_type": "stream",
     "text": [
      "La exactitud del mejor modelo en el conjunto de validación (n_estimators = 10): 0.7853810264385692\n",
      "El RECM del mejor modelo en el conjunto de validación (n_estimators = 10): 0.46326987119974766\n"
     ]
    }
   ],
   "source": [
    "#Bosques aleatorios\n",
    "\n",
    "best_score = 0\n",
    "best_est = 0\n",
    "best_rmse = float('inf')\n",
    "\n",
    "for est in range (1,11):\n",
    "    model = RandomForestClassifier(random_state=12345,n_estimators=est)\n",
    "    model.fit(features_train, target_train)\n",
    "    score = model.score(features_valid,target_valid)\n",
    "    valid_predictions = model.predict(features_valid)\n",
    "    rmse = mean_squared_error(target_valid, valid_predictions, squared=False)\n",
    "    \n",
    "    if score > best_score:\n",
    "        best_score = score\n",
    "        best_est = est\n",
    "        best_rmse = rmse\n",
    "\n",
    "print(\"La exactitud del mejor modelo en el conjunto de validación (n_estimators = {}): {}\".format(best_est, best_score))\n",
    "print(\"El RECM del mejor modelo en el conjunto de validación (n_estimators = {}): {}\".format(best_est, best_rmse))"
   ]
  },
  {
   "cell_type": "markdown",
   "metadata": {},
   "source": [
    "<div class=\"alert alert-block alert-success\">\n",
    "\n",
    "<b>Comentario del revisor. (Iteración 1)\n",
    "    \n",
    "</b> <a class=\"tocSkip\"></a>\n",
    "\n",
    "Procedimiento similar al anterior, excelente en este caso con un doble loop, muy bien hecho!"
   ]
  },
  {
   "cell_type": "markdown",
   "metadata": {},
   "source": [
    "Se delimitó el *n_estimators* en 10 debido a que hiperparámetro brinda el árbol de decisión con la mejor exactitud y el mejor RECM en el conjunto de validación.\n",
    "\n",
    "Efectivamente, se observa que este modelo tiene una exactitud de 78.5% y un RECM de 0.46. Lo anterior indica que, en promedio, este modelo clasifica los datos de manera correcta en 8 de cada 10 casos y difiere de las respuestas correctas en 0.46 clientes."
   ]
  },
  {
   "cell_type": "code",
   "execution_count": 39,
   "metadata": {},
   "outputs": [
    {
     "name": "stdout",
     "output_type": "stream",
     "text": [
      "Regresión logística - RECM: 0.5378373837154948, Exactitud: 0.7107309486780715\n"
     ]
    }
   ],
   "source": [
    "#Definir el modelo de regresión \n",
    "log_reg = LogisticRegression(random_state=12345, max_iter=1000)\n",
    "\n",
    "#Entrenar el modelo\n",
    "log_reg.fit(features_train, target_train)\n",
    "\n",
    "#Predecir en el conjunto de validación\n",
    "log_reg_valid_predictions = log_reg.predict(features_valid)\n",
    "\n",
    "#Calcular el RECM y la exactitud\n",
    "log_reg_rmse = mean_squared_error(target_valid, log_reg_valid_predictions, squared=False)\n",
    "log_reg_accuracy = accuracy_score(target_valid, log_reg_valid_predictions)\n",
    "\n",
    "print(f'Regresión logística - RECM: {log_reg_rmse}, Exactitud: {log_reg_accuracy}')"
   ]
  },
  {
   "cell_type": "markdown",
   "metadata": {},
   "source": [
    "<div class=\"alert alert-block alert-success\">\n",
    "\n",
    "<b>Comentario del revisor. (Iteración 1)\n",
    "    \n",
    "</b> <a class=\"tocSkip\"></a>\n",
    "\n",
    "    \n",
    "Excelente creación de modelo, en este caso un más tradicional pero un perfecto entrenamiento y obtención de resultados con las métricas correspondientes. Bien hecho!"
   ]
  },
  {
   "cell_type": "markdown",
   "metadata": {},
   "source": [
    "Se delimitó *max_iter* en 1000 y 10 debido a que esto asegura que el modelo converga de manera adecuada.\n",
    "\n",
    "Sumado a lo anterior, se observa que este modelo tiene un RECM de 0.54 y una exactitud de 71.1%. Lo anterior indica que, en promedio, este modelo difiere de las respuestas correctas en 0.54 clientes y que clasifica los datos de manera correcta en 7 de cada 10 casos."
   ]
  },
  {
   "cell_type": "markdown",
   "metadata": {},
   "source": [
    "### Conclusión etapa 3\n",
    "En base a los modelos expuestos con anterioridad, se conluye que existe un empate entre los modelos **Bosques aleatorios** y **Árbol de decisión**. Los motivos de la afirmación anterior son los siguientes: \n",
    "1. Mayor exactitud. Siendo en ambos casos del 78.5%, es posible afirmar que estos modelos predicen adecuadamente 8 de cada 10 casos. \n",
    "2. Menor RECM. Siendo en ambos casos 0.46, es posible afirmar que en términos comparativos, las predicciones de estos modelos están más cerca de las respuestas correctas. "
   ]
  },
  {
   "cell_type": "markdown",
   "metadata": {},
   "source": [
    "## Etapa 4. Comprando la calidad del modelo<a id='quality'></a>"
   ]
  },
  {
   "cell_type": "code",
   "execution_count": 40,
   "metadata": {},
   "outputs": [
    {
     "name": "stdout",
     "output_type": "stream",
     "text": [
      "Exactitud en el conjunto de prueba: 0.7791601866251944\n",
      "RECM en el conjunto de prueba: 0.46993596731342624\n"
     ]
    }
   ],
   "source": [
    "#Árbol de decisión\n",
    "\n",
    "#Usar el mejor modelo para predecir en el conjunto de prueba\n",
    "best_tree_model = DecisionTreeClassifier(random_state=12345, max_depth=best_depth)\n",
    "best_tree_model.fit(features_train, target_train)\n",
    "test_predictions = best_tree_model.predict(features_test)\n",
    "\n",
    "#Calcular la exactitud y el RECM en el conjunto de prueba\n",
    "test_accuracy = accuracy_score(target_test, test_predictions)\n",
    "test_rmse = mean_squared_error(target_test, test_predictions, squared=False)\n",
    "\n",
    "print(f'Exactitud en el conjunto de prueba: {test_accuracy}')\n",
    "print(f'RECM en el conjunto de prueba: {test_rmse}')"
   ]
  },
  {
   "cell_type": "markdown",
   "metadata": {},
   "source": [
    "El árbol de decisión tiene un RECM de 0.47 y una exactitud de 77.9% en el conjunto de prueba. Ello quiere decir que el modelo difiere de las respuestas correctas en 0.47 clientes y que clasifica los datos de manera correcta en 8 de cada 10 casos."
   ]
  },
  {
   "cell_type": "code",
   "execution_count": 41,
   "metadata": {},
   "outputs": [
    {
     "name": "stdout",
     "output_type": "stream",
     "text": [
      "Exactitud en el conjunto de prueba: 0.7807153965785381\n",
      "RECM en el conjunto de prueba: 0.46827833968854665\n"
     ]
    }
   ],
   "source": [
    "# Usar el mejor modelo para predecir en el conjunto de prueba\n",
    "best_forest_model = RandomForestClassifier(random_state=12345, n_estimators=best_est)\n",
    "best_forest_model.fit(features_train, target_train)\n",
    "test_predictions = best_forest_model.predict(features_test)\n",
    "\n",
    "# Calcular la exactitud y el RECM en el conjunto de prueba\n",
    "test_accuracy = accuracy_score(target_test, test_predictions)\n",
    "test_rmse = mean_squared_error(target_test, test_predictions, squared=False)\n",
    "\n",
    "print(f'Exactitud en el conjunto de prueba: {test_accuracy}')\n",
    "print(f'RECM en el conjunto de prueba: {test_rmse}')"
   ]
  },
  {
   "cell_type": "markdown",
   "metadata": {},
   "source": [
    "<div class=\"alert alert-block alert-success\">\n",
    "\n",
    "<b>Comentario del revisor. (Iteración 1)\n",
    "    \n",
    "</b> <a class=\"tocSkip\"></a>\n",
    "\n",
    "    \n",
    "Y tal como debíamos hemos evaluado sobre el conjunto de prueba, excelente Andrea! Solo tengamos en cuenta que debemos medir únicamente el accuracy y no el recm! Sigamos!"
   ]
  },
  {
   "cell_type": "markdown",
   "metadata": {},
   "source": [
    "El bosque aleatorio tiene un RECM de 0.47 y una exactitud de 78.1% en el conjunto de prueba. Ello quiere decir que el modelo difiere de las respuestas correctas en 0.47 clientes y que clasifica los datos de manera correcta en 8 de cada 10 casos."
   ]
  },
  {
   "cell_type": "markdown",
   "metadata": {},
   "source": [
    "### Conclusión etapa 4\n",
    "En base a los modelos expuestos con anterioridad, se conluye que exoste el mejor modelo es el **bosque aleatorio** debido que demuestra un mejor desempeño tanto en la exactitud como en el RECM."
   ]
  },
  {
   "cell_type": "markdown",
   "metadata": {},
   "source": [
    "## Etapa 5. Prueba de cordura al modelo <a id='sanity_check'></a>"
   ]
  },
  {
   "cell_type": "code",
   "execution_count": 42,
   "metadata": {},
   "outputs": [],
   "source": [
    "#Modelo de bosque aleatorio entrenado\n",
    "model = RandomForestClassifier(random_state=12345,n_estimators=10)\n",
    "model.fit(features_train, target_train)\n",
    "\n",
    "#Predicciones en el conjunto de prueba\n",
    "test_predictions = model.predict(features_test)"
   ]
  },
  {
   "cell_type": "code",
   "execution_count": 43,
   "metadata": {},
   "outputs": [
    {
     "name": "stdout",
     "output_type": "stream",
     "text": [
      "Exactitud en el conjunto de prueba: 0.7807153965785381\n",
      "RECM en el conjunto de prueba: 0.46827833968854665\n"
     ]
    }
   ],
   "source": [
    "#Calcular la exactitud y el RECM en el conjunto de prueba\n",
    "test_accuracy = accuracy_score(target_test, test_predictions)\n",
    "test_rmse = mean_squared_error(target_test, test_predictions, squared=False)\n",
    "\n",
    "print(f'Exactitud en el conjunto de prueba: {test_accuracy}')\n",
    "print(f'RECM en el conjunto de prueba: {test_rmse}')"
   ]
  },
  {
   "cell_type": "markdown",
   "metadata": {},
   "source": [
    "El bosque aleatorio tiene un RECM de 0.47 y una exactitud de 78.1% en el conjunto de prueba. Ello quiere decir que el modelo difiere de las respuestas correctas en 0.47 clientes y que clasifica los datos de manera correcta en 8 de cada 10 casos."
   ]
  },
  {
   "cell_type": "code",
   "execution_count": 44,
   "metadata": {},
   "outputs": [
    {
     "name": "stdout",
     "output_type": "stream",
     "text": [
      "Exactitud de predicciones aleatorias: 0.4821150855365474\n",
      "RECM de predicciones aleatorias: 0.7196422128137374\n"
     ]
    }
   ],
   "source": [
    "#Generar predicciones aleatorias\n",
    "np.random.seed(12345)  # Para reproducibilidad\n",
    "random_predictions = np.random.choice([0, 1], size=target_test.shape)\n",
    "\n",
    "#Calcular la exactitud y el RECM de las predicciones aleatorias\n",
    "random_accuracy = accuracy_score(target_test, random_predictions)\n",
    "random_rmse = mean_squared_error(target_test, random_predictions, squared=False)\n",
    "\n",
    "print(f'Exactitud de predicciones aleatorias: {random_accuracy}')\n",
    "print(f'RECM de predicciones aleatorias: {random_rmse}')"
   ]
  },
  {
   "cell_type": "markdown",
   "metadata": {},
   "source": [
    "<div class=\"alert alert-block alert-success\">\n",
    "\n",
    "<b>Comentario del revisor. (Iteración 1)\n",
    "    \n",
    "</b> <a class=\"tocSkip\"></a>\n",
    "\n",
    "Y tal como debíamos hemos implementado una prueba de cordura para corroborar la validez de implementar nuestro modelo, muy bien hecho!"
   ]
  },
  {
   "cell_type": "markdown",
   "metadata": {},
   "source": [
    "Las predicciones aleatorios tienen una exactitud del 48% y un RECM del 72.0. Por tanto, este tipo de predicciones no serían fiables para hacer predicciones precisas. Adicionalmente, este tipo de predicciones estarían más lejos de los valores reales. "
   ]
  },
  {
   "cell_type": "markdown",
   "metadata": {},
   "source": [
    "## Etapa 6. Conclusión <a id='end'></a>"
   ]
  },
  {
   "cell_type": "markdown",
   "metadata": {},
   "source": [
    "En base a todo lo anterior, se puede concluir que el mejor modelo que puede implementar la compañía móvil Megaline es el de bosques aleatorios con el hiperparámetro *n_estimators* en 10. Lo anterior debido a que este modelo presentó la mayor exactitud (78.1% - 78.5%) y el menor RECM (0.46 - 0.47), tanto en el conjunto de validación como en el conjunto de prueba. Adicionalmente, se comprueba que este modelo funciona considerablemente mejor que la elección aleatoria. "
   ]
  }
 ],
 "metadata": {
  "ExecuteTimeLog": [
   {
    "duration": 1210,
    "start_time": "2024-07-17T13:31:31.547Z"
   },
   {
    "duration": 1186,
    "start_time": "2024-07-17T13:31:33.779Z"
   },
   {
    "duration": 121,
    "start_time": "2024-07-17T13:31:50.175Z"
   },
   {
    "duration": 18,
    "start_time": "2024-07-17T13:32:06.206Z"
   },
   {
    "duration": 16,
    "start_time": "2024-07-17T13:35:10.097Z"
   },
   {
    "duration": 10,
    "start_time": "2024-07-17T13:35:13.119Z"
   },
   {
    "duration": 25,
    "start_time": "2024-07-17T13:35:13.854Z"
   },
   {
    "duration": 28,
    "start_time": "2024-07-17T13:35:14.626Z"
   },
   {
    "duration": 7,
    "start_time": "2024-07-17T13:35:20.070Z"
   },
   {
    "duration": 24,
    "start_time": "2024-07-17T13:53:17.851Z"
   },
   {
    "duration": 26,
    "start_time": "2024-07-17T13:53:57.864Z"
   },
   {
    "duration": 25,
    "start_time": "2024-07-17T13:54:16.716Z"
   },
   {
    "duration": 11,
    "start_time": "2024-07-17T13:54:35.800Z"
   },
   {
    "duration": 13,
    "start_time": "2024-07-17T13:54:36.821Z"
   },
   {
    "duration": 7,
    "start_time": "2024-07-17T13:54:37.745Z"
   },
   {
    "duration": 8,
    "start_time": "2024-07-17T13:54:40.466Z"
   },
   {
    "duration": 22,
    "start_time": "2024-07-17T13:54:41.743Z"
   },
   {
    "duration": 8,
    "start_time": "2024-07-17T13:54:43.392Z"
   },
   {
    "duration": 4,
    "start_time": "2024-07-17T14:23:46.638Z"
   },
   {
    "duration": 9,
    "start_time": "2024-07-17T14:23:47.378Z"
   },
   {
    "duration": 7,
    "start_time": "2024-07-17T14:23:47.893Z"
   },
   {
    "duration": 4,
    "start_time": "2024-07-17T14:23:48.402Z"
   },
   {
    "duration": 320,
    "start_time": "2024-07-17T18:35:44.896Z"
   },
   {
    "duration": 32,
    "start_time": "2024-07-17T18:35:45.933Z"
   },
   {
    "duration": 1279,
    "start_time": "2024-07-17T18:35:52.309Z"
   },
   {
    "duration": 19,
    "start_time": "2024-07-17T18:35:53.593Z"
   },
   {
    "duration": 17,
    "start_time": "2024-07-17T18:35:53.615Z"
   },
   {
    "duration": 7,
    "start_time": "2024-07-17T18:35:53.635Z"
   },
   {
    "duration": 11,
    "start_time": "2024-07-17T18:35:53.646Z"
   },
   {
    "duration": 23,
    "start_time": "2024-07-17T18:35:53.703Z"
   },
   {
    "duration": 8,
    "start_time": "2024-07-17T18:35:53.729Z"
   },
   {
    "duration": 173,
    "start_time": "2024-07-17T18:35:53.740Z"
   },
   {
    "duration": 0,
    "start_time": "2024-07-17T18:35:53.918Z"
   },
   {
    "duration": 0,
    "start_time": "2024-07-17T18:35:53.920Z"
   },
   {
    "duration": 0,
    "start_time": "2024-07-17T18:35:53.925Z"
   },
   {
    "duration": 0,
    "start_time": "2024-07-17T18:35:53.928Z"
   },
   {
    "duration": 5,
    "start_time": "2024-07-17T18:36:22.261Z"
   },
   {
    "duration": 7,
    "start_time": "2024-07-17T18:36:23.310Z"
   },
   {
    "duration": 8,
    "start_time": "2024-07-17T18:36:24.025Z"
   },
   {
    "duration": 5,
    "start_time": "2024-07-17T18:36:24.789Z"
   },
   {
    "duration": 4,
    "start_time": "2024-07-17T18:36:27.640Z"
   },
   {
    "duration": 208,
    "start_time": "2024-07-17T18:38:17.052Z"
   },
   {
    "duration": 89,
    "start_time": "2024-07-17T18:39:17.681Z"
   },
   {
    "duration": 117,
    "start_time": "2024-07-17T18:40:36.589Z"
   },
   {
    "duration": 5,
    "start_time": "2024-07-17T19:02:53.133Z"
   },
   {
    "duration": 12,
    "start_time": "2024-07-17T19:02:53.142Z"
   },
   {
    "duration": 16,
    "start_time": "2024-07-17T19:02:53.157Z"
   },
   {
    "duration": 7,
    "start_time": "2024-07-17T19:02:53.177Z"
   },
   {
    "duration": 21,
    "start_time": "2024-07-17T19:02:53.186Z"
   },
   {
    "duration": 26,
    "start_time": "2024-07-17T19:02:53.211Z"
   },
   {
    "duration": 9,
    "start_time": "2024-07-17T19:02:53.240Z"
   },
   {
    "duration": 49,
    "start_time": "2024-07-17T19:02:53.252Z"
   },
   {
    "duration": 7,
    "start_time": "2024-07-17T19:02:53.305Z"
   },
   {
    "duration": 7,
    "start_time": "2024-07-17T19:02:53.317Z"
   },
   {
    "duration": 5,
    "start_time": "2024-07-17T19:02:53.327Z"
   },
   {
    "duration": 85,
    "start_time": "2024-07-17T19:02:53.337Z"
   },
   {
    "duration": 5,
    "start_time": "2024-07-17T19:03:39.553Z"
   },
   {
    "duration": 23,
    "start_time": "2024-07-17T19:03:42.887Z"
   },
   {
    "duration": 457,
    "start_time": "2024-07-17T19:05:47.783Z"
   },
   {
    "duration": 52,
    "start_time": "2024-07-17T19:10:04.908Z"
   },
   {
    "duration": 56,
    "start_time": "2024-07-17T19:10:57.707Z"
   },
   {
    "duration": 1249,
    "start_time": "2024-07-17T21:06:33.651Z"
   },
   {
    "duration": 19,
    "start_time": "2024-07-17T21:06:34.903Z"
   },
   {
    "duration": 15,
    "start_time": "2024-07-17T21:06:34.926Z"
   },
   {
    "duration": 8,
    "start_time": "2024-07-17T21:06:34.944Z"
   },
   {
    "duration": 10,
    "start_time": "2024-07-17T21:06:34.958Z"
   },
   {
    "duration": 68,
    "start_time": "2024-07-17T21:06:34.972Z"
   },
   {
    "duration": 7,
    "start_time": "2024-07-17T21:06:35.044Z"
   },
   {
    "duration": 5,
    "start_time": "2024-07-17T21:06:35.054Z"
   },
   {
    "duration": 7,
    "start_time": "2024-07-17T21:06:35.063Z"
   },
   {
    "duration": 49,
    "start_time": "2024-07-17T21:06:35.073Z"
   },
   {
    "duration": 5,
    "start_time": "2024-07-17T21:06:35.126Z"
   },
   {
    "duration": 21,
    "start_time": "2024-07-17T21:06:35.134Z"
   },
   {
    "duration": 424,
    "start_time": "2024-07-17T21:06:38.342Z"
   },
   {
    "duration": 8,
    "start_time": "2024-07-17T21:07:17.813Z"
   },
   {
    "duration": 7,
    "start_time": "2024-07-17T21:13:47.330Z"
   },
   {
    "duration": 28,
    "start_time": "2024-07-17T21:13:50.428Z"
   },
   {
    "duration": 28,
    "start_time": "2024-07-17T21:14:42.697Z"
   },
   {
    "duration": 431,
    "start_time": "2024-07-17T21:15:05.961Z"
   },
   {
    "duration": 427,
    "start_time": "2024-07-17T21:15:14.774Z"
   },
   {
    "duration": 53,
    "start_time": "2024-07-17T21:15:17.102Z"
   },
   {
    "duration": 7,
    "start_time": "2024-07-17T21:15:20.683Z"
   },
   {
    "duration": 7,
    "start_time": "2024-07-17T21:15:21.944Z"
   },
   {
    "duration": 7,
    "start_time": "2024-07-17T21:16:31.712Z"
   },
   {
    "duration": 362,
    "start_time": "2024-07-17T22:29:17.062Z"
   },
   {
    "duration": 1208,
    "start_time": "2024-07-17T22:29:33.586Z"
   },
   {
    "duration": 19,
    "start_time": "2024-07-17T22:29:34.797Z"
   },
   {
    "duration": 14,
    "start_time": "2024-07-17T22:29:34.822Z"
   },
   {
    "duration": 7,
    "start_time": "2024-07-17T22:29:34.840Z"
   },
   {
    "duration": 11,
    "start_time": "2024-07-17T22:29:34.854Z"
   },
   {
    "duration": 68,
    "start_time": "2024-07-17T22:29:34.868Z"
   },
   {
    "duration": 9,
    "start_time": "2024-07-17T22:29:34.939Z"
   },
   {
    "duration": 5,
    "start_time": "2024-07-17T22:29:34.952Z"
   },
   {
    "duration": 7,
    "start_time": "2024-07-17T22:29:34.961Z"
   },
   {
    "duration": 52,
    "start_time": "2024-07-17T22:29:34.972Z"
   },
   {
    "duration": 5,
    "start_time": "2024-07-17T22:29:35.027Z"
   },
   {
    "duration": 2572,
    "start_time": "2024-07-17T22:29:35.035Z"
   },
   {
    "duration": 0,
    "start_time": "2024-07-17T22:29:37.610Z"
   },
   {
    "duration": 0,
    "start_time": "2024-07-17T22:29:37.613Z"
   },
   {
    "duration": 0,
    "start_time": "2024-07-17T22:29:37.623Z"
   },
   {
    "duration": 0,
    "start_time": "2024-07-17T22:29:37.626Z"
   },
   {
    "duration": 0,
    "start_time": "2024-07-17T22:29:37.628Z"
   },
   {
    "duration": 380,
    "start_time": "2024-07-18T00:26:21.076Z"
   },
   {
    "duration": 1575,
    "start_time": "2024-07-18T00:26:51.829Z"
   },
   {
    "duration": 22,
    "start_time": "2024-07-18T00:26:53.408Z"
   },
   {
    "duration": 18,
    "start_time": "2024-07-18T00:26:53.434Z"
   },
   {
    "duration": 7,
    "start_time": "2024-07-18T00:26:53.456Z"
   },
   {
    "duration": 12,
    "start_time": "2024-07-18T00:26:53.468Z"
   },
   {
    "duration": 69,
    "start_time": "2024-07-18T00:26:53.484Z"
   },
   {
    "duration": 10,
    "start_time": "2024-07-18T00:26:53.557Z"
   },
   {
    "duration": 6,
    "start_time": "2024-07-18T00:26:53.570Z"
   },
   {
    "duration": 9,
    "start_time": "2024-07-18T00:26:53.580Z"
   },
   {
    "duration": 42,
    "start_time": "2024-07-18T00:26:53.595Z"
   },
   {
    "duration": 7,
    "start_time": "2024-07-18T00:26:53.640Z"
   },
   {
    "duration": 2745,
    "start_time": "2024-07-18T00:26:53.652Z"
   },
   {
    "duration": 500,
    "start_time": "2024-07-18T00:26:56.403Z"
   },
   {
    "duration": 65,
    "start_time": "2024-07-18T00:26:56.910Z"
   },
   {
    "duration": 9,
    "start_time": "2024-07-18T00:26:56.979Z"
   },
   {
    "duration": 7,
    "start_time": "2024-07-18T00:26:56.992Z"
   },
   {
    "duration": 34,
    "start_time": "2024-07-18T00:26:57.003Z"
   },
   {
    "duration": 86,
    "start_time": "2024-07-18T00:33:36.204Z"
   },
   {
    "duration": 99,
    "start_time": "2024-07-18T00:34:03.358Z"
   },
   {
    "duration": 96,
    "start_time": "2024-07-18T00:34:22.176Z"
   },
   {
    "duration": 8,
    "start_time": "2024-07-18T00:36:21.397Z"
   },
   {
    "duration": 111,
    "start_time": "2024-07-18T00:36:26.588Z"
   },
   {
    "duration": 90,
    "start_time": "2024-07-18T00:37:00.854Z"
   },
   {
    "duration": 97,
    "start_time": "2024-07-18T00:37:34.480Z"
   },
   {
    "duration": 98,
    "start_time": "2024-07-18T00:38:03.204Z"
   },
   {
    "duration": 98,
    "start_time": "2024-07-18T00:38:35.354Z"
   },
   {
    "duration": 126,
    "start_time": "2024-07-18T00:38:45.930Z"
   },
   {
    "duration": 114,
    "start_time": "2024-07-18T00:39:04.331Z"
   },
   {
    "duration": 159,
    "start_time": "2024-07-18T00:39:29.228Z"
   },
   {
    "duration": 98,
    "start_time": "2024-07-18T00:39:45.086Z"
   },
   {
    "duration": 104,
    "start_time": "2024-07-18T00:39:50.214Z"
   },
   {
    "duration": 99,
    "start_time": "2024-07-18T00:40:46.317Z"
   },
   {
    "duration": 95,
    "start_time": "2024-07-18T00:41:00.819Z"
   },
   {
    "duration": 93,
    "start_time": "2024-07-18T00:41:13.288Z"
   },
   {
    "duration": 109,
    "start_time": "2024-07-18T00:41:27.262Z"
   },
   {
    "duration": 6,
    "start_time": "2024-07-18T00:43:01.199Z"
   },
   {
    "duration": 5,
    "start_time": "2024-07-18T00:43:09.299Z"
   },
   {
    "duration": 96,
    "start_time": "2024-07-18T00:43:18.976Z"
   },
   {
    "duration": 6,
    "start_time": "2024-07-18T00:43:21.718Z"
   },
   {
    "duration": 98,
    "start_time": "2024-07-18T00:43:31.063Z"
   },
   {
    "duration": 95,
    "start_time": "2024-07-18T00:43:43.044Z"
   },
   {
    "duration": 348,
    "start_time": "2024-07-18T00:48:46.855Z"
   },
   {
    "duration": 5,
    "start_time": "2024-07-18T00:49:34.362Z"
   },
   {
    "duration": 103,
    "start_time": "2024-07-18T00:50:12.370Z"
   },
   {
    "duration": 216,
    "start_time": "2024-07-18T00:50:27.625Z"
   },
   {
    "duration": 101,
    "start_time": "2024-07-18T00:50:43.377Z"
   },
   {
    "duration": 357,
    "start_time": "2024-07-18T00:58:44.132Z"
   },
   {
    "duration": 387,
    "start_time": "2024-07-18T01:09:44.292Z"
   },
   {
    "duration": 105,
    "start_time": "2024-07-18T01:15:09.511Z"
   },
   {
    "duration": 118,
    "start_time": "2024-07-18T01:15:21.136Z"
   },
   {
    "duration": 117,
    "start_time": "2024-07-18T01:20:47.157Z"
   },
   {
    "duration": 105,
    "start_time": "2024-07-18T01:21:07.988Z"
   },
   {
    "duration": 394,
    "start_time": "2024-07-18T01:28:38.451Z"
   },
   {
    "duration": 107,
    "start_time": "2024-07-18T01:28:52.100Z"
   },
   {
    "duration": 53,
    "start_time": "2024-07-18T01:30:22.055Z"
   },
   {
    "duration": 8,
    "start_time": "2024-07-18T01:31:27.164Z"
   },
   {
    "duration": 98,
    "start_time": "2024-07-18T01:32:23.015Z"
   },
   {
    "duration": 200,
    "start_time": "2024-07-18T01:35:56.216Z"
   },
   {
    "duration": 18,
    "start_time": "2024-07-18T01:47:17.439Z"
   },
   {
    "duration": 55,
    "start_time": "2024-07-18T02:29:17.443Z"
   },
   {
    "duration": 10,
    "start_time": "2024-07-18T02:29:42.108Z"
   },
   {
    "duration": 307,
    "start_time": "2024-07-18T15:22:00.701Z"
   },
   {
    "duration": 1169,
    "start_time": "2024-07-18T15:22:07.578Z"
   },
   {
    "duration": 22,
    "start_time": "2024-07-18T15:22:08.751Z"
   },
   {
    "duration": 16,
    "start_time": "2024-07-18T15:22:08.776Z"
   },
   {
    "duration": 7,
    "start_time": "2024-07-18T15:22:08.795Z"
   },
   {
    "duration": 31,
    "start_time": "2024-07-18T15:22:08.808Z"
   },
   {
    "duration": 27,
    "start_time": "2024-07-18T15:22:08.842Z"
   },
   {
    "duration": 8,
    "start_time": "2024-07-18T15:22:08.872Z"
   },
   {
    "duration": 5,
    "start_time": "2024-07-18T15:22:08.882Z"
   },
   {
    "duration": 7,
    "start_time": "2024-07-18T15:22:08.932Z"
   },
   {
    "duration": 6,
    "start_time": "2024-07-18T15:22:08.942Z"
   },
   {
    "duration": 5,
    "start_time": "2024-07-18T15:22:08.951Z"
   },
   {
    "duration": 139,
    "start_time": "2024-07-18T15:22:08.959Z"
   },
   {
    "duration": 388,
    "start_time": "2024-07-18T15:22:09.100Z"
   },
   {
    "duration": 44,
    "start_time": "2024-07-18T15:22:09.494Z"
   },
   {
    "duration": 15,
    "start_time": "2024-07-18T15:22:09.541Z"
   },
   {
    "duration": 86,
    "start_time": "2024-07-18T15:22:09.559Z"
   },
   {
    "duration": 20,
    "start_time": "2024-07-18T15:22:09.648Z"
   },
   {
    "duration": 6,
    "start_time": "2024-07-18T15:22:09.671Z"
   },
   {
    "duration": 8,
    "start_time": "2024-07-18T15:22:09.681Z"
   },
   {
    "duration": 50,
    "start_time": "2024-07-18T15:22:09.691Z"
   },
   {
    "duration": 16,
    "start_time": "2024-07-18T15:23:23.606Z"
   },
   {
    "duration": 63,
    "start_time": "2024-07-18T15:34:10.221Z"
   },
   {
    "duration": 6,
    "start_time": "2024-07-18T15:34:11.105Z"
   },
   {
    "duration": 7,
    "start_time": "2024-07-18T15:34:14.512Z"
   },
   {
    "duration": 6,
    "start_time": "2024-07-18T15:59:04.516Z"
   },
   {
    "duration": 13,
    "start_time": "2024-07-18T15:59:04.527Z"
   },
   {
    "duration": 17,
    "start_time": "2024-07-18T15:59:04.543Z"
   },
   {
    "duration": 7,
    "start_time": "2024-07-18T15:59:04.563Z"
   },
   {
    "duration": 10,
    "start_time": "2024-07-18T15:59:04.575Z"
   },
   {
    "duration": 66,
    "start_time": "2024-07-18T15:59:04.588Z"
   },
   {
    "duration": 7,
    "start_time": "2024-07-18T15:59:04.658Z"
   },
   {
    "duration": 5,
    "start_time": "2024-07-18T15:59:04.668Z"
   },
   {
    "duration": 7,
    "start_time": "2024-07-18T15:59:04.676Z"
   },
   {
    "duration": 49,
    "start_time": "2024-07-18T15:59:04.686Z"
   },
   {
    "duration": 5,
    "start_time": "2024-07-18T15:59:04.738Z"
   },
   {
    "duration": 129,
    "start_time": "2024-07-18T15:59:04.746Z"
   },
   {
    "duration": 404,
    "start_time": "2024-07-18T15:59:04.878Z"
   },
   {
    "duration": 48,
    "start_time": "2024-07-18T15:59:05.287Z"
   },
   {
    "duration": 15,
    "start_time": "2024-07-18T15:59:05.338Z"
   },
   {
    "duration": 90,
    "start_time": "2024-07-18T15:59:05.355Z"
   },
   {
    "duration": 62,
    "start_time": "2024-07-18T15:59:05.449Z"
   },
   {
    "duration": 18,
    "start_time": "2024-07-18T15:59:05.514Z"
   },
   {
    "duration": 8,
    "start_time": "2024-07-18T15:59:05.535Z"
   }
  ],
  "kernelspec": {
   "display_name": "Python 3 (ipykernel)",
   "language": "python",
   "name": "python3"
  },
  "language_info": {
   "codemirror_mode": {
    "name": "ipython",
    "version": 3
   },
   "file_extension": ".py",
   "mimetype": "text/x-python",
   "name": "python",
   "nbconvert_exporter": "python",
   "pygments_lexer": "ipython3",
   "version": "3.9.19"
  },
  "toc": {
   "base_numbering": 1,
   "nav_menu": {},
   "number_sections": true,
   "sideBar": true,
   "skip_h1_title": true,
   "title_cell": "Table of Contents",
   "title_sidebar": "Contents",
   "toc_cell": false,
   "toc_position": {},
   "toc_section_display": true,
   "toc_window_display": false
  }
 },
 "nbformat": 4,
 "nbformat_minor": 2
}
