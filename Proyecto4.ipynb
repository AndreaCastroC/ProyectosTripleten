{
 "cells": [
  {
   "cell_type": "markdown",
   "metadata": {},
   "source": [
    "¡Hola!\n",
    "\n",
    "Mi nombre es Tonatiuh Cruz. Me complace revisar tu proyecto hoy.\n",
    "\n",
    "Al identificar cualquier error inicialmente, simplemente los destacaré. Te animo a localizar y abordar los problemas de forma independiente como parte de tu preparación para un rol como data-scientist. En un entorno profesional, tu líder de equipo seguiría un enfoque similar. Si encuentras la tarea desafiante, proporcionaré una pista más específica en la próxima iteración.\n",
    "\n",
    "Encontrarás mis comentarios a continuación - **por favor no los muevas, modifiques o elimines**.\n",
    "\n",
    "Puedes encontrar mis comentarios en cajas verdes, amarillas o rojas como esta:\n",
    "\n",
    "<div class=\"alert alert-block alert-success\">\n",
    "<b>Comentario del revisor</b> <a class=\"tocSkip\"></a>\n",
    "\n",
    "Éxito. Todo está hecho correctamente.\n",
    "</div>\n",
    "\n",
    "<div class=\"alert alert-block alert-warning\">\n",
    "<b>Comentario del revisor</b> <a class=\"tocSkip\"></a>\n",
    "\n",
    "Observaciones. Algunas recomendaciones.\n",
    "</div>\n",
    "\n",
    "<div class=\"alert alert-block alert-danger\">\n",
    "<b>Comentario del revisor</b> <a class=\"tocSkip\"></a>\n",
    "\n",
    "Necesita corrección. El bloque requiere algunas correcciones. El trabajo no puede ser aceptado con comentarios en rojo.\n",
    "</div>\n",
    "\n",
    "Puedes responderme utilizando esto:\n",
    "\n",
    "<div class=\"alert alert-block alert-info\">\n",
    "<b>Respuesta del estudiante.</b> <a class=\"tocSkip\"></a>"
   ]
  },
  {
   "cell_type": "markdown",
   "metadata": {
    "id": "3rYiDeEH0q0f"
   },
   "source": [
    "# ¿Cuál es la mejor tarifa?\n",
    "\n",
    "Trabajas como analista para el operador de telecomunicaciones Megaline. La empresa ofrece a sus clientes dos tarifas de prepago, Surf y Ultimate. El departamento comercial quiere saber cuál de las tarifas genera más ingresos para poder ajustar el presupuesto de publicidad.\n",
    "\n",
    "Vas a realizar un análisis preliminar de las tarifas basado en una selección de clientes relativamente pequeña. Tendrás los datos de 500 clientes de Megaline: quiénes son los clientes, de dónde son, qué tarifa usan, así como la cantidad de llamadas que hicieron y los mensajes de texto que enviaron en 2018. Tu trabajo es analizar el comportamiento de los clientes y determinar qué tarifa de prepago genera más ingresos.\n"
   ]
  },
  {
   "cell_type": "markdown",
   "metadata": {
    "id": "MQi4IPy70q0y"
   },
   "source": [
    "## Inicialización"
   ]
  },
  {
   "cell_type": "code",
   "execution_count": 75,
   "metadata": {
    "id": "MtYIuBxu0q0z"
   },
   "outputs": [],
   "source": [
    "# Cargar todas las librerías\n",
    "import pandas as pd\n",
    "import numpy as np\n",
    "from matplotlib import pyplot as plt\n",
    "from math import factorial\n",
    "from scipy import stats as st\n",
    "import plotly.express as px\n",
    "import seaborn as sns\n",
    "from scipy.stats import levene"
   ]
  },
  {
   "cell_type": "markdown",
   "metadata": {
    "id": "4ysWWC5i0q00"
   },
   "source": [
    "## Cargar datos"
   ]
  },
  {
   "cell_type": "code",
   "execution_count": 76,
   "metadata": {
    "id": "CCqPW7rS0q01"
   },
   "outputs": [],
   "source": [
    "# Carga los archivos de datos en diferentes DataFrames\n",
    "calls = pd.read_csv(\"/datasets/megaline_calls.csv\") \n",
    "internet = pd.read_csv(\"/datasets/megaline_internet.csv\") \n",
    "messages = pd.read_csv(\"/datasets/megaline_messages.csv\")\n",
    "plans = pd.read_csv(\"/datasets/megaline_plans.csv\")\n",
    "users = pd.read_csv(\"/datasets/megaline_users.csv\")"
   ]
  },
  {
   "cell_type": "markdown",
   "metadata": {},
   "source": [
    "<div class=\"alert alert-block alert-success\">\n",
    "<b>Comentario del revisor:</b> <a class=\"tocSkip\"></a>\n",
    "    \n",
    "Has realizado un excelente trabajo al importar los datos y las bibliotecas necesarias.\n",
    "\n",
    "</div>"
   ]
  },
  {
   "cell_type": "markdown",
   "metadata": {
    "id": "69qqoJ3r0q01"
   },
   "source": [
    "## Preparar los datos"
   ]
  },
  {
   "cell_type": "markdown",
   "metadata": {
    "id": "vUuZw80S0q01"
   },
   "source": [
    "A continuación se hará una revisión general de las datas necesarias para el análisis requerido. Lo anterior se realizará con el objetivo de observar si existen valores perdidos, duplicados o variables catalogadas de manera incorrecta. Luego de ello se procederá al análisis estadístico."
   ]
  },
  {
   "cell_type": "markdown",
   "metadata": {
    "id": "ohBhimvH0q01"
   },
   "source": [
    "## Tarifas"
   ]
  },
  {
   "cell_type": "code",
   "execution_count": 77,
   "metadata": {
    "id": "GptqP3Q40q02"
   },
   "outputs": [
    {
     "name": "stdout",
     "output_type": "stream",
     "text": [
      "<class 'pandas.core.frame.DataFrame'>\n",
      "RangeIndex: 2 entries, 0 to 1\n",
      "Data columns (total 8 columns):\n",
      " #   Column                 Non-Null Count  Dtype  \n",
      "---  ------                 --------------  -----  \n",
      " 0   messages_included      2 non-null      int64  \n",
      " 1   mb_per_month_included  2 non-null      int64  \n",
      " 2   minutes_included       2 non-null      int64  \n",
      " 3   usd_monthly_pay        2 non-null      int64  \n",
      " 4   usd_per_gb             2 non-null      int64  \n",
      " 5   usd_per_message        2 non-null      float64\n",
      " 6   usd_per_minute         2 non-null      float64\n",
      " 7   plan_name              2 non-null      object \n",
      "dtypes: float64(2), int64(5), object(1)\n",
      "memory usage: 256.0+ bytes\n"
     ]
    },
    {
     "data": {
      "text/plain": [
       "0"
      ]
     },
     "execution_count": 77,
     "metadata": {},
     "output_type": "execute_result"
    }
   ],
   "source": [
    "# Imprime la información general/resumida sobre el DataFrame de las tarifas\n",
    "plans.info()\n",
    "plans.duplicated().sum()"
   ]
  },
  {
   "cell_type": "code",
   "execution_count": 78,
   "metadata": {
    "id": "64xzjwL70q02"
   },
   "outputs": [
    {
     "data": {
      "text/html": [
       "<div>\n",
       "<style scoped>\n",
       "    .dataframe tbody tr th:only-of-type {\n",
       "        vertical-align: middle;\n",
       "    }\n",
       "\n",
       "    .dataframe tbody tr th {\n",
       "        vertical-align: top;\n",
       "    }\n",
       "\n",
       "    .dataframe thead th {\n",
       "        text-align: right;\n",
       "    }\n",
       "</style>\n",
       "<table border=\"1\" class=\"dataframe\">\n",
       "  <thead>\n",
       "    <tr style=\"text-align: right;\">\n",
       "      <th></th>\n",
       "      <th>messages_included</th>\n",
       "      <th>mb_per_month_included</th>\n",
       "      <th>minutes_included</th>\n",
       "      <th>usd_monthly_pay</th>\n",
       "      <th>usd_per_gb</th>\n",
       "      <th>usd_per_message</th>\n",
       "      <th>usd_per_minute</th>\n",
       "      <th>plan_name</th>\n",
       "    </tr>\n",
       "  </thead>\n",
       "  <tbody>\n",
       "    <tr>\n",
       "      <th>0</th>\n",
       "      <td>50</td>\n",
       "      <td>15360</td>\n",
       "      <td>500</td>\n",
       "      <td>20</td>\n",
       "      <td>10</td>\n",
       "      <td>0.03</td>\n",
       "      <td>0.03</td>\n",
       "      <td>surf</td>\n",
       "    </tr>\n",
       "    <tr>\n",
       "      <th>1</th>\n",
       "      <td>1000</td>\n",
       "      <td>30720</td>\n",
       "      <td>3000</td>\n",
       "      <td>70</td>\n",
       "      <td>7</td>\n",
       "      <td>0.01</td>\n",
       "      <td>0.01</td>\n",
       "      <td>ultimate</td>\n",
       "    </tr>\n",
       "  </tbody>\n",
       "</table>\n",
       "</div>"
      ],
      "text/plain": [
       "   messages_included  mb_per_month_included  minutes_included  \\\n",
       "0                 50                  15360               500   \n",
       "1               1000                  30720              3000   \n",
       "\n",
       "   usd_monthly_pay  usd_per_gb  usd_per_message  usd_per_minute plan_name  \n",
       "0               20          10             0.03            0.03      surf  \n",
       "1               70           7             0.01            0.01  ultimate  "
      ]
     },
     "execution_count": 78,
     "metadata": {},
     "output_type": "execute_result"
    }
   ],
   "source": [
    "# Imprime una muestra de los datos para las tarifas\n",
    "plans.head()"
   ]
  },
  {
   "cell_type": "markdown",
   "metadata": {
    "id": "mEc_3_hs0q02"
   },
   "source": [
    "Es posible observar que la data tiene 8 variables, siendo 7 numéricas y dos categóricas. Adicionalmente 2 de las variables numéricas son continuas, siendo el resto discretas. No se observan valores perdidos. De manera general, emplearía otro orden para expresar la data, posicionando en la primera columna el nombre de los planes y en la segunda, el monto mensual de cada plan. "
   ]
  },
  {
   "cell_type": "markdown",
   "metadata": {
    "id": "R3C05i1l0q03"
   },
   "source": [
    "## Corregir datos"
   ]
  },
  {
   "cell_type": "markdown",
   "metadata": {
    "id": "bIi8StZI0q03"
   },
   "source": [
    "Se cambiará el orden de la variable *plan_name* para que sea la primera variable de la data a analizar. Además, se cambiará el nombre de la variable *plan_name* para, posteriormente, poder unirla a las demás datas."
   ]
  },
  {
   "cell_type": "code",
   "execution_count": 79,
   "metadata": {
    "id": "Y7SVmjGn0q03"
   },
   "outputs": [],
   "source": [
    "column_order = [7, 3, 0, 1, 2, 4, 5, 6]\n",
    "plans = plans.iloc[:, column_order]\n",
    "\n",
    "plans = plans.rename(columns={\"plan_name\":\"plan\"})"
   ]
  },
  {
   "cell_type": "markdown",
   "metadata": {
    "id": "LJir7bml0q03"
   },
   "source": [
    "## Enriquecer los datos"
   ]
  },
  {
   "cell_type": "markdown",
   "metadata": {
    "id": "eqADpCfg0q04"
   },
   "source": [
    "Por el momento no se agregará nada adicional. Sin embargo, se destaca que los planes están considerados a partir de los gb utilizados, mientras que la información de los usuarios se encuentra en mb. Ante ello, la variable deberá ser transformada para homogeneizar la unidad de análisis. "
   ]
  },
  {
   "cell_type": "markdown",
   "metadata": {},
   "source": [
    "<div class=\"alert alert-block alert-warning\">\n",
    "<b>Comentario Revisor</b> <a class=\"tocSkip\"></a>\n",
    "\n",
    "Muy buen trabajo, solamente te sugiero que en este apartado menciones un poco sobre la transformación que se debe realizar de megabytes a gigabytes. \n",
    "</div>"
   ]
  },
  {
   "cell_type": "markdown",
   "metadata": {},
   "source": [
    "<div class=\"alert alert-block alert-success\">\n",
    "<b>Comentario del revisor</b> <a class=\"tocSkip\"></a>\n",
    "\n",
    "Muy buen trabajo con los ajustes!\n",
    "</div>"
   ]
  },
  {
   "cell_type": "markdown",
   "metadata": {
    "id": "1n2X6WXf0q04"
   },
   "source": [
    "## Usuarios/as"
   ]
  },
  {
   "cell_type": "code",
   "execution_count": 80,
   "metadata": {
    "id": "2NgjWFqx0q05"
   },
   "outputs": [
    {
     "name": "stdout",
     "output_type": "stream",
     "text": [
      "<class 'pandas.core.frame.DataFrame'>\n",
      "RangeIndex: 500 entries, 0 to 499\n",
      "Data columns (total 8 columns):\n",
      " #   Column      Non-Null Count  Dtype \n",
      "---  ------      --------------  ----- \n",
      " 0   user_id     500 non-null    int64 \n",
      " 1   first_name  500 non-null    object\n",
      " 2   last_name   500 non-null    object\n",
      " 3   age         500 non-null    int64 \n",
      " 4   city        500 non-null    object\n",
      " 5   reg_date    500 non-null    object\n",
      " 6   plan        500 non-null    object\n",
      " 7   churn_date  34 non-null     object\n",
      "dtypes: int64(2), object(6)\n",
      "memory usage: 31.4+ KB\n"
     ]
    },
    {
     "data": {
      "text/plain": [
       "0"
      ]
     },
     "execution_count": 80,
     "metadata": {},
     "output_type": "execute_result"
    }
   ],
   "source": [
    "# Imprime la información general/resumida sobre el DataFrame de usuarios\n",
    "users.info()\n",
    "users.duplicated().sum()"
   ]
  },
  {
   "cell_type": "code",
   "execution_count": 81,
   "metadata": {
    "id": "1IN1L9uh0q05"
   },
   "outputs": [
    {
     "data": {
      "text/html": [
       "<div>\n",
       "<style scoped>\n",
       "    .dataframe tbody tr th:only-of-type {\n",
       "        vertical-align: middle;\n",
       "    }\n",
       "\n",
       "    .dataframe tbody tr th {\n",
       "        vertical-align: top;\n",
       "    }\n",
       "\n",
       "    .dataframe thead th {\n",
       "        text-align: right;\n",
       "    }\n",
       "</style>\n",
       "<table border=\"1\" class=\"dataframe\">\n",
       "  <thead>\n",
       "    <tr style=\"text-align: right;\">\n",
       "      <th></th>\n",
       "      <th>user_id</th>\n",
       "      <th>first_name</th>\n",
       "      <th>last_name</th>\n",
       "      <th>age</th>\n",
       "      <th>city</th>\n",
       "      <th>reg_date</th>\n",
       "      <th>plan</th>\n",
       "      <th>churn_date</th>\n",
       "    </tr>\n",
       "  </thead>\n",
       "  <tbody>\n",
       "    <tr>\n",
       "      <th>0</th>\n",
       "      <td>1000</td>\n",
       "      <td>Anamaria</td>\n",
       "      <td>Bauer</td>\n",
       "      <td>45</td>\n",
       "      <td>Atlanta-Sandy Springs-Roswell, GA MSA</td>\n",
       "      <td>2018-12-24</td>\n",
       "      <td>ultimate</td>\n",
       "      <td>NaN</td>\n",
       "    </tr>\n",
       "    <tr>\n",
       "      <th>1</th>\n",
       "      <td>1001</td>\n",
       "      <td>Mickey</td>\n",
       "      <td>Wilkerson</td>\n",
       "      <td>28</td>\n",
       "      <td>Seattle-Tacoma-Bellevue, WA MSA</td>\n",
       "      <td>2018-08-13</td>\n",
       "      <td>surf</td>\n",
       "      <td>NaN</td>\n",
       "    </tr>\n",
       "    <tr>\n",
       "      <th>2</th>\n",
       "      <td>1002</td>\n",
       "      <td>Carlee</td>\n",
       "      <td>Hoffman</td>\n",
       "      <td>36</td>\n",
       "      <td>Las Vegas-Henderson-Paradise, NV MSA</td>\n",
       "      <td>2018-10-21</td>\n",
       "      <td>surf</td>\n",
       "      <td>NaN</td>\n",
       "    </tr>\n",
       "    <tr>\n",
       "      <th>3</th>\n",
       "      <td>1003</td>\n",
       "      <td>Reynaldo</td>\n",
       "      <td>Jenkins</td>\n",
       "      <td>52</td>\n",
       "      <td>Tulsa, OK MSA</td>\n",
       "      <td>2018-01-28</td>\n",
       "      <td>surf</td>\n",
       "      <td>NaN</td>\n",
       "    </tr>\n",
       "    <tr>\n",
       "      <th>4</th>\n",
       "      <td>1004</td>\n",
       "      <td>Leonila</td>\n",
       "      <td>Thompson</td>\n",
       "      <td>40</td>\n",
       "      <td>Seattle-Tacoma-Bellevue, WA MSA</td>\n",
       "      <td>2018-05-23</td>\n",
       "      <td>surf</td>\n",
       "      <td>NaN</td>\n",
       "    </tr>\n",
       "  </tbody>\n",
       "</table>\n",
       "</div>"
      ],
      "text/plain": [
       "   user_id first_name  last_name  age                                   city  \\\n",
       "0     1000   Anamaria      Bauer   45  Atlanta-Sandy Springs-Roswell, GA MSA   \n",
       "1     1001     Mickey  Wilkerson   28        Seattle-Tacoma-Bellevue, WA MSA   \n",
       "2     1002     Carlee    Hoffman   36   Las Vegas-Henderson-Paradise, NV MSA   \n",
       "3     1003   Reynaldo    Jenkins   52                          Tulsa, OK MSA   \n",
       "4     1004    Leonila   Thompson   40        Seattle-Tacoma-Bellevue, WA MSA   \n",
       "\n",
       "     reg_date      plan churn_date  \n",
       "0  2018-12-24  ultimate        NaN  \n",
       "1  2018-08-13      surf        NaN  \n",
       "2  2018-10-21      surf        NaN  \n",
       "3  2018-01-28      surf        NaN  \n",
       "4  2018-05-23      surf        NaN  "
      ]
     },
     "execution_count": 81,
     "metadata": {},
     "output_type": "execute_result"
    }
   ],
   "source": [
    "# Imprime una muestra de datos para usuarios\n",
    "users.head()"
   ]
  },
  {
   "cell_type": "markdown",
   "metadata": {
    "id": "dCZoUq4f0q06"
   },
   "source": [
    "Es posible observar que la data tiene 8 variables, siendo 6 categóricas y dos numéricas discretas. Además, se observa que en la columna *churn_date* hay 466 valores perdidos. Lo anterior expresa que 34 clientes dejaron de usar el servicio para el momento en el que se extrajeron los datos. Adicionalmente, se observa que la variable *user_id* está almacenada como número entero, pero considerendo que hace referencia a la identificación de una persona, sería mejor cambiar el tipo de variable a una categórica."
   ]
  },
  {
   "cell_type": "markdown",
   "metadata": {},
   "source": [
    "<div class=\"alert alert-block alert-success\">\n",
    "<b>Comentario Revisor</b> <a class=\"tocSkip\"></a>\n",
    "\n",
    "Gran trabajo con esta conclusión! Esta variable nos ayuda a identificar los usuarios que dejaron de usar el servicio.\n",
    "</div>"
   ]
  },
  {
   "cell_type": "markdown",
   "metadata": {
    "id": "BX5FQh_I0q06"
   },
   "source": [
    "### Corregir los datos"
   ]
  },
  {
   "cell_type": "markdown",
   "metadata": {
    "id": "8OdKMwJv0q06"
   },
   "source": [
    "Se procederá con el cambio de la variable *user_id*."
   ]
  },
  {
   "cell_type": "code",
   "execution_count": 82,
   "metadata": {
    "id": "yUqX-K0C0q07"
   },
   "outputs": [],
   "source": [
    "users[\"user_id\"] = users[\"user_id\"].astype(\"object\")"
   ]
  },
  {
   "cell_type": "markdown",
   "metadata": {
    "id": "ycwuARJp0q07"
   },
   "source": [
    "### Enriquecer los datos"
   ]
  },
  {
   "cell_type": "markdown",
   "metadata": {
    "id": "96NIh4CJ0q08"
   },
   "source": [
    "Con el propósito de poder observar de manera diferenciada el comportamiento de los clientes actuales y que se dieron de baja, se agregará una nueva columna llamada *current_status* con los valores \"active\" \"no active\". De esa forma, podrá analizar, por ejemplo, si un plan tiene mayor porcentaje de desertores, así como los meses en los que más ocurre esto. En ese sentido, también se desagregaran las variables que indican fechas a nivel de día (*reg_day* y *churn_day*), a nivel de mes (*reg_month* y *churn_month*) y de año (*reg_year* y *churn_year*). Además, y considerando que las líneas móviles operan en Estados Unidos y que es un país federado, crearía una nueva variable para clasificar en qué Estado reside el usuario. Lo anterior lo usaría para analizar si la importancia, y por ende, la publicidad de los planes de telefonía debe adaptarse en base al Estado de residencia del usuario. Finalmente, se actualizará el tipo de variable para las columnas *reg_date* y *churn_date*, para que la información de ambas columnas se almacene como fecha."
   ]
  },
  {
   "cell_type": "code",
   "execution_count": 83,
   "metadata": {
    "id": "iq0AaBS90q08",
    "scrolled": true
   },
   "outputs": [],
   "source": [
    "current_status = []\n",
    "for date in users[\"churn_date\"]:\n",
    "    if pd.isna(date):\n",
    "        current_status.append(\"no active\")\n",
    "    else:\n",
    "        current_status.append(\"active\")\n",
    "\n",
    "users[\"current_status\"] = current_status\n",
    "\n",
    "if not users[\"churn_date\"].isnull().all():\n",
    "    users[[\"churn_day\", \"churn_month\", \"churn_year\"]] = users[\"churn_date\"].str.split(\"-\", expand=True)\n",
    "\n",
    "users[[\"reg_day\", \"reg_month\", \"reg_year\"]] = users[\"reg_date\"].str.split(\"-\", expand=True)\n",
    "\n",
    "users[\"state\"] = users[\"city\"].str.split(\",\").str[-1].str.strip()\n",
    "\n",
    "users[\"reg_date\"] = pd.to_datetime(users[\"reg_date\"],format=\"%Y-%m-%d\")\n",
    "users[\"churn_date\"] = pd.to_datetime(users[\"churn_date\"],format=\"%Y-%m-%d\")"
   ]
  },
  {
   "cell_type": "markdown",
   "metadata": {},
   "source": [
    "<div class=\"alert alert-block alert-warning\">\n",
    "<b>Comentario Revisor</b> <a class=\"tocSkip\"></a>\n",
    "\n",
    "En todos los casos en los que cambiamos el tipo de variable a datetime, te recomiendo agregar el argumento \"format='%Y-%m-%d'\" dentro de la función to_datetime(). De esta manera, puedes asegurarte siempre de que el formato de la fecha que deseas cambiar sea el que necesitas.\n",
    "</div>"
   ]
  },
  {
   "cell_type": "markdown",
   "metadata": {},
   "source": [
    "<div class=\"alert alert-block alert-success\">\n",
    "<b>Comentario del revisor</b> <a class=\"tocSkip\"></a>\n",
    "\n",
    "Muy buen trabajo con los ajustes!\n",
    "</div>"
   ]
  },
  {
   "cell_type": "markdown",
   "metadata": {
    "id": "o7MeKCid0q08"
   },
   "source": [
    "## Llamadas"
   ]
  },
  {
   "cell_type": "code",
   "execution_count": 84,
   "metadata": {
    "id": "6dDlnoDm0q08"
   },
   "outputs": [
    {
     "name": "stdout",
     "output_type": "stream",
     "text": [
      "<class 'pandas.core.frame.DataFrame'>\n",
      "RangeIndex: 137735 entries, 0 to 137734\n",
      "Data columns (total 4 columns):\n",
      " #   Column     Non-Null Count   Dtype  \n",
      "---  ------     --------------   -----  \n",
      " 0   id         137735 non-null  object \n",
      " 1   user_id    137735 non-null  int64  \n",
      " 2   call_date  137735 non-null  object \n",
      " 3   duration   137735 non-null  float64\n",
      "dtypes: float64(1), int64(1), object(2)\n",
      "memory usage: 4.2+ MB\n"
     ]
    },
    {
     "data": {
      "text/plain": [
       "0"
      ]
     },
     "execution_count": 84,
     "metadata": {},
     "output_type": "execute_result"
    }
   ],
   "source": [
    "# Imprime la información general/resumida sobre el DataFrame de las llamadas\n",
    "calls.info()\n",
    "calls.duplicated().sum()"
   ]
  },
  {
   "cell_type": "code",
   "execution_count": 85,
   "metadata": {
    "id": "kuh1vlNB0q09"
   },
   "outputs": [
    {
     "data": {
      "text/html": [
       "<div>\n",
       "<style scoped>\n",
       "    .dataframe tbody tr th:only-of-type {\n",
       "        vertical-align: middle;\n",
       "    }\n",
       "\n",
       "    .dataframe tbody tr th {\n",
       "        vertical-align: top;\n",
       "    }\n",
       "\n",
       "    .dataframe thead th {\n",
       "        text-align: right;\n",
       "    }\n",
       "</style>\n",
       "<table border=\"1\" class=\"dataframe\">\n",
       "  <thead>\n",
       "    <tr style=\"text-align: right;\">\n",
       "      <th></th>\n",
       "      <th>id</th>\n",
       "      <th>user_id</th>\n",
       "      <th>call_date</th>\n",
       "      <th>duration</th>\n",
       "    </tr>\n",
       "  </thead>\n",
       "  <tbody>\n",
       "    <tr>\n",
       "      <th>0</th>\n",
       "      <td>1000_93</td>\n",
       "      <td>1000</td>\n",
       "      <td>2018-12-27</td>\n",
       "      <td>8.52</td>\n",
       "    </tr>\n",
       "    <tr>\n",
       "      <th>1</th>\n",
       "      <td>1000_145</td>\n",
       "      <td>1000</td>\n",
       "      <td>2018-12-27</td>\n",
       "      <td>13.66</td>\n",
       "    </tr>\n",
       "    <tr>\n",
       "      <th>2</th>\n",
       "      <td>1000_247</td>\n",
       "      <td>1000</td>\n",
       "      <td>2018-12-27</td>\n",
       "      <td>14.48</td>\n",
       "    </tr>\n",
       "    <tr>\n",
       "      <th>3</th>\n",
       "      <td>1000_309</td>\n",
       "      <td>1000</td>\n",
       "      <td>2018-12-28</td>\n",
       "      <td>5.76</td>\n",
       "    </tr>\n",
       "    <tr>\n",
       "      <th>4</th>\n",
       "      <td>1000_380</td>\n",
       "      <td>1000</td>\n",
       "      <td>2018-12-30</td>\n",
       "      <td>4.22</td>\n",
       "    </tr>\n",
       "  </tbody>\n",
       "</table>\n",
       "</div>"
      ],
      "text/plain": [
       "         id  user_id   call_date  duration\n",
       "0   1000_93     1000  2018-12-27      8.52\n",
       "1  1000_145     1000  2018-12-27     13.66\n",
       "2  1000_247     1000  2018-12-27     14.48\n",
       "3  1000_309     1000  2018-12-28      5.76\n",
       "4  1000_380     1000  2018-12-30      4.22"
      ]
     },
     "execution_count": 85,
     "metadata": {},
     "output_type": "execute_result"
    }
   ],
   "source": [
    "# Imprime una muestra de datos para las llamadas\n",
    "calls.head()"
   ]
  },
  {
   "cell_type": "markdown",
   "metadata": {
    "id": "DOAxYJSx0q09"
   },
   "source": [
    "Es posible observar quela data tiene 4 variables, siendo dos categóricas y dos numéricas (una discreta y una continua). No se observan valores perdidos. Se observa que la variable *user_id* está almacenada como número entero, pero considerendo que hace referencia a la identificación de una persona, sería mejor cambiar el tipo de variable a una categórica."
   ]
  },
  {
   "cell_type": "markdown",
   "metadata": {
    "id": "S7hzxmbX0q0-"
   },
   "source": [
    "### Corregir los datos"
   ]
  },
  {
   "cell_type": "markdown",
   "metadata": {
    "id": "YxWyAjD20q0-"
   },
   "source": [
    "Se procederá con el cambio de la variable *user_id*."
   ]
  },
  {
   "cell_type": "code",
   "execution_count": 86,
   "metadata": {
    "id": "S2r8xA4f0q0-"
   },
   "outputs": [],
   "source": [
    "calls[\"user_id\"] = calls[\"user_id\"].astype(\"object\")"
   ]
  },
  {
   "cell_type": "markdown",
   "metadata": {
    "id": "KrMgTrlG0q0_"
   },
   "source": [
    "### Enriquecer los datos"
   ]
  },
  {
   "cell_type": "markdown",
   "metadata": {
    "id": "a9MbmEvE0q0_"
   },
   "source": [
    "Se desagregará la variable *call_date* a nivel de día (*day*), a nivel de mes (*month*) y de año (*year*). Además, y considerando que para cada llamada individual se redondea la duración de las llamadas al entero superior, se procederá a crear una nueva variable que contenga la información final de duración. Esta variable se llamará *call_duration_final*. Finalmente, se actualizará el tipo de variable para la columna *call_date*, para que la información se almacene como fecha."
   ]
  },
  {
   "cell_type": "code",
   "execution_count": 87,
   "metadata": {
    "id": "iZ1avpA_0q0_"
   },
   "outputs": [],
   "source": [
    "calls[[\"day\", \"month\", \"year\"]] = calls[\"call_date\"].str.split(\"-\", expand=True)\n",
    "\n",
    "calls[\"call_duration_final\"] = np.ceil(calls[\"duration\"])\n",
    "\n",
    "calls[\"call_date\"] = pd.to_datetime(calls[\"call_date\"],format=\"%Y-%m-%d\")"
   ]
  },
  {
   "cell_type": "markdown",
   "metadata": {},
   "source": [
    "<div class=\"alert alert-block alert-success\">\n",
    "<b>Comentario Revisor</b> <a class=\"tocSkip\"></a>\n",
    "\n",
    "Muy buen trabajo con los ajustes de esta base de datos!\n",
    "</div>"
   ]
  },
  {
   "cell_type": "markdown",
   "metadata": {
    "id": "mOUZSi180q0_"
   },
   "source": [
    "## Mensajes"
   ]
  },
  {
   "cell_type": "code",
   "execution_count": 88,
   "metadata": {
    "id": "R-bYJpdV0q1A"
   },
   "outputs": [
    {
     "name": "stdout",
     "output_type": "stream",
     "text": [
      "<class 'pandas.core.frame.DataFrame'>\n",
      "RangeIndex: 76051 entries, 0 to 76050\n",
      "Data columns (total 3 columns):\n",
      " #   Column        Non-Null Count  Dtype \n",
      "---  ------        --------------  ----- \n",
      " 0   id            76051 non-null  object\n",
      " 1   user_id       76051 non-null  int64 \n",
      " 2   message_date  76051 non-null  object\n",
      "dtypes: int64(1), object(2)\n",
      "memory usage: 1.7+ MB\n"
     ]
    },
    {
     "data": {
      "text/plain": [
       "0"
      ]
     },
     "execution_count": 88,
     "metadata": {},
     "output_type": "execute_result"
    }
   ],
   "source": [
    "# Imprime la información general/resumida sobre el DataFrame de los mensajes\n",
    "messages.info()\n",
    "messages.duplicated().sum()"
   ]
  },
  {
   "cell_type": "code",
   "execution_count": 89,
   "metadata": {
    "id": "mCEl2iGE0q1A"
   },
   "outputs": [
    {
     "data": {
      "text/html": [
       "<div>\n",
       "<style scoped>\n",
       "    .dataframe tbody tr th:only-of-type {\n",
       "        vertical-align: middle;\n",
       "    }\n",
       "\n",
       "    .dataframe tbody tr th {\n",
       "        vertical-align: top;\n",
       "    }\n",
       "\n",
       "    .dataframe thead th {\n",
       "        text-align: right;\n",
       "    }\n",
       "</style>\n",
       "<table border=\"1\" class=\"dataframe\">\n",
       "  <thead>\n",
       "    <tr style=\"text-align: right;\">\n",
       "      <th></th>\n",
       "      <th>id</th>\n",
       "      <th>user_id</th>\n",
       "      <th>message_date</th>\n",
       "    </tr>\n",
       "  </thead>\n",
       "  <tbody>\n",
       "    <tr>\n",
       "      <th>0</th>\n",
       "      <td>1000_125</td>\n",
       "      <td>1000</td>\n",
       "      <td>2018-12-27</td>\n",
       "    </tr>\n",
       "    <tr>\n",
       "      <th>1</th>\n",
       "      <td>1000_160</td>\n",
       "      <td>1000</td>\n",
       "      <td>2018-12-31</td>\n",
       "    </tr>\n",
       "    <tr>\n",
       "      <th>2</th>\n",
       "      <td>1000_223</td>\n",
       "      <td>1000</td>\n",
       "      <td>2018-12-31</td>\n",
       "    </tr>\n",
       "    <tr>\n",
       "      <th>3</th>\n",
       "      <td>1000_251</td>\n",
       "      <td>1000</td>\n",
       "      <td>2018-12-27</td>\n",
       "    </tr>\n",
       "    <tr>\n",
       "      <th>4</th>\n",
       "      <td>1000_255</td>\n",
       "      <td>1000</td>\n",
       "      <td>2018-12-26</td>\n",
       "    </tr>\n",
       "  </tbody>\n",
       "</table>\n",
       "</div>"
      ],
      "text/plain": [
       "         id  user_id message_date\n",
       "0  1000_125     1000   2018-12-27\n",
       "1  1000_160     1000   2018-12-31\n",
       "2  1000_223     1000   2018-12-31\n",
       "3  1000_251     1000   2018-12-27\n",
       "4  1000_255     1000   2018-12-26"
      ]
     },
     "execution_count": 89,
     "metadata": {},
     "output_type": "execute_result"
    }
   ],
   "source": [
    "# Imprime una muestra de datos para los mensajes\n",
    "messages.head()"
   ]
  },
  {
   "cell_type": "markdown",
   "metadata": {
    "id": "04xDj7KH0q1A"
   },
   "source": [
    "Es posible observar que la data tiene 3 variables, siendo 1 numérica discreta y dos categóricas. No se observan valores perdidos. Se observa que la variable *user_id* está almacenada como número entero, pero considerendo que hace referencia a la identificación de una persona, sería mejor cambiar el tipo de variable a una categórica."
   ]
  },
  {
   "cell_type": "markdown",
   "metadata": {
    "id": "Sprfak900q1B"
   },
   "source": [
    "### Corregir los datos"
   ]
  },
  {
   "cell_type": "markdown",
   "metadata": {
    "id": "eGw7d9j10q1B"
   },
   "source": [
    "Se procederá con el cambio de la variable *user_id*."
   ]
  },
  {
   "cell_type": "code",
   "execution_count": 90,
   "metadata": {
    "id": "vsllvkoa0q1B"
   },
   "outputs": [],
   "source": [
    "messages[\"user_id\"] = messages[\"user_id\"].astype(\"object\")"
   ]
  },
  {
   "cell_type": "markdown",
   "metadata": {
    "id": "HvLid7iD0q1B"
   },
   "source": [
    "### Enriquecer los datos"
   ]
  },
  {
   "cell_type": "markdown",
   "metadata": {
    "id": "8nhPFKIe0q1C"
   },
   "source": [
    "Se desagregará la variable *message_date* a nivel de día (*day*), a nivel de mes (*month*) y de año (*year*). Además, se actualizará el tipo de variable para la columna *message_date*, para que la información se almacene como fecha."
   ]
  },
  {
   "cell_type": "code",
   "execution_count": 91,
   "metadata": {},
   "outputs": [],
   "source": [
    "messages[[\"day\", \"month\", \"year\"]] = messages[\"message_date\"].str.split(\"-\", expand=True)\n",
    "\n",
    "messages[\"message_date\"] = pd.to_datetime(messages[\"message_date\"],format=\"%Y-%m-%d\")"
   ]
  },
  {
   "cell_type": "markdown",
   "metadata": {},
   "source": [
    "<div class=\"alert alert-block alert-warning\">\n",
    "<b>Comentario Revisor</b> <a class=\"tocSkip\"></a>\n",
    "\n",
    "En todos los casos en los que cambiamos el tipo de variable a datetime, te recomiendo agregar el argumento \"format='%Y-%m-%d'\" dentro de la función to_datetime(). De esta manera, puedes asegurarte siempre de que el formato de la fecha que deseas cambiar sea el que necesitas.\n",
    "</div>"
   ]
  },
  {
   "cell_type": "markdown",
   "metadata": {},
   "source": [
    "<div class=\"alert alert-block alert-success\">\n",
    "<b>Comentario del revisor</b> <a class=\"tocSkip\"></a>\n",
    "\n",
    "Muy buen trabajo con los ajustes!\n",
    "</div>"
   ]
  },
  {
   "cell_type": "markdown",
   "metadata": {
    "id": "bStkaxn40q1C"
   },
   "source": [
    "## Internet"
   ]
  },
  {
   "cell_type": "code",
   "execution_count": 92,
   "metadata": {
    "id": "e-Uz5qyn0q1C"
   },
   "outputs": [
    {
     "name": "stdout",
     "output_type": "stream",
     "text": [
      "<class 'pandas.core.frame.DataFrame'>\n",
      "RangeIndex: 104825 entries, 0 to 104824\n",
      "Data columns (total 4 columns):\n",
      " #   Column        Non-Null Count   Dtype  \n",
      "---  ------        --------------   -----  \n",
      " 0   id            104825 non-null  object \n",
      " 1   user_id       104825 non-null  int64  \n",
      " 2   session_date  104825 non-null  object \n",
      " 3   mb_used       104825 non-null  float64\n",
      "dtypes: float64(1), int64(1), object(2)\n",
      "memory usage: 3.2+ MB\n"
     ]
    },
    {
     "data": {
      "text/plain": [
       "0"
      ]
     },
     "execution_count": 92,
     "metadata": {},
     "output_type": "execute_result"
    }
   ],
   "source": [
    "# Imprime la información general/resumida sobre el DataFrame de internet\n",
    "internet.info()\n",
    "internet.duplicated().sum()"
   ]
  },
  {
   "cell_type": "code",
   "execution_count": 93,
   "metadata": {
    "id": "9r3x_XLw0q1C"
   },
   "outputs": [
    {
     "data": {
      "text/html": [
       "<div>\n",
       "<style scoped>\n",
       "    .dataframe tbody tr th:only-of-type {\n",
       "        vertical-align: middle;\n",
       "    }\n",
       "\n",
       "    .dataframe tbody tr th {\n",
       "        vertical-align: top;\n",
       "    }\n",
       "\n",
       "    .dataframe thead th {\n",
       "        text-align: right;\n",
       "    }\n",
       "</style>\n",
       "<table border=\"1\" class=\"dataframe\">\n",
       "  <thead>\n",
       "    <tr style=\"text-align: right;\">\n",
       "      <th></th>\n",
       "      <th>id</th>\n",
       "      <th>user_id</th>\n",
       "      <th>session_date</th>\n",
       "      <th>mb_used</th>\n",
       "    </tr>\n",
       "  </thead>\n",
       "  <tbody>\n",
       "    <tr>\n",
       "      <th>0</th>\n",
       "      <td>1000_13</td>\n",
       "      <td>1000</td>\n",
       "      <td>2018-12-29</td>\n",
       "      <td>89.86</td>\n",
       "    </tr>\n",
       "    <tr>\n",
       "      <th>1</th>\n",
       "      <td>1000_204</td>\n",
       "      <td>1000</td>\n",
       "      <td>2018-12-31</td>\n",
       "      <td>0.00</td>\n",
       "    </tr>\n",
       "    <tr>\n",
       "      <th>2</th>\n",
       "      <td>1000_379</td>\n",
       "      <td>1000</td>\n",
       "      <td>2018-12-28</td>\n",
       "      <td>660.40</td>\n",
       "    </tr>\n",
       "    <tr>\n",
       "      <th>3</th>\n",
       "      <td>1000_413</td>\n",
       "      <td>1000</td>\n",
       "      <td>2018-12-26</td>\n",
       "      <td>270.99</td>\n",
       "    </tr>\n",
       "    <tr>\n",
       "      <th>4</th>\n",
       "      <td>1000_442</td>\n",
       "      <td>1000</td>\n",
       "      <td>2018-12-27</td>\n",
       "      <td>880.22</td>\n",
       "    </tr>\n",
       "  </tbody>\n",
       "</table>\n",
       "</div>"
      ],
      "text/plain": [
       "         id  user_id session_date  mb_used\n",
       "0   1000_13     1000   2018-12-29    89.86\n",
       "1  1000_204     1000   2018-12-31     0.00\n",
       "2  1000_379     1000   2018-12-28   660.40\n",
       "3  1000_413     1000   2018-12-26   270.99\n",
       "4  1000_442     1000   2018-12-27   880.22"
      ]
     },
     "execution_count": 93,
     "metadata": {},
     "output_type": "execute_result"
    }
   ],
   "source": [
    "# Imprime una muestra de datos para el tráfico de internet\n",
    "internet.head()"
   ]
  },
  {
   "cell_type": "markdown",
   "metadata": {
    "id": "EzOG5ik30q1D"
   },
   "source": [
    "Es posible observar que la data tiene 4 variables, siendo dos categóricas y dos numéricas (una discreta y una continua). No se observan valores perdidos. \n",
    "Se observa que la variable *user_id* está almacenada como número entero, pero considerendo que hace referencia a la identificación de una persona, sería mejor cambiar el tipo de variable a una categórica."
   ]
  },
  {
   "cell_type": "markdown",
   "metadata": {
    "id": "yA0tkPFg0q1D"
   },
   "source": [
    "### Corregir los datos"
   ]
  },
  {
   "cell_type": "markdown",
   "metadata": {
    "id": "zlZMuIEK0q1D"
   },
   "source": [
    "Se procederá con el cambio de la variable *user_id*."
   ]
  },
  {
   "cell_type": "code",
   "execution_count": 94,
   "metadata": {
    "id": "zVeanzdd0q1E"
   },
   "outputs": [],
   "source": [
    "internet[\"user_id\"] = internet[\"user_id\"].astype(\"object\")"
   ]
  },
  {
   "cell_type": "markdown",
   "metadata": {
    "id": "e8_mLF4a0q1E"
   },
   "source": [
    "### Enriquecer los datos"
   ]
  },
  {
   "cell_type": "markdown",
   "metadata": {
    "id": "xhNdn2tE0q1E"
   },
   "source": [
    "Se desagregará la variable *session_date* a nivel de día (*day*), a nivel de mes (*month*) y de año (*year*). Además, se actualizará el tipo de variable para la columna *session_date*, para que la información se almacene como fecha. Adicionalmente, más adelante se agruparán los datos y se realizará un redondeo hacia arriba en lo que respecta a los mb utilizados. "
   ]
  },
  {
   "cell_type": "code",
   "execution_count": 95,
   "metadata": {},
   "outputs": [],
   "source": [
    "internet[[\"day\", \"month\", \"year\"]] = internet[\"session_date\"].str.split(\"-\", expand=True)\n",
    "\n",
    "internet[\"session_date\"] = pd.to_datetime(internet[\"session_date\"],format=\"%Y-%m-%d\")"
   ]
  },
  {
   "cell_type": "markdown",
   "metadata": {},
   "source": [
    "<div class=\"alert alert-block alert-warning\">\n",
    "<b>Comentario revisor</b> <a class=\"tocSkip\"></a>\n",
    "\n",
    "\n",
    "Te recomiendo solamente comentar que cuando agrupemos los datos vamos a tener que redondear hacia arriba lo valores de la transformación de mbegabyter a gigabyte, para este ejercicio debemos hacer el redondeo superior dado que se cobra el costo extra en cuanto se pasa de los límites.Por lo que es necesario hacer la transformación de mb a gb y después hacer el redondeo.  \n",
    "</div>"
   ]
  },
  {
   "cell_type": "markdown",
   "metadata": {},
   "source": [
    "<div class=\"alert alert-block alert-danger\">\n",
    "<b>Comentario Revisor</b> <a class=\"tocSkip\"></a>\n",
    "\n",
    "Cuando hacemos análisis de datos, un paso que es muy importate realizar es verificar que no se tengan duplicados en nuestras bases de datos y en caso de tener duplicados entender si hace sentido su duplicación o solamente son errores de registro. En este sentido sería importante que para todas las bases de datos desarrolles un análisis de registros duplicados.\n",
    "    \n",
    "</div>"
   ]
  },
  {
   "cell_type": "markdown",
   "metadata": {},
   "source": [
    "<div class=\"alert alert-block alert-success\">\n",
    "<b>Comentario del revisor</b> <a class=\"tocSkip\"></a>\n",
    "\n",
    "Muy buen trabajo con los ajustes!\n",
    "</div>"
   ]
  },
  {
   "cell_type": "markdown",
   "metadata": {
    "id": "3UA2cqIW0q1E"
   },
   "source": [
    "## Estudiar las condiciones de las tarifas"
   ]
  },
  {
   "cell_type": "markdown",
   "metadata": {
    "id": "T86Sqltq0q1F"
   },
   "source": [
    "A continuación se mostrará la información relacionada a las tarifas de Megaline"
   ]
  },
  {
   "cell_type": "code",
   "execution_count": 96,
   "metadata": {
    "id": "i409op8p0q1F"
   },
   "outputs": [
    {
     "data": {
      "text/html": [
       "<div>\n",
       "<style scoped>\n",
       "    .dataframe tbody tr th:only-of-type {\n",
       "        vertical-align: middle;\n",
       "    }\n",
       "\n",
       "    .dataframe tbody tr th {\n",
       "        vertical-align: top;\n",
       "    }\n",
       "\n",
       "    .dataframe thead th {\n",
       "        text-align: right;\n",
       "    }\n",
       "</style>\n",
       "<table border=\"1\" class=\"dataframe\">\n",
       "  <thead>\n",
       "    <tr style=\"text-align: right;\">\n",
       "      <th></th>\n",
       "      <th>plan</th>\n",
       "      <th>usd_monthly_pay</th>\n",
       "      <th>messages_included</th>\n",
       "      <th>mb_per_month_included</th>\n",
       "      <th>minutes_included</th>\n",
       "      <th>usd_per_gb</th>\n",
       "      <th>usd_per_message</th>\n",
       "      <th>usd_per_minute</th>\n",
       "    </tr>\n",
       "  </thead>\n",
       "  <tbody>\n",
       "    <tr>\n",
       "      <th>0</th>\n",
       "      <td>surf</td>\n",
       "      <td>20</td>\n",
       "      <td>50</td>\n",
       "      <td>15360</td>\n",
       "      <td>500</td>\n",
       "      <td>10</td>\n",
       "      <td>0.03</td>\n",
       "      <td>0.03</td>\n",
       "    </tr>\n",
       "    <tr>\n",
       "      <th>1</th>\n",
       "      <td>ultimate</td>\n",
       "      <td>70</td>\n",
       "      <td>1000</td>\n",
       "      <td>30720</td>\n",
       "      <td>3000</td>\n",
       "      <td>7</td>\n",
       "      <td>0.01</td>\n",
       "      <td>0.01</td>\n",
       "    </tr>\n",
       "  </tbody>\n",
       "</table>\n",
       "</div>"
      ],
      "text/plain": [
       "       plan  usd_monthly_pay  messages_included  mb_per_month_included  \\\n",
       "0      surf               20                 50                  15360   \n",
       "1  ultimate               70               1000                  30720   \n",
       "\n",
       "   minutes_included  usd_per_gb  usd_per_message  usd_per_minute  \n",
       "0               500          10             0.03            0.03  \n",
       "1              3000           7             0.01            0.01  "
      ]
     },
     "execution_count": 96,
     "metadata": {},
     "output_type": "execute_result"
    }
   ],
   "source": [
    "# Imprime las condiciones de la tarifa y asegúrate de que te quedan claras\n",
    "plans.head()"
   ]
  },
  {
   "cell_type": "markdown",
   "metadata": {
    "id": "hMR1tP5d0q1F"
   },
   "source": [
    "## Agregar datos por usuario\n",
    "\n",
    "A continuación se agregarán los datos por usuario y por periodo en cada una de las datas limpiadas con anterioridad. Lo anterior se realizará con la finalidad de que solo quede un registro por usuario y por periodo."
   ]
  },
  {
   "cell_type": "code",
   "execution_count": 97,
   "metadata": {
    "id": "A332cedB0q1G"
   },
   "outputs": [],
   "source": [
    "# Calcula el número de llamadas hechas por cada usuario al mes. Guarda el resultado.\n",
    "calls_month = calls.groupby([\"user_id\", \"month\"]).size().reset_index(name=\"num_calls\")"
   ]
  },
  {
   "cell_type": "markdown",
   "metadata": {},
   "source": [
    "\n",
    "<div class=\"alert alert-block alert-warning\">\n",
    "\n",
    "<b>Comentario revisor</b> <a class=\"tocSkip\"></a>\n",
    "\n",
    "Si bien es correcta la forma de agrupar para sacar la duración de las llamadas por cada ususario, para proximas ocasiones puedes hacer uso de la siguiente forma:\n",
    "    \n",
    "    pivot_calls = calls.pivot_table(index=['user_id', 'month'],\n",
    "                                values=['duration'],\n",
    "                                aggfunc=['sum','count']).reset_index()\n",
    "\n",
    "</div>"
   ]
  },
  {
   "cell_type": "code",
   "execution_count": 98,
   "metadata": {
    "id": "aw2cmuql0q1G"
   },
   "outputs": [],
   "source": [
    "# Calcula la cantidad de minutos usados por cada usuario al mes. Guarda el resultado.\n",
    "calls_minutes_month = calls.groupby([\"user_id\", \"month\"])[\"call_duration_final\"].sum().reset_index(name=\"calls_minutes_month\")"
   ]
  },
  {
   "cell_type": "code",
   "execution_count": 99,
   "metadata": {
    "id": "CcQvNHn60q1G"
   },
   "outputs": [],
   "source": [
    "# Calcula el número de mensajes enviados por cada usuario al mes. Guarda el resultado.\n",
    "messages_month = messages.groupby([\"user_id\", \"month\"]).size().reset_index(name=\"messages_month\")"
   ]
  },
  {
   "cell_type": "code",
   "execution_count": 100,
   "metadata": {
    "id": "H1AqN2eG0q1H"
   },
   "outputs": [],
   "source": [
    "# Calcula el volumen del tráfico de Internet usado por cada usuario al mes. Guarda el resultado.\n",
    "internet_month = internet.groupby([\"user_id\", \"month\"])[\"mb_used\"].sum().reset_index(name=\"internet_month\")\n",
    "\n",
    "internet_month[\"mb_used_month\"] = np.ceil(internet_month[\"internet_month\"])"
   ]
  },
  {
   "cell_type": "code",
   "execution_count": 101,
   "metadata": {
    "id": "FW99ykyf0q1H"
   },
   "outputs": [
    {
     "name": "stdout",
     "output_type": "stream",
     "text": [
      "<class 'pandas.core.frame.DataFrame'>\n",
      "Int64Index: 2293 entries, 0 to 2292\n",
      "Data columns (total 7 columns):\n",
      " #   Column               Non-Null Count  Dtype  \n",
      "---  ------               --------------  -----  \n",
      " 0   user_id              2293 non-null   int64  \n",
      " 1   month                2293 non-null   object \n",
      " 2   num_calls            2258 non-null   float64\n",
      " 3   calls_minutes_month  2258 non-null   float64\n",
      " 4   messages_month       1806 non-null   float64\n",
      " 5   internet_month       2277 non-null   float64\n",
      " 6   mb_used_month        2277 non-null   float64\n",
      "dtypes: float64(5), int64(1), object(1)\n",
      "memory usage: 143.3+ KB\n"
     ]
    },
    {
     "data": {
      "text/html": [
       "<div>\n",
       "<style scoped>\n",
       "    .dataframe tbody tr th:only-of-type {\n",
       "        vertical-align: middle;\n",
       "    }\n",
       "\n",
       "    .dataframe tbody tr th {\n",
       "        vertical-align: top;\n",
       "    }\n",
       "\n",
       "    .dataframe thead th {\n",
       "        text-align: right;\n",
       "    }\n",
       "</style>\n",
       "<table border=\"1\" class=\"dataframe\">\n",
       "  <thead>\n",
       "    <tr style=\"text-align: right;\">\n",
       "      <th></th>\n",
       "      <th>user_id</th>\n",
       "      <th>month</th>\n",
       "      <th>num_calls</th>\n",
       "      <th>calls_minutes_month</th>\n",
       "      <th>messages_month</th>\n",
       "      <th>internet_month</th>\n",
       "      <th>mb_used_month</th>\n",
       "    </tr>\n",
       "  </thead>\n",
       "  <tbody>\n",
       "    <tr>\n",
       "      <th>0</th>\n",
       "      <td>1000</td>\n",
       "      <td>12</td>\n",
       "      <td>16.0</td>\n",
       "      <td>124.0</td>\n",
       "      <td>11.0</td>\n",
       "      <td>1901.47</td>\n",
       "      <td>1902.0</td>\n",
       "    </tr>\n",
       "    <tr>\n",
       "      <th>1</th>\n",
       "      <td>1001</td>\n",
       "      <td>08</td>\n",
       "      <td>27.0</td>\n",
       "      <td>182.0</td>\n",
       "      <td>30.0</td>\n",
       "      <td>6919.15</td>\n",
       "      <td>6920.0</td>\n",
       "    </tr>\n",
       "    <tr>\n",
       "      <th>2</th>\n",
       "      <td>1001</td>\n",
       "      <td>09</td>\n",
       "      <td>49.0</td>\n",
       "      <td>315.0</td>\n",
       "      <td>44.0</td>\n",
       "      <td>13314.82</td>\n",
       "      <td>13315.0</td>\n",
       "    </tr>\n",
       "    <tr>\n",
       "      <th>3</th>\n",
       "      <td>1001</td>\n",
       "      <td>10</td>\n",
       "      <td>65.0</td>\n",
       "      <td>393.0</td>\n",
       "      <td>53.0</td>\n",
       "      <td>22330.49</td>\n",
       "      <td>22331.0</td>\n",
       "    </tr>\n",
       "    <tr>\n",
       "      <th>4</th>\n",
       "      <td>1001</td>\n",
       "      <td>11</td>\n",
       "      <td>64.0</td>\n",
       "      <td>426.0</td>\n",
       "      <td>36.0</td>\n",
       "      <td>18504.30</td>\n",
       "      <td>18505.0</td>\n",
       "    </tr>\n",
       "  </tbody>\n",
       "</table>\n",
       "</div>"
      ],
      "text/plain": [
       "   user_id month  num_calls  calls_minutes_month  messages_month  \\\n",
       "0     1000    12       16.0                124.0            11.0   \n",
       "1     1001    08       27.0                182.0            30.0   \n",
       "2     1001    09       49.0                315.0            44.0   \n",
       "3     1001    10       65.0                393.0            53.0   \n",
       "4     1001    11       64.0                426.0            36.0   \n",
       "\n",
       "   internet_month  mb_used_month  \n",
       "0         1901.47         1902.0  \n",
       "1         6919.15         6920.0  \n",
       "2        13314.82        13315.0  \n",
       "3        22330.49        22331.0  \n",
       "4        18504.30        18505.0  "
      ]
     },
     "execution_count": 101,
     "metadata": {},
     "output_type": "execute_result"
    }
   ],
   "source": [
    "# Fusiona los datos de llamadas, minutos, mensajes e Internet con base en user_id y month\n",
    "user_month = (calls_month\n",
    "                 .merge(calls_minutes_month, on=[\"user_id\",\"month\"], how=\"outer\")\n",
    "                 .merge(messages_month, on=[\"user_id\",\"month\"], how=\"outer\")\n",
    "                 .merge(internet_month, on=[\"user_id\",\"month\"], how=\"outer\"))\n",
    "\n",
    "user_month.info()\n",
    "user_month.head()"
   ]
  },
  {
   "cell_type": "markdown",
   "metadata": {},
   "source": [
    "<div class=\"alert alert-block alert-success\">\n",
    "<b>Comentario del revisor</b> <a class=\"tocSkip\"></a>\n",
    "\n",
    "Muy buen trabajo!! el merge es correcto para unir todas las bases trabajadas.\n",
    "    \n",
    "</div>"
   ]
  },
  {
   "cell_type": "code",
   "execution_count": 102,
   "metadata": {
    "id": "0dNOXHag0q1H"
   },
   "outputs": [
    {
     "name": "stdout",
     "output_type": "stream",
     "text": [
      "<class 'pandas.core.frame.DataFrame'>\n",
      "Int64Index: 2293 entries, 0 to 2292\n",
      "Data columns (total 15 columns):\n",
      " #   Column                 Non-Null Count  Dtype  \n",
      "---  ------                 --------------  -----  \n",
      " 0   user_id                2293 non-null   object \n",
      " 1   plan                   2293 non-null   object \n",
      " 2   month                  2293 non-null   object \n",
      " 3   num_calls              2258 non-null   float64\n",
      " 4   calls_minutes_month    2258 non-null   float64\n",
      " 5   messages_month         1806 non-null   float64\n",
      " 6   mb_used_month          2277 non-null   float64\n",
      " 7   state                  2293 non-null   object \n",
      " 8   usd_monthly_pay        2293 non-null   int64  \n",
      " 9   messages_included      2293 non-null   int64  \n",
      " 10  mb_per_month_included  2293 non-null   int64  \n",
      " 11  minutes_included       2293 non-null   int64  \n",
      " 12  usd_per_gb             2293 non-null   int64  \n",
      " 13  usd_per_message        2293 non-null   float64\n",
      " 14  usd_per_minute         2293 non-null   float64\n",
      "dtypes: float64(6), int64(5), object(4)\n",
      "memory usage: 286.6+ KB\n"
     ]
    },
    {
     "data": {
      "text/html": [
       "<div>\n",
       "<style scoped>\n",
       "    .dataframe tbody tr th:only-of-type {\n",
       "        vertical-align: middle;\n",
       "    }\n",
       "\n",
       "    .dataframe tbody tr th {\n",
       "        vertical-align: top;\n",
       "    }\n",
       "\n",
       "    .dataframe thead th {\n",
       "        text-align: right;\n",
       "    }\n",
       "</style>\n",
       "<table border=\"1\" class=\"dataframe\">\n",
       "  <thead>\n",
       "    <tr style=\"text-align: right;\">\n",
       "      <th></th>\n",
       "      <th>user_id</th>\n",
       "      <th>plan</th>\n",
       "      <th>month</th>\n",
       "      <th>num_calls</th>\n",
       "      <th>calls_minutes_month</th>\n",
       "      <th>messages_month</th>\n",
       "      <th>mb_used_month</th>\n",
       "      <th>state</th>\n",
       "      <th>usd_monthly_pay</th>\n",
       "      <th>messages_included</th>\n",
       "      <th>mb_per_month_included</th>\n",
       "      <th>minutes_included</th>\n",
       "      <th>usd_per_gb</th>\n",
       "      <th>usd_per_message</th>\n",
       "      <th>usd_per_minute</th>\n",
       "    </tr>\n",
       "  </thead>\n",
       "  <tbody>\n",
       "    <tr>\n",
       "      <th>0</th>\n",
       "      <td>1000</td>\n",
       "      <td>ultimate</td>\n",
       "      <td>12</td>\n",
       "      <td>16.0</td>\n",
       "      <td>124.0</td>\n",
       "      <td>11.0</td>\n",
       "      <td>1902.0</td>\n",
       "      <td>GA MSA</td>\n",
       "      <td>70</td>\n",
       "      <td>1000</td>\n",
       "      <td>30720</td>\n",
       "      <td>3000</td>\n",
       "      <td>7</td>\n",
       "      <td>0.01</td>\n",
       "      <td>0.01</td>\n",
       "    </tr>\n",
       "    <tr>\n",
       "      <th>1</th>\n",
       "      <td>1001</td>\n",
       "      <td>surf</td>\n",
       "      <td>08</td>\n",
       "      <td>27.0</td>\n",
       "      <td>182.0</td>\n",
       "      <td>30.0</td>\n",
       "      <td>6920.0</td>\n",
       "      <td>WA MSA</td>\n",
       "      <td>20</td>\n",
       "      <td>50</td>\n",
       "      <td>15360</td>\n",
       "      <td>500</td>\n",
       "      <td>10</td>\n",
       "      <td>0.03</td>\n",
       "      <td>0.03</td>\n",
       "    </tr>\n",
       "    <tr>\n",
       "      <th>2</th>\n",
       "      <td>1001</td>\n",
       "      <td>surf</td>\n",
       "      <td>09</td>\n",
       "      <td>49.0</td>\n",
       "      <td>315.0</td>\n",
       "      <td>44.0</td>\n",
       "      <td>13315.0</td>\n",
       "      <td>WA MSA</td>\n",
       "      <td>20</td>\n",
       "      <td>50</td>\n",
       "      <td>15360</td>\n",
       "      <td>500</td>\n",
       "      <td>10</td>\n",
       "      <td>0.03</td>\n",
       "      <td>0.03</td>\n",
       "    </tr>\n",
       "    <tr>\n",
       "      <th>3</th>\n",
       "      <td>1001</td>\n",
       "      <td>surf</td>\n",
       "      <td>10</td>\n",
       "      <td>65.0</td>\n",
       "      <td>393.0</td>\n",
       "      <td>53.0</td>\n",
       "      <td>22331.0</td>\n",
       "      <td>WA MSA</td>\n",
       "      <td>20</td>\n",
       "      <td>50</td>\n",
       "      <td>15360</td>\n",
       "      <td>500</td>\n",
       "      <td>10</td>\n",
       "      <td>0.03</td>\n",
       "      <td>0.03</td>\n",
       "    </tr>\n",
       "    <tr>\n",
       "      <th>4</th>\n",
       "      <td>1001</td>\n",
       "      <td>surf</td>\n",
       "      <td>11</td>\n",
       "      <td>64.0</td>\n",
       "      <td>426.0</td>\n",
       "      <td>36.0</td>\n",
       "      <td>18505.0</td>\n",
       "      <td>WA MSA</td>\n",
       "      <td>20</td>\n",
       "      <td>50</td>\n",
       "      <td>15360</td>\n",
       "      <td>500</td>\n",
       "      <td>10</td>\n",
       "      <td>0.03</td>\n",
       "      <td>0.03</td>\n",
       "    </tr>\n",
       "  </tbody>\n",
       "</table>\n",
       "</div>"
      ],
      "text/plain": [
       "  user_id      plan month  num_calls  calls_minutes_month  messages_month  \\\n",
       "0    1000  ultimate    12       16.0                124.0            11.0   \n",
       "1    1001      surf    08       27.0                182.0            30.0   \n",
       "2    1001      surf    09       49.0                315.0            44.0   \n",
       "3    1001      surf    10       65.0                393.0            53.0   \n",
       "4    1001      surf    11       64.0                426.0            36.0   \n",
       "\n",
       "   mb_used_month   state  usd_monthly_pay  messages_included  \\\n",
       "0         1902.0  GA MSA               70               1000   \n",
       "1         6920.0  WA MSA               20                 50   \n",
       "2        13315.0  WA MSA               20                 50   \n",
       "3        22331.0  WA MSA               20                 50   \n",
       "4        18505.0  WA MSA               20                 50   \n",
       "\n",
       "   mb_per_month_included  minutes_included  usd_per_gb  usd_per_message  \\\n",
       "0                  30720              3000           7             0.01   \n",
       "1                  15360               500          10             0.03   \n",
       "2                  15360               500          10             0.03   \n",
       "3                  15360               500          10             0.03   \n",
       "4                  15360               500          10             0.03   \n",
       "\n",
       "   usd_per_minute  \n",
       "0            0.01  \n",
       "1            0.03  \n",
       "2            0.03  \n",
       "3            0.03  \n",
       "4            0.03  "
      ]
     },
     "execution_count": 102,
     "metadata": {},
     "output_type": "execute_result"
    }
   ],
   "source": [
    "# Añade la información de la tarifa\n",
    "data_final = (user_month\n",
    "              .merge(users, on=[\"user_id\"], how=\"left\")\n",
    "              .merge(plans, on=[\"plan\"], how=\"left\"))\n",
    "\n",
    "columns = [0, 12] + list(range(1, 5)) + [6] + [21] + list(range(22, 29))\n",
    "data_final = data_final.iloc[:, columns]\n",
    "\n",
    "data_final.info()\n",
    "data_final.head()"
   ]
  },
  {
   "cell_type": "markdown",
   "metadata": {
    "id": "1IwGo4wg0q1I"
   },
   "source": [
    "A continuación se calculará el costo mensual de cada usuario por mes."
   ]
  },
  {
   "cell_type": "code",
   "execution_count": 103,
   "metadata": {
    "id": "5FGCf_c60q1I"
   },
   "outputs": [
    {
     "data": {
      "text/html": [
       "<div>\n",
       "<style scoped>\n",
       "    .dataframe tbody tr th:only-of-type {\n",
       "        vertical-align: middle;\n",
       "    }\n",
       "\n",
       "    .dataframe tbody tr th {\n",
       "        vertical-align: top;\n",
       "    }\n",
       "\n",
       "    .dataframe thead th {\n",
       "        text-align: right;\n",
       "    }\n",
       "</style>\n",
       "<table border=\"1\" class=\"dataframe\">\n",
       "  <thead>\n",
       "    <tr style=\"text-align: right;\">\n",
       "      <th></th>\n",
       "      <th>user_id</th>\n",
       "      <th>plan</th>\n",
       "      <th>month</th>\n",
       "      <th>num_calls</th>\n",
       "      <th>calls_minutes_month</th>\n",
       "      <th>messages_month</th>\n",
       "      <th>mb_used_month</th>\n",
       "      <th>state</th>\n",
       "      <th>usd_monthly_pay</th>\n",
       "      <th>messages_included</th>\n",
       "      <th>...</th>\n",
       "      <th>usd_per_gb</th>\n",
       "      <th>usd_per_message</th>\n",
       "      <th>usd_per_minute</th>\n",
       "      <th>excess_minutes</th>\n",
       "      <th>excess_messages</th>\n",
       "      <th>excess_gb</th>\n",
       "      <th>cost_excess_minutes</th>\n",
       "      <th>cost_excess_messages</th>\n",
       "      <th>cost_excess_gb</th>\n",
       "      <th>final_cost</th>\n",
       "    </tr>\n",
       "  </thead>\n",
       "  <tbody>\n",
       "    <tr>\n",
       "      <th>0</th>\n",
       "      <td>1000</td>\n",
       "      <td>ultimate</td>\n",
       "      <td>12</td>\n",
       "      <td>16.0</td>\n",
       "      <td>124.0</td>\n",
       "      <td>11.0</td>\n",
       "      <td>1902.0</td>\n",
       "      <td>GA MSA</td>\n",
       "      <td>70</td>\n",
       "      <td>1000</td>\n",
       "      <td>...</td>\n",
       "      <td>7</td>\n",
       "      <td>0.01</td>\n",
       "      <td>0.01</td>\n",
       "      <td>0.0</td>\n",
       "      <td>0.0</td>\n",
       "      <td>0.0</td>\n",
       "      <td>0.00</td>\n",
       "      <td>0.00</td>\n",
       "      <td>0.0</td>\n",
       "      <td>70.00</td>\n",
       "    </tr>\n",
       "    <tr>\n",
       "      <th>1</th>\n",
       "      <td>1001</td>\n",
       "      <td>surf</td>\n",
       "      <td>08</td>\n",
       "      <td>27.0</td>\n",
       "      <td>182.0</td>\n",
       "      <td>30.0</td>\n",
       "      <td>6920.0</td>\n",
       "      <td>WA MSA</td>\n",
       "      <td>20</td>\n",
       "      <td>50</td>\n",
       "      <td>...</td>\n",
       "      <td>10</td>\n",
       "      <td>0.03</td>\n",
       "      <td>0.03</td>\n",
       "      <td>0.0</td>\n",
       "      <td>0.0</td>\n",
       "      <td>0.0</td>\n",
       "      <td>0.00</td>\n",
       "      <td>0.00</td>\n",
       "      <td>0.0</td>\n",
       "      <td>20.00</td>\n",
       "    </tr>\n",
       "    <tr>\n",
       "      <th>2</th>\n",
       "      <td>1001</td>\n",
       "      <td>surf</td>\n",
       "      <td>09</td>\n",
       "      <td>49.0</td>\n",
       "      <td>315.0</td>\n",
       "      <td>44.0</td>\n",
       "      <td>13315.0</td>\n",
       "      <td>WA MSA</td>\n",
       "      <td>20</td>\n",
       "      <td>50</td>\n",
       "      <td>...</td>\n",
       "      <td>10</td>\n",
       "      <td>0.03</td>\n",
       "      <td>0.03</td>\n",
       "      <td>0.0</td>\n",
       "      <td>0.0</td>\n",
       "      <td>0.0</td>\n",
       "      <td>0.00</td>\n",
       "      <td>0.00</td>\n",
       "      <td>0.0</td>\n",
       "      <td>20.00</td>\n",
       "    </tr>\n",
       "    <tr>\n",
       "      <th>3</th>\n",
       "      <td>1001</td>\n",
       "      <td>surf</td>\n",
       "      <td>10</td>\n",
       "      <td>65.0</td>\n",
       "      <td>393.0</td>\n",
       "      <td>53.0</td>\n",
       "      <td>22331.0</td>\n",
       "      <td>WA MSA</td>\n",
       "      <td>20</td>\n",
       "      <td>50</td>\n",
       "      <td>...</td>\n",
       "      <td>10</td>\n",
       "      <td>0.03</td>\n",
       "      <td>0.03</td>\n",
       "      <td>0.0</td>\n",
       "      <td>3.0</td>\n",
       "      <td>7.0</td>\n",
       "      <td>0.00</td>\n",
       "      <td>0.09</td>\n",
       "      <td>70.0</td>\n",
       "      <td>90.09</td>\n",
       "    </tr>\n",
       "    <tr>\n",
       "      <th>4</th>\n",
       "      <td>1001</td>\n",
       "      <td>surf</td>\n",
       "      <td>11</td>\n",
       "      <td>64.0</td>\n",
       "      <td>426.0</td>\n",
       "      <td>36.0</td>\n",
       "      <td>18505.0</td>\n",
       "      <td>WA MSA</td>\n",
       "      <td>20</td>\n",
       "      <td>50</td>\n",
       "      <td>...</td>\n",
       "      <td>10</td>\n",
       "      <td>0.03</td>\n",
       "      <td>0.03</td>\n",
       "      <td>0.0</td>\n",
       "      <td>0.0</td>\n",
       "      <td>4.0</td>\n",
       "      <td>0.00</td>\n",
       "      <td>0.00</td>\n",
       "      <td>40.0</td>\n",
       "      <td>60.00</td>\n",
       "    </tr>\n",
       "    <tr>\n",
       "      <th>...</th>\n",
       "      <td>...</td>\n",
       "      <td>...</td>\n",
       "      <td>...</td>\n",
       "      <td>...</td>\n",
       "      <td>...</td>\n",
       "      <td>...</td>\n",
       "      <td>...</td>\n",
       "      <td>...</td>\n",
       "      <td>...</td>\n",
       "      <td>...</td>\n",
       "      <td>...</td>\n",
       "      <td>...</td>\n",
       "      <td>...</td>\n",
       "      <td>...</td>\n",
       "      <td>...</td>\n",
       "      <td>...</td>\n",
       "      <td>...</td>\n",
       "      <td>...</td>\n",
       "      <td>...</td>\n",
       "      <td>...</td>\n",
       "      <td>...</td>\n",
       "    </tr>\n",
       "    <tr>\n",
       "      <th>124</th>\n",
       "      <td>1034</td>\n",
       "      <td>surf</td>\n",
       "      <td>08</td>\n",
       "      <td>2.0</td>\n",
       "      <td>7.0</td>\n",
       "      <td>4.0</td>\n",
       "      <td>998.0</td>\n",
       "      <td>NY-NJ-PA MSA</td>\n",
       "      <td>20</td>\n",
       "      <td>50</td>\n",
       "      <td>...</td>\n",
       "      <td>10</td>\n",
       "      <td>0.03</td>\n",
       "      <td>0.03</td>\n",
       "      <td>0.0</td>\n",
       "      <td>0.0</td>\n",
       "      <td>0.0</td>\n",
       "      <td>0.00</td>\n",
       "      <td>0.00</td>\n",
       "      <td>0.0</td>\n",
       "      <td>20.00</td>\n",
       "    </tr>\n",
       "    <tr>\n",
       "      <th>125</th>\n",
       "      <td>1035</td>\n",
       "      <td>surf</td>\n",
       "      <td>12</td>\n",
       "      <td>74.0</td>\n",
       "      <td>627.0</td>\n",
       "      <td>66.0</td>\n",
       "      <td>15501.0</td>\n",
       "      <td>NC-SC MSA</td>\n",
       "      <td>20</td>\n",
       "      <td>50</td>\n",
       "      <td>...</td>\n",
       "      <td>10</td>\n",
       "      <td>0.03</td>\n",
       "      <td>0.03</td>\n",
       "      <td>127.0</td>\n",
       "      <td>16.0</td>\n",
       "      <td>1.0</td>\n",
       "      <td>3.81</td>\n",
       "      <td>0.48</td>\n",
       "      <td>10.0</td>\n",
       "      <td>34.29</td>\n",
       "    </tr>\n",
       "    <tr>\n",
       "      <th>126</th>\n",
       "      <td>1036</td>\n",
       "      <td>ultimate</td>\n",
       "      <td>06</td>\n",
       "      <td>19.0</td>\n",
       "      <td>161.0</td>\n",
       "      <td>19.0</td>\n",
       "      <td>1450.0</td>\n",
       "      <td>CO MSA</td>\n",
       "      <td>70</td>\n",
       "      <td>1000</td>\n",
       "      <td>...</td>\n",
       "      <td>7</td>\n",
       "      <td>0.01</td>\n",
       "      <td>0.01</td>\n",
       "      <td>0.0</td>\n",
       "      <td>0.0</td>\n",
       "      <td>0.0</td>\n",
       "      <td>0.00</td>\n",
       "      <td>0.00</td>\n",
       "      <td>0.0</td>\n",
       "      <td>70.00</td>\n",
       "    </tr>\n",
       "    <tr>\n",
       "      <th>127</th>\n",
       "      <td>1036</td>\n",
       "      <td>ultimate</td>\n",
       "      <td>07</td>\n",
       "      <td>68.0</td>\n",
       "      <td>537.0</td>\n",
       "      <td>63.0</td>\n",
       "      <td>12117.0</td>\n",
       "      <td>CO MSA</td>\n",
       "      <td>70</td>\n",
       "      <td>1000</td>\n",
       "      <td>...</td>\n",
       "      <td>7</td>\n",
       "      <td>0.01</td>\n",
       "      <td>0.01</td>\n",
       "      <td>0.0</td>\n",
       "      <td>0.0</td>\n",
       "      <td>0.0</td>\n",
       "      <td>0.00</td>\n",
       "      <td>0.00</td>\n",
       "      <td>0.0</td>\n",
       "      <td>70.00</td>\n",
       "    </tr>\n",
       "    <tr>\n",
       "      <th>128</th>\n",
       "      <td>1036</td>\n",
       "      <td>ultimate</td>\n",
       "      <td>08</td>\n",
       "      <td>79.0</td>\n",
       "      <td>512.0</td>\n",
       "      <td>77.0</td>\n",
       "      <td>19506.0</td>\n",
       "      <td>CO MSA</td>\n",
       "      <td>70</td>\n",
       "      <td>1000</td>\n",
       "      <td>...</td>\n",
       "      <td>7</td>\n",
       "      <td>0.01</td>\n",
       "      <td>0.01</td>\n",
       "      <td>0.0</td>\n",
       "      <td>0.0</td>\n",
       "      <td>0.0</td>\n",
       "      <td>0.00</td>\n",
       "      <td>0.00</td>\n",
       "      <td>0.0</td>\n",
       "      <td>70.00</td>\n",
       "    </tr>\n",
       "  </tbody>\n",
       "</table>\n",
       "<p>100 rows × 22 columns</p>\n",
       "</div>"
      ],
      "text/plain": [
       "    user_id      plan month  num_calls  calls_minutes_month  messages_month  \\\n",
       "0      1000  ultimate    12       16.0                124.0            11.0   \n",
       "1      1001      surf    08       27.0                182.0            30.0   \n",
       "2      1001      surf    09       49.0                315.0            44.0   \n",
       "3      1001      surf    10       65.0                393.0            53.0   \n",
       "4      1001      surf    11       64.0                426.0            36.0   \n",
       "..      ...       ...   ...        ...                  ...             ...   \n",
       "124    1034      surf    08        2.0                  7.0             4.0   \n",
       "125    1035      surf    12       74.0                627.0            66.0   \n",
       "126    1036  ultimate    06       19.0                161.0            19.0   \n",
       "127    1036  ultimate    07       68.0                537.0            63.0   \n",
       "128    1036  ultimate    08       79.0                512.0            77.0   \n",
       "\n",
       "     mb_used_month         state  usd_monthly_pay  messages_included  ...  \\\n",
       "0           1902.0        GA MSA               70               1000  ...   \n",
       "1           6920.0        WA MSA               20                 50  ...   \n",
       "2          13315.0        WA MSA               20                 50  ...   \n",
       "3          22331.0        WA MSA               20                 50  ...   \n",
       "4          18505.0        WA MSA               20                 50  ...   \n",
       "..             ...           ...              ...                ...  ...   \n",
       "124          998.0  NY-NJ-PA MSA               20                 50  ...   \n",
       "125        15501.0     NC-SC MSA               20                 50  ...   \n",
       "126         1450.0        CO MSA               70               1000  ...   \n",
       "127        12117.0        CO MSA               70               1000  ...   \n",
       "128        19506.0        CO MSA               70               1000  ...   \n",
       "\n",
       "     usd_per_gb  usd_per_message  usd_per_minute  excess_minutes  \\\n",
       "0             7             0.01            0.01             0.0   \n",
       "1            10             0.03            0.03             0.0   \n",
       "2            10             0.03            0.03             0.0   \n",
       "3            10             0.03            0.03             0.0   \n",
       "4            10             0.03            0.03             0.0   \n",
       "..          ...              ...             ...             ...   \n",
       "124          10             0.03            0.03             0.0   \n",
       "125          10             0.03            0.03           127.0   \n",
       "126           7             0.01            0.01             0.0   \n",
       "127           7             0.01            0.01             0.0   \n",
       "128           7             0.01            0.01             0.0   \n",
       "\n",
       "     excess_messages  excess_gb  cost_excess_minutes  cost_excess_messages  \\\n",
       "0                0.0        0.0                 0.00                  0.00   \n",
       "1                0.0        0.0                 0.00                  0.00   \n",
       "2                0.0        0.0                 0.00                  0.00   \n",
       "3                3.0        7.0                 0.00                  0.09   \n",
       "4                0.0        4.0                 0.00                  0.00   \n",
       "..               ...        ...                  ...                   ...   \n",
       "124              0.0        0.0                 0.00                  0.00   \n",
       "125             16.0        1.0                 3.81                  0.48   \n",
       "126              0.0        0.0                 0.00                  0.00   \n",
       "127              0.0        0.0                 0.00                  0.00   \n",
       "128              0.0        0.0                 0.00                  0.00   \n",
       "\n",
       "     cost_excess_gb  final_cost  \n",
       "0               0.0       70.00  \n",
       "1               0.0       20.00  \n",
       "2               0.0       20.00  \n",
       "3              70.0       90.09  \n",
       "4              40.0       60.00  \n",
       "..              ...         ...  \n",
       "124             0.0       20.00  \n",
       "125            10.0       34.29  \n",
       "126             0.0       70.00  \n",
       "127             0.0       70.00  \n",
       "128             0.0       70.00  \n",
       "\n",
       "[100 rows x 22 columns]"
      ]
     },
     "execution_count": 103,
     "metadata": {},
     "output_type": "execute_result"
    }
   ],
   "source": [
    "# Calcula el ingreso mensual para cada usuario\n",
    "\n",
    "#1. Calcular excedentes\n",
    "data_final[\"excess_minutes\"] = (data_final[\"calls_minutes_month\"] - data_final[\"minutes_included\"]).clip(lower=0)\n",
    "data_final[\"excess_messages\"] = (data_final[\"messages_month\"] - data_final[\"messages_included\"]).clip(lower=0)\n",
    "data_final[\"excess_gb\"] = ((data_final[\"mb_used_month\"] - data_final[\"mb_per_month_included\"])/1024).clip(lower=0)\n",
    "data_final[\"excess_gb\"]  = np.ceil(data_final[\"excess_gb\"])\n",
    "\n",
    "#2. Calcular costo por excedentes\n",
    "data_final[\"cost_excess_minutes\"] = data_final[\"excess_minutes\"] * data_final[\"usd_per_minute\"]\n",
    "data_final[\"cost_excess_messages\"] = data_final[\"excess_messages\"] * data_final[\"usd_per_message\"]\n",
    "data_final[\"cost_excess_gb\"] = data_final[\"excess_gb\"] * data_final[\"usd_per_gb\"]\n",
    "\n",
    "#3. Calcular el costo total por usuario y por mes\n",
    "data_final[\"final_cost\"] = data_final[\"usd_monthly_pay\"] + data_final[\"cost_excess_minutes\"] + data_final[\"cost_excess_messages\"] + data_final[\"cost_excess_gb\"]\n",
    "\n",
    "data_final = data_final.dropna()\n",
    "\n",
    "data_final.head(100)"
   ]
  },
  {
   "cell_type": "markdown",
   "metadata": {},
   "source": [
    "<div class=\"alert alert-block alert-success\">\n",
    "<b>Comentario del revisor</b> <a class=\"tocSkip\"></a>\n",
    "\n",
    "Muy buen trabajo!! Es correcto considerar que 1024 megabytes son 1 gigabytes.\n",
    "    \n",
    "</div>"
   ]
  },
  {
   "cell_type": "markdown",
   "metadata": {
    "id": "-jtyHzJb0q1I"
   },
   "source": [
    "## Estudia el comportamiento de usuario"
   ]
  },
  {
   "cell_type": "markdown",
   "metadata": {
    "id": "AxU3Y0N70q1J"
   },
   "source": [
    "A continuación y con el objetivo de obtener un panorama general de la data, se analizarán los estadísticos descriptivos más importantes según tarifa. "
   ]
  },
  {
   "cell_type": "markdown",
   "metadata": {
    "id": "vtW4CJEe0q1J"
   },
   "source": [
    "### Llamadas"
   ]
  },
  {
   "cell_type": "code",
   "execution_count": 104,
   "metadata": {
    "id": "Jf5v5--k0q1J"
   },
   "outputs": [
    {
     "data": {
      "image/png": "[encoded data removed]",
      "text/plain": [
       "<Figure size 640x480 with 1 Axes>"
      ]
     },
     "metadata": {},
     "output_type": "display_data"
    }
   ],
   "source": [
    "# Compara la duración promedio de llamadas por cada plan y por cada mes. Traza un gráfico de barras para visualizarla.\n",
    "calls_bar = data_final.groupby([\"plan\", \"month\"])[\"calls_minutes_month\"].mean().reset_index()\n",
    "\n",
    "calls_bar  = calls_bar.pivot(index=\"month\", columns=\"plan\", values=\"calls_minutes_month\")\n",
    "\n",
    "calls_bar.plot(kind = \"bar\",\n",
    "                title = \"Duración promedio de llamadas según mes y plan\",\n",
    "                xlabel = \"Mes\",\n",
    "                ylabel = \"Duración promedio de llamadas\",\n",
    "                color=[\"pink\",\"purple\"]            \n",
    ")\n",
    "\n",
    "plt.legend([\"Surf\",\"Ultimate\"])\n",
    "plt.show()"
   ]
  },
  {
   "cell_type": "code",
   "execution_count": 105,
   "metadata": {
    "id": "QoLqW1S_0q1J"
   },
   "outputs": [
    {
     "data": {
      "image/png": "[encoded data removed]",
      "text/plain": [
       "<Figure size 640x480 with 1 Axes>"
      ]
     },
     "metadata": {},
     "output_type": "display_data"
    }
   ],
   "source": [
    "# Compara el número de minutos mensuales que necesitan los usuarios de cada plan. Traza un histograma.\n",
    "calls_hist = data_final\n",
    "\n",
    "calls_hist[calls_hist[\"plan\"]==\"surf\"][\"calls_minutes_month\"].plot(kind=\"hist\",bins=30,density = True, color = \"pink\")\n",
    "calls_hist[calls_hist[\"plan\"]==\"ultimate\"][\"calls_minutes_month\"].plot(kind=\"hist\",bins=30,density = True,alpha=0.5, color = \"purple\")\n",
    "\n",
    "plt.legend([\"Surf\",\"Ultimate\"])\n",
    "plt.title(\"Cantidad de minutos mensuales que necesitan los usuarios según plan\")\n",
    "plt.xlabel(\"Cantidad de minutos\")\n",
    "plt.ylabel(\"Densidad\")\n",
    "plt.show()"
   ]
  },
  {
   "cell_type": "code",
   "execution_count": 106,
   "metadata": {
    "id": "oSndbAnt0q1K"
   },
   "outputs": [
    {
     "data": {
      "text/html": [
       "<div>\n",
       "<style scoped>\n",
       "    .dataframe tbody tr th:only-of-type {\n",
       "        vertical-align: middle;\n",
       "    }\n",
       "\n",
       "    .dataframe tbody tr th {\n",
       "        vertical-align: top;\n",
       "    }\n",
       "\n",
       "    .dataframe thead th {\n",
       "        text-align: right;\n",
       "    }\n",
       "</style>\n",
       "<table border=\"1\" class=\"dataframe\">\n",
       "  <thead>\n",
       "    <tr style=\"text-align: right;\">\n",
       "      <th></th>\n",
       "      <th>plan</th>\n",
       "      <th>month</th>\n",
       "      <th>mean</th>\n",
       "      <th>var</th>\n",
       "    </tr>\n",
       "  </thead>\n",
       "  <tbody>\n",
       "    <tr>\n",
       "      <th>0</th>\n",
       "      <td>surf</td>\n",
       "      <td>01</td>\n",
       "      <td>292.000000</td>\n",
       "      <td>NaN</td>\n",
       "    </tr>\n",
       "    <tr>\n",
       "      <th>1</th>\n",
       "      <td>surf</td>\n",
       "      <td>02</td>\n",
       "      <td>331.200000</td>\n",
       "      <td>101102.200000</td>\n",
       "    </tr>\n",
       "    <tr>\n",
       "      <th>2</th>\n",
       "      <td>surf</td>\n",
       "      <td>03</td>\n",
       "      <td>344.937500</td>\n",
       "      <td>43077.929167</td>\n",
       "    </tr>\n",
       "    <tr>\n",
       "      <th>3</th>\n",
       "      <td>surf</td>\n",
       "      <td>04</td>\n",
       "      <td>366.228571</td>\n",
       "      <td>62626.652101</td>\n",
       "    </tr>\n",
       "    <tr>\n",
       "      <th>4</th>\n",
       "      <td>surf</td>\n",
       "      <td>05</td>\n",
       "      <td>443.981132</td>\n",
       "      <td>62096.326560</td>\n",
       "    </tr>\n",
       "  </tbody>\n",
       "</table>\n",
       "</div>"
      ],
      "text/plain": [
       "   plan month        mean            var\n",
       "0  surf    01  292.000000            NaN\n",
       "1  surf    02  331.200000  101102.200000\n",
       "2  surf    03  344.937500   43077.929167\n",
       "3  surf    04  366.228571   62626.652101\n",
       "4  surf    05  443.981132   62096.326560"
      ]
     },
     "execution_count": 106,
     "metadata": {},
     "output_type": "execute_result"
    }
   ],
   "source": [
    "# Calcula la media y la varianza de la duración mensual de llamadas.\n",
    "stats_calls = data_final.groupby([\"plan\", \"month\"])[\"calls_minutes_month\"].agg([\"mean\", \"var\"]).reset_index()\n",
    "stats_calls.head()"
   ]
  },
  {
   "cell_type": "code",
   "execution_count": 107,
   "metadata": {
    "id": "nZzoRUKc0q1K"
   },
   "outputs": [
    {
     "data": {
      "text/plain": [
       "Text(0, 0.5, 'Duración mensual de las llamadas')"
      ]
     },
     "execution_count": 107,
     "metadata": {},
     "output_type": "execute_result"
    },
    {
     "data": {
      "image/png": "[encoded data removed]",
      "text/plain": [
       "<Figure size 640x480 with 1 Axes>"
      ]
     },
     "metadata": {},
     "output_type": "display_data"
    }
   ],
   "source": [
    "# Traza un diagrama de caja para visualizar la distribución de la duración mensual de llamadas\n",
    "sns.boxplot(data = data_final,\n",
    "             y = \"calls_minutes_month\",\n",
    "             x = \"plan\",\n",
    "            order = [\"surf\", \"ultimate\"],\n",
    "            palette = {\"surf\": \"pink\", \"ultimate\": \"purple\"})\n",
    "\n",
    "plt.title(\"Boxplot de duración mensual de las llamadas según plan\")\n",
    "plt.xlabel(\"Plan\")\n",
    "plt.ylabel(\"Duración mensual de las llamadas\")"
   ]
  },
  {
   "cell_type": "markdown",
   "metadata": {
    "id": "r627zBO50q1K"
   },
   "source": [
    "En cuanto a las llamadas, es posible observar que en en la mayoría de los meses, los usuarios del **plan surf** suelen tener llamadas con mayor promedio de duración a comparación de los usuarios del **plan ultimate**. Sin embargo, también se observa una gran brecha en el mes de febrero a favor de los usuarios del **plan ultimate**. Cabe destacar también que, en perspectiva general, la duración promedio de las llamadas por mes suele tener un crecimiento durante el año, independientemente del plan al que esté afiliada la persona. Adicionalmente, se observa que la distribución de los usuarios de ambos planes ocurre hacia la derecha y que, por un lado, los usuarios del **plan surf** concentran la cantidad de minutos mensuales utilizados entre 200 a 400, mientras que los los usuarios del **plan ultimate** de 400 a 600. Sin embargo, también podemos observar que esta diferencia es muy poca, siendo una evidencia de ello que el 25%, el 50% y el 75% de usuarios que menos llamadas mensuales realizaron es muy parecida independientemente del plan."
   ]
  },
  {
   "cell_type": "markdown",
   "metadata": {
    "id": "8idKy8Wh0q1L"
   },
   "source": [
    "### Mensajes"
   ]
  },
  {
   "cell_type": "code",
   "execution_count": 108,
   "metadata": {
    "id": "NXLxiTit0q1L"
   },
   "outputs": [
    {
     "data": {
      "image/png": "[encoded data removed]",
      "text/plain": [
       "<Figure size 640x480 with 1 Axes>"
      ]
     },
     "metadata": {},
     "output_type": "display_data"
    }
   ],
   "source": [
    "# Comprara el número de mensajes que tienden a enviar cada mes los usuarios de cada plan\n",
    "messages_bar = data_final.groupby([\"plan\", \"month\"])[\"messages_month\"].mean().reset_index()\n",
    "\n",
    "messages_bar  = messages_bar.pivot(index=\"month\", columns=\"plan\", values=\"messages_month\")\n",
    "\n",
    "messages_bar.plot(kind = \"bar\",\n",
    "                  title = \"Cantidad de mensajes según mes y plan\",\n",
    "                  xlabel = \"Mes\",\n",
    "                  ylabel = \"Cantidad de mensajes\",\n",
    "                  color=[\"pink\",\"purple\"]            \n",
    ")\n",
    "\n",
    "plt.legend([\"Surf\",\"Ultimate\"])\n",
    "plt.show()"
   ]
  },
  {
   "cell_type": "code",
   "execution_count": 109,
   "metadata": {
    "id": "GRI_R7xF0q1L"
   },
   "outputs": [
    {
     "data": {
      "image/png": "[encoded data removed]",
      "text/plain": [
       "<Figure size 640x480 with 1 Axes>"
      ]
     },
     "metadata": {},
     "output_type": "display_data"
    }
   ],
   "source": [
    "message_hist = data_final\n",
    "\n",
    "message_hist[message_hist[\"plan\"]==\"surf\"][\"messages_month\"].plot(kind=\"hist\",bins=30,density = True, color = \"pink\")\n",
    "message_hist[message_hist[\"plan\"]==\"ultimate\"][\"messages_month\"].plot(kind=\"hist\",bins=30,density = True,alpha=0.5, color = \"purple\")\n",
    "\n",
    "plt.legend([\"Surf\",\"Ultimate\"])\n",
    "plt.title(\"Cantidad de mensajes que envían los usuarios según plan\")\n",
    "plt.xlabel(\"Cantidad de mensajes\")\n",
    "plt.ylabel(\"Densidad\")\n",
    "plt.show()"
   ]
  },
  {
   "cell_type": "code",
   "execution_count": 110,
   "metadata": {
    "id": "dtFwCGAp0q1M"
   },
   "outputs": [
    {
     "data": {
      "text/html": [
       "<div>\n",
       "<style scoped>\n",
       "    .dataframe tbody tr th:only-of-type {\n",
       "        vertical-align: middle;\n",
       "    }\n",
       "\n",
       "    .dataframe tbody tr th {\n",
       "        vertical-align: top;\n",
       "    }\n",
       "\n",
       "    .dataframe thead th {\n",
       "        text-align: right;\n",
       "    }\n",
       "</style>\n",
       "<table border=\"1\" class=\"dataframe\">\n",
       "  <thead>\n",
       "    <tr style=\"text-align: right;\">\n",
       "      <th></th>\n",
       "      <th>plan</th>\n",
       "      <th>month</th>\n",
       "      <th>mean</th>\n",
       "      <th>var</th>\n",
       "    </tr>\n",
       "  </thead>\n",
       "  <tbody>\n",
       "    <tr>\n",
       "      <th>0</th>\n",
       "      <td>surf</td>\n",
       "      <td>01</td>\n",
       "      <td>21.000000</td>\n",
       "      <td>NaN</td>\n",
       "    </tr>\n",
       "    <tr>\n",
       "      <th>1</th>\n",
       "      <td>surf</td>\n",
       "      <td>02</td>\n",
       "      <td>21.600000</td>\n",
       "      <td>512.800000</td>\n",
       "    </tr>\n",
       "    <tr>\n",
       "      <th>2</th>\n",
       "      <td>surf</td>\n",
       "      <td>03</td>\n",
       "      <td>21.937500</td>\n",
       "      <td>352.062500</td>\n",
       "    </tr>\n",
       "    <tr>\n",
       "      <th>3</th>\n",
       "      <td>surf</td>\n",
       "      <td>04</td>\n",
       "      <td>24.685714</td>\n",
       "      <td>539.751261</td>\n",
       "    </tr>\n",
       "    <tr>\n",
       "      <th>4</th>\n",
       "      <td>surf</td>\n",
       "      <td>05</td>\n",
       "      <td>33.547170</td>\n",
       "      <td>888.675617</td>\n",
       "    </tr>\n",
       "  </tbody>\n",
       "</table>\n",
       "</div>"
      ],
      "text/plain": [
       "   plan month       mean         var\n",
       "0  surf    01  21.000000         NaN\n",
       "1  surf    02  21.600000  512.800000\n",
       "2  surf    03  21.937500  352.062500\n",
       "3  surf    04  24.685714  539.751261\n",
       "4  surf    05  33.547170  888.675617"
      ]
     },
     "execution_count": 110,
     "metadata": {},
     "output_type": "execute_result"
    }
   ],
   "source": [
    "stats_messages = data_final.groupby([\"plan\", \"month\"])[\"messages_month\"].agg([\"mean\", \"var\"]).reset_index()\n",
    "stats_messages.head()"
   ]
  },
  {
   "cell_type": "code",
   "execution_count": 111,
   "metadata": {},
   "outputs": [
    {
     "data": {
      "text/plain": [
       "Text(0, 0.5, 'Cantidad de mensajes enviados')"
      ]
     },
     "execution_count": 111,
     "metadata": {},
     "output_type": "execute_result"
    },
    {
     "data": {
      "image/png": "[encoded data removed]",
      "text/plain": [
       "<Figure size 640x480 with 1 Axes>"
      ]
     },
     "metadata": {},
     "output_type": "display_data"
    }
   ],
   "source": [
    "sns.boxplot(data = data_final,\n",
    "             y = \"messages_month\",\n",
    "             x = \"plan\",\n",
    "            order = [\"surf\", \"ultimate\"],\n",
    "            palette = {\"surf\": \"pink\", \"ultimate\": \"purple\"})\n",
    "\n",
    "plt.title(\"Boxplot de la cantidad de mensajes enviados según plan\")\n",
    "plt.xlabel(\"Plan\")\n",
    "plt.ylabel(\"Cantidad de mensajes enviados\")"
   ]
  },
  {
   "cell_type": "markdown",
   "metadata": {
    "id": "390SSL480q1M"
   },
   "source": [
    "En cuanto a los mensajes, es posible observar que los usuarios del **plan ultimate** envían una mayor cantidad de mensajes a comparación de los usuarios del **plan surf** y que la cantidad de mensajes tiende a aumentar a lo largo del año. Además, para ambos planes se observa una asimetría a la derecha, destancando que los usuarios del **plan surf** suelen enviar de 0 a 50 mensajes. En efecto, la idea anterior también se respalda en el hecho de que aproximadamente el 75% de los usuarios envía 50 mensajes mensuales como máximo."
   ]
  },
  {
   "cell_type": "markdown",
   "metadata": {},
   "source": [
    "### Internet"
   ]
  },
  {
   "cell_type": "code",
   "execution_count": 112,
   "metadata": {
    "id": "lSuKPtjh0q1M"
   },
   "outputs": [
    {
     "data": {
      "image/png": "[encoded data removed]",
      "text/plain": [
       "<Figure size 640x480 with 1 Axes>"
      ]
     },
     "metadata": {},
     "output_type": "display_data"
    }
   ],
   "source": [
    "internet_bar = data_final.groupby([\"plan\", \"month\"])[\"mb_used_month\"].mean().reset_index()\n",
    "\n",
    "internet_bar = internet_bar.pivot(index=\"month\", columns=\"plan\", values=\"mb_used_month\")\n",
    "\n",
    "internet_bar.plot(kind = \"bar\",\n",
    "                  title = \"Cantidad de mb utilizados según mes y plan\",\n",
    "                  xlabel = \"Mes\",\n",
    "                  ylabel = \"Cantidad de mb utilizados\",\n",
    "                  color=[\"pink\",\"purple\"]            \n",
    ")\n",
    "\n",
    "plt.legend([\"Surf\",\"Ultimate\"])\n",
    "plt.show()"
   ]
  },
  {
   "cell_type": "code",
   "execution_count": 113,
   "metadata": {
    "id": "wnh8jYXi0q1N"
   },
   "outputs": [
    {
     "data": {
      "image/png": "[encoded data removed]",
      "text/plain": [
       "<Figure size 640x480 with 1 Axes>"
      ]
     },
     "metadata": {},
     "output_type": "display_data"
    }
   ],
   "source": [
    "internet_hist = data_final\n",
    "\n",
    "internet_hist[internet_hist[\"plan\"]==\"surf\"][\"mb_used_month\"].plot(kind=\"hist\",bins=30,density = True, color = \"pink\")\n",
    "internet_hist[internet_hist[\"plan\"]==\"ultimate\"][\"mb_used_month\"].plot(kind=\"hist\",bins=30,density = True,alpha=0.5, color = \"purple\")\n",
    "\n",
    "plt.legend([\"Surf\",\"Ultimate\"])\n",
    "plt.title(\"Cantidad de mb que utilizan los usuarios según plan\")\n",
    "plt.xlabel(\"Cantidad de mb\")\n",
    "plt.ylabel(\"Densidad\")\n",
    "plt.show()"
   ]
  },
  {
   "cell_type": "code",
   "execution_count": 114,
   "metadata": {
    "id": "5VlyJ9ry0q1N"
   },
   "outputs": [
    {
     "data": {
      "text/html": [
       "<div>\n",
       "<style scoped>\n",
       "    .dataframe tbody tr th:only-of-type {\n",
       "        vertical-align: middle;\n",
       "    }\n",
       "\n",
       "    .dataframe tbody tr th {\n",
       "        vertical-align: top;\n",
       "    }\n",
       "\n",
       "    .dataframe thead th {\n",
       "        text-align: right;\n",
       "    }\n",
       "</style>\n",
       "<table border=\"1\" class=\"dataframe\">\n",
       "  <thead>\n",
       "    <tr style=\"text-align: right;\">\n",
       "      <th></th>\n",
       "      <th>plan</th>\n",
       "      <th>month</th>\n",
       "      <th>mean</th>\n",
       "      <th>var</th>\n",
       "    </tr>\n",
       "  </thead>\n",
       "  <tbody>\n",
       "    <tr>\n",
       "      <th>0</th>\n",
       "      <td>surf</td>\n",
       "      <td>01</td>\n",
       "      <td>7895.00000</td>\n",
       "      <td>NaN</td>\n",
       "    </tr>\n",
       "    <tr>\n",
       "      <th>1</th>\n",
       "      <td>surf</td>\n",
       "      <td>02</td>\n",
       "      <td>9311.40000</td>\n",
       "      <td>3.464589e+07</td>\n",
       "    </tr>\n",
       "    <tr>\n",
       "      <th>2</th>\n",
       "      <td>surf</td>\n",
       "      <td>03</td>\n",
       "      <td>12397.81250</td>\n",
       "      <td>5.483457e+07</td>\n",
       "    </tr>\n",
       "    <tr>\n",
       "      <th>3</th>\n",
       "      <td>surf</td>\n",
       "      <td>04</td>\n",
       "      <td>11851.60000</td>\n",
       "      <td>5.986201e+07</td>\n",
       "    </tr>\n",
       "    <tr>\n",
       "      <th>4</th>\n",
       "      <td>surf</td>\n",
       "      <td>05</td>\n",
       "      <td>14851.90566</td>\n",
       "      <td>5.894277e+07</td>\n",
       "    </tr>\n",
       "  </tbody>\n",
       "</table>\n",
       "</div>"
      ],
      "text/plain": [
       "   plan month         mean           var\n",
       "0  surf    01   7895.00000           NaN\n",
       "1  surf    02   9311.40000  3.464589e+07\n",
       "2  surf    03  12397.81250  5.483457e+07\n",
       "3  surf    04  11851.60000  5.986201e+07\n",
       "4  surf    05  14851.90566  5.894277e+07"
      ]
     },
     "execution_count": 114,
     "metadata": {},
     "output_type": "execute_result"
    }
   ],
   "source": [
    "stats_internet = data_final.groupby([\"plan\", \"month\"])[\"mb_used_month\"].agg([\"mean\", \"var\"]).reset_index()\n",
    "stats_internet.head()"
   ]
  },
  {
   "cell_type": "code",
   "execution_count": 115,
   "metadata": {},
   "outputs": [
    {
     "data": {
      "text/plain": [
       "Text(0, 0.5, 'Cantidad de mensajes enviados')"
      ]
     },
     "execution_count": 115,
     "metadata": {},
     "output_type": "execute_result"
    },
    {
     "data": {
      "image/png": "[encoded data removed]",
      "text/plain": [
       "<Figure size 640x480 with 1 Axes>"
      ]
     },
     "metadata": {},
     "output_type": "display_data"
    }
   ],
   "source": [
    "sns.boxplot(data = data_final,\n",
    "             y = \"mb_used_month\",\n",
    "             x = \"plan\",\n",
    "            order = [\"surf\", \"ultimate\"],\n",
    "            palette = {\"surf\": \"pink\", \"ultimate\": \"purple\"})\n",
    "\n",
    "plt.title(\"Boxplot de la cantidad de mensajes enviados según plan\")\n",
    "plt.xlabel(\"Plan\")\n",
    "plt.ylabel(\"Cantidad de mensajes enviados\")"
   ]
  },
  {
   "cell_type": "markdown",
   "metadata": {
    "id": "UN9zwuMP0q1N"
   },
   "source": [
    "En cuanto a la cantidad de mb utilizados, es posible observar que los usuarios del **plan ultimate** utilizan por lo general una mayor cantidad de mb al mes a comparación de los usuarios del **plan surf**. Sumado a lo anterior, en ambos casos de observa una distribución muy cercana a la normal, concentrándose la mayoría de usuarios entre los 10 mil y 20 mil mb utilizados por mes. En efecto, ambas distribuciones son similares."
   ]
  },
  {
   "cell_type": "markdown",
   "metadata": {
    "id": "tCijq3260q1N"
   },
   "source": [
    "## Ingreso"
   ]
  },
  {
   "cell_type": "markdown",
   "metadata": {
    "id": "9nq5IAcy0q1O"
   },
   "source": [
    "[Del mismo modo que has estudiado el comportamiento de los usuarios, describe estadísticamente los ingresos de los planes.]"
   ]
  },
  {
   "cell_type": "code",
   "execution_count": 116,
   "metadata": {
    "id": "tz-dq_V00q1O"
   },
   "outputs": [
    {
     "data": {
      "image/png": "[encoded data removed]",
      "text/plain": [
       "<Figure size 640x480 with 1 Axes>"
      ]
     },
     "metadata": {},
     "output_type": "display_data"
    }
   ],
   "source": [
    "income_bar = data_final.groupby([\"plan\", \"month\"])[\"final_cost\"].mean().reset_index()\n",
    "\n",
    "income_bar = income_bar.pivot(index=\"month\", columns=\"plan\", values=\"final_cost\")\n",
    "\n",
    "income_bar.plot(kind = \"bar\",\n",
    "                  title = \"Cantidad de ingresos según mes y plan\",\n",
    "                  xlabel = \"Mes\",\n",
    "                  ylabel = \"Cantidad de ingresos\",\n",
    "                  color=[\"pink\",\"purple\"]            \n",
    ")\n",
    "\n",
    "plt.legend([\"Surf\",\"Ultimate\"])\n",
    "plt.show()"
   ]
  },
  {
   "cell_type": "code",
   "execution_count": 117,
   "metadata": {
    "id": "0Y1v8ZUz0q1P"
   },
   "outputs": [
    {
     "data": {
      "image/png": "[encoded data removed]",
      "text/plain": [
       "<Figure size 640x480 with 1 Axes>"
      ]
     },
     "metadata": {},
     "output_type": "display_data"
    }
   ],
   "source": [
    "income_hist = data_final\n",
    "\n",
    "income_hist[income_hist[\"plan\"]==\"surf\"][\"final_cost\"].plot(kind=\"hist\",bins=30,density = True, color = \"pink\")\n",
    "income_hist[income_hist[\"plan\"]==\"ultimate\"][\"final_cost\"].plot(kind=\"hist\",bins=30,density = True,alpha=0.8, color = \"purple\")\n",
    "\n",
    "plt.legend([\"Surf\",\"Ultimate\"])\n",
    "plt.title(\"Cantidad de ingresos según plan\")\n",
    "plt.xlabel(\"Cantidad de ingresos\")\n",
    "plt.ylabel(\"Densidad\")\n",
    "plt.show()"
   ]
  },
  {
   "cell_type": "code",
   "execution_count": 118,
   "metadata": {},
   "outputs": [
    {
     "data": {
      "text/html": [
       "<div>\n",
       "<style scoped>\n",
       "    .dataframe tbody tr th:only-of-type {\n",
       "        vertical-align: middle;\n",
       "    }\n",
       "\n",
       "    .dataframe tbody tr th {\n",
       "        vertical-align: top;\n",
       "    }\n",
       "\n",
       "    .dataframe thead th {\n",
       "        text-align: right;\n",
       "    }\n",
       "</style>\n",
       "<table border=\"1\" class=\"dataframe\">\n",
       "  <thead>\n",
       "    <tr style=\"text-align: right;\">\n",
       "      <th></th>\n",
       "      <th>plan</th>\n",
       "      <th>month</th>\n",
       "      <th>mean</th>\n",
       "      <th>var</th>\n",
       "    </tr>\n",
       "  </thead>\n",
       "  <tbody>\n",
       "    <tr>\n",
       "      <th>0</th>\n",
       "      <td>surf</td>\n",
       "      <td>01</td>\n",
       "      <td>20.000000</td>\n",
       "      <td>NaN</td>\n",
       "    </tr>\n",
       "    <tr>\n",
       "      <th>1</th>\n",
       "      <td>surf</td>\n",
       "      <td>02</td>\n",
       "      <td>23.914000</td>\n",
       "      <td>28.746980</td>\n",
       "    </tr>\n",
       "    <tr>\n",
       "      <th>2</th>\n",
       "      <td>surf</td>\n",
       "      <td>03</td>\n",
       "      <td>38.540625</td>\n",
       "      <td>549.488006</td>\n",
       "    </tr>\n",
       "    <tr>\n",
       "      <th>3</th>\n",
       "      <td>surf</td>\n",
       "      <td>04</td>\n",
       "      <td>40.591429</td>\n",
       "      <td>1250.948289</td>\n",
       "    </tr>\n",
       "    <tr>\n",
       "      <th>4</th>\n",
       "      <td>surf</td>\n",
       "      <td>05</td>\n",
       "      <td>50.857170</td>\n",
       "      <td>2308.394898</td>\n",
       "    </tr>\n",
       "  </tbody>\n",
       "</table>\n",
       "</div>"
      ],
      "text/plain": [
       "   plan month       mean          var\n",
       "0  surf    01  20.000000          NaN\n",
       "1  surf    02  23.914000    28.746980\n",
       "2  surf    03  38.540625   549.488006\n",
       "3  surf    04  40.591429  1250.948289\n",
       "4  surf    05  50.857170  2308.394898"
      ]
     },
     "execution_count": 118,
     "metadata": {},
     "output_type": "execute_result"
    }
   ],
   "source": [
    "stats_income = data_final.groupby([\"plan\", \"month\"])[\"final_cost\"].agg([\"mean\", \"var\"]).reset_index()\n",
    "stats_income.head()"
   ]
  },
  {
   "cell_type": "code",
   "execution_count": 119,
   "metadata": {
    "id": "bYmwxyVh0q1P"
   },
   "outputs": [
    {
     "data": {
      "text/plain": [
       "Text(0, 0.5, 'Cantidad de ingresos')"
      ]
     },
     "execution_count": 119,
     "metadata": {},
     "output_type": "execute_result"
    },
    {
     "data": {
      "image/png": "[encoded data removed]",
      "text/plain": [
       "<Figure size 640x480 with 1 Axes>"
      ]
     },
     "metadata": {},
     "output_type": "display_data"
    }
   ],
   "source": [
    "sns.boxplot(data = data_final,\n",
    "             y = \"final_cost\",\n",
    "             x = \"plan\",\n",
    "            order = [\"surf\", \"ultimate\"],\n",
    "            palette = {\"surf\": \"pink\", \"ultimate\": \"purple\"})\n",
    "\n",
    "plt.title(\"Boxplot de la cantidad de ingresos según plan\")\n",
    "plt.xlabel(\"Plan\")\n",
    "plt.ylabel(\"Cantidad de ingresos\")"
   ]
  },
  {
   "cell_type": "markdown",
   "metadata": {
    "id": "KAFidcXZ0q1P"
   },
   "source": [
    "En cuanto a los ingresos, es posible observar que las ganacias mensuales provenientes de **plan ultimate** siempre son superiores a las obtenidas por el **plan surf**. Empero, se destaca que los ingresos obtenidos del **plan ultimate** suelen mantenerse similares a lo largo del año, mientras que los provenientes del **plan surf** muestran una tendencia creciente a lo largo del año. Además, se observa que por lo general, los usuarios no tienden a excederse en el tiempo de llamadas, la cantidad de mensajes o de mb que les otorga el plan que adquirieron, siendo los usuarios del **plan surf** los que, en términos generales, se exceden un poco más. En efecto, es posible observar que el 75% de los usuarios del **plan ultimate** se encuentran muy concetrados en un monto de pago, mientras que la distribución del 75% de los usuarios del **plan surf** se extiende más."
   ]
  },
  {
   "cell_type": "markdown",
   "metadata": {},
   "source": [
    "<div class=\"alert alert-block alert-success\">\n",
    "<b>Comentario revisor</b> <a class=\"tocSkip\"></a>\n",
    "\n",
    " Muy buena prática la de usar distintos tipos de gráficas identificar algunos hallazgos y llegar a conclusiones. En este caso las gráficas de box-plots nos ayudan a identificar outiers que pueden sesgar nuestros resultados, especificamente las pruebas de hipótesis. Es por ello que con estás gráficas puedes complementar el análisis eliminando los valores atipicos. \n",
    "</div>"
   ]
  },
  {
   "cell_type": "markdown",
   "metadata": {
    "id": "ajJ7VKeI0q1Q"
   },
   "source": [
    "## Prueba las hipótesis estadísticas"
   ]
  },
  {
   "cell_type": "markdown",
   "metadata": {
    "id": "AdXAZ-yL0q1Q"
   },
   "source": [
    "A continuación se realizá una prueba de hipótesis para analizar si existe diferencia significativa entre el ingreso promedio procedente de los usuarios del **plan ultimate** y el ingreso promedio proveniente de los usuarios del **plan surf**."
   ]
  },
  {
   "cell_type": "markdown",
   "metadata": {
    "id": "IQwa_hsh0q1Q"
   },
   "source": [
    "La H0 es que no existe diferencia siginificativa entre los ingresos promedios obtenidos por los usuarios del **plan ultimate** y los ingresos promedios obtenidos por los usuarios del **plan surf**. En contraste, la H1 es que sí existe diferencia significativa entre los ingresos promedios obtenidos por los usuarios del **plan ultimate** y los ingresos promedios obtenidos por los usuarios del **plan surf**.\n",
    "\n",
    "Para poder analizar las hipótesis propuestas se empleará una Prueba T para muestras indpendientes. Adicionalmente, la prueba se realizará con un nivel de confianza del 95%, siendo el valor alpha 0.05."
   ]
  },
  {
   "cell_type": "markdown",
   "metadata": {},
   "source": [
    "La H0 que la varianza de los ingresos promedios obtenidos por lo usuarios del **plan ultimate** y que la varianza de los ingresos promedios obtenidos por los usuarios del **plan surf** son iguales. En contraste, la H1 es que la varianza de los ingresos promedios obtenidos por lo usuarios del **plan ultimate** y que la varianza de los ingresos promedios obtenidos por los usuarios del **plan surf** no son iguales. "
   ]
  },
  {
   "cell_type": "code",
   "execution_count": 120,
   "metadata": {},
   "outputs": [
    {
     "name": "stdout",
     "output_type": "stream",
     "text": [
      "Estadístico de Levene: 339.2331337643379\n",
      "Valor p: 2.0941791851303886e-69\n"
     ]
    }
   ],
   "source": [
    "#1. Verificación de supuestos\n",
    "ultimate = data_final[data_final[\"plan\"] == \"ultimate\"][\"final_cost\"]\n",
    "surf = data_final[data_final[\"plan\"] == \"surf\"][\"final_cost\"]\n",
    "\n",
    "stat, p_value = levene(ultimate, surf)\n",
    "\n",
    "print(\"Estadístico de Levene:\", stat)\n",
    "print(\"Valor p:\", p_value)"
   ]
  },
  {
   "cell_type": "markdown",
   "metadata": {},
   "source": [
    "A un 95%, siendo el p valor menor a 0.05 se rechaza la hipótesis nula."
   ]
  },
  {
   "cell_type": "code",
   "execution_count": 315,
   "metadata": {
    "id": "nFoPNlPq0q1R"
   },
   "outputs": [
    {
     "name": "stdout",
     "output_type": "stream",
     "text": [
      "valor p:  5.756661975640558e-13\n",
      "Se rechaza la hipótesis nula\n"
     ]
    }
   ],
   "source": [
    "# Prueba las hipótesis\n",
    "#2. Prueba T\n",
    "alpha = 0.05 \n",
    "\n",
    "results = st.ttest_ind(ultimate, surf, equal_var=False)\n",
    "\n",
    "print(\"valor p: \", results.pvalue)\n",
    "\n",
    "if results.pvalue < alpha:\n",
    "    print(\"Se rechaza la hipótesis nula\")\n",
    "else: \n",
    "    print(\"No se puede rechazar la hipótesis nula\")"
   ]
  },
  {
   "cell_type": "markdown",
   "metadata": {},
   "source": [
    "Al 95% de confianza, siendo el p valor menor a 0.05 se rechaza la hipótesis nula y, por tanto, se afirma que sí existe diferencia significata entre los ingresos promedios que se obtienen a través de los usuarios del **plan ultimate** y los ingresos promedios que se obtienen a través de los usuarios del **plan surf**."
   ]
  },
  {
   "cell_type": "markdown",
   "metadata": {
    "id": "tCcAruM60q1R"
   },
   "source": [
    "A continuación se realizá una prueba de hipótesis para analizar si existe diferencia significativa entre el ingreso promedio procedente de los usuarios del área **NY-NJ** y el ingreso promedio proveniente de los usuarios de otras regiones."
   ]
  },
  {
   "cell_type": "markdown",
   "metadata": {
    "id": "LsBgitqj0q1R"
   },
   "source": [
    "La H0 es que no existe diferencia siginificativa entre los ingresos promedios obtenidos por los usuarios del área **NY-NJ** y los ingresos promedios obtenidos por los usuarios de otras regiones. En contraste, la H1 es que sí existe diferencia siginificativa entre los ingresos promedios obtenidos por los usuarios del área **NY-NJ** y los ingresos promedios obtenidos por los usuarios de otras regiones.\n",
    "\n",
    "Para poder analizar las hipótesis propuestas se empleará una Prueba T para muestras indpendientes. Adicionalmente, la prueba se realizará con un nivel de confianza del 95%, siendo el valor alpha 0.05."
   ]
  },
  {
   "cell_type": "markdown",
   "metadata": {},
   "source": [
    "La H0 que la varianza entre los ingresos promedios obtenidos por lo usuarios del área **NY-NJ** y que la varianza de los ingresos promedios obtenidos por los usuarios de otras regiones son iguales. En contraste, la H1 que la varianza entre los ingresos promedios obtenidos por lo usuarios del área **NY-NJ** y que la varianza de los ingresos promedios obtenidos por los usuarios de otras regiones no son iguales."
   ]
  },
  {
   "cell_type": "code",
   "execution_count": 121,
   "metadata": {},
   "outputs": [
    {
     "name": "stdout",
     "output_type": "stream",
     "text": [
      "Estadístico de Levene: 339.2331337643379\n",
      "Valor p: 2.0941791851303886e-69\n"
     ]
    }
   ],
   "source": [
    "#1. Verificación de supuestos\n",
    "NY_NJ = data_final[data_final[\"state\"] == \"NY-NJ-PA MSA\"][\"final_cost\"]\n",
    "other = data_final[data_final[\"state\"] != \"NY-NJ-PA MSA\"][\"final_cost\"]\n",
    "\n",
    "stat, p_value = levene(ultimate, surf)\n",
    "\n",
    "print(\"Estadístico de Levene:\", stat)\n",
    "print(\"Valor p:\", p_value)"
   ]
  },
  {
   "cell_type": "markdown",
   "metadata": {},
   "source": [
    "A un 95%, siendo el p valor menor a 0.05 se rechaza la hipótesis nula."
   ]
  },
  {
   "cell_type": "code",
   "execution_count": 316,
   "metadata": {
    "id": "Cqcj7wrZ0q1S"
   },
   "outputs": [
    {
     "name": "stdout",
     "output_type": "stream",
     "text": [
      "valor p:  0.004477811025531861\n",
      "Se rechaza la hipótesis nula\n"
     ]
    }
   ],
   "source": [
    "# Prueba las hipótesis\n",
    "#2. Prueba T\n",
    "alpha = 0.05 \n",
    "\n",
    "results = st.ttest_ind(NY_NJ, other, equal_var=False)\n",
    "\n",
    "print(\"valor p: \", results.pvalue)\n",
    "\n",
    "if results.pvalue < alpha:\n",
    "    print(\"Se rechaza la hipótesis nula\")\n",
    "else: \n",
    "    print(\"No se puede rechazar la hipótesis nula\")"
   ]
  },
  {
   "cell_type": "markdown",
   "metadata": {},
   "source": [
    "<div class=\"alert alert-block alert-success\">\n",
    "<b>Comentario revisor</b> <a class=\"tocSkip\"></a>\n",
    "\n",
    "Gran trabajo desarrollando las pruebas de hipótesis. Solamente te recomendaría que para robustecer el análisis desarrolles una prueba de leven que te ayude a probar el supuesto de las varianzas iguales."
   ]
  },
  {
   "cell_type": "code",
   "execution_count": 317,
   "metadata": {},
   "outputs": [
    {
     "data": {
      "text/plain": [
       "0     70.00\n",
       "1     20.00\n",
       "2     20.00\n",
       "3     90.09\n",
       "4     60.00\n",
       "5     60.00\n",
       "6     20.00\n",
       "7     60.00\n",
       "8     20.00\n",
       "9    158.12\n",
       "Name: final_cost, dtype: float64"
      ]
     },
     "execution_count": 317,
     "metadata": {},
     "output_type": "execute_result"
    }
   ],
   "source": [
    "other.head(10)"
   ]
  },
  {
   "cell_type": "markdown",
   "metadata": {},
   "source": [
    "Al 95% de confianza, siendo el p valor menor a 0.05 se rechaza la hipótesis nula y, por tanto, se afirma que sí existe diferencia significata entre los ingresos promedios que se obtienen a través de los usuarios del área **NY-NJ** y los ingresos promedios que se obtienen a través de los usuarios de otras regiones."
   ]
  },
  {
   "cell_type": "markdown",
   "metadata": {
    "id": "bbTR8UQO0q1T"
   },
   "source": [
    "## Conclusión general\n",
    "\n",
    "En base a todo lo anterior, se puede concluir que:\n",
    "\n",
    "1. La duración promedio de las llamadas mensuales suele ser muy similar indpendientemente del plan elegido por el usuario, ocurriendo algo muy parecido con la cantidad de mb utilizados. \n",
    "\n",
    "2. En aspectos generales, a lo largo del año se observa una tendencia creciente en lo que respecta a la cantidad de minutos utilizados y de mensajes enviados por mes, indpendientemente del plan.\n",
    "\n",
    "3. El plan ultimate genera más ingresos, y estos se mantienen estables a lo largo del año. En contraste, y si bien el plan surf no alcanza los niveles de ingreso que el plan ultimate, estos tienden a aumentar a lo largo del año. \n",
    "\n",
    "4. Los usuarios del plan ultimate no suelen exceder el límite de su plan, observándose ello en mayor medida en los usuarios del plan surf.\n",
    "\n",
    "5. Existe una diferencia significativa entre los ingresos que generan ambos planes. \n",
    "\n",
    "6. Se sugiere identificar a los usuarios del plan surf que suelen exceder los límites de su plan para poder comentarles los beneficios del plan ultimate. Brindando énfasis en el u"
   ]
  },
  {
   "cell_type": "markdown",
   "metadata": {},
   "source": [
    "\n",
    "<div class=\"alert alert-block alert-warning\">\n",
    "<b>Comentario revisor</b> <a class=\"tocSkip\"></a>\n",
    "\n",
    "En general creo que hiciste un muy buen trabajo con el proyecto, pudiste limpiar y trabajar las bases de datos de beuna manera, así como juntar la información. Además, considero que el análisis con las gráficas y con las pruebas de hipótesis es muy acertado. No obstante, recuerda que siempre podemos mejorar y te menciono algunos puntos que debes considerar:\n",
    "\n",
    "* Realizar un análisis inicial de registros duplicados en todas las bases de datos\n",
    "   \n",
    "    \n",
    "*  verificar los supuestos de las pruebas de hipótesis (varianzas iguales)\n",
    "</div>"
   ]
  },
  {
   "cell_type": "markdown",
   "metadata": {},
   "source": [
    "<div class=\"alert alert-block alert-success\">\n",
    "<b>Comentario del revisor</b> <a class=\"tocSkip\"></a>\n",
    "\n",
    "Muy buen trabajo con los ajustes! Que sigas disfrutando los siguientes cursos!\n",
    "</div>"
   ]
  }
 ],
 "metadata": {
  "ExecuteTimeLog": [
   {
    "duration": 828,
    "start_time": "2021-11-16T09:21:11.304Z"
   },
   {
    "duration": 893,
    "start_time": "2021-11-16T09:21:17.728Z"
   },
   {
    "duration": 1150,
    "start_time": "2021-11-16T09:21:29.568Z"
   },
   {
    "duration": 3,
    "start_time": "2021-11-16T09:24:14.495Z"
   },
   {
    "duration": 120,
    "start_time": "2021-11-16T09:24:46.630Z"
   },
   {
    "duration": 3,
    "start_time": "2021-11-16T09:28:27.882Z"
   },
   {
    "duration": 4,
    "start_time": "2021-11-16T09:29:54.281Z"
   },
   {
    "duration": 3,
    "start_time": "2021-11-16T09:30:45.936Z"
   },
   {
    "duration": 4,
    "start_time": "2021-11-16T09:31:06.300Z"
   },
   {
    "duration": 113,
    "start_time": "2021-11-16T09:31:37.208Z"
   },
   {
    "duration": 143,
    "start_time": "2021-11-16T09:31:48.656Z"
   },
   {
    "duration": 98,
    "start_time": "2021-11-16T09:31:55.678Z"
   },
   {
    "duration": 3,
    "start_time": "2021-11-16T09:32:08.535Z"
   },
   {
    "duration": 111,
    "start_time": "2021-11-16T09:32:10.120Z"
   },
   {
    "duration": 3,
    "start_time": "2021-11-16T09:32:15.732Z"
   },
   {
    "duration": 4,
    "start_time": "2021-11-16T09:32:29.423Z"
   },
   {
    "duration": 3,
    "start_time": "2021-11-16T10:03:03.074Z"
   },
   {
    "duration": 3,
    "start_time": "2021-11-16T10:10:01.288Z"
   },
   {
    "duration": 3,
    "start_time": "2021-11-16T10:10:46.923Z"
   },
   {
    "duration": 121,
    "start_time": "2021-11-16T10:37:46.494Z"
   },
   {
    "duration": 125,
    "start_time": "2021-11-16T10:38:20.632Z"
   },
   {
    "duration": 112,
    "start_time": "2021-11-16T10:46:53.001Z"
   },
   {
    "duration": 110,
    "start_time": "2021-11-16T10:48:25.775Z"
   },
   {
    "duration": 3,
    "start_time": "2021-11-16T10:50:18.720Z"
   },
   {
    "duration": 4,
    "start_time": "2021-11-16T10:50:37.649Z"
   },
   {
    "duration": 2,
    "start_time": "2021-11-16T10:50:51.884Z"
   },
   {
    "duration": 3,
    "start_time": "2021-11-16T10:51:56.237Z"
   },
   {
    "duration": 101,
    "start_time": "2021-11-16T10:53:13.791Z"
   },
   {
    "duration": 3,
    "start_time": "2021-11-16T10:55:59.186Z"
   },
   {
    "duration": 3,
    "start_time": "2021-11-16T10:56:10.751Z"
   },
   {
    "duration": 3,
    "start_time": "2021-11-16T10:56:49.038Z"
   },
   {
    "duration": 3,
    "start_time": "2021-11-16T10:56:49.174Z"
   },
   {
    "duration": 4,
    "start_time": "2021-11-16T10:56:49.414Z"
   },
   {
    "duration": 3,
    "start_time": "2021-11-16T10:56:49.680Z"
   },
   {
    "duration": 3,
    "start_time": "2021-11-16T10:56:50.370Z"
   },
   {
    "duration": 114,
    "start_time": "2021-11-16T10:59:34.518Z"
   },
   {
    "duration": 3,
    "start_time": "2021-11-16T11:01:41.201Z"
   },
   {
    "duration": 116,
    "start_time": "2021-11-16T11:01:48.754Z"
   },
   {
    "duration": 3,
    "start_time": "2021-11-16T11:02:16.685Z"
   },
   {
    "duration": 3,
    "start_time": "2021-11-16T11:02:19.479Z"
   },
   {
    "duration": 3,
    "start_time": "2021-11-16T11:02:47.067Z"
   },
   {
    "duration": 3,
    "start_time": "2021-11-16T11:02:49.353Z"
   },
   {
    "duration": 3,
    "start_time": "2021-11-16T11:03:07.835Z"
   },
   {
    "duration": 3,
    "start_time": "2021-11-16T11:03:07.953Z"
   },
   {
    "duration": 112,
    "start_time": "2021-11-16T11:07:52.072Z"
   },
   {
    "duration": 187,
    "start_time": "2021-11-16T11:09:23.468Z"
   },
   {
    "duration": 4,
    "start_time": "2021-11-16T11:10:01.455Z"
   },
   {
    "duration": 3,
    "start_time": "2021-11-16T11:10:05.069Z"
   },
   {
    "duration": 4,
    "start_time": "2021-11-16T11:10:13.376Z"
   },
   {
    "duration": 3,
    "start_time": "2021-11-16T11:10:14.434Z"
   },
   {
    "duration": 3,
    "start_time": "2021-11-16T11:10:22.853Z"
   },
   {
    "duration": 4,
    "start_time": "2021-11-16T11:27:29.279Z"
   },
   {
    "duration": 4,
    "start_time": "2021-11-16T11:29:08.919Z"
   },
   {
    "duration": 118,
    "start_time": "2021-11-16T11:29:46.703Z"
   },
   {
    "duration": 437,
    "start_time": "2021-11-16T11:36:02.181Z"
   },
   {
    "duration": 157,
    "start_time": "2021-11-16T11:36:14.388Z"
   },
   {
    "duration": 207,
    "start_time": "2021-11-16T11:47:15.898Z"
   },
   {
    "duration": 3,
    "start_time": "2021-11-16T11:53:52.092Z"
   },
   {
    "duration": 3,
    "start_time": "2021-11-16T11:53:52.236Z"
   },
   {
    "duration": 3,
    "start_time": "2021-11-16T11:59:12.005Z"
   },
   {
    "duration": 112,
    "start_time": "2021-11-16T12:00:33.446Z"
   },
   {
    "duration": 3,
    "start_time": "2021-11-16T12:02:14.453Z"
   },
   {
    "duration": 3,
    "start_time": "2021-11-16T12:02:39.512Z"
   },
   {
    "duration": 106,
    "start_time": "2021-11-16T12:03:03.460Z"
   },
   {
    "duration": 3,
    "start_time": "2021-11-17T20:37:21.139Z"
   },
   {
    "duration": 3,
    "start_time": "2021-11-17T20:37:22.229Z"
   },
   {
    "duration": 3,
    "start_time": "2021-11-17T20:38:38.806Z"
   },
   {
    "duration": 3,
    "start_time": "2021-11-17T20:38:41.958Z"
   },
   {
    "duration": 3,
    "start_time": "2021-11-17T20:43:46.551Z"
   },
   {
    "duration": 4,
    "start_time": "2021-11-17T20:58:21.835Z"
   },
   {
    "duration": 3,
    "start_time": "2021-11-17T20:59:21.872Z"
   },
   {
    "duration": 4,
    "start_time": "2021-11-17T20:59:45.352Z"
   },
   {
    "duration": 4,
    "start_time": "2021-11-17T20:59:49.646Z"
   },
   {
    "duration": 159,
    "start_time": "2021-11-17T21:02:26.949Z"
   },
   {
    "duration": 3,
    "start_time": "2021-11-17T21:03:53.461Z"
   },
   {
    "duration": 3,
    "start_time": "2021-11-17T21:03:53.694Z"
   },
   {
    "duration": 3,
    "start_time": "2021-11-17T21:05:28.145Z"
   },
   {
    "duration": 116,
    "start_time": "2021-11-17T21:05:57.787Z"
   },
   {
    "duration": 3,
    "start_time": "2021-11-17T21:06:37.993Z"
   },
   {
    "duration": 3,
    "start_time": "2021-11-17T21:06:38.261Z"
   },
   {
    "duration": 3,
    "start_time": "2021-11-17T21:11:54.358Z"
   },
   {
    "duration": 3,
    "start_time": "2021-11-17T21:12:43.846Z"
   },
   {
    "duration": 4,
    "start_time": "2021-11-17T21:13:08.773Z"
   },
   {
    "duration": 3,
    "start_time": "2021-11-17T21:14:44.441Z"
   },
   {
    "duration": 3,
    "start_time": "2021-11-17T21:15:42.059Z"
   },
   {
    "duration": 4,
    "start_time": "2021-11-17T21:15:51.995Z"
   },
   {
    "duration": 3,
    "start_time": "2021-11-17T21:15:53.923Z"
   },
   {
    "duration": 3,
    "start_time": "2021-11-17T21:15:55.282Z"
   },
   {
    "duration": 3,
    "start_time": "2021-11-17T21:16:28.492Z"
   },
   {
    "duration": 3,
    "start_time": "2021-11-17T21:16:32.603Z"
   },
   {
    "duration": 3,
    "start_time": "2021-11-17T21:17:06.941Z"
   },
   {
    "duration": 98,
    "start_time": "2021-11-17T21:18:05.733Z"
   },
   {
    "duration": 4,
    "start_time": "2021-11-17T21:21:35.255Z"
   },
   {
    "duration": 3,
    "start_time": "2021-11-17T21:21:37.804Z"
   },
   {
    "duration": 4,
    "start_time": "2021-11-17T21:23:06.071Z"
   },
   {
    "duration": 3,
    "start_time": "2021-11-17T21:23:24.799Z"
   },
   {
    "duration": 3,
    "start_time": "2021-11-17T21:23:32.591Z"
   },
   {
    "duration": 98,
    "start_time": "2021-11-17T21:28:31.559Z"
   },
   {
    "duration": 3,
    "start_time": "2021-11-17T21:28:45.448Z"
   },
   {
    "duration": 3,
    "start_time": "2021-11-17T21:29:17.303Z"
   },
   {
    "duration": 3,
    "start_time": "2021-11-17T21:29:29.617Z"
   },
   {
    "duration": 3,
    "start_time": "2021-11-17T21:29:32.681Z"
   },
   {
    "duration": 3,
    "start_time": "2021-11-17T21:36:11.474Z"
   },
   {
    "duration": 3,
    "start_time": "2021-11-17T21:36:14.791Z"
   },
   {
    "duration": 3,
    "start_time": "2021-11-17T21:36:53.943Z"
   },
   {
    "duration": 3,
    "start_time": "2021-11-17T21:36:56.165Z"
   },
   {
    "duration": 4,
    "start_time": "2021-11-17T21:37:16.590Z"
   },
   {
    "duration": 3,
    "start_time": "2021-11-17T21:37:22.702Z"
   },
   {
    "duration": 4,
    "start_time": "2021-11-17T21:38:03.479Z"
   },
   {
    "duration": 3,
    "start_time": "2021-11-17T21:38:08.601Z"
   },
   {
    "duration": 3,
    "start_time": "2021-11-17T21:38:12.928Z"
   },
   {
    "duration": 3,
    "start_time": "2021-11-17T21:38:48.896Z"
   },
   {
    "duration": 2,
    "start_time": "2021-11-17T21:38:49.171Z"
   },
   {
    "duration": 4,
    "start_time": "2021-11-17T21:39:57.889Z"
   },
   {
    "duration": 3,
    "start_time": "2021-11-17T21:39:58.057Z"
   },
   {
    "duration": 3,
    "start_time": "2021-11-17T21:41:20.108Z"
   },
   {
    "duration": 3,
    "start_time": "2021-11-17T21:41:20.629Z"
   },
   {
    "duration": 3,
    "start_time": "2021-11-17T21:42:49.136Z"
   },
   {
    "duration": 3,
    "start_time": "2021-11-17T21:43:15.137Z"
   },
   {
    "duration": 4,
    "start_time": "2021-11-17T21:43:16.766Z"
   },
   {
    "duration": 4,
    "start_time": "2021-11-17T21:43:31.711Z"
   },
   {
    "duration": 3,
    "start_time": "2021-11-17T21:43:36.312Z"
   },
   {
    "duration": 4,
    "start_time": "2021-11-17T21:45:08.825Z"
   },
   {
    "duration": 4,
    "start_time": "2021-11-17T21:45:10.119Z"
   },
   {
    "duration": 4,
    "start_time": "2021-11-17T21:45:13.748Z"
   },
   {
    "duration": 3,
    "start_time": "2021-11-17T21:45:22.219Z"
   },
   {
    "duration": 3,
    "start_time": "2021-11-17T21:45:33.412Z"
   },
   {
    "duration": 2,
    "start_time": "2021-11-17T21:46:01.885Z"
   },
   {
    "duration": 3,
    "start_time": "2021-11-17T21:46:03.628Z"
   },
   {
    "duration": 107,
    "start_time": "2021-11-17T21:47:32.512Z"
   },
   {
    "duration": 103,
    "start_time": "2021-11-17T21:50:36.243Z"
   },
   {
    "duration": 3,
    "start_time": "2021-11-18T06:28:31.440Z"
   },
   {
    "duration": 3,
    "start_time": "2021-11-18T06:29:00.168Z"
   },
   {
    "duration": 3,
    "start_time": "2021-11-18T06:31:27.008Z"
   },
   {
    "duration": 2,
    "start_time": "2021-11-18T06:35:34.288Z"
   },
   {
    "duration": 2,
    "start_time": "2021-11-18T06:38:04.527Z"
   },
   {
    "duration": 910,
    "start_time": "2024-05-19T18:27:06.673Z"
   },
   {
    "duration": 372,
    "start_time": "2024-05-19T18:27:10.401Z"
   },
   {
    "duration": 188,
    "start_time": "2024-05-19T18:27:14.285Z"
   },
   {
    "duration": 17,
    "start_time": "2024-05-19T18:27:21.619Z"
   },
   {
    "duration": 19,
    "start_time": "2024-05-19T18:27:33.479Z"
   },
   {
    "duration": 425,
    "start_time": "2024-05-19T18:36:24.550Z"
   },
   {
    "duration": 19,
    "start_time": "2024-05-19T18:36:38.906Z"
   },
   {
    "duration": 13,
    "start_time": "2024-05-19T18:36:41.398Z"
   },
   {
    "duration": 322,
    "start_time": "2024-05-19T23:46:30.581Z"
   },
   {
    "duration": 924,
    "start_time": "2024-05-19T23:46:51.574Z"
   },
   {
    "duration": 369,
    "start_time": "2024-05-19T23:46:52.508Z"
   },
   {
    "duration": 16,
    "start_time": "2024-05-19T23:46:52.880Z"
   },
   {
    "duration": 18,
    "start_time": "2024-05-19T23:46:52.900Z"
   },
   {
    "duration": 7,
    "start_time": "2024-05-19T23:46:59.218Z"
   },
   {
    "duration": 5,
    "start_time": "2024-05-19T23:59:09.444Z"
   },
   {
    "duration": 6,
    "start_time": "2024-05-20T00:06:01.803Z"
   },
   {
    "duration": 18,
    "start_time": "2024-05-20T00:06:26.285Z"
   },
   {
    "duration": 16,
    "start_time": "2024-05-20T00:06:29.042Z"
   },
   {
    "duration": 34,
    "start_time": "2024-05-20T01:53:04.815Z"
   },
   {
    "duration": 14,
    "start_time": "2024-05-20T01:53:07.433Z"
   },
   {
    "duration": 129,
    "start_time": "2024-05-20T03:18:04.846Z"
   },
   {
    "duration": 861,
    "start_time": "2024-05-20T03:19:46.018Z"
   },
   {
    "duration": 4,
    "start_time": "2024-05-20T03:21:09.177Z"
   },
   {
    "duration": 261,
    "start_time": "2024-05-20T03:21:09.185Z"
   },
   {
    "duration": 15,
    "start_time": "2024-05-20T03:21:09.449Z"
   },
   {
    "duration": 12,
    "start_time": "2024-05-20T03:21:09.467Z"
   },
   {
    "duration": 6,
    "start_time": "2024-05-20T03:21:09.625Z"
   },
   {
    "duration": 15,
    "start_time": "2024-05-20T03:21:09.637Z"
   },
   {
    "duration": 14,
    "start_time": "2024-05-20T03:21:09.656Z"
   },
   {
    "duration": 9,
    "start_time": "2024-05-20T03:21:16.754Z"
   },
   {
    "duration": 7,
    "start_time": "2024-05-20T03:21:20.509Z"
   },
   {
    "duration": 25,
    "start_time": "2024-05-20T03:21:25.913Z"
   },
   {
    "duration": 12,
    "start_time": "2024-05-20T03:21:26.620Z"
   },
   {
    "duration": 5,
    "start_time": "2024-05-20T04:03:40.552Z"
   },
   {
    "duration": 20,
    "start_time": "2024-05-20T04:04:04.421Z"
   },
   {
    "duration": 9,
    "start_time": "2024-05-20T04:04:05.836Z"
   },
   {
    "duration": 23,
    "start_time": "2024-05-20T04:23:04.031Z"
   },
   {
    "duration": 11,
    "start_time": "2024-05-20T04:23:06.323Z"
   },
   {
    "duration": 9,
    "start_time": "2024-05-20T04:28:44.571Z"
   },
   {
    "duration": 13,
    "start_time": "2024-05-20T04:29:00.749Z"
   },
   {
    "duration": 340,
    "start_time": "2024-05-20T05:06:46.749Z"
   },
   {
    "duration": 4,
    "start_time": "2024-05-20T05:06:55.783Z"
   },
   {
    "duration": 270,
    "start_time": "2024-05-20T05:06:55.792Z"
   },
   {
    "duration": 16,
    "start_time": "2024-05-20T05:06:56.065Z"
   },
   {
    "duration": 34,
    "start_time": "2024-05-20T05:06:56.083Z"
   },
   {
    "duration": 7,
    "start_time": "2024-05-20T05:06:56.121Z"
   },
   {
    "duration": 19,
    "start_time": "2024-05-20T05:06:56.131Z"
   },
   {
    "duration": 55,
    "start_time": "2024-05-20T05:06:56.154Z"
   },
   {
    "duration": 6,
    "start_time": "2024-05-20T05:06:56.212Z"
   },
   {
    "duration": 732,
    "start_time": "2024-05-20T05:06:56.222Z"
   },
   {
    "duration": 0,
    "start_time": "2024-05-20T05:06:56.958Z"
   },
   {
    "duration": 0,
    "start_time": "2024-05-20T05:06:56.960Z"
   },
   {
    "duration": 0,
    "start_time": "2024-05-20T05:06:56.961Z"
   },
   {
    "duration": 0,
    "start_time": "2024-05-20T05:06:56.964Z"
   },
   {
    "duration": 0,
    "start_time": "2024-05-20T05:06:56.966Z"
   },
   {
    "duration": 0,
    "start_time": "2024-05-20T05:06:56.968Z"
   },
   {
    "duration": 0,
    "start_time": "2024-05-20T05:06:56.970Z"
   },
   {
    "duration": 0,
    "start_time": "2024-05-20T05:06:56.971Z"
   },
   {
    "duration": 0,
    "start_time": "2024-05-20T05:06:56.973Z"
   },
   {
    "duration": 0,
    "start_time": "2024-05-20T05:06:56.975Z"
   },
   {
    "duration": 0,
    "start_time": "2024-05-20T05:06:57.010Z"
   },
   {
    "duration": 0,
    "start_time": "2024-05-20T05:06:57.011Z"
   },
   {
    "duration": 0,
    "start_time": "2024-05-20T05:06:57.014Z"
   },
   {
    "duration": 92,
    "start_time": "2024-05-20T05:06:59.487Z"
   },
   {
    "duration": 4,
    "start_time": "2024-05-20T05:11:41.546Z"
   },
   {
    "duration": 270,
    "start_time": "2024-05-20T05:11:41.555Z"
   },
   {
    "duration": 16,
    "start_time": "2024-05-20T05:11:41.828Z"
   },
   {
    "duration": 14,
    "start_time": "2024-05-20T05:11:41.848Z"
   },
   {
    "duration": 6,
    "start_time": "2024-05-20T05:11:41.865Z"
   },
   {
    "duration": 14,
    "start_time": "2024-05-20T05:11:41.910Z"
   },
   {
    "duration": 14,
    "start_time": "2024-05-20T05:11:41.927Z"
   },
   {
    "duration": 5,
    "start_time": "2024-05-20T05:11:41.945Z"
   },
   {
    "duration": 115,
    "start_time": "2024-05-20T05:11:41.954Z"
   },
   {
    "duration": 70,
    "start_time": "2024-05-20T05:11:51.989Z"
   },
   {
    "duration": 70,
    "start_time": "2024-05-20T05:12:21.543Z"
   },
   {
    "duration": 5,
    "start_time": "2024-05-20T05:12:25.901Z"
   },
   {
    "duration": 295,
    "start_time": "2024-05-20T05:12:25.910Z"
   },
   {
    "duration": 18,
    "start_time": "2024-05-20T05:12:26.209Z"
   },
   {
    "duration": 15,
    "start_time": "2024-05-20T05:12:26.232Z"
   },
   {
    "duration": 9,
    "start_time": "2024-05-20T05:12:26.250Z"
   },
   {
    "duration": 51,
    "start_time": "2024-05-20T05:12:26.262Z"
   },
   {
    "duration": 15,
    "start_time": "2024-05-20T05:12:26.317Z"
   },
   {
    "duration": 5,
    "start_time": "2024-05-20T05:12:26.336Z"
   },
   {
    "duration": 101,
    "start_time": "2024-05-20T05:12:28.906Z"
   },
   {
    "duration": 273,
    "start_time": "2024-05-20T05:19:07.256Z"
   },
   {
    "duration": 58,
    "start_time": "2024-05-20T05:19:19.453Z"
   },
   {
    "duration": 20,
    "start_time": "2024-05-20T05:19:29.481Z"
   },
   {
    "duration": 23,
    "start_time": "2024-05-20T05:20:12.680Z"
   },
   {
    "duration": 22,
    "start_time": "2024-05-20T05:25:25.411Z"
   },
   {
    "duration": 4,
    "start_time": "2024-05-20T05:31:57.638Z"
   },
   {
    "duration": 288,
    "start_time": "2024-05-20T05:31:57.646Z"
   },
   {
    "duration": 15,
    "start_time": "2024-05-20T05:31:57.937Z"
   },
   {
    "duration": 14,
    "start_time": "2024-05-20T05:31:57.954Z"
   },
   {
    "duration": 6,
    "start_time": "2024-05-20T05:31:57.973Z"
   },
   {
    "duration": 15,
    "start_time": "2024-05-20T05:31:58.009Z"
   },
   {
    "duration": 14,
    "start_time": "2024-05-20T05:31:58.027Z"
   },
   {
    "duration": 5,
    "start_time": "2024-05-20T05:31:58.045Z"
   },
   {
    "duration": 59,
    "start_time": "2024-05-20T05:31:58.054Z"
   },
   {
    "duration": 25,
    "start_time": "2024-05-20T05:31:58.117Z"
   },
   {
    "duration": 11,
    "start_time": "2024-05-20T05:31:58.146Z"
   },
   {
    "duration": 13,
    "start_time": "2024-05-20T05:31:58.160Z"
   },
   {
    "duration": 463,
    "start_time": "2024-05-20T05:31:58.208Z"
   },
   {
    "duration": 32,
    "start_time": "2024-05-20T05:31:58.677Z"
   },
   {
    "duration": 11,
    "start_time": "2024-05-20T05:31:58.711Z"
   },
   {
    "duration": 7,
    "start_time": "2024-05-20T05:31:58.725Z"
   },
   {
    "duration": 359,
    "start_time": "2024-05-20T05:31:58.736Z"
   },
   {
    "duration": 31,
    "start_time": "2024-05-20T05:31:59.097Z"
   },
   {
    "duration": 11,
    "start_time": "2024-05-20T05:31:59.131Z"
   },
   {
    "duration": 11,
    "start_time": "2024-05-20T05:31:59.147Z"
   },
   {
    "duration": 402,
    "start_time": "2024-05-20T05:32:02.114Z"
   },
   {
    "duration": 12,
    "start_time": "2024-05-20T05:32:05.379Z"
   },
   {
    "duration": 40,
    "start_time": "2024-05-20T05:32:12.165Z"
   },
   {
    "duration": 46,
    "start_time": "2024-05-20T05:32:35.603Z"
   },
   {
    "duration": 43,
    "start_time": "2024-05-20T05:39:09.938Z"
   },
   {
    "duration": 30,
    "start_time": "2024-05-20T05:39:10.864Z"
   },
   {
    "duration": 8,
    "start_time": "2024-05-20T05:39:11.609Z"
   },
   {
    "duration": 41,
    "start_time": "2024-05-20T05:40:13.293Z"
   },
   {
    "duration": 31,
    "start_time": "2024-05-20T05:40:14.016Z"
   },
   {
    "duration": 6,
    "start_time": "2024-05-20T05:40:14.691Z"
   },
   {
    "duration": 35,
    "start_time": "2024-05-20T05:41:31.563Z"
   },
   {
    "duration": 37,
    "start_time": "2024-05-20T05:48:29.694Z"
   },
   {
    "duration": 33,
    "start_time": "2024-05-20T05:48:39.153Z"
   },
   {
    "duration": 41,
    "start_time": "2024-05-20T05:48:41.148Z"
   },
   {
    "duration": 33,
    "start_time": "2024-05-20T05:49:02.503Z"
   },
   {
    "duration": 30,
    "start_time": "2024-05-20T05:51:01.422Z"
   },
   {
    "duration": 7,
    "start_time": "2024-05-20T05:54:17.035Z"
   },
   {
    "duration": 26,
    "start_time": "2024-05-20T05:54:46.912Z"
   },
   {
    "duration": 44,
    "start_time": "2024-05-20T05:55:13.026Z"
   },
   {
    "duration": 41,
    "start_time": "2024-05-20T05:55:39.801Z"
   },
   {
    "duration": 59,
    "start_time": "2024-05-20T05:55:42.224Z"
   },
   {
    "duration": 7,
    "start_time": "2024-05-20T06:00:22.994Z"
   },
   {
    "duration": 7,
    "start_time": "2024-05-20T06:00:37.566Z"
   },
   {
    "duration": 45,
    "start_time": "2024-05-20T06:00:58.988Z"
   },
   {
    "duration": 56,
    "start_time": "2024-05-20T06:01:24.308Z"
   },
   {
    "duration": 66,
    "start_time": "2024-05-20T06:02:13.713Z"
   },
   {
    "duration": 49,
    "start_time": "2024-05-20T06:05:14.209Z"
   },
   {
    "duration": 113,
    "start_time": "2024-05-20T06:11:21.211Z"
   },
   {
    "duration": 35,
    "start_time": "2024-05-20T06:11:42.046Z"
   },
   {
    "duration": 41,
    "start_time": "2024-05-20T06:11:49.373Z"
   },
   {
    "duration": 59,
    "start_time": "2024-05-20T06:12:08.258Z"
   },
   {
    "duration": 48,
    "start_time": "2024-05-20T06:13:35.311Z"
   },
   {
    "duration": 48,
    "start_time": "2024-05-20T06:15:42.230Z"
   },
   {
    "duration": 54,
    "start_time": "2024-05-20T06:16:11.453Z"
   },
   {
    "duration": 60,
    "start_time": "2024-05-20T06:16:21.128Z"
   },
   {
    "duration": 49,
    "start_time": "2024-05-20T06:17:10.724Z"
   },
   {
    "duration": 53,
    "start_time": "2024-05-20T06:23:19.208Z"
   },
   {
    "duration": 30,
    "start_time": "2024-05-20T06:23:20.700Z"
   },
   {
    "duration": 35,
    "start_time": "2024-05-20T06:23:20.886Z"
   },
   {
    "duration": 41,
    "start_time": "2024-05-20T06:23:21.084Z"
   },
   {
    "duration": 49,
    "start_time": "2024-05-20T06:23:21.301Z"
   },
   {
    "duration": 36,
    "start_time": "2024-05-20T06:25:38.022Z"
   },
   {
    "duration": 59,
    "start_time": "2024-05-20T06:25:38.492Z"
   },
   {
    "duration": 64,
    "start_time": "2024-05-20T06:25:39.282Z"
   },
   {
    "duration": 49,
    "start_time": "2024-05-20T06:29:42.990Z"
   },
   {
    "duration": 62,
    "start_time": "2024-05-20T06:29:57.070Z"
   },
   {
    "duration": 50,
    "start_time": "2024-05-20T06:30:12.423Z"
   },
   {
    "duration": 21,
    "start_time": "2024-05-20T06:34:22.735Z"
   },
   {
    "duration": 43,
    "start_time": "2024-05-20T06:34:41.771Z"
   },
   {
    "duration": 49,
    "start_time": "2024-05-20T06:36:11.783Z"
   },
   {
    "duration": 104,
    "start_time": "2024-05-20T06:36:15.119Z"
   },
   {
    "duration": 47,
    "start_time": "2024-05-20T06:36:47.423Z"
   },
   {
    "duration": 49,
    "start_time": "2024-05-20T06:37:54.421Z"
   },
   {
    "duration": 48,
    "start_time": "2024-05-20T06:37:56.910Z"
   },
   {
    "duration": 63,
    "start_time": "2024-05-20T06:43:52.936Z"
   },
   {
    "duration": 51,
    "start_time": "2024-05-20T06:47:49.550Z"
   },
   {
    "duration": 48,
    "start_time": "2024-05-20T06:49:32.701Z"
   },
   {
    "duration": 49,
    "start_time": "2024-05-20T06:50:22.554Z"
   },
   {
    "duration": 103,
    "start_time": "2024-05-20T06:50:25.755Z"
   },
   {
    "duration": 93,
    "start_time": "2024-05-20T06:51:05.822Z"
   },
   {
    "duration": 100,
    "start_time": "2024-05-20T06:51:25.637Z"
   },
   {
    "duration": 55,
    "start_time": "2024-05-20T06:51:39.036Z"
   },
   {
    "duration": 47,
    "start_time": "2024-05-20T06:52:40.366Z"
   },
   {
    "duration": 31,
    "start_time": "2024-05-20T06:57:22.126Z"
   },
   {
    "duration": 52,
    "start_time": "2024-05-20T06:58:01.918Z"
   },
   {
    "duration": 52,
    "start_time": "2024-05-20T06:58:58.946Z"
   },
   {
    "duration": 28,
    "start_time": "2024-05-20T08:07:20.563Z"
   },
   {
    "duration": 0,
    "start_time": "2024-05-20T08:07:49.344Z"
   },
   {
    "duration": 36,
    "start_time": "2024-05-20T08:08:45.901Z"
   },
   {
    "duration": 400,
    "start_time": "2024-05-20T08:09:43.626Z"
   },
   {
    "duration": 392,
    "start_time": "2024-05-20T08:10:32.665Z"
   },
   {
    "duration": 510,
    "start_time": "2024-05-20T08:10:44.374Z"
   },
   {
    "duration": 352,
    "start_time": "2024-05-20T08:10:52.125Z"
   },
   {
    "duration": 614,
    "start_time": "2024-05-20T08:11:44.248Z"
   },
   {
    "duration": 355,
    "start_time": "2024-05-20T08:12:39.896Z"
   },
   {
    "duration": 144,
    "start_time": "2024-05-20T08:13:47.297Z"
   },
   {
    "duration": 370,
    "start_time": "2024-05-20T08:13:56.631Z"
   },
   {
    "duration": 357,
    "start_time": "2024-05-20T08:14:40.260Z"
   },
   {
    "duration": 423,
    "start_time": "2024-05-20T08:22:44.723Z"
   },
   {
    "duration": 5,
    "start_time": "2024-05-20T08:23:27.490Z"
   },
   {
    "duration": 386,
    "start_time": "2024-05-20T08:23:34.606Z"
   },
   {
    "duration": 1213,
    "start_time": "2024-05-20T08:26:12.300Z"
   },
   {
    "duration": 16,
    "start_time": "2024-05-20T08:26:42.335Z"
   },
   {
    "duration": 18,
    "start_time": "2024-05-20T08:27:03.560Z"
   },
   {
    "duration": 230,
    "start_time": "2024-05-20T08:28:44.854Z"
   },
   {
    "duration": 133,
    "start_time": "2024-05-20T08:29:06.621Z"
   },
   {
    "duration": 22,
    "start_time": "2024-05-20T08:29:30.325Z"
   },
   {
    "duration": 350,
    "start_time": "2024-05-20T08:30:41.951Z"
   },
   {
    "duration": 16,
    "start_time": "2024-05-20T08:33:06.117Z"
   },
   {
    "duration": 380,
    "start_time": "2024-05-20T08:33:45.698Z"
   },
   {
    "duration": 20,
    "start_time": "2024-05-20T08:34:34.342Z"
   },
   {
    "duration": 361,
    "start_time": "2024-05-20T08:38:53.534Z"
   },
   {
    "duration": 358,
    "start_time": "2024-05-20T08:39:33.910Z"
   },
   {
    "duration": 367,
    "start_time": "2024-05-20T08:41:03.022Z"
   },
   {
    "duration": 93,
    "start_time": "2024-05-20T08:43:49.580Z"
   },
   {
    "duration": 114,
    "start_time": "2024-05-20T08:44:11.982Z"
   },
   {
    "duration": 358,
    "start_time": "2024-05-20T08:46:52.085Z"
   },
   {
    "duration": 364,
    "start_time": "2024-05-20T08:48:31.018Z"
   },
   {
    "duration": 377,
    "start_time": "2024-05-20T08:48:46.064Z"
   },
   {
    "duration": 252,
    "start_time": "2024-05-20T08:53:09.510Z"
   },
   {
    "duration": 97,
    "start_time": "2024-05-20T08:53:40.717Z"
   },
   {
    "duration": 304,
    "start_time": "2024-05-20T08:54:52.629Z"
   },
   {
    "duration": 324,
    "start_time": "2024-05-20T08:55:37.666Z"
   },
   {
    "duration": 20,
    "start_time": "2024-05-20T08:56:41.344Z"
   },
   {
    "duration": 303,
    "start_time": "2024-05-20T08:57:07.734Z"
   },
   {
    "duration": 315,
    "start_time": "2024-05-20T09:01:00.766Z"
   },
   {
    "duration": 135,
    "start_time": "2024-05-20T09:02:08.784Z"
   },
   {
    "duration": 287,
    "start_time": "2024-05-20T09:07:03.718Z"
   },
   {
    "duration": 421,
    "start_time": "2024-05-20T09:07:25.929Z"
   },
   {
    "duration": 37,
    "start_time": "2024-05-20T09:07:52.069Z"
   },
   {
    "duration": 6,
    "start_time": "2024-05-20T09:08:13.433Z"
   },
   {
    "duration": 96,
    "start_time": "2024-05-20T09:08:28.916Z"
   },
   {
    "duration": 32,
    "start_time": "2024-05-20T09:09:32.342Z"
   },
   {
    "duration": 383,
    "start_time": "2024-05-20T09:10:08.078Z"
   },
   {
    "duration": 361,
    "start_time": "2024-05-20T09:11:49.280Z"
   },
   {
    "duration": 66,
    "start_time": "2024-05-20T09:13:49.301Z"
   },
   {
    "duration": 12,
    "start_time": "2024-05-20T09:20:42.328Z"
   },
   {
    "duration": 20,
    "start_time": "2024-05-20T09:21:13.598Z"
   },
   {
    "duration": 49,
    "start_time": "2024-05-20T09:25:49.478Z"
   },
   {
    "duration": 23,
    "start_time": "2024-05-20T09:31:25.594Z"
   },
   {
    "duration": 20,
    "start_time": "2024-05-20T09:32:17.580Z"
   },
   {
    "duration": 24,
    "start_time": "2024-05-20T09:34:11.103Z"
   },
   {
    "duration": 36,
    "start_time": "2024-05-20T09:35:48.492Z"
   },
   {
    "duration": 34,
    "start_time": "2024-05-20T09:36:03.883Z"
   },
   {
    "duration": 183,
    "start_time": "2024-05-20T09:52:34.154Z"
   },
   {
    "duration": 34,
    "start_time": "2024-05-20T09:53:21.253Z"
   },
   {
    "duration": 193,
    "start_time": "2024-05-20T09:53:36.693Z"
   },
   {
    "duration": 519,
    "start_time": "2024-05-20T09:55:29.871Z"
   },
   {
    "duration": 207,
    "start_time": "2024-05-20T09:55:46.746Z"
   },
   {
    "duration": 10,
    "start_time": "2024-05-20T09:57:25.793Z"
   },
   {
    "duration": 7,
    "start_time": "2024-05-20T09:57:38.355Z"
   },
   {
    "duration": 181,
    "start_time": "2024-05-20T09:57:50.027Z"
   },
   {
    "duration": 199,
    "start_time": "2024-05-20T09:58:43.968Z"
   },
   {
    "duration": 194,
    "start_time": "2024-05-20T09:59:26.281Z"
   },
   {
    "duration": 25,
    "start_time": "2024-05-20T10:02:22.819Z"
   },
   {
    "duration": 132,
    "start_time": "2024-05-20T10:02:40.485Z"
   },
   {
    "duration": 31,
    "start_time": "2024-05-20T10:02:48.556Z"
   },
   {
    "duration": 706,
    "start_time": "2024-05-20T10:02:57.692Z"
   },
   {
    "duration": 247,
    "start_time": "2024-05-20T10:03:20.070Z"
   },
   {
    "duration": 234,
    "start_time": "2024-05-20T10:03:48.193Z"
   },
   {
    "duration": 251,
    "start_time": "2024-05-20T10:05:18.454Z"
   },
   {
    "duration": 293,
    "start_time": "2024-05-20T10:05:27.201Z"
   },
   {
    "duration": 270,
    "start_time": "2024-05-20T10:05:34.654Z"
   },
   {
    "duration": 116,
    "start_time": "2024-05-20T10:07:38.775Z"
   },
   {
    "duration": 467,
    "start_time": "2024-05-20T10:07:46.653Z"
   },
   {
    "duration": 90,
    "start_time": "2024-05-20T10:09:17.482Z"
   },
   {
    "duration": 92,
    "start_time": "2024-05-20T10:09:50.803Z"
   },
   {
    "duration": 28,
    "start_time": "2024-05-20T10:10:16.026Z"
   },
   {
    "duration": 49,
    "start_time": "2024-05-20T10:11:08.716Z"
   },
   {
    "duration": 87,
    "start_time": "2024-05-20T10:12:39.147Z"
   },
   {
    "duration": 203,
    "start_time": "2024-05-20T10:13:04.293Z"
   },
   {
    "duration": 519,
    "start_time": "2024-05-20T10:13:30.880Z"
   },
   {
    "duration": 180,
    "start_time": "2024-05-20T10:14:04.652Z"
   },
   {
    "duration": 27,
    "start_time": "2024-05-20T10:15:18.714Z"
   },
   {
    "duration": 248,
    "start_time": "2024-05-20T10:15:35.808Z"
   },
   {
    "duration": 199,
    "start_time": "2024-05-20T10:18:35.844Z"
   },
   {
    "duration": 204,
    "start_time": "2024-05-20T10:26:36.128Z"
   },
   {
    "duration": 199,
    "start_time": "2024-05-20T10:28:59.262Z"
   },
   {
    "duration": 280,
    "start_time": "2024-05-20T10:31:03.771Z"
   },
   {
    "duration": 309,
    "start_time": "2024-05-20T10:31:18.935Z"
   },
   {
    "duration": 310,
    "start_time": "2024-05-20T10:32:22.435Z"
   },
   {
    "duration": 378,
    "start_time": "2024-05-20T10:37:33.781Z"
   },
   {
    "duration": 293,
    "start_time": "2024-05-20T10:38:50.832Z"
   },
   {
    "duration": 390,
    "start_time": "2024-05-20T10:40:10.047Z"
   },
   {
    "duration": 382,
    "start_time": "2024-05-20T10:40:31.699Z"
   },
   {
    "duration": 297,
    "start_time": "2024-05-20T10:41:22.390Z"
   },
   {
    "duration": 367,
    "start_time": "2024-05-20T10:45:11.663Z"
   },
   {
    "duration": 23,
    "start_time": "2024-05-20T10:46:10.511Z"
   },
   {
    "duration": 189,
    "start_time": "2024-05-20T10:47:13.300Z"
   },
   {
    "duration": 135,
    "start_time": "2024-05-20T10:49:11.845Z"
   },
   {
    "duration": 323,
    "start_time": "2024-05-20T10:49:35.550Z"
   },
   {
    "duration": 316,
    "start_time": "2024-05-20T10:51:11.007Z"
   },
   {
    "duration": 342,
    "start_time": "2024-05-20T10:52:21.980Z"
   },
   {
    "duration": 369,
    "start_time": "2024-05-20T10:55:13.266Z"
   },
   {
    "duration": 362,
    "start_time": "2024-05-20T10:56:46.253Z"
   },
   {
    "duration": 303,
    "start_time": "2024-05-20T10:57:30.943Z"
   },
   {
    "duration": 380,
    "start_time": "2024-05-20T10:57:42.851Z"
   },
   {
    "duration": 19,
    "start_time": "2024-05-20T11:00:17.493Z"
   },
   {
    "duration": 197,
    "start_time": "2024-05-20T11:01:11.205Z"
   },
   {
    "duration": 19,
    "start_time": "2024-05-20T11:01:48.576Z"
   },
   {
    "duration": 375,
    "start_time": "2024-05-20T11:02:35.918Z"
   },
   {
    "duration": 5342,
    "start_time": "2024-05-20T22:03:12.118Z"
   },
   {
    "duration": 385,
    "start_time": "2024-05-20T22:03:17.464Z"
   },
   {
    "duration": 16,
    "start_time": "2024-05-20T22:03:17.852Z"
   },
   {
    "duration": 23,
    "start_time": "2024-05-20T22:03:17.871Z"
   },
   {
    "duration": 11,
    "start_time": "2024-05-20T22:03:17.900Z"
   },
   {
    "duration": 16,
    "start_time": "2024-05-20T22:03:17.913Z"
   },
   {
    "duration": 16,
    "start_time": "2024-05-20T22:03:17.933Z"
   },
   {
    "duration": 6,
    "start_time": "2024-05-20T22:03:17.952Z"
   },
   {
    "duration": 74,
    "start_time": "2024-05-20T22:03:17.962Z"
   },
   {
    "duration": 32,
    "start_time": "2024-05-20T22:03:18.040Z"
   },
   {
    "duration": 39,
    "start_time": "2024-05-20T22:03:18.076Z"
   },
   {
    "duration": 12,
    "start_time": "2024-05-20T22:03:18.118Z"
   },
   {
    "duration": 490,
    "start_time": "2024-05-20T22:03:18.133Z"
   },
   {
    "duration": 26,
    "start_time": "2024-05-20T22:03:18.630Z"
   },
   {
    "duration": 14,
    "start_time": "2024-05-20T22:03:18.658Z"
   },
   {
    "duration": 8,
    "start_time": "2024-05-20T22:03:18.675Z"
   },
   {
    "duration": 342,
    "start_time": "2024-05-20T22:03:18.689Z"
   },
   {
    "duration": 23,
    "start_time": "2024-05-20T22:03:19.034Z"
   },
   {
    "duration": 15,
    "start_time": "2024-05-20T22:03:19.061Z"
   },
   {
    "duration": 10,
    "start_time": "2024-05-20T22:03:19.108Z"
   },
   {
    "duration": 379,
    "start_time": "2024-05-20T22:03:19.121Z"
   },
   {
    "duration": 13,
    "start_time": "2024-05-20T22:03:19.508Z"
   },
   {
    "duration": 42,
    "start_time": "2024-05-20T22:03:19.524Z"
   },
   {
    "duration": 64,
    "start_time": "2024-05-20T22:03:19.569Z"
   },
   {
    "duration": 32,
    "start_time": "2024-05-20T22:03:19.636Z"
   },
   {
    "duration": 65,
    "start_time": "2024-05-20T22:03:19.671Z"
   },
   {
    "duration": 47,
    "start_time": "2024-05-20T22:03:19.739Z"
   },
   {
    "duration": 77,
    "start_time": "2024-05-20T22:03:19.809Z"
   },
   {
    "duration": 106,
    "start_time": "2024-05-20T22:03:19.889Z"
   },
   {
    "duration": 397,
    "start_time": "2024-05-20T22:03:20.011Z"
   },
   {
    "duration": 420,
    "start_time": "2024-05-20T22:03:33.262Z"
   },
   {
    "duration": 390,
    "start_time": "2024-05-20T22:03:46.969Z"
   },
   {
    "duration": 6,
    "start_time": "2024-05-20T22:05:04.523Z"
   },
   {
    "duration": 349,
    "start_time": "2024-05-20T22:05:04.533Z"
   },
   {
    "duration": 15,
    "start_time": "2024-05-20T22:05:04.884Z"
   },
   {
    "duration": 18,
    "start_time": "2024-05-20T22:05:04.912Z"
   },
   {
    "duration": 6,
    "start_time": "2024-05-20T22:05:04.935Z"
   },
   {
    "duration": 15,
    "start_time": "2024-05-20T22:05:04.944Z"
   },
   {
    "duration": 50,
    "start_time": "2024-05-20T22:05:04.962Z"
   },
   {
    "duration": 5,
    "start_time": "2024-05-20T22:05:05.015Z"
   },
   {
    "duration": 24,
    "start_time": "2024-05-20T22:05:05.024Z"
   },
   {
    "duration": 65,
    "start_time": "2024-05-20T22:05:05.050Z"
   },
   {
    "duration": 11,
    "start_time": "2024-05-20T22:05:05.120Z"
   },
   {
    "duration": 11,
    "start_time": "2024-05-20T22:05:05.134Z"
   },
   {
    "duration": 540,
    "start_time": "2024-05-20T22:05:05.150Z"
   },
   {
    "duration": 24,
    "start_time": "2024-05-20T22:05:05.697Z"
   },
   {
    "duration": 11,
    "start_time": "2024-05-20T22:05:05.724Z"
   },
   {
    "duration": 6,
    "start_time": "2024-05-20T22:05:05.740Z"
   },
   {
    "duration": 352,
    "start_time": "2024-05-20T22:05:05.750Z"
   },
   {
    "duration": 23,
    "start_time": "2024-05-20T22:05:06.108Z"
   },
   {
    "duration": 12,
    "start_time": "2024-05-20T22:05:06.134Z"
   },
   {
    "duration": 9,
    "start_time": "2024-05-20T22:05:06.149Z"
   },
   {
    "duration": 428,
    "start_time": "2024-05-20T22:05:06.161Z"
   },
   {
    "duration": 18,
    "start_time": "2024-05-20T22:05:06.592Z"
   },
   {
    "duration": 54,
    "start_time": "2024-05-20T22:05:06.613Z"
   },
   {
    "duration": 81,
    "start_time": "2024-05-20T22:05:06.670Z"
   },
   {
    "duration": 39,
    "start_time": "2024-05-20T22:05:06.754Z"
   },
   {
    "duration": 48,
    "start_time": "2024-05-20T22:05:06.795Z"
   },
   {
    "duration": 64,
    "start_time": "2024-05-20T22:05:06.846Z"
   },
   {
    "duration": 50,
    "start_time": "2024-05-20T22:05:06.913Z"
   },
   {
    "duration": 95,
    "start_time": "2024-05-20T22:05:06.967Z"
   },
   {
    "duration": 329,
    "start_time": "2024-05-20T22:05:07.065Z"
   },
   {
    "duration": 462,
    "start_time": "2024-05-20T22:05:07.397Z"
   },
   {
    "duration": 20,
    "start_time": "2024-05-20T22:05:07.862Z"
   },
   {
    "duration": 226,
    "start_time": "2024-05-20T22:05:07.885Z"
   },
   {
    "duration": 298,
    "start_time": "2024-05-20T22:05:08.114Z"
   },
   {
    "duration": 447,
    "start_time": "2024-05-20T22:05:08.415Z"
   },
   {
    "duration": 19,
    "start_time": "2024-05-20T22:05:08.865Z"
   },
   {
    "duration": 216,
    "start_time": "2024-05-20T22:05:08.887Z"
   },
   {
    "duration": 328,
    "start_time": "2024-05-20T22:05:09.109Z"
   },
   {
    "duration": 389,
    "start_time": "2024-05-20T22:05:09.441Z"
   },
   {
    "duration": 22,
    "start_time": "2024-05-20T22:05:09.834Z"
   },
   {
    "duration": 238,
    "start_time": "2024-05-20T22:05:09.866Z"
   },
   {
    "duration": 431,
    "start_time": "2024-05-20T22:05:10.110Z"
   },
   {
    "duration": 393,
    "start_time": "2024-05-20T22:05:10.544Z"
   },
   {
    "duration": 24,
    "start_time": "2024-05-20T22:05:10.940Z"
   },
   {
    "duration": 250,
    "start_time": "2024-05-20T22:05:10.968Z"
   },
   {
    "duration": 14,
    "start_time": "2024-05-20T23:06:14.107Z"
   },
   {
    "duration": 5083,
    "start_time": "2024-05-20T23:06:32.842Z"
   },
   {
    "duration": 350,
    "start_time": "2024-05-20T23:06:37.928Z"
   },
   {
    "duration": 17,
    "start_time": "2024-05-20T23:06:38.280Z"
   },
   {
    "duration": 33,
    "start_time": "2024-05-20T23:06:38.301Z"
   },
   {
    "duration": 7,
    "start_time": "2024-05-20T23:06:38.337Z"
   },
   {
    "duration": 14,
    "start_time": "2024-05-20T23:06:38.347Z"
   },
   {
    "duration": 14,
    "start_time": "2024-05-20T23:06:38.364Z"
   },
   {
    "duration": 48,
    "start_time": "2024-05-20T23:06:38.382Z"
   },
   {
    "duration": 25,
    "start_time": "2024-05-20T23:06:38.434Z"
   },
   {
    "duration": 25,
    "start_time": "2024-05-20T23:06:38.465Z"
   },
   {
    "duration": 45,
    "start_time": "2024-05-20T23:06:38.493Z"
   },
   {
    "duration": 11,
    "start_time": "2024-05-20T23:06:38.541Z"
   },
   {
    "duration": 541,
    "start_time": "2024-05-20T23:06:38.556Z"
   },
   {
    "duration": 30,
    "start_time": "2024-05-20T23:06:39.100Z"
   },
   {
    "duration": 10,
    "start_time": "2024-05-20T23:06:39.134Z"
   },
   {
    "duration": 8,
    "start_time": "2024-05-20T23:06:39.147Z"
   },
   {
    "duration": 255,
    "start_time": "2024-05-20T23:06:39.159Z"
   },
   {
    "duration": 26,
    "start_time": "2024-05-20T23:06:39.417Z"
   },
   {
    "duration": 11,
    "start_time": "2024-05-20T23:06:39.447Z"
   },
   {
    "duration": 8,
    "start_time": "2024-05-20T23:06:39.462Z"
   },
   {
    "duration": 396,
    "start_time": "2024-05-20T23:06:39.474Z"
   },
   {
    "duration": 13,
    "start_time": "2024-05-20T23:06:39.873Z"
   },
   {
    "duration": 62,
    "start_time": "2024-05-20T23:06:39.889Z"
   },
   {
    "duration": 42,
    "start_time": "2024-05-20T23:06:39.953Z"
   },
   {
    "duration": 50,
    "start_time": "2024-05-20T23:06:39.998Z"
   },
   {
    "duration": 40,
    "start_time": "2024-05-20T23:06:40.051Z"
   },
   {
    "duration": 79,
    "start_time": "2024-05-20T23:06:40.095Z"
   },
   {
    "duration": 64,
    "start_time": "2024-05-20T23:06:40.182Z"
   },
   {
    "duration": 83,
    "start_time": "2024-05-20T23:06:40.249Z"
   },
   {
    "duration": 403,
    "start_time": "2024-05-20T23:06:40.335Z"
   },
   {
    "duration": 8,
    "start_time": "2024-05-20T23:06:45.216Z"
   },
   {
    "duration": 7,
    "start_time": "2024-05-20T23:06:51.707Z"
   },
   {
    "duration": 383,
    "start_time": "2024-05-20T23:07:02.799Z"
   },
   {
    "duration": 45,
    "start_time": "2024-05-20T23:35:06.777Z"
   },
   {
    "duration": 82,
    "start_time": "2024-05-20T23:35:39.118Z"
   },
   {
    "duration": 102,
    "start_time": "2024-05-20T23:36:01.633Z"
   },
   {
    "duration": 53,
    "start_time": "2024-05-20T23:36:15.850Z"
   },
   {
    "duration": 73,
    "start_time": "2024-05-20T23:49:06.081Z"
   },
   {
    "duration": 410,
    "start_time": "2024-05-20T23:54:08.777Z"
   },
   {
    "duration": 10,
    "start_time": "2024-05-20T23:54:28.513Z"
   },
   {
    "duration": 10,
    "start_time": "2024-05-20T23:55:10.511Z"
   },
   {
    "duration": 5,
    "start_time": "2024-05-20T23:59:22.227Z"
   },
   {
    "duration": 364,
    "start_time": "2024-05-20T23:59:23.151Z"
   },
   {
    "duration": 19,
    "start_time": "2024-05-20T23:59:23.519Z"
   },
   {
    "duration": 15,
    "start_time": "2024-05-20T23:59:23.542Z"
   },
   {
    "duration": 5,
    "start_time": "2024-05-21T00:00:11.371Z"
   },
   {
    "duration": 15,
    "start_time": "2024-05-21T00:00:11.381Z"
   },
   {
    "duration": 13,
    "start_time": "2024-05-21T00:00:11.399Z"
   },
   {
    "duration": 4,
    "start_time": "2024-05-21T00:00:54.799Z"
   },
   {
    "duration": 28,
    "start_time": "2024-05-21T00:00:54.808Z"
   },
   {
    "duration": 33,
    "start_time": "2024-05-21T00:00:54.839Z"
   },
   {
    "duration": 12,
    "start_time": "2024-05-21T00:00:54.876Z"
   },
   {
    "duration": 10,
    "start_time": "2024-05-21T00:00:54.945Z"
   },
   {
    "duration": 656,
    "start_time": "2024-05-21T00:00:54.959Z"
   },
   {
    "duration": 28,
    "start_time": "2024-05-21T00:00:55.618Z"
   },
   {
    "duration": 10,
    "start_time": "2024-05-21T00:00:55.649Z"
   },
   {
    "duration": 8,
    "start_time": "2024-05-21T00:00:55.664Z"
   },
   {
    "duration": 302,
    "start_time": "2024-05-21T00:00:55.676Z"
   },
   {
    "duration": 25,
    "start_time": "2024-05-21T00:00:55.981Z"
   },
   {
    "duration": 31,
    "start_time": "2024-05-21T00:00:56.009Z"
   },
   {
    "duration": 11,
    "start_time": "2024-05-21T00:00:56.043Z"
   },
   {
    "duration": 505,
    "start_time": "2024-05-21T00:00:56.057Z"
   },
   {
    "duration": 12,
    "start_time": "2024-05-21T00:00:56.565Z"
   },
   {
    "duration": 74,
    "start_time": "2024-05-21T00:00:56.580Z"
   },
   {
    "duration": 55,
    "start_time": "2024-05-21T00:00:56.656Z"
   },
   {
    "duration": 35,
    "start_time": "2024-05-21T00:00:56.733Z"
   },
   {
    "duration": 59,
    "start_time": "2024-05-21T00:00:56.771Z"
   },
   {
    "duration": 45,
    "start_time": "2024-05-21T00:00:56.832Z"
   },
   {
    "duration": 74,
    "start_time": "2024-05-21T00:00:56.881Z"
   },
   {
    "duration": 78,
    "start_time": "2024-05-21T00:00:56.958Z"
   },
   {
    "duration": 346,
    "start_time": "2024-05-21T00:00:57.039Z"
   },
   {
    "duration": 443,
    "start_time": "2024-05-21T00:00:57.391Z"
   },
   {
    "duration": 22,
    "start_time": "2024-05-21T00:00:57.837Z"
   },
   {
    "duration": 246,
    "start_time": "2024-05-21T00:00:57.862Z"
   },
   {
    "duration": 310,
    "start_time": "2024-05-21T00:00:58.112Z"
   },
   {
    "duration": 394,
    "start_time": "2024-05-21T00:00:58.425Z"
   },
   {
    "duration": 19,
    "start_time": "2024-05-21T00:00:58.830Z"
   },
   {
    "duration": 210,
    "start_time": "2024-05-21T00:00:58.852Z"
   },
   {
    "duration": 329,
    "start_time": "2024-05-21T00:00:59.065Z"
   },
   {
    "duration": 393,
    "start_time": "2024-05-21T00:00:59.397Z"
   },
   {
    "duration": 18,
    "start_time": "2024-05-21T00:00:59.793Z"
   },
   {
    "duration": 222,
    "start_time": "2024-05-21T00:00:59.830Z"
   },
   {
    "duration": 326,
    "start_time": "2024-05-21T00:01:00.055Z"
   },
   {
    "duration": 414,
    "start_time": "2024-05-21T00:01:00.384Z"
   },
   {
    "duration": 32,
    "start_time": "2024-05-21T00:01:00.802Z"
   },
   {
    "duration": 323,
    "start_time": "2024-05-21T00:01:00.836Z"
   },
   {
    "duration": 24,
    "start_time": "2024-05-21T00:08:40.219Z"
   },
   {
    "duration": 6,
    "start_time": "2024-05-21T00:08:48.550Z"
   },
   {
    "duration": 13,
    "start_time": "2024-05-21T00:12:32.868Z"
   },
   {
    "duration": 70,
    "start_time": "2024-05-21T00:14:00.114Z"
   },
   {
    "duration": 314,
    "start_time": "2024-05-21T00:14:07.900Z"
   },
   {
    "duration": 424,
    "start_time": "2024-05-21T00:14:09.874Z"
   },
   {
    "duration": 369,
    "start_time": "2024-05-21T00:14:43.736Z"
   },
   {
    "duration": 21,
    "start_time": "2024-05-21T00:15:01.722Z"
   },
   {
    "duration": 204,
    "start_time": "2024-05-21T00:15:02.102Z"
   },
   {
    "duration": 337,
    "start_time": "2024-05-21T00:15:11.772Z"
   },
   {
    "duration": 410,
    "start_time": "2024-05-21T00:15:12.851Z"
   },
   {
    "duration": 18,
    "start_time": "2024-05-21T00:15:25.306Z"
   },
   {
    "duration": 218,
    "start_time": "2024-05-21T00:15:26.137Z"
   },
   {
    "duration": 303,
    "start_time": "2024-05-21T00:15:39.420Z"
   },
   {
    "duration": 489,
    "start_time": "2024-05-21T00:15:45.112Z"
   },
   {
    "duration": 23,
    "start_time": "2024-05-21T00:15:45.801Z"
   },
   {
    "duration": 203,
    "start_time": "2024-05-21T00:15:54.721Z"
   },
   {
    "duration": 315,
    "start_time": "2024-05-21T00:16:00.621Z"
   },
   {
    "duration": 377,
    "start_time": "2024-05-21T00:16:05.669Z"
   },
   {
    "duration": 19,
    "start_time": "2024-05-21T00:16:06.417Z"
   },
   {
    "duration": 204,
    "start_time": "2024-05-21T00:16:06.989Z"
   },
   {
    "duration": 11,
    "start_time": "2024-05-21T00:16:31.372Z"
   },
   {
    "duration": 13,
    "start_time": "2024-05-21T00:37:57.264Z"
   },
   {
    "duration": 51,
    "start_time": "2024-05-21T00:38:10.097Z"
   },
   {
    "duration": 34,
    "start_time": "2024-05-21T00:38:33.532Z"
   },
   {
    "duration": 25,
    "start_time": "2024-05-21T00:38:39.988Z"
   },
   {
    "duration": 31,
    "start_time": "2024-05-21T00:38:55.244Z"
   },
   {
    "duration": 40,
    "start_time": "2024-05-21T00:39:19.184Z"
   },
   {
    "duration": 8,
    "start_time": "2024-05-21T00:49:28.662Z"
   },
   {
    "duration": 8,
    "start_time": "2024-05-21T00:49:31.847Z"
   },
   {
    "duration": 7,
    "start_time": "2024-05-21T00:49:47.129Z"
   },
   {
    "duration": 9,
    "start_time": "2024-05-21T00:51:14.446Z"
   },
   {
    "duration": 14,
    "start_time": "2024-05-21T00:57:40.214Z"
   },
   {
    "duration": 10,
    "start_time": "2024-05-21T01:02:41.149Z"
   },
   {
    "duration": 11,
    "start_time": "2024-05-21T01:03:50.825Z"
   },
   {
    "duration": 11,
    "start_time": "2024-05-21T01:03:57.113Z"
   },
   {
    "duration": 25,
    "start_time": "2024-05-21T01:08:45.725Z"
   },
   {
    "duration": 24,
    "start_time": "2024-05-21T01:09:00.941Z"
   },
   {
    "duration": 25,
    "start_time": "2024-05-21T01:09:07.129Z"
   },
   {
    "duration": 40,
    "start_time": "2024-05-21T01:09:16.593Z"
   },
   {
    "duration": 10,
    "start_time": "2024-05-21T01:16:23.381Z"
   },
   {
    "duration": 11,
    "start_time": "2024-05-21T01:16:54.742Z"
   },
   {
    "duration": 772,
    "start_time": "2024-05-21T01:19:34.716Z"
   },
   {
    "duration": 75,
    "start_time": "2024-05-21T01:19:50.369Z"
   },
   {
    "duration": 72,
    "start_time": "2024-05-21T01:29:31.811Z"
   },
   {
    "duration": 73,
    "start_time": "2024-05-21T01:29:39.654Z"
   },
   {
    "duration": 78,
    "start_time": "2024-05-21T01:29:49.739Z"
   },
   {
    "duration": 5,
    "start_time": "2024-05-21T01:29:58.480Z"
   },
   {
    "duration": 341,
    "start_time": "2024-05-21T01:29:58.490Z"
   },
   {
    "duration": 15,
    "start_time": "2024-05-21T01:29:58.834Z"
   },
   {
    "duration": 12,
    "start_time": "2024-05-21T01:29:58.853Z"
   },
   {
    "duration": 6,
    "start_time": "2024-05-21T01:29:58.870Z"
   },
   {
    "duration": 50,
    "start_time": "2024-05-21T01:29:58.880Z"
   },
   {
    "duration": 14,
    "start_time": "2024-05-21T01:29:58.933Z"
   },
   {
    "duration": 4,
    "start_time": "2024-05-21T01:29:58.951Z"
   },
   {
    "duration": 24,
    "start_time": "2024-05-21T01:30:24.689Z"
   },
   {
    "duration": 4,
    "start_time": "2024-05-21T01:30:37.330Z"
   },
   {
    "duration": 326,
    "start_time": "2024-05-21T01:30:37.339Z"
   },
   {
    "duration": 18,
    "start_time": "2024-05-21T01:30:37.668Z"
   },
   {
    "duration": 13,
    "start_time": "2024-05-21T01:30:37.689Z"
   },
   {
    "duration": 6,
    "start_time": "2024-05-21T01:30:37.731Z"
   },
   {
    "duration": 16,
    "start_time": "2024-05-21T01:30:37.740Z"
   },
   {
    "duration": 14,
    "start_time": "2024-05-21T01:30:37.760Z"
   },
   {
    "duration": 5,
    "start_time": "2024-05-21T01:30:37.777Z"
   },
   {
    "duration": 69,
    "start_time": "2024-05-21T01:30:37.785Z"
   },
   {
    "duration": 28,
    "start_time": "2024-05-21T01:30:37.857Z"
   },
   {
    "duration": 42,
    "start_time": "2024-05-21T01:30:37.889Z"
   },
   {
    "duration": 10,
    "start_time": "2024-05-21T01:30:37.934Z"
   },
   {
    "duration": 742,
    "start_time": "2024-05-21T01:30:37.951Z"
   },
   {
    "duration": 36,
    "start_time": "2024-05-21T01:30:38.697Z"
   },
   {
    "duration": 12,
    "start_time": "2024-05-21T01:30:38.737Z"
   },
   {
    "duration": 10,
    "start_time": "2024-05-21T01:30:38.753Z"
   },
   {
    "duration": 293,
    "start_time": "2024-05-21T01:30:38.767Z"
   },
   {
    "duration": 29,
    "start_time": "2024-05-21T01:30:39.063Z"
   },
   {
    "duration": 36,
    "start_time": "2024-05-21T01:30:39.094Z"
   },
   {
    "duration": 10,
    "start_time": "2024-05-21T01:30:39.134Z"
   },
   {
    "duration": 459,
    "start_time": "2024-05-21T01:30:39.147Z"
   },
   {
    "duration": 13,
    "start_time": "2024-05-21T01:30:39.608Z"
   },
   {
    "duration": 60,
    "start_time": "2024-05-21T01:30:39.633Z"
   },
   {
    "duration": 83,
    "start_time": "2024-05-21T01:30:39.697Z"
   },
   {
    "duration": 50,
    "start_time": "2024-05-21T01:30:39.783Z"
   },
   {
    "duration": 42,
    "start_time": "2024-05-21T01:30:39.836Z"
   },
   {
    "duration": 68,
    "start_time": "2024-05-21T01:30:39.882Z"
   },
   {
    "duration": 52,
    "start_time": "2024-05-21T01:30:39.954Z"
   },
   {
    "duration": 73,
    "start_time": "2024-05-21T01:30:40.031Z"
   },
   {
    "duration": 483,
    "start_time": "2024-05-21T01:30:40.108Z"
   },
   {
    "duration": 399,
    "start_time": "2024-05-21T01:30:40.594Z"
   },
   {
    "duration": 35,
    "start_time": "2024-05-21T01:30:40.998Z"
   },
   {
    "duration": 223,
    "start_time": "2024-05-21T01:30:41.039Z"
   },
   {
    "duration": 322,
    "start_time": "2024-05-21T01:30:41.266Z"
   },
   {
    "duration": 428,
    "start_time": "2024-05-21T01:30:41.591Z"
   },
   {
    "duration": 25,
    "start_time": "2024-05-21T01:30:42.030Z"
   },
   {
    "duration": 239,
    "start_time": "2024-05-21T01:30:42.065Z"
   },
   {
    "duration": 326,
    "start_time": "2024-05-21T01:30:42.308Z"
   },
   {
    "duration": 403,
    "start_time": "2024-05-21T01:30:42.637Z"
   },
   {
    "duration": 19,
    "start_time": "2024-05-21T01:30:43.045Z"
   },
   {
    "duration": 234,
    "start_time": "2024-05-21T01:30:43.067Z"
   },
   {
    "duration": 342,
    "start_time": "2024-05-21T01:30:43.305Z"
   },
   {
    "duration": 385,
    "start_time": "2024-05-21T01:30:43.651Z"
   },
   {
    "duration": 20,
    "start_time": "2024-05-21T01:30:44.039Z"
   },
   {
    "duration": 223,
    "start_time": "2024-05-21T01:30:44.062Z"
   },
   {
    "duration": 11,
    "start_time": "2024-05-21T01:30:44.290Z"
   },
   {
    "duration": 11,
    "start_time": "2024-05-21T01:30:51.383Z"
   },
   {
    "duration": 11,
    "start_time": "2024-05-21T01:31:06.985Z"
   },
   {
    "duration": 6,
    "start_time": "2024-05-21T01:33:00.070Z"
   },
   {
    "duration": 27,
    "start_time": "2024-05-21T01:33:15.952Z"
   },
   {
    "duration": 5,
    "start_time": "2024-05-21T01:33:28.856Z"
   },
   {
    "duration": 6,
    "start_time": "2024-05-21T01:34:21.286Z"
   },
   {
    "duration": 6,
    "start_time": "2024-05-21T01:34:37.407Z"
   },
   {
    "duration": 7,
    "start_time": "2024-05-21T01:34:47.302Z"
   },
   {
    "duration": 8,
    "start_time": "2024-05-21T01:34:53.035Z"
   },
   {
    "duration": 7,
    "start_time": "2024-05-21T01:35:01.495Z"
   },
   {
    "duration": 57,
    "start_time": "2024-05-21T01:35:25.365Z"
   },
   {
    "duration": 60,
    "start_time": "2024-05-21T01:36:20.936Z"
   },
   {
    "duration": 5,
    "start_time": "2024-05-21T01:37:33.188Z"
   },
   {
    "duration": 7,
    "start_time": "2024-05-21T01:37:37.572Z"
   },
   {
    "duration": 6,
    "start_time": "2024-05-21T01:37:48.901Z"
   },
   {
    "duration": 15,
    "start_time": "2024-05-21T01:38:02.029Z"
   },
   {
    "duration": 7,
    "start_time": "2024-05-21T01:39:23.543Z"
   },
   {
    "duration": 8,
    "start_time": "2024-05-21T01:40:35.694Z"
   },
   {
    "duration": 57,
    "start_time": "2024-05-21T01:46:30.296Z"
   },
   {
    "duration": 68,
    "start_time": "2024-05-21T01:51:20.920Z"
   },
   {
    "duration": 5,
    "start_time": "2024-05-21T01:51:41.895Z"
   },
   {
    "duration": 343,
    "start_time": "2024-05-21T01:51:41.904Z"
   },
   {
    "duration": 15,
    "start_time": "2024-05-21T01:51:42.249Z"
   },
   {
    "duration": 14,
    "start_time": "2024-05-21T01:51:42.268Z"
   },
   {
    "duration": 6,
    "start_time": "2024-05-21T01:51:42.285Z"
   },
   {
    "duration": 50,
    "start_time": "2024-05-21T01:51:42.297Z"
   },
   {
    "duration": 16,
    "start_time": "2024-05-21T01:51:42.350Z"
   },
   {
    "duration": 8,
    "start_time": "2024-05-21T01:51:42.370Z"
   },
   {
    "duration": 632,
    "start_time": "2024-05-21T01:51:44.219Z"
   },
   {
    "duration": 63,
    "start_time": "2024-05-21T01:53:03.705Z"
   },
   {
    "duration": 21,
    "start_time": "2024-05-21T02:06:12.298Z"
   },
   {
    "duration": 5,
    "start_time": "2024-05-21T02:06:29.326Z"
   },
   {
    "duration": 316,
    "start_time": "2024-05-21T02:06:29.337Z"
   },
   {
    "duration": 15,
    "start_time": "2024-05-21T02:06:29.655Z"
   },
   {
    "duration": 15,
    "start_time": "2024-05-21T02:06:29.674Z"
   },
   {
    "duration": 6,
    "start_time": "2024-05-21T02:06:29.695Z"
   },
   {
    "duration": 16,
    "start_time": "2024-05-21T02:06:29.732Z"
   },
   {
    "duration": 16,
    "start_time": "2024-05-21T02:06:29.751Z"
   },
   {
    "duration": 7,
    "start_time": "2024-05-21T02:06:29.770Z"
   },
   {
    "duration": 65,
    "start_time": "2024-05-21T02:06:29.781Z"
   },
   {
    "duration": 29,
    "start_time": "2024-05-21T02:06:29.849Z"
   },
   {
    "duration": 12,
    "start_time": "2024-05-21T02:06:29.880Z"
   },
   {
    "duration": 42,
    "start_time": "2024-05-21T02:06:29.895Z"
   },
   {
    "duration": 602,
    "start_time": "2024-05-21T02:06:29.939Z"
   },
   {
    "duration": 23,
    "start_time": "2024-05-21T02:06:30.549Z"
   },
   {
    "duration": 11,
    "start_time": "2024-05-21T02:06:30.575Z"
   },
   {
    "duration": 41,
    "start_time": "2024-05-21T02:06:30.589Z"
   },
   {
    "duration": 399,
    "start_time": "2024-05-21T02:06:30.633Z"
   },
   {
    "duration": 27,
    "start_time": "2024-05-21T02:06:31.034Z"
   },
   {
    "duration": 12,
    "start_time": "2024-05-21T02:06:31.064Z"
   },
   {
    "duration": 9,
    "start_time": "2024-05-21T02:06:31.079Z"
   },
   {
    "duration": 493,
    "start_time": "2024-05-21T02:06:31.091Z"
   },
   {
    "duration": 12,
    "start_time": "2024-05-21T02:06:31.587Z"
   },
   {
    "duration": 80,
    "start_time": "2024-05-21T02:06:31.603Z"
   },
   {
    "duration": 79,
    "start_time": "2024-05-21T02:06:31.686Z"
   },
   {
    "duration": 40,
    "start_time": "2024-05-21T02:06:31.767Z"
   },
   {
    "duration": 51,
    "start_time": "2024-05-21T02:06:31.810Z"
   },
   {
    "duration": 66,
    "start_time": "2024-05-21T02:06:31.864Z"
   },
   {
    "duration": 55,
    "start_time": "2024-05-21T02:06:31.933Z"
   },
   {
    "duration": 103,
    "start_time": "2024-05-21T02:06:31.991Z"
   },
   {
    "duration": 343,
    "start_time": "2024-05-21T02:06:32.100Z"
   },
   {
    "duration": 400,
    "start_time": "2024-05-21T02:06:32.446Z"
   },
   {
    "duration": 19,
    "start_time": "2024-05-21T02:06:32.849Z"
   },
   {
    "duration": 232,
    "start_time": "2024-05-21T02:06:32.875Z"
   },
   {
    "duration": 471,
    "start_time": "2024-05-21T02:06:33.110Z"
   },
   {
    "duration": 407,
    "start_time": "2024-05-21T02:06:33.584Z"
   },
   {
    "duration": 20,
    "start_time": "2024-05-21T02:06:33.995Z"
   },
   {
    "duration": 207,
    "start_time": "2024-05-21T02:06:34.032Z"
   },
   {
    "duration": 333,
    "start_time": "2024-05-21T02:06:34.242Z"
   },
   {
    "duration": 392,
    "start_time": "2024-05-21T02:06:34.579Z"
   },
   {
    "duration": 18,
    "start_time": "2024-05-21T02:06:34.974Z"
   },
   {
    "duration": 235,
    "start_time": "2024-05-21T02:06:35.001Z"
   },
   {
    "duration": 332,
    "start_time": "2024-05-21T02:06:35.240Z"
   },
   {
    "duration": 398,
    "start_time": "2024-05-21T02:06:35.575Z"
   },
   {
    "duration": 19,
    "start_time": "2024-05-21T02:06:35.976Z"
   },
   {
    "duration": 216,
    "start_time": "2024-05-21T02:06:35.998Z"
   },
   {
    "duration": 18,
    "start_time": "2024-05-21T02:06:36.217Z"
   },
   {
    "duration": 13,
    "start_time": "2024-05-21T02:06:45.714Z"
   },
   {
    "duration": 11,
    "start_time": "2024-05-21T02:06:57.690Z"
   },
   {
    "duration": 11,
    "start_time": "2024-05-21T02:07:28.863Z"
   },
   {
    "duration": 4,
    "start_time": "2024-05-21T02:19:14.735Z"
   },
   {
    "duration": 375,
    "start_time": "2024-05-21T02:19:14.744Z"
   },
   {
    "duration": 24,
    "start_time": "2024-05-21T02:19:15.122Z"
   },
   {
    "duration": 14,
    "start_time": "2024-05-21T02:19:15.149Z"
   },
   {
    "duration": 5,
    "start_time": "2024-05-21T02:19:15.168Z"
   },
   {
    "duration": 15,
    "start_time": "2024-05-21T02:19:15.176Z"
   },
   {
    "duration": 14,
    "start_time": "2024-05-21T02:19:15.229Z"
   },
   {
    "duration": 6,
    "start_time": "2024-05-21T02:19:15.246Z"
   },
   {
    "duration": 25,
    "start_time": "2024-05-21T02:19:15.254Z"
   },
   {
    "duration": 63,
    "start_time": "2024-05-21T02:19:15.282Z"
   },
   {
    "duration": 11,
    "start_time": "2024-05-21T02:19:15.348Z"
   },
   {
    "duration": 12,
    "start_time": "2024-05-21T02:19:15.362Z"
   },
   {
    "duration": 854,
    "start_time": "2024-05-21T02:19:15.376Z"
   },
   {
    "duration": 22,
    "start_time": "2024-05-21T02:19:16.239Z"
   },
   {
    "duration": 12,
    "start_time": "2024-05-21T02:19:16.265Z"
   },
   {
    "duration": 8,
    "start_time": "2024-05-21T02:19:16.280Z"
   },
   {
    "duration": 308,
    "start_time": "2024-05-21T02:19:16.293Z"
   },
   {
    "duration": 33,
    "start_time": "2024-05-21T02:19:16.605Z"
   },
   {
    "duration": 11,
    "start_time": "2024-05-21T02:19:16.641Z"
   },
   {
    "duration": 9,
    "start_time": "2024-05-21T02:19:16.655Z"
   },
   {
    "duration": 512,
    "start_time": "2024-05-21T02:19:16.668Z"
   },
   {
    "duration": 13,
    "start_time": "2024-05-21T02:19:17.182Z"
   },
   {
    "duration": 73,
    "start_time": "2024-05-21T02:19:17.198Z"
   },
   {
    "duration": 75,
    "start_time": "2024-05-21T02:19:17.275Z"
   },
   {
    "duration": 44,
    "start_time": "2024-05-21T02:19:17.353Z"
   },
   {
    "duration": 55,
    "start_time": "2024-05-21T02:19:17.400Z"
   },
   {
    "duration": 43,
    "start_time": "2024-05-21T02:19:17.458Z"
   },
   {
    "duration": 51,
    "start_time": "2024-05-21T02:19:17.531Z"
   },
   {
    "duration": 88,
    "start_time": "2024-05-21T02:19:17.584Z"
   },
   {
    "duration": 327,
    "start_time": "2024-05-21T02:19:17.676Z"
   },
   {
    "duration": 389,
    "start_time": "2024-05-21T02:19:18.007Z"
   },
   {
    "duration": 31,
    "start_time": "2024-05-21T02:19:18.400Z"
   },
   {
    "duration": 234,
    "start_time": "2024-05-21T02:19:18.434Z"
   },
   {
    "duration": 301,
    "start_time": "2024-05-21T02:19:18.672Z"
   },
   {
    "duration": 425,
    "start_time": "2024-05-21T02:19:18.976Z"
   },
   {
    "duration": 31,
    "start_time": "2024-05-21T02:19:19.404Z"
   },
   {
    "duration": 214,
    "start_time": "2024-05-21T02:19:19.438Z"
   },
   {
    "duration": 319,
    "start_time": "2024-05-21T02:19:19.656Z"
   },
   {
    "duration": 387,
    "start_time": "2024-05-21T02:19:19.978Z"
   },
   {
    "duration": 20,
    "start_time": "2024-05-21T02:19:20.370Z"
   },
   {
    "duration": 231,
    "start_time": "2024-05-21T02:19:20.399Z"
   },
   {
    "duration": 350,
    "start_time": "2024-05-21T02:19:20.634Z"
   },
   {
    "duration": 569,
    "start_time": "2024-05-21T02:19:20.987Z"
   },
   {
    "duration": 20,
    "start_time": "2024-05-21T02:19:21.559Z"
   },
   {
    "duration": 234,
    "start_time": "2024-05-21T02:19:21.582Z"
   },
   {
    "duration": 16,
    "start_time": "2024-05-21T02:19:21.823Z"
   },
   {
    "duration": 13,
    "start_time": "2024-05-21T02:19:21.843Z"
   },
   {
    "duration": 8,
    "start_time": "2024-05-21T02:19:21.859Z"
   },
   {
    "duration": 304,
    "start_time": "2024-05-21T20:46:41.450Z"
   },
   {
    "duration": 5106,
    "start_time": "2024-05-21T20:46:48.064Z"
   },
   {
    "duration": 369,
    "start_time": "2024-05-21T20:46:53.175Z"
   },
   {
    "duration": 22,
    "start_time": "2024-05-21T20:46:57.945Z"
   },
   {
    "duration": 23,
    "start_time": "2024-05-21T20:47:25.814Z"
   },
   {
    "duration": 93,
    "start_time": "2024-05-21T20:47:42.836Z"
   },
   {
    "duration": 42,
    "start_time": "2024-05-21T20:47:53.710Z"
   },
   {
    "duration": 84,
    "start_time": "2024-05-21T20:48:04.866Z"
   },
   {
    "duration": 11,
    "start_time": "2024-05-21T20:49:35.269Z"
   },
   {
    "duration": 445,
    "start_time": "2024-05-21T20:50:02.444Z"
   },
   {
    "duration": 20,
    "start_time": "2024-05-21T20:53:17.872Z"
   },
   {
    "duration": 632,
    "start_time": "2024-05-21T20:53:22.124Z"
   },
   {
    "duration": 5,
    "start_time": "2024-05-21T20:53:31.984Z"
   },
   {
    "duration": 272,
    "start_time": "2024-05-21T20:53:31.992Z"
   },
   {
    "duration": 19,
    "start_time": "2024-05-21T20:53:32.267Z"
   },
   {
    "duration": 31,
    "start_time": "2024-05-21T20:53:32.289Z"
   },
   {
    "duration": 6,
    "start_time": "2024-05-21T20:53:32.324Z"
   },
   {
    "duration": 18,
    "start_time": "2024-05-21T20:53:32.334Z"
   },
   {
    "duration": 54,
    "start_time": "2024-05-21T20:53:32.355Z"
   },
   {
    "duration": 5,
    "start_time": "2024-05-21T20:53:32.412Z"
   },
   {
    "duration": 24,
    "start_time": "2024-05-21T20:53:35.406Z"
   },
   {
    "duration": 25,
    "start_time": "2024-05-21T21:11:15.424Z"
   },
   {
    "duration": 8,
    "start_time": "2024-05-21T21:11:57.352Z"
   },
   {
    "duration": 26,
    "start_time": "2024-05-21T21:12:01.744Z"
   },
   {
    "duration": 26,
    "start_time": "2024-05-21T21:12:21.270Z"
   },
   {
    "duration": 6,
    "start_time": "2024-05-21T21:12:26.954Z"
   },
   {
    "duration": 396,
    "start_time": "2024-05-21T21:12:26.966Z"
   },
   {
    "duration": 25,
    "start_time": "2024-05-21T21:12:27.367Z"
   },
   {
    "duration": 22,
    "start_time": "2024-05-21T21:12:27.395Z"
   },
   {
    "duration": 9,
    "start_time": "2024-05-21T21:12:27.422Z"
   },
   {
    "duration": 25,
    "start_time": "2024-05-21T21:12:27.437Z"
   },
   {
    "duration": 45,
    "start_time": "2024-05-21T21:12:27.465Z"
   },
   {
    "duration": 5,
    "start_time": "2024-05-21T21:12:27.514Z"
   },
   {
    "duration": 25,
    "start_time": "2024-05-21T21:12:27.524Z"
   },
   {
    "duration": 109,
    "start_time": "2024-05-21T21:12:27.553Z"
   },
   {
    "duration": 16,
    "start_time": "2024-05-21T21:12:27.666Z"
   },
   {
    "duration": 33,
    "start_time": "2024-05-21T21:12:27.685Z"
   },
   {
    "duration": 593,
    "start_time": "2024-05-21T21:12:27.721Z"
   },
   {
    "duration": 54,
    "start_time": "2024-05-21T21:12:28.323Z"
   },
   {
    "duration": 31,
    "start_time": "2024-05-21T21:12:28.381Z"
   },
   {
    "duration": 9,
    "start_time": "2024-05-21T21:12:28.416Z"
   },
   {
    "duration": 386,
    "start_time": "2024-05-21T21:12:28.429Z"
   },
   {
    "duration": 103,
    "start_time": "2024-05-21T21:12:28.821Z"
   },
   {
    "duration": 16,
    "start_time": "2024-05-21T21:12:28.928Z"
   },
   {
    "duration": 12,
    "start_time": "2024-05-21T21:12:28.948Z"
   },
   {
    "duration": 441,
    "start_time": "2024-05-21T21:12:28.963Z"
   },
   {
    "duration": 13,
    "start_time": "2024-05-21T21:12:29.406Z"
   },
   {
    "duration": 47,
    "start_time": "2024-05-21T21:12:29.423Z"
   },
   {
    "duration": 81,
    "start_time": "2024-05-21T21:12:29.472Z"
   },
   {
    "duration": 53,
    "start_time": "2024-05-21T21:12:29.556Z"
   },
   {
    "duration": 47,
    "start_time": "2024-05-21T21:12:29.614Z"
   },
   {
    "duration": 72,
    "start_time": "2024-05-21T21:12:29.664Z"
   },
   {
    "duration": 71,
    "start_time": "2024-05-21T21:12:29.739Z"
   },
   {
    "duration": 79,
    "start_time": "2024-05-21T21:12:29.814Z"
   },
   {
    "duration": 379,
    "start_time": "2024-05-21T21:12:29.909Z"
   },
   {
    "duration": 397,
    "start_time": "2024-05-21T21:12:30.292Z"
   },
   {
    "duration": 30,
    "start_time": "2024-05-21T21:12:30.693Z"
   },
   {
    "duration": 234,
    "start_time": "2024-05-21T21:12:30.730Z"
   },
   {
    "duration": 329,
    "start_time": "2024-05-21T21:12:30.967Z"
   },
   {
    "duration": 390,
    "start_time": "2024-05-21T21:12:31.301Z"
   },
   {
    "duration": 29,
    "start_time": "2024-05-21T21:12:31.694Z"
   },
   {
    "duration": 246,
    "start_time": "2024-05-21T21:12:31.726Z"
   },
   {
    "duration": 342,
    "start_time": "2024-05-21T21:12:31.975Z"
   },
   {
    "duration": 410,
    "start_time": "2024-05-21T21:12:32.320Z"
   },
   {
    "duration": 21,
    "start_time": "2024-05-21T21:12:32.733Z"
   },
   {
    "duration": 285,
    "start_time": "2024-05-21T21:12:32.763Z"
   },
   {
    "duration": 408,
    "start_time": "2024-05-21T21:12:33.051Z"
   },
   {
    "duration": 521,
    "start_time": "2024-05-21T21:12:33.462Z"
   },
   {
    "duration": 33,
    "start_time": "2024-05-21T21:12:33.987Z"
   },
   {
    "duration": 246,
    "start_time": "2024-05-21T21:12:34.024Z"
   },
   {
    "duration": 32,
    "start_time": "2024-05-21T21:12:37.828Z"
   },
   {
    "duration": 34,
    "start_time": "2024-05-21T21:12:56.793Z"
   },
   {
    "duration": 28,
    "start_time": "2024-05-21T21:14:19.690Z"
   },
   {
    "duration": 28,
    "start_time": "2024-05-21T21:14:24.771Z"
   },
   {
    "duration": 6,
    "start_time": "2024-05-21T21:16:31.085Z"
   },
   {
    "duration": 406,
    "start_time": "2024-05-21T21:16:31.097Z"
   },
   {
    "duration": 37,
    "start_time": "2024-05-21T21:16:31.505Z"
   },
   {
    "duration": 15,
    "start_time": "2024-05-21T21:16:31.545Z"
   },
   {
    "duration": 6,
    "start_time": "2024-05-21T21:16:31.565Z"
   },
   {
    "duration": 39,
    "start_time": "2024-05-21T21:16:31.574Z"
   },
   {
    "duration": 16,
    "start_time": "2024-05-21T21:16:31.616Z"
   },
   {
    "duration": 6,
    "start_time": "2024-05-21T21:16:31.636Z"
   },
   {
    "duration": 66,
    "start_time": "2024-05-21T21:16:31.645Z"
   },
   {
    "duration": 104,
    "start_time": "2024-05-21T21:16:31.715Z"
   },
   {
    "duration": 12,
    "start_time": "2024-05-21T21:16:31.822Z"
   },
   {
    "duration": 13,
    "start_time": "2024-05-21T21:16:31.838Z"
   },
   {
    "duration": 661,
    "start_time": "2024-05-21T21:16:31.854Z"
   },
   {
    "duration": 58,
    "start_time": "2024-05-21T21:16:32.525Z"
   },
   {
    "duration": 31,
    "start_time": "2024-05-21T21:16:32.587Z"
   },
   {
    "duration": 8,
    "start_time": "2024-05-21T21:16:32.621Z"
   },
   {
    "duration": 419,
    "start_time": "2024-05-21T21:16:32.633Z"
   },
   {
    "duration": 110,
    "start_time": "2024-05-21T21:16:33.055Z"
   },
   {
    "duration": 14,
    "start_time": "2024-05-21T21:16:33.168Z"
   },
   {
    "duration": 32,
    "start_time": "2024-05-21T21:16:33.185Z"
   },
   {
    "duration": 453,
    "start_time": "2024-05-21T21:16:33.221Z"
   },
   {
    "duration": 13,
    "start_time": "2024-05-21T21:16:33.676Z"
   },
   {
    "duration": 71,
    "start_time": "2024-05-21T21:16:33.693Z"
   },
   {
    "duration": 83,
    "start_time": "2024-05-21T21:16:33.767Z"
   },
   {
    "duration": 39,
    "start_time": "2024-05-21T21:16:33.853Z"
   },
   {
    "duration": 41,
    "start_time": "2024-05-21T21:16:33.908Z"
   },
   {
    "duration": 63,
    "start_time": "2024-05-21T21:16:33.952Z"
   },
   {
    "duration": 52,
    "start_time": "2024-05-21T21:16:34.018Z"
   },
   {
    "duration": 86,
    "start_time": "2024-05-21T21:16:34.073Z"
   },
   {
    "duration": 321,
    "start_time": "2024-05-21T21:16:34.163Z"
   },
   {
    "duration": 417,
    "start_time": "2024-05-21T21:16:34.487Z"
   },
   {
    "duration": 24,
    "start_time": "2024-05-21T21:16:34.911Z"
   },
   {
    "duration": 237,
    "start_time": "2024-05-21T21:16:34.938Z"
   },
   {
    "duration": 312,
    "start_time": "2024-05-21T21:16:35.178Z"
   },
   {
    "duration": 535,
    "start_time": "2024-05-21T21:16:35.493Z"
   },
   {
    "duration": 22,
    "start_time": "2024-05-21T21:16:36.031Z"
   },
   {
    "duration": 227,
    "start_time": "2024-05-21T21:16:36.056Z"
   },
   {
    "duration": 312,
    "start_time": "2024-05-21T21:16:36.285Z"
   },
   {
    "duration": 404,
    "start_time": "2024-05-21T21:16:36.600Z"
   },
   {
    "duration": 21,
    "start_time": "2024-05-21T21:16:37.009Z"
   },
   {
    "duration": 232,
    "start_time": "2024-05-21T21:16:37.038Z"
   },
   {
    "duration": 349,
    "start_time": "2024-05-21T21:16:37.273Z"
   },
   {
    "duration": 384,
    "start_time": "2024-05-21T21:16:37.625Z"
   },
   {
    "duration": 22,
    "start_time": "2024-05-21T21:16:38.012Z"
   },
   {
    "duration": 219,
    "start_time": "2024-05-21T21:16:38.038Z"
   },
   {
    "duration": 11,
    "start_time": "2024-05-21T21:16:40.261Z"
   },
   {
    "duration": 11,
    "start_time": "2024-05-21T21:32:13.520Z"
   }
  ],
  "colab": {
   "provenance": []
  },
  "kernelspec": {
   "display_name": "Python 3 (ipykernel)",
   "language": "python",
   "name": "python3"
  },
  "language_info": {
   "codemirror_mode": {
    "name": "ipython",
    "version": 3
   },
   "file_extension": ".py",
   "mimetype": "text/x-python",
   "name": "python",
   "nbconvert_exporter": "python",
   "pygments_lexer": "ipython3",
   "version": "3.9.19"
  },
  "toc": {
   "base_numbering": 1,
   "nav_menu": {},
   "number_sections": true,
   "sideBar": true,
   "skip_h1_title": false,
   "title_cell": "Table of Contents",
   "title_sidebar": "Contents",
   "toc_cell": false,
   "toc_position": {
    "height": "calc(100% - 180px)",
    "left": "10px",
    "top": "150px",
    "width": "165px"
   },
   "toc_section_display": true,
   "toc_window_display": true
  }
 },
 "nbformat": 4,
 "nbformat_minor": 1
}
